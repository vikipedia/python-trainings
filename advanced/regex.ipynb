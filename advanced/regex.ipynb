{
 "cells": [
  {
   "cell_type": "code",
   "execution_count": 1,
   "metadata": {
    "collapsed": true
   },
   "outputs": [],
   "source": [
    "import re"
   ]
  },
  {
   "cell_type": "code",
   "execution_count": 12,
   "metadata": {
    "collapsed": true
   },
   "outputs": [],
   "source": [
    "def functions(pyfiles):\n",
    "    funcp = re.compile(\"^def\\s+([a-zA-z]+)\\(.+\\):\")\n",
    "    for file in pyfiles:\n",
    "        for line in open(file):\n",
    "            m = funcp.match(line)\n",
    "            if m:\n",
    "                print(m.groups()[0])"
   ]
  },
  {
   "cell_type": "code",
   "execution_count": 13,
   "metadata": {},
   "outputs": [
    {
     "name": "stdout",
     "output_type": "stream",
     "text": [
      "square\n",
      "f\n",
      "generate_data\n",
      "countdown\n",
      "writedata\n",
      "deposit\n",
      "withdraw\n",
      "get_balance\n",
      "log\n",
      "trace\n",
      "fib\n",
      "test_weekday\n",
      "square\n",
      "command\n",
      "producer\n",
      "consumer\n",
      "cputask\n",
      "writedata\n",
      "countdown\n",
      "fib\n",
      "square\n",
      "cputask\n",
      "writedata\n",
      "countdown\n",
      "square\n",
      "memoize\n",
      "square\n",
      "sum_of_squares\n",
      "deposit\n",
      "withdraw\n"
     ]
    }
   ],
   "source": [
    "import os\n",
    "functions([f for f in os.listdir(os.getcwd()) if f.endswith(\".py\")])"
   ]
  },
  {
   "cell_type": "code",
   "execution_count": null,
   "metadata": {
    "collapsed": true
   },
   "outputs": [],
   "source": []
  }
 ],
 "metadata": {
  "kernelspec": {
   "display_name": "Python 3",
   "language": "python",
   "name": "python3"
  },
  "language_info": {
   "codemirror_mode": {
    "name": "ipython",
    "version": 3
   },
   "file_extension": ".py",
   "mimetype": "text/x-python",
   "name": "python",
   "nbconvert_exporter": "python",
   "pygments_lexer": "ipython3",
   "version": "3.6.1"
  }
 },
 "nbformat": 4,
 "nbformat_minor": 2
}
