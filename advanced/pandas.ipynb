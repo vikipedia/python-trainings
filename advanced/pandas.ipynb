{
 "cells": [
  {
   "cell_type": "markdown",
   "metadata": {
    "collapsed": true
   },
   "source": [
    "### Pandas ###"
   ]
  },
  {
   "cell_type": "code",
   "execution_count": 41,
   "metadata": {
    "collapsed": true
   },
   "outputs": [],
   "source": [
    "import pandas as pd\n",
    "import numpy as np\n",
    "# show matlpotlib graphs in the same HTML page\n",
    "%matplotlib inline"
   ]
  },
  {
   "cell_type": "code",
   "execution_count": 3,
   "metadata": {
    "collapsed": true
   },
   "outputs": [],
   "source": [
    "x = pd.Series(range(10))"
   ]
  },
  {
   "cell_type": "code",
   "execution_count": 4,
   "metadata": {},
   "outputs": [
    {
     "data": {
      "text/plain": [
       "0    0\n",
       "1    1\n",
       "2    2\n",
       "3    3\n",
       "4    4\n",
       "5    5\n",
       "6    6\n",
       "7    7\n",
       "8    8\n",
       "9    9\n",
       "dtype: int64"
      ]
     },
     "execution_count": 4,
     "metadata": {},
     "output_type": "execute_result"
    }
   ],
   "source": [
    "x"
   ]
  },
  {
   "cell_type": "markdown",
   "metadata": {},
   "source": [
    "Series is a one-dimensional labeled array capable of holding any data type (integers, strings, floating point numbers, Python objects, etc.)."
   ]
  },
  {
   "cell_type": "code",
   "execution_count": 5,
   "metadata": {
    "collapsed": true
   },
   "outputs": [],
   "source": [
    "s = pd.Series(np.random.randn(5), index=['a', 'b', 'c', 'd', 'e'])"
   ]
  },
  {
   "cell_type": "code",
   "execution_count": 6,
   "metadata": {},
   "outputs": [
    {
     "data": {
      "text/plain": [
       "a    0.480145\n",
       "b   -0.308422\n",
       "c    0.646693\n",
       "d    0.782185\n",
       "e    0.262516\n",
       "dtype: float64"
      ]
     },
     "execution_count": 6,
     "metadata": {},
     "output_type": "execute_result"
    }
   ],
   "source": [
    "s"
   ]
  },
  {
   "cell_type": "code",
   "execution_count": 7,
   "metadata": {},
   "outputs": [
    {
     "data": {
      "text/plain": [
       "a    0.0\n",
       "b    1.0\n",
       "c    2.0\n",
       "dtype: float64"
      ]
     },
     "execution_count": 7,
     "metadata": {},
     "output_type": "execute_result"
    }
   ],
   "source": [
    "d = {'a' : 0., 'b' : 1., 'c' : 2.}\n",
    "s = pd.Series(d)\n",
    "s"
   ]
  },
  {
   "cell_type": "code",
   "execution_count": 8,
   "metadata": {},
   "outputs": [
    {
     "data": {
      "text/plain": [
       "b    1.0\n",
       "c    2.0\n",
       "d    NaN\n",
       "a    0.0\n",
       "dtype: float64"
      ]
     },
     "execution_count": 8,
     "metadata": {},
     "output_type": "execute_result"
    }
   ],
   "source": [
    "pd.Series(d, index=['b', 'c', 'd', 'a'])"
   ]
  },
  {
   "cell_type": "code",
   "execution_count": 9,
   "metadata": {
    "collapsed": true
   },
   "outputs": [],
   "source": [
    "s = pd.Series(np.random.randn(5), index=['a', 'b', 'c', 'd', 'e'])"
   ]
  },
  {
   "cell_type": "code",
   "execution_count": 10,
   "metadata": {},
   "outputs": [
    {
     "data": {
      "text/plain": [
       "0.062690680182085373"
      ]
     },
     "execution_count": 10,
     "metadata": {},
     "output_type": "execute_result"
    }
   ],
   "source": [
    "s[0]"
   ]
  },
  {
   "cell_type": "code",
   "execution_count": 11,
   "metadata": {},
   "outputs": [
    {
     "data": {
      "text/plain": [
       "a    0.062691\n",
       "b    0.837520\n",
       "c   -0.282994\n",
       "dtype: float64"
      ]
     },
     "execution_count": 11,
     "metadata": {},
     "output_type": "execute_result"
    }
   ],
   "source": [
    "s[:3]"
   ]
  },
  {
   "cell_type": "code",
   "execution_count": 12,
   "metadata": {},
   "outputs": [
    {
     "data": {
      "text/plain": [
       "b    0.837520\n",
       "d   -1.701194\n",
       "dtype: float64"
      ]
     },
     "execution_count": 12,
     "metadata": {},
     "output_type": "execute_result"
    }
   ],
   "source": [
    "s[1:4:2]"
   ]
  },
  {
   "cell_type": "code",
   "execution_count": 13,
   "metadata": {},
   "outputs": [
    {
     "data": {
      "text/plain": [
       "b    0.837520\n",
       "e    1.206698\n",
       "dtype: float64"
      ]
     },
     "execution_count": 13,
     "metadata": {},
     "output_type": "execute_result"
    }
   ],
   "source": [
    "s[s > s.median()]"
   ]
  },
  {
   "cell_type": "code",
   "execution_count": 14,
   "metadata": {},
   "outputs": [
    {
     "data": {
      "text/plain": [
       "a    1.064697\n",
       "b    2.310629\n",
       "c    0.753525\n",
       "d    0.182466\n",
       "e    3.342428\n",
       "dtype: float64"
      ]
     },
     "execution_count": 14,
     "metadata": {},
     "output_type": "execute_result"
    }
   ],
   "source": [
    "np.exp(s) # like ndarray"
   ]
  },
  {
   "cell_type": "code",
   "execution_count": 15,
   "metadata": {},
   "outputs": [
    {
     "data": {
      "text/plain": [
       "0.062690680182085373"
      ]
     },
     "execution_count": 15,
     "metadata": {},
     "output_type": "execute_result"
    }
   ],
   "source": [
    "s['a'] #like a dict"
   ]
  },
  {
   "cell_type": "code",
   "execution_count": 16,
   "metadata": {},
   "outputs": [
    {
     "data": {
      "text/plain": [
       "True"
      ]
     },
     "execution_count": 16,
     "metadata": {},
     "output_type": "execute_result"
    }
   ],
   "source": [
    "'e' in s"
   ]
  },
  {
   "cell_type": "code",
   "execution_count": 17,
   "metadata": {},
   "outputs": [
    {
     "data": {
      "text/plain": [
       "False"
      ]
     },
     "execution_count": 17,
     "metadata": {},
     "output_type": "execute_result"
    }
   ],
   "source": [
    "'z' in s"
   ]
  },
  {
   "cell_type": "code",
   "execution_count": 18,
   "metadata": {},
   "outputs": [
    {
     "data": {
      "text/plain": [
       "a    0.125381\n",
       "b    1.675039\n",
       "c   -0.565987\n",
       "d   -3.402387\n",
       "e    2.413395\n",
       "dtype: float64"
      ]
     },
     "execution_count": 18,
     "metadata": {},
     "output_type": "execute_result"
    }
   ],
   "source": [
    "s + s"
   ]
  },
  {
   "cell_type": "code",
   "execution_count": 19,
   "metadata": {},
   "outputs": [
    {
     "data": {
      "text/plain": [
       "a    0.003930\n",
       "b    0.701439\n",
       "c    0.080085\n",
       "d    2.894060\n",
       "e    1.456119\n",
       "dtype: float64"
      ]
     },
     "execution_count": 19,
     "metadata": {},
     "output_type": "execute_result"
    }
   ],
   "source": [
    "s * s"
   ]
  },
  {
   "cell_type": "code",
   "execution_count": 20,
   "metadata": {
    "collapsed": true
   },
   "outputs": [],
   "source": [
    "data = [[\"A\", 1], [\"B\", 2], [\"C\", 3], [\"D\", 4]]"
   ]
  },
  {
   "cell_type": "code",
   "execution_count": 21,
   "metadata": {},
   "outputs": [
    {
     "data": {
      "text/html": [
       "<div>\n",
       "<style>\n",
       "    .dataframe thead tr:only-child th {\n",
       "        text-align: right;\n",
       "    }\n",
       "\n",
       "    .dataframe thead th {\n",
       "        text-align: left;\n",
       "    }\n",
       "\n",
       "    .dataframe tbody tr th {\n",
       "        vertical-align: top;\n",
       "    }\n",
       "</style>\n",
       "<table border=\"1\" class=\"dataframe\">\n",
       "  <thead>\n",
       "    <tr style=\"text-align: right;\">\n",
       "      <th></th>\n",
       "      <th>0</th>\n",
       "      <th>1</th>\n",
       "    </tr>\n",
       "  </thead>\n",
       "  <tbody>\n",
       "    <tr>\n",
       "      <th>0</th>\n",
       "      <td>A</td>\n",
       "      <td>1</td>\n",
       "    </tr>\n",
       "    <tr>\n",
       "      <th>1</th>\n",
       "      <td>B</td>\n",
       "      <td>2</td>\n",
       "    </tr>\n",
       "    <tr>\n",
       "      <th>2</th>\n",
       "      <td>C</td>\n",
       "      <td>3</td>\n",
       "    </tr>\n",
       "    <tr>\n",
       "      <th>3</th>\n",
       "      <td>D</td>\n",
       "      <td>4</td>\n",
       "    </tr>\n",
       "  </tbody>\n",
       "</table>\n",
       "</div>"
      ],
      "text/plain": [
       "   0  1\n",
       "0  A  1\n",
       "1  B  2\n",
       "2  C  3\n",
       "3  D  4"
      ]
     },
     "execution_count": 21,
     "metadata": {},
     "output_type": "execute_result"
    }
   ],
   "source": [
    "pd.DataFrame(data)"
   ]
  },
  {
   "cell_type": "code",
   "execution_count": 22,
   "metadata": {
    "collapsed": true
   },
   "outputs": [],
   "source": [
    "d = {'one' : [1., 2., 3., 4.],\n",
    "     'two' : [4., 3., 2., 1.]}"
   ]
  },
  {
   "cell_type": "code",
   "execution_count": 23,
   "metadata": {
    "collapsed": true
   },
   "outputs": [],
   "source": [
    "df = pd.DataFrame(d, index=['a','b','c','d'])"
   ]
  },
  {
   "cell_type": "code",
   "execution_count": 24,
   "metadata": {},
   "outputs": [
    {
     "data": {
      "text/html": [
       "<div>\n",
       "<style>\n",
       "    .dataframe thead tr:only-child th {\n",
       "        text-align: right;\n",
       "    }\n",
       "\n",
       "    .dataframe thead th {\n",
       "        text-align: left;\n",
       "    }\n",
       "\n",
       "    .dataframe tbody tr th {\n",
       "        vertical-align: top;\n",
       "    }\n",
       "</style>\n",
       "<table border=\"1\" class=\"dataframe\">\n",
       "  <thead>\n",
       "    <tr style=\"text-align: right;\">\n",
       "      <th></th>\n",
       "      <th>one</th>\n",
       "      <th>two</th>\n",
       "    </tr>\n",
       "  </thead>\n",
       "  <tbody>\n",
       "    <tr>\n",
       "      <th>a</th>\n",
       "      <td>1.0</td>\n",
       "      <td>4.0</td>\n",
       "    </tr>\n",
       "    <tr>\n",
       "      <th>b</th>\n",
       "      <td>2.0</td>\n",
       "      <td>3.0</td>\n",
       "    </tr>\n",
       "    <tr>\n",
       "      <th>c</th>\n",
       "      <td>3.0</td>\n",
       "      <td>2.0</td>\n",
       "    </tr>\n",
       "    <tr>\n",
       "      <th>d</th>\n",
       "      <td>4.0</td>\n",
       "      <td>1.0</td>\n",
       "    </tr>\n",
       "  </tbody>\n",
       "</table>\n",
       "</div>"
      ],
      "text/plain": [
       "   one  two\n",
       "a  1.0  4.0\n",
       "b  2.0  3.0\n",
       "c  3.0  2.0\n",
       "d  4.0  1.0"
      ]
     },
     "execution_count": 24,
     "metadata": {},
     "output_type": "execute_result"
    }
   ],
   "source": [
    "df"
   ]
  },
  {
   "cell_type": "code",
   "execution_count": 25,
   "metadata": {},
   "outputs": [
    {
     "data": {
      "text/plain": [
       "a    1.0\n",
       "b    2.0\n",
       "c    3.0\n",
       "d    4.0\n",
       "Name: one, dtype: float64"
      ]
     },
     "execution_count": 25,
     "metadata": {},
     "output_type": "execute_result"
    }
   ],
   "source": [
    "df['one']"
   ]
  },
  {
   "cell_type": "code",
   "execution_count": 26,
   "metadata": {},
   "outputs": [
    {
     "data": {
      "text/plain": [
       "1.0"
      ]
     },
     "execution_count": 26,
     "metadata": {},
     "output_type": "execute_result"
    }
   ],
   "source": [
    "df['one']['a']"
   ]
  },
  {
   "cell_type": "code",
   "execution_count": 27,
   "metadata": {},
   "outputs": [
    {
     "data": {
      "text/plain": [
       "Index(['one', 'two'], dtype='object')"
      ]
     },
     "execution_count": 27,
     "metadata": {},
     "output_type": "execute_result"
    }
   ],
   "source": [
    "df.columns"
   ]
  },
  {
   "cell_type": "code",
   "execution_count": 28,
   "metadata": {
    "collapsed": true
   },
   "outputs": [],
   "source": [
    "df.columns = [\"column1\", \"column2\"]"
   ]
  },
  {
   "cell_type": "code",
   "execution_count": 29,
   "metadata": {},
   "outputs": [
    {
     "data": {
      "text/html": [
       "<div>\n",
       "<style>\n",
       "    .dataframe thead tr:only-child th {\n",
       "        text-align: right;\n",
       "    }\n",
       "\n",
       "    .dataframe thead th {\n",
       "        text-align: left;\n",
       "    }\n",
       "\n",
       "    .dataframe tbody tr th {\n",
       "        vertical-align: top;\n",
       "    }\n",
       "</style>\n",
       "<table border=\"1\" class=\"dataframe\">\n",
       "  <thead>\n",
       "    <tr style=\"text-align: right;\">\n",
       "      <th></th>\n",
       "      <th>column1</th>\n",
       "      <th>column2</th>\n",
       "    </tr>\n",
       "  </thead>\n",
       "  <tbody>\n",
       "    <tr>\n",
       "      <th>a</th>\n",
       "      <td>1.0</td>\n",
       "      <td>4.0</td>\n",
       "    </tr>\n",
       "    <tr>\n",
       "      <th>b</th>\n",
       "      <td>2.0</td>\n",
       "      <td>3.0</td>\n",
       "    </tr>\n",
       "    <tr>\n",
       "      <th>c</th>\n",
       "      <td>3.0</td>\n",
       "      <td>2.0</td>\n",
       "    </tr>\n",
       "    <tr>\n",
       "      <th>d</th>\n",
       "      <td>4.0</td>\n",
       "      <td>1.0</td>\n",
       "    </tr>\n",
       "  </tbody>\n",
       "</table>\n",
       "</div>"
      ],
      "text/plain": [
       "   column1  column2\n",
       "a      1.0      4.0\n",
       "b      2.0      3.0\n",
       "c      3.0      2.0\n",
       "d      4.0      1.0"
      ]
     },
     "execution_count": 29,
     "metadata": {},
     "output_type": "execute_result"
    }
   ],
   "source": [
    "df"
   ]
  },
  {
   "cell_type": "code",
   "execution_count": 30,
   "metadata": {
    "collapsed": true
   },
   "outputs": [],
   "source": [
    "df2 = df.set_index(\"column2\")"
   ]
  },
  {
   "cell_type": "code",
   "execution_count": 31,
   "metadata": {},
   "outputs": [
    {
     "data": {
      "text/html": [
       "<div>\n",
       "<style>\n",
       "    .dataframe thead tr:only-child th {\n",
       "        text-align: right;\n",
       "    }\n",
       "\n",
       "    .dataframe thead th {\n",
       "        text-align: left;\n",
       "    }\n",
       "\n",
       "    .dataframe tbody tr th {\n",
       "        vertical-align: top;\n",
       "    }\n",
       "</style>\n",
       "<table border=\"1\" class=\"dataframe\">\n",
       "  <thead>\n",
       "    <tr style=\"text-align: right;\">\n",
       "      <th></th>\n",
       "      <th>column1</th>\n",
       "    </tr>\n",
       "    <tr>\n",
       "      <th>column2</th>\n",
       "      <th></th>\n",
       "    </tr>\n",
       "  </thead>\n",
       "  <tbody>\n",
       "    <tr>\n",
       "      <th>4.0</th>\n",
       "      <td>1.0</td>\n",
       "    </tr>\n",
       "    <tr>\n",
       "      <th>3.0</th>\n",
       "      <td>2.0</td>\n",
       "    </tr>\n",
       "    <tr>\n",
       "      <th>2.0</th>\n",
       "      <td>3.0</td>\n",
       "    </tr>\n",
       "    <tr>\n",
       "      <th>1.0</th>\n",
       "      <td>4.0</td>\n",
       "    </tr>\n",
       "  </tbody>\n",
       "</table>\n",
       "</div>"
      ],
      "text/plain": [
       "         column1\n",
       "column2         \n",
       "4.0          1.0\n",
       "3.0          2.0\n",
       "2.0          3.0\n",
       "1.0          4.0"
      ]
     },
     "execution_count": 31,
     "metadata": {},
     "output_type": "execute_result"
    }
   ],
   "source": [
    "df2"
   ]
  },
  {
   "cell_type": "code",
   "execution_count": 32,
   "metadata": {},
   "outputs": [
    {
     "data": {
      "text/plain": [
       "1.0"
      ]
     },
     "execution_count": 32,
     "metadata": {},
     "output_type": "execute_result"
    }
   ],
   "source": [
    "df2['column1'][4.0]"
   ]
  },
  {
   "cell_type": "code",
   "execution_count": 33,
   "metadata": {
    "collapsed": true
   },
   "outputs": [],
   "source": [
    "df.to_csv(\"df.csv\")"
   ]
  },
  {
   "cell_type": "code",
   "execution_count": 34,
   "metadata": {},
   "outputs": [
    {
     "name": "stdout",
     "output_type": "stream",
     "text": [
      ",column1,column2\r\n",
      "a,1.0,4.0\r\n",
      "b,2.0,3.0\r\n",
      "c,3.0,2.0\r\n",
      "d,4.0,1.0\r\n"
     ]
    }
   ],
   "source": [
    "!cat df.csv"
   ]
  },
  {
   "cell_type": "markdown",
   "metadata": {},
   "source": [
    "### Playing with weather dataset ###"
   ]
  },
  {
   "cell_type": "code",
   "execution_count": 36,
   "metadata": {},
   "outputs": [],
   "source": [
    "df = pd.read_csv(\"HYDERABAD-weather.csv\", index_col=0)"
   ]
  },
  {
   "cell_type": "code",
   "execution_count": 37,
   "metadata": {},
   "outputs": [
    {
     "data": {
      "text/html": [
       "<div>\n",
       "<style>\n",
       "    .dataframe thead tr:only-child th {\n",
       "        text-align: right;\n",
       "    }\n",
       "\n",
       "    .dataframe thead th {\n",
       "        text-align: left;\n",
       "    }\n",
       "\n",
       "    .dataframe tbody tr th {\n",
       "        vertical-align: top;\n",
       "    }\n",
       "</style>\n",
       "<table border=\"1\" class=\"dataframe\">\n",
       "  <thead>\n",
       "    <tr style=\"text-align: right;\">\n",
       "      <th></th>\n",
       "      <th>city</th>\n",
       "      <th>month</th>\n",
       "      <th>year</th>\n",
       "      <th>maxtemp</th>\n",
       "      <th>mintemp</th>\n",
       "      <th>rainfall</th>\n",
       "    </tr>\n",
       "  </thead>\n",
       "  <tbody>\n",
       "    <tr>\n",
       "      <th>0</th>\n",
       "      <td>HYDERABAD</td>\n",
       "      <td>January</td>\n",
       "      <td>1951</td>\n",
       "      <td>29.0</td>\n",
       "      <td>14.8</td>\n",
       "      <td>0.0</td>\n",
       "    </tr>\n",
       "    <tr>\n",
       "      <th>1</th>\n",
       "      <td>HYDERABAD</td>\n",
       "      <td>January</td>\n",
       "      <td>1952</td>\n",
       "      <td>29.1</td>\n",
       "      <td>13.6</td>\n",
       "      <td>0.0</td>\n",
       "    </tr>\n",
       "    <tr>\n",
       "      <th>2</th>\n",
       "      <td>HYDERABAD</td>\n",
       "      <td>January</td>\n",
       "      <td>1953</td>\n",
       "      <td>28.6</td>\n",
       "      <td>14.6</td>\n",
       "      <td>3.5</td>\n",
       "    </tr>\n",
       "    <tr>\n",
       "      <th>3</th>\n",
       "      <td>HYDERABAD</td>\n",
       "      <td>January</td>\n",
       "      <td>1954</td>\n",
       "      <td>28.2</td>\n",
       "      <td>13.9</td>\n",
       "      <td>0.0</td>\n",
       "    </tr>\n",
       "    <tr>\n",
       "      <th>4</th>\n",
       "      <td>HYDERABAD</td>\n",
       "      <td>January</td>\n",
       "      <td>1955</td>\n",
       "      <td>28.0</td>\n",
       "      <td>14.7</td>\n",
       "      <td>0.0</td>\n",
       "    </tr>\n",
       "    <tr>\n",
       "      <th>5</th>\n",
       "      <td>HYDERABAD</td>\n",
       "      <td>January</td>\n",
       "      <td>1956</td>\n",
       "      <td>28.1</td>\n",
       "      <td>14.2</td>\n",
       "      <td>0.0</td>\n",
       "    </tr>\n",
       "    <tr>\n",
       "      <th>6</th>\n",
       "      <td>HYDERABAD</td>\n",
       "      <td>January</td>\n",
       "      <td>1957</td>\n",
       "      <td>29.0</td>\n",
       "      <td>14.5</td>\n",
       "      <td>0.0</td>\n",
       "    </tr>\n",
       "    <tr>\n",
       "      <th>7</th>\n",
       "      <td>HYDERABAD</td>\n",
       "      <td>January</td>\n",
       "      <td>1958</td>\n",
       "      <td>28.9</td>\n",
       "      <td>14.5</td>\n",
       "      <td>0.0</td>\n",
       "    </tr>\n",
       "    <tr>\n",
       "      <th>8</th>\n",
       "      <td>HYDERABAD</td>\n",
       "      <td>January</td>\n",
       "      <td>1959</td>\n",
       "      <td>28.7</td>\n",
       "      <td>15.5</td>\n",
       "      <td>0.0</td>\n",
       "    </tr>\n",
       "    <tr>\n",
       "      <th>9</th>\n",
       "      <td>HYDERABAD</td>\n",
       "      <td>January</td>\n",
       "      <td>1960</td>\n",
       "      <td>28.4</td>\n",
       "      <td>17.0</td>\n",
       "      <td>0.0</td>\n",
       "    </tr>\n",
       "    <tr>\n",
       "      <th>10</th>\n",
       "      <td>HYDERABAD</td>\n",
       "      <td>January</td>\n",
       "      <td>1961</td>\n",
       "      <td>28.4</td>\n",
       "      <td>15.6</td>\n",
       "      <td>0.4</td>\n",
       "    </tr>\n",
       "    <tr>\n",
       "      <th>11</th>\n",
       "      <td>HYDERABAD</td>\n",
       "      <td>January</td>\n",
       "      <td>1962</td>\n",
       "      <td>27.5</td>\n",
       "      <td>12.7</td>\n",
       "      <td>0.0</td>\n",
       "    </tr>\n",
       "    <tr>\n",
       "      <th>12</th>\n",
       "      <td>HYDERABAD</td>\n",
       "      <td>January</td>\n",
       "      <td>1963</td>\n",
       "      <td>26.7</td>\n",
       "      <td>13.2</td>\n",
       "      <td>0.0</td>\n",
       "    </tr>\n",
       "    <tr>\n",
       "      <th>13</th>\n",
       "      <td>HYDERABAD</td>\n",
       "      <td>January</td>\n",
       "      <td>1964</td>\n",
       "      <td>29.9</td>\n",
       "      <td>14.4</td>\n",
       "      <td>0.0</td>\n",
       "    </tr>\n",
       "    <tr>\n",
       "      <th>14</th>\n",
       "      <td>HYDERABAD</td>\n",
       "      <td>January</td>\n",
       "      <td>1965</td>\n",
       "      <td>28.3</td>\n",
       "      <td>14.2</td>\n",
       "      <td>1.0</td>\n",
       "    </tr>\n",
       "    <tr>\n",
       "      <th>15</th>\n",
       "      <td>HYDERABAD</td>\n",
       "      <td>January</td>\n",
       "      <td>1966</td>\n",
       "      <td>28.8</td>\n",
       "      <td>16.5</td>\n",
       "      <td>3.9</td>\n",
       "    </tr>\n",
       "    <tr>\n",
       "      <th>16</th>\n",
       "      <td>HYDERABAD</td>\n",
       "      <td>January</td>\n",
       "      <td>1967</td>\n",
       "      <td>29.2</td>\n",
       "      <td>14.6</td>\n",
       "      <td>0.0</td>\n",
       "    </tr>\n",
       "    <tr>\n",
       "      <th>17</th>\n",
       "      <td>HYDERABAD</td>\n",
       "      <td>January</td>\n",
       "      <td>1968</td>\n",
       "      <td>28.3</td>\n",
       "      <td>13.3</td>\n",
       "      <td>7.8</td>\n",
       "    </tr>\n",
       "    <tr>\n",
       "      <th>18</th>\n",
       "      <td>HYDERABAD</td>\n",
       "      <td>January</td>\n",
       "      <td>1969</td>\n",
       "      <td>29.3</td>\n",
       "      <td>14.1</td>\n",
       "      <td>7.3</td>\n",
       "    </tr>\n",
       "    <tr>\n",
       "      <th>19</th>\n",
       "      <td>HYDERABAD</td>\n",
       "      <td>January</td>\n",
       "      <td>1970</td>\n",
       "      <td>28.9</td>\n",
       "      <td>15.2</td>\n",
       "      <td>5.6</td>\n",
       "    </tr>\n",
       "    <tr>\n",
       "      <th>20</th>\n",
       "      <td>HYDERABAD</td>\n",
       "      <td>January</td>\n",
       "      <td>1971</td>\n",
       "      <td>28.8</td>\n",
       "      <td>15.0</td>\n",
       "      <td>2.4</td>\n",
       "    </tr>\n",
       "    <tr>\n",
       "      <th>21</th>\n",
       "      <td>HYDERABAD</td>\n",
       "      <td>January</td>\n",
       "      <td>1972</td>\n",
       "      <td>28.1</td>\n",
       "      <td>13.5</td>\n",
       "      <td>0.0</td>\n",
       "    </tr>\n",
       "    <tr>\n",
       "      <th>22</th>\n",
       "      <td>HYDERABAD</td>\n",
       "      <td>January</td>\n",
       "      <td>1973</td>\n",
       "      <td>30.6</td>\n",
       "      <td>16.1</td>\n",
       "      <td>0.0</td>\n",
       "    </tr>\n",
       "    <tr>\n",
       "      <th>23</th>\n",
       "      <td>HYDERABAD</td>\n",
       "      <td>January</td>\n",
       "      <td>1974</td>\n",
       "      <td>29.1</td>\n",
       "      <td>13.4</td>\n",
       "      <td>0.0</td>\n",
       "    </tr>\n",
       "    <tr>\n",
       "      <th>24</th>\n",
       "      <td>HYDERABAD</td>\n",
       "      <td>January</td>\n",
       "      <td>1975</td>\n",
       "      <td>27.5</td>\n",
       "      <td>14.1</td>\n",
       "      <td>50.9</td>\n",
       "    </tr>\n",
       "    <tr>\n",
       "      <th>25</th>\n",
       "      <td>HYDERABAD</td>\n",
       "      <td>January</td>\n",
       "      <td>1976</td>\n",
       "      <td>26.5</td>\n",
       "      <td>13.2</td>\n",
       "      <td>0.0</td>\n",
       "    </tr>\n",
       "    <tr>\n",
       "      <th>26</th>\n",
       "      <td>HYDERABAD</td>\n",
       "      <td>January</td>\n",
       "      <td>1977</td>\n",
       "      <td>29.1</td>\n",
       "      <td>14.0</td>\n",
       "      <td>0.0</td>\n",
       "    </tr>\n",
       "    <tr>\n",
       "      <th>27</th>\n",
       "      <td>HYDERABAD</td>\n",
       "      <td>January</td>\n",
       "      <td>1978</td>\n",
       "      <td>28.4</td>\n",
       "      <td>16.5</td>\n",
       "      <td>5.4</td>\n",
       "    </tr>\n",
       "    <tr>\n",
       "      <th>28</th>\n",
       "      <td>HYDERABAD</td>\n",
       "      <td>January</td>\n",
       "      <td>1979</td>\n",
       "      <td>28.9</td>\n",
       "      <td>17.3</td>\n",
       "      <td>0.0</td>\n",
       "    </tr>\n",
       "    <tr>\n",
       "      <th>29</th>\n",
       "      <td>HYDERABAD</td>\n",
       "      <td>January</td>\n",
       "      <td>1980</td>\n",
       "      <td>29.7</td>\n",
       "      <td>16.8</td>\n",
       "      <td>0.0</td>\n",
       "    </tr>\n",
       "    <tr>\n",
       "      <th>...</th>\n",
       "      <td>...</td>\n",
       "      <td>...</td>\n",
       "      <td>...</td>\n",
       "      <td>...</td>\n",
       "      <td>...</td>\n",
       "      <td>...</td>\n",
       "    </tr>\n",
       "    <tr>\n",
       "      <th>569</th>\n",
       "      <td>HYDERABAD</td>\n",
       "      <td>December</td>\n",
       "      <td>1971</td>\n",
       "      <td>26.9</td>\n",
       "      <td>12.5</td>\n",
       "      <td>0.0</td>\n",
       "    </tr>\n",
       "    <tr>\n",
       "      <th>570</th>\n",
       "      <td>HYDERABAD</td>\n",
       "      <td>December</td>\n",
       "      <td>1972</td>\n",
       "      <td>28.2</td>\n",
       "      <td>16.9</td>\n",
       "      <td>3.0</td>\n",
       "    </tr>\n",
       "    <tr>\n",
       "      <th>571</th>\n",
       "      <td>HYDERABAD</td>\n",
       "      <td>December</td>\n",
       "      <td>1973</td>\n",
       "      <td>27.2</td>\n",
       "      <td>14.8</td>\n",
       "      <td>0.3</td>\n",
       "    </tr>\n",
       "    <tr>\n",
       "      <th>572</th>\n",
       "      <td>HYDERABAD</td>\n",
       "      <td>December</td>\n",
       "      <td>1974</td>\n",
       "      <td>26.9</td>\n",
       "      <td>12.4</td>\n",
       "      <td>0.0</td>\n",
       "    </tr>\n",
       "    <tr>\n",
       "      <th>573</th>\n",
       "      <td>HYDERABAD</td>\n",
       "      <td>December</td>\n",
       "      <td>1975</td>\n",
       "      <td>26.6</td>\n",
       "      <td>11.6</td>\n",
       "      <td>0.0</td>\n",
       "    </tr>\n",
       "    <tr>\n",
       "      <th>574</th>\n",
       "      <td>HYDERABAD</td>\n",
       "      <td>December</td>\n",
       "      <td>1976</td>\n",
       "      <td>28.5</td>\n",
       "      <td>15.5</td>\n",
       "      <td>0.0</td>\n",
       "    </tr>\n",
       "    <tr>\n",
       "      <th>575</th>\n",
       "      <td>HYDERABAD</td>\n",
       "      <td>December</td>\n",
       "      <td>1977</td>\n",
       "      <td>28.0</td>\n",
       "      <td>13.8</td>\n",
       "      <td>1.5</td>\n",
       "    </tr>\n",
       "    <tr>\n",
       "      <th>576</th>\n",
       "      <td>HYDERABAD</td>\n",
       "      <td>December</td>\n",
       "      <td>1978</td>\n",
       "      <td>27.6</td>\n",
       "      <td>16.5</td>\n",
       "      <td>0.0</td>\n",
       "    </tr>\n",
       "    <tr>\n",
       "      <th>577</th>\n",
       "      <td>HYDERABAD</td>\n",
       "      <td>December</td>\n",
       "      <td>1979</td>\n",
       "      <td>28.2</td>\n",
       "      <td>16.4</td>\n",
       "      <td>0.0</td>\n",
       "    </tr>\n",
       "    <tr>\n",
       "      <th>578</th>\n",
       "      <td>HYDERABAD</td>\n",
       "      <td>December</td>\n",
       "      <td>1980</td>\n",
       "      <td>28.7</td>\n",
       "      <td>15.6</td>\n",
       "      <td>3.7</td>\n",
       "    </tr>\n",
       "    <tr>\n",
       "      <th>579</th>\n",
       "      <td>HYDERABAD</td>\n",
       "      <td>December</td>\n",
       "      <td>1981</td>\n",
       "      <td>27.6</td>\n",
       "      <td>15.7</td>\n",
       "      <td>0.0</td>\n",
       "    </tr>\n",
       "    <tr>\n",
       "      <th>580</th>\n",
       "      <td>HYDERABAD</td>\n",
       "      <td>December</td>\n",
       "      <td>1982</td>\n",
       "      <td>28.3</td>\n",
       "      <td>15.0</td>\n",
       "      <td>0.0</td>\n",
       "    </tr>\n",
       "    <tr>\n",
       "      <th>581</th>\n",
       "      <td>HYDERABAD</td>\n",
       "      <td>December</td>\n",
       "      <td>1983</td>\n",
       "      <td>26.9</td>\n",
       "      <td>15.5</td>\n",
       "      <td>12.3</td>\n",
       "    </tr>\n",
       "    <tr>\n",
       "      <th>582</th>\n",
       "      <td>HYDERABAD</td>\n",
       "      <td>December</td>\n",
       "      <td>1984</td>\n",
       "      <td>29.8</td>\n",
       "      <td>15.5</td>\n",
       "      <td>0.0</td>\n",
       "    </tr>\n",
       "    <tr>\n",
       "      <th>583</th>\n",
       "      <td>HYDERABAD</td>\n",
       "      <td>December</td>\n",
       "      <td>1985</td>\n",
       "      <td>29.4</td>\n",
       "      <td>15.9</td>\n",
       "      <td>4.7</td>\n",
       "    </tr>\n",
       "    <tr>\n",
       "      <th>584</th>\n",
       "      <td>HYDERABAD</td>\n",
       "      <td>December</td>\n",
       "      <td>1986</td>\n",
       "      <td>28.8</td>\n",
       "      <td>17.1</td>\n",
       "      <td>15.5</td>\n",
       "    </tr>\n",
       "    <tr>\n",
       "      <th>585</th>\n",
       "      <td>HYDERABAD</td>\n",
       "      <td>December</td>\n",
       "      <td>1987</td>\n",
       "      <td>27.7</td>\n",
       "      <td>16.5</td>\n",
       "      <td>2.8</td>\n",
       "    </tr>\n",
       "    <tr>\n",
       "      <th>586</th>\n",
       "      <td>HYDERABAD</td>\n",
       "      <td>December</td>\n",
       "      <td>1988</td>\n",
       "      <td>27.8</td>\n",
       "      <td>15.4</td>\n",
       "      <td>13.3</td>\n",
       "    </tr>\n",
       "    <tr>\n",
       "      <th>587</th>\n",
       "      <td>HYDERABAD</td>\n",
       "      <td>December</td>\n",
       "      <td>1989</td>\n",
       "      <td>27.5</td>\n",
       "      <td>15.8</td>\n",
       "      <td>1.6</td>\n",
       "    </tr>\n",
       "    <tr>\n",
       "      <th>588</th>\n",
       "      <td>HYDERABAD</td>\n",
       "      <td>December</td>\n",
       "      <td>1990</td>\n",
       "      <td>27.9</td>\n",
       "      <td>16.8</td>\n",
       "      <td>0.0</td>\n",
       "    </tr>\n",
       "    <tr>\n",
       "      <th>589</th>\n",
       "      <td>HYDERABAD</td>\n",
       "      <td>December</td>\n",
       "      <td>1991</td>\n",
       "      <td>28.1</td>\n",
       "      <td>14.9</td>\n",
       "      <td>0.3</td>\n",
       "    </tr>\n",
       "    <tr>\n",
       "      <th>590</th>\n",
       "      <td>HYDERABAD</td>\n",
       "      <td>December</td>\n",
       "      <td>1992</td>\n",
       "      <td>27.1</td>\n",
       "      <td>13.8</td>\n",
       "      <td>0.0</td>\n",
       "    </tr>\n",
       "    <tr>\n",
       "      <th>591</th>\n",
       "      <td>HYDERABAD</td>\n",
       "      <td>December</td>\n",
       "      <td>1993</td>\n",
       "      <td>27.1</td>\n",
       "      <td>13.2</td>\n",
       "      <td>34.9</td>\n",
       "    </tr>\n",
       "    <tr>\n",
       "      <th>592</th>\n",
       "      <td>HYDERABAD</td>\n",
       "      <td>December</td>\n",
       "      <td>1994</td>\n",
       "      <td>27.9</td>\n",
       "      <td>12.0</td>\n",
       "      <td>0.0</td>\n",
       "    </tr>\n",
       "    <tr>\n",
       "      <th>593</th>\n",
       "      <td>HYDERABAD</td>\n",
       "      <td>December</td>\n",
       "      <td>1995</td>\n",
       "      <td>28.9</td>\n",
       "      <td>15.9</td>\n",
       "      <td>0.0</td>\n",
       "    </tr>\n",
       "    <tr>\n",
       "      <th>594</th>\n",
       "      <td>HYDERABAD</td>\n",
       "      <td>December</td>\n",
       "      <td>1996</td>\n",
       "      <td>28.3</td>\n",
       "      <td>14.9</td>\n",
       "      <td>0.0</td>\n",
       "    </tr>\n",
       "    <tr>\n",
       "      <th>595</th>\n",
       "      <td>HYDERABAD</td>\n",
       "      <td>December</td>\n",
       "      <td>1997</td>\n",
       "      <td>28.7</td>\n",
       "      <td>19.2</td>\n",
       "      <td>40.6</td>\n",
       "    </tr>\n",
       "    <tr>\n",
       "      <th>596</th>\n",
       "      <td>HYDERABAD</td>\n",
       "      <td>December</td>\n",
       "      <td>1998</td>\n",
       "      <td>28.7</td>\n",
       "      <td>12.8</td>\n",
       "      <td>0.0</td>\n",
       "    </tr>\n",
       "    <tr>\n",
       "      <th>597</th>\n",
       "      <td>HYDERABAD</td>\n",
       "      <td>December</td>\n",
       "      <td>1999</td>\n",
       "      <td>29.0</td>\n",
       "      <td>14.2</td>\n",
       "      <td>0.0</td>\n",
       "    </tr>\n",
       "    <tr>\n",
       "      <th>598</th>\n",
       "      <td>HYDERABAD</td>\n",
       "      <td>December</td>\n",
       "      <td>2000</td>\n",
       "      <td>29.6</td>\n",
       "      <td>13.3</td>\n",
       "      <td>1.0</td>\n",
       "    </tr>\n",
       "  </tbody>\n",
       "</table>\n",
       "<p>599 rows × 6 columns</p>\n",
       "</div>"
      ],
      "text/plain": [
       "          city     month  year  maxtemp  mintemp  rainfall\n",
       "0    HYDERABAD   January  1951     29.0     14.8       0.0\n",
       "1    HYDERABAD   January  1952     29.1     13.6       0.0\n",
       "2    HYDERABAD   January  1953     28.6     14.6       3.5\n",
       "3    HYDERABAD   January  1954     28.2     13.9       0.0\n",
       "4    HYDERABAD   January  1955     28.0     14.7       0.0\n",
       "5    HYDERABAD   January  1956     28.1     14.2       0.0\n",
       "6    HYDERABAD   January  1957     29.0     14.5       0.0\n",
       "7    HYDERABAD   January  1958     28.9     14.5       0.0\n",
       "8    HYDERABAD   January  1959     28.7     15.5       0.0\n",
       "9    HYDERABAD   January  1960     28.4     17.0       0.0\n",
       "10   HYDERABAD   January  1961     28.4     15.6       0.4\n",
       "11   HYDERABAD   January  1962     27.5     12.7       0.0\n",
       "12   HYDERABAD   January  1963     26.7     13.2       0.0\n",
       "13   HYDERABAD   January  1964     29.9     14.4       0.0\n",
       "14   HYDERABAD   January  1965     28.3     14.2       1.0\n",
       "15   HYDERABAD   January  1966     28.8     16.5       3.9\n",
       "16   HYDERABAD   January  1967     29.2     14.6       0.0\n",
       "17   HYDERABAD   January  1968     28.3     13.3       7.8\n",
       "18   HYDERABAD   January  1969     29.3     14.1       7.3\n",
       "19   HYDERABAD   January  1970     28.9     15.2       5.6\n",
       "20   HYDERABAD   January  1971     28.8     15.0       2.4\n",
       "21   HYDERABAD   January  1972     28.1     13.5       0.0\n",
       "22   HYDERABAD   January  1973     30.6     16.1       0.0\n",
       "23   HYDERABAD   January  1974     29.1     13.4       0.0\n",
       "24   HYDERABAD   January  1975     27.5     14.1      50.9\n",
       "25   HYDERABAD   January  1976     26.5     13.2       0.0\n",
       "26   HYDERABAD   January  1977     29.1     14.0       0.0\n",
       "27   HYDERABAD   January  1978     28.4     16.5       5.4\n",
       "28   HYDERABAD   January  1979     28.9     17.3       0.0\n",
       "29   HYDERABAD   January  1980     29.7     16.8       0.0\n",
       "..         ...       ...   ...      ...      ...       ...\n",
       "569  HYDERABAD  December  1971     26.9     12.5       0.0\n",
       "570  HYDERABAD  December  1972     28.2     16.9       3.0\n",
       "571  HYDERABAD  December  1973     27.2     14.8       0.3\n",
       "572  HYDERABAD  December  1974     26.9     12.4       0.0\n",
       "573  HYDERABAD  December  1975     26.6     11.6       0.0\n",
       "574  HYDERABAD  December  1976     28.5     15.5       0.0\n",
       "575  HYDERABAD  December  1977     28.0     13.8       1.5\n",
       "576  HYDERABAD  December  1978     27.6     16.5       0.0\n",
       "577  HYDERABAD  December  1979     28.2     16.4       0.0\n",
       "578  HYDERABAD  December  1980     28.7     15.6       3.7\n",
       "579  HYDERABAD  December  1981     27.6     15.7       0.0\n",
       "580  HYDERABAD  December  1982     28.3     15.0       0.0\n",
       "581  HYDERABAD  December  1983     26.9     15.5      12.3\n",
       "582  HYDERABAD  December  1984     29.8     15.5       0.0\n",
       "583  HYDERABAD  December  1985     29.4     15.9       4.7\n",
       "584  HYDERABAD  December  1986     28.8     17.1      15.5\n",
       "585  HYDERABAD  December  1987     27.7     16.5       2.8\n",
       "586  HYDERABAD  December  1988     27.8     15.4      13.3\n",
       "587  HYDERABAD  December  1989     27.5     15.8       1.6\n",
       "588  HYDERABAD  December  1990     27.9     16.8       0.0\n",
       "589  HYDERABAD  December  1991     28.1     14.9       0.3\n",
       "590  HYDERABAD  December  1992     27.1     13.8       0.0\n",
       "591  HYDERABAD  December  1993     27.1     13.2      34.9\n",
       "592  HYDERABAD  December  1994     27.9     12.0       0.0\n",
       "593  HYDERABAD  December  1995     28.9     15.9       0.0\n",
       "594  HYDERABAD  December  1996     28.3     14.9       0.0\n",
       "595  HYDERABAD  December  1997     28.7     19.2      40.6\n",
       "596  HYDERABAD  December  1998     28.7     12.8       0.0\n",
       "597  HYDERABAD  December  1999     29.0     14.2       0.0\n",
       "598  HYDERABAD  December  2000     29.6     13.3       1.0\n",
       "\n",
       "[599 rows x 6 columns]"
      ]
     },
     "execution_count": 37,
     "metadata": {},
     "output_type": "execute_result"
    }
   ],
   "source": [
    "df"
   ]
  },
  {
   "cell_type": "code",
   "execution_count": 38,
   "metadata": {},
   "outputs": [
    {
     "data": {
      "text/html": [
       "<div>\n",
       "<style>\n",
       "    .dataframe thead tr:only-child th {\n",
       "        text-align: right;\n",
       "    }\n",
       "\n",
       "    .dataframe thead th {\n",
       "        text-align: left;\n",
       "    }\n",
       "\n",
       "    .dataframe tbody tr th {\n",
       "        vertical-align: top;\n",
       "    }\n",
       "</style>\n",
       "<table border=\"1\" class=\"dataframe\">\n",
       "  <thead>\n",
       "    <tr style=\"text-align: right;\">\n",
       "      <th></th>\n",
       "      <th>city</th>\n",
       "      <th>month</th>\n",
       "      <th>year</th>\n",
       "      <th>maxtemp</th>\n",
       "      <th>mintemp</th>\n",
       "      <th>rainfall</th>\n",
       "    </tr>\n",
       "  </thead>\n",
       "  <tbody>\n",
       "    <tr>\n",
       "      <th>0</th>\n",
       "      <td>HYDERABAD</td>\n",
       "      <td>January</td>\n",
       "      <td>1951</td>\n",
       "      <td>29.0</td>\n",
       "      <td>14.8</td>\n",
       "      <td>0.0</td>\n",
       "    </tr>\n",
       "    <tr>\n",
       "      <th>1</th>\n",
       "      <td>HYDERABAD</td>\n",
       "      <td>January</td>\n",
       "      <td>1952</td>\n",
       "      <td>29.1</td>\n",
       "      <td>13.6</td>\n",
       "      <td>0.0</td>\n",
       "    </tr>\n",
       "    <tr>\n",
       "      <th>2</th>\n",
       "      <td>HYDERABAD</td>\n",
       "      <td>January</td>\n",
       "      <td>1953</td>\n",
       "      <td>28.6</td>\n",
       "      <td>14.6</td>\n",
       "      <td>3.5</td>\n",
       "    </tr>\n",
       "    <tr>\n",
       "      <th>3</th>\n",
       "      <td>HYDERABAD</td>\n",
       "      <td>January</td>\n",
       "      <td>1954</td>\n",
       "      <td>28.2</td>\n",
       "      <td>13.9</td>\n",
       "      <td>0.0</td>\n",
       "    </tr>\n",
       "    <tr>\n",
       "      <th>4</th>\n",
       "      <td>HYDERABAD</td>\n",
       "      <td>January</td>\n",
       "      <td>1955</td>\n",
       "      <td>28.0</td>\n",
       "      <td>14.7</td>\n",
       "      <td>0.0</td>\n",
       "    </tr>\n",
       "  </tbody>\n",
       "</table>\n",
       "</div>"
      ],
      "text/plain": [
       "        city    month  year  maxtemp  mintemp  rainfall\n",
       "0  HYDERABAD  January  1951     29.0     14.8       0.0\n",
       "1  HYDERABAD  January  1952     29.1     13.6       0.0\n",
       "2  HYDERABAD  January  1953     28.6     14.6       3.5\n",
       "3  HYDERABAD  January  1954     28.2     13.9       0.0\n",
       "4  HYDERABAD  January  1955     28.0     14.7       0.0"
      ]
     },
     "execution_count": 38,
     "metadata": {},
     "output_type": "execute_result"
    }
   ],
   "source": [
    "df.head()"
   ]
  },
  {
   "cell_type": "code",
   "execution_count": 39,
   "metadata": {},
   "outputs": [
    {
     "data": {
      "text/html": [
       "<div>\n",
       "<style>\n",
       "    .dataframe thead tr:only-child th {\n",
       "        text-align: right;\n",
       "    }\n",
       "\n",
       "    .dataframe thead th {\n",
       "        text-align: left;\n",
       "    }\n",
       "\n",
       "    .dataframe tbody tr th {\n",
       "        vertical-align: top;\n",
       "    }\n",
       "</style>\n",
       "<table border=\"1\" class=\"dataframe\">\n",
       "  <thead>\n",
       "    <tr style=\"text-align: right;\">\n",
       "      <th></th>\n",
       "      <th>city</th>\n",
       "      <th>month</th>\n",
       "      <th>year</th>\n",
       "      <th>maxtemp</th>\n",
       "      <th>mintemp</th>\n",
       "      <th>rainfall</th>\n",
       "    </tr>\n",
       "  </thead>\n",
       "  <tbody>\n",
       "    <tr>\n",
       "      <th>594</th>\n",
       "      <td>HYDERABAD</td>\n",
       "      <td>December</td>\n",
       "      <td>1996</td>\n",
       "      <td>28.3</td>\n",
       "      <td>14.9</td>\n",
       "      <td>0.0</td>\n",
       "    </tr>\n",
       "    <tr>\n",
       "      <th>595</th>\n",
       "      <td>HYDERABAD</td>\n",
       "      <td>December</td>\n",
       "      <td>1997</td>\n",
       "      <td>28.7</td>\n",
       "      <td>19.2</td>\n",
       "      <td>40.6</td>\n",
       "    </tr>\n",
       "    <tr>\n",
       "      <th>596</th>\n",
       "      <td>HYDERABAD</td>\n",
       "      <td>December</td>\n",
       "      <td>1998</td>\n",
       "      <td>28.7</td>\n",
       "      <td>12.8</td>\n",
       "      <td>0.0</td>\n",
       "    </tr>\n",
       "    <tr>\n",
       "      <th>597</th>\n",
       "      <td>HYDERABAD</td>\n",
       "      <td>December</td>\n",
       "      <td>1999</td>\n",
       "      <td>29.0</td>\n",
       "      <td>14.2</td>\n",
       "      <td>0.0</td>\n",
       "    </tr>\n",
       "    <tr>\n",
       "      <th>598</th>\n",
       "      <td>HYDERABAD</td>\n",
       "      <td>December</td>\n",
       "      <td>2000</td>\n",
       "      <td>29.6</td>\n",
       "      <td>13.3</td>\n",
       "      <td>1.0</td>\n",
       "    </tr>\n",
       "  </tbody>\n",
       "</table>\n",
       "</div>"
      ],
      "text/plain": [
       "          city     month  year  maxtemp  mintemp  rainfall\n",
       "594  HYDERABAD  December  1996     28.3     14.9       0.0\n",
       "595  HYDERABAD  December  1997     28.7     19.2      40.6\n",
       "596  HYDERABAD  December  1998     28.7     12.8       0.0\n",
       "597  HYDERABAD  December  1999     29.0     14.2       0.0\n",
       "598  HYDERABAD  December  2000     29.6     13.3       1.0"
      ]
     },
     "execution_count": 39,
     "metadata": {},
     "output_type": "execute_result"
    }
   ],
   "source": [
    "df.tail()"
   ]
  },
  {
   "cell_type": "code",
   "execution_count": 42,
   "metadata": {},
   "outputs": [
    {
     "data": {
      "text/plain": [
       "<matplotlib.axes._subplots.AxesSubplot at 0x7fb5e2de2d68>"
      ]
     },
     "execution_count": 42,
     "metadata": {},
     "output_type": "execute_result"
    },
    {
     "data": {
      "image/png": "[encoded data removed]",
      "text/plain": [
       "<matplotlib.figure.Figure at 0x7fb5e2e1e278>"
      ]
     },
     "metadata": {},
     "output_type": "display_data"
    }
   ],
   "source": [
    "df.plot(\"maxtemp\",\"mintemp\", kind=\"scatter\")"
   ]
  },
  {
   "cell_type": "code",
   "execution_count": 43,
   "metadata": {
    "collapsed": true
   },
   "outputs": [],
   "source": [
    "mean = df.groupby(\"year\").mean()"
   ]
  },
  {
   "cell_type": "code",
   "execution_count": 44,
   "metadata": {},
   "outputs": [
    {
     "data": {
      "text/html": [
       "<div>\n",
       "<style>\n",
       "    .dataframe thead tr:only-child th {\n",
       "        text-align: right;\n",
       "    }\n",
       "\n",
       "    .dataframe thead th {\n",
       "        text-align: left;\n",
       "    }\n",
       "\n",
       "    .dataframe tbody tr th {\n",
       "        vertical-align: top;\n",
       "    }\n",
       "</style>\n",
       "<table border=\"1\" class=\"dataframe\">\n",
       "  <thead>\n",
       "    <tr style=\"text-align: right;\">\n",
       "      <th></th>\n",
       "      <th>maxtemp</th>\n",
       "      <th>mintemp</th>\n",
       "      <th>rainfall</th>\n",
       "    </tr>\n",
       "    <tr>\n",
       "      <th>year</th>\n",
       "      <th></th>\n",
       "      <th></th>\n",
       "      <th></th>\n",
       "    </tr>\n",
       "  </thead>\n",
       "  <tbody>\n",
       "    <tr>\n",
       "      <th>1951</th>\n",
       "      <td>32.666667</td>\n",
       "      <td>20.233333</td>\n",
       "      <td>58.975000</td>\n",
       "    </tr>\n",
       "    <tr>\n",
       "      <th>1952</th>\n",
       "      <td>31.975000</td>\n",
       "      <td>19.891667</td>\n",
       "      <td>46.741667</td>\n",
       "    </tr>\n",
       "    <tr>\n",
       "      <th>1953</th>\n",
       "      <td>32.183333</td>\n",
       "      <td>20.266667</td>\n",
       "      <td>74.245455</td>\n",
       "    </tr>\n",
       "    <tr>\n",
       "      <th>1954</th>\n",
       "      <td>31.525000</td>\n",
       "      <td>19.875000</td>\n",
       "      <td>70.366667</td>\n",
       "    </tr>\n",
       "    <tr>\n",
       "      <th>1955</th>\n",
       "      <td>30.883333</td>\n",
       "      <td>19.725000</td>\n",
       "      <td>92.775000</td>\n",
       "    </tr>\n",
       "    <tr>\n",
       "      <th>1956</th>\n",
       "      <td>30.783333</td>\n",
       "      <td>19.791667</td>\n",
       "      <td>64.941667</td>\n",
       "    </tr>\n",
       "    <tr>\n",
       "      <th>1957</th>\n",
       "      <td>31.533333</td>\n",
       "      <td>20.016667</td>\n",
       "      <td>66.783333</td>\n",
       "    </tr>\n",
       "    <tr>\n",
       "      <th>1958</th>\n",
       "      <td>31.733333</td>\n",
       "      <td>20.475000</td>\n",
       "      <td>76.216667</td>\n",
       "    </tr>\n",
       "    <tr>\n",
       "      <th>1959</th>\n",
       "      <td>31.900000</td>\n",
       "      <td>20.358333</td>\n",
       "      <td>64.825000</td>\n",
       "    </tr>\n",
       "    <tr>\n",
       "      <th>1960</th>\n",
       "      <td>31.841667</td>\n",
       "      <td>20.416667</td>\n",
       "      <td>57.775000</td>\n",
       "    </tr>\n",
       "    <tr>\n",
       "      <th>1961</th>\n",
       "      <td>31.258333</td>\n",
       "      <td>20.225000</td>\n",
       "      <td>68.400000</td>\n",
       "    </tr>\n",
       "    <tr>\n",
       "      <th>1962</th>\n",
       "      <td>30.418182</td>\n",
       "      <td>19.490909</td>\n",
       "      <td>107.118182</td>\n",
       "    </tr>\n",
       "    <tr>\n",
       "      <th>1963</th>\n",
       "      <td>31.133333</td>\n",
       "      <td>19.308333</td>\n",
       "      <td>69.125000</td>\n",
       "    </tr>\n",
       "    <tr>\n",
       "      <th>1964</th>\n",
       "      <td>32.150000</td>\n",
       "      <td>19.658333</td>\n",
       "      <td>58.400000</td>\n",
       "    </tr>\n",
       "    <tr>\n",
       "      <th>1965</th>\n",
       "      <td>32.600000</td>\n",
       "      <td>19.541667</td>\n",
       "      <td>67.441667</td>\n",
       "    </tr>\n",
       "    <tr>\n",
       "      <th>1966</th>\n",
       "      <td>32.666667</td>\n",
       "      <td>20.550000</td>\n",
       "      <td>55.358333</td>\n",
       "    </tr>\n",
       "    <tr>\n",
       "      <th>1967</th>\n",
       "      <td>32.625000</td>\n",
       "      <td>19.483333</td>\n",
       "      <td>69.383333</td>\n",
       "    </tr>\n",
       "    <tr>\n",
       "      <th>1968</th>\n",
       "      <td>32.416667</td>\n",
       "      <td>19.200000</td>\n",
       "      <td>53.250000</td>\n",
       "    </tr>\n",
       "    <tr>\n",
       "      <th>1969</th>\n",
       "      <td>32.575000</td>\n",
       "      <td>20.408333</td>\n",
       "      <td>53.100000</td>\n",
       "    </tr>\n",
       "    <tr>\n",
       "      <th>1970</th>\n",
       "      <td>32.041667</td>\n",
       "      <td>19.825000</td>\n",
       "      <td>95.566667</td>\n",
       "    </tr>\n",
       "    <tr>\n",
       "      <th>1971</th>\n",
       "      <td>31.975000</td>\n",
       "      <td>20.008333</td>\n",
       "      <td>55.433333</td>\n",
       "    </tr>\n",
       "    <tr>\n",
       "      <th>1972</th>\n",
       "      <td>32.633333</td>\n",
       "      <td>21.008333</td>\n",
       "      <td>42.958333</td>\n",
       "    </tr>\n",
       "    <tr>\n",
       "      <th>1973</th>\n",
       "      <td>32.425000</td>\n",
       "      <td>21.200000</td>\n",
       "      <td>73.183333</td>\n",
       "    </tr>\n",
       "    <tr>\n",
       "      <th>1974</th>\n",
       "      <td>32.175000</td>\n",
       "      <td>20.016667</td>\n",
       "      <td>56.283333</td>\n",
       "    </tr>\n",
       "    <tr>\n",
       "      <th>1975</th>\n",
       "      <td>31.266667</td>\n",
       "      <td>20.258333</td>\n",
       "      <td>115.291667</td>\n",
       "    </tr>\n",
       "    <tr>\n",
       "      <th>1976</th>\n",
       "      <td>32.050000</td>\n",
       "      <td>20.441667</td>\n",
       "      <td>66.075000</td>\n",
       "    </tr>\n",
       "    <tr>\n",
       "      <th>1977</th>\n",
       "      <td>32.258333</td>\n",
       "      <td>20.775000</td>\n",
       "      <td>45.300000</td>\n",
       "    </tr>\n",
       "    <tr>\n",
       "      <th>1978</th>\n",
       "      <td>31.575000</td>\n",
       "      <td>21.108333</td>\n",
       "      <td>93.116667</td>\n",
       "    </tr>\n",
       "    <tr>\n",
       "      <th>1979</th>\n",
       "      <td>32.400000</td>\n",
       "      <td>21.616667</td>\n",
       "      <td>58.650000</td>\n",
       "    </tr>\n",
       "    <tr>\n",
       "      <th>1980</th>\n",
       "      <td>32.816667</td>\n",
       "      <td>21.425000</td>\n",
       "      <td>49.325000</td>\n",
       "    </tr>\n",
       "    <tr>\n",
       "      <th>1981</th>\n",
       "      <td>32.108333</td>\n",
       "      <td>20.750000</td>\n",
       "      <td>82.750000</td>\n",
       "    </tr>\n",
       "    <tr>\n",
       "      <th>1982</th>\n",
       "      <td>32.241667</td>\n",
       "      <td>21.133333</td>\n",
       "      <td>63.891667</td>\n",
       "    </tr>\n",
       "    <tr>\n",
       "      <th>1983</th>\n",
       "      <td>32.541667</td>\n",
       "      <td>21.000000</td>\n",
       "      <td>110.025000</td>\n",
       "    </tr>\n",
       "    <tr>\n",
       "      <th>1984</th>\n",
       "      <td>32.483333</td>\n",
       "      <td>21.033333</td>\n",
       "      <td>64.083333</td>\n",
       "    </tr>\n",
       "    <tr>\n",
       "      <th>1985</th>\n",
       "      <td>32.875000</td>\n",
       "      <td>20.975000</td>\n",
       "      <td>31.116667</td>\n",
       "    </tr>\n",
       "    <tr>\n",
       "      <th>1986</th>\n",
       "      <td>32.800000</td>\n",
       "      <td>21.441667</td>\n",
       "      <td>51.775000</td>\n",
       "    </tr>\n",
       "    <tr>\n",
       "      <th>1987</th>\n",
       "      <td>32.433333</td>\n",
       "      <td>21.200000</td>\n",
       "      <td>80.250000</td>\n",
       "    </tr>\n",
       "    <tr>\n",
       "      <th>1988</th>\n",
       "      <td>32.525000</td>\n",
       "      <td>21.400000</td>\n",
       "      <td>76.458333</td>\n",
       "    </tr>\n",
       "    <tr>\n",
       "      <th>1989</th>\n",
       "      <td>32.325000</td>\n",
       "      <td>20.825000</td>\n",
       "      <td>83.883333</td>\n",
       "    </tr>\n",
       "    <tr>\n",
       "      <th>1990</th>\n",
       "      <td>31.541667</td>\n",
       "      <td>20.991667</td>\n",
       "      <td>76.666667</td>\n",
       "    </tr>\n",
       "    <tr>\n",
       "      <th>1991</th>\n",
       "      <td>32.450000</td>\n",
       "      <td>21.416667</td>\n",
       "      <td>64.200000</td>\n",
       "    </tr>\n",
       "    <tr>\n",
       "      <th>1992</th>\n",
       "      <td>32.683333</td>\n",
       "      <td>20.650000</td>\n",
       "      <td>63.716667</td>\n",
       "    </tr>\n",
       "    <tr>\n",
       "      <th>1993</th>\n",
       "      <td>32.733333</td>\n",
       "      <td>20.516667</td>\n",
       "      <td>60.458333</td>\n",
       "    </tr>\n",
       "    <tr>\n",
       "      <th>1994</th>\n",
       "      <td>32.225000</td>\n",
       "      <td>20.516667</td>\n",
       "      <td>68.325000</td>\n",
       "    </tr>\n",
       "    <tr>\n",
       "      <th>1995</th>\n",
       "      <td>32.183333</td>\n",
       "      <td>20.916667</td>\n",
       "      <td>101.991667</td>\n",
       "    </tr>\n",
       "    <tr>\n",
       "      <th>1996</th>\n",
       "      <td>32.633333</td>\n",
       "      <td>20.958333</td>\n",
       "      <td>80.958333</td>\n",
       "    </tr>\n",
       "    <tr>\n",
       "      <th>1997</th>\n",
       "      <td>32.616667</td>\n",
       "      <td>21.025000</td>\n",
       "      <td>63.750000</td>\n",
       "    </tr>\n",
       "    <tr>\n",
       "      <th>1998</th>\n",
       "      <td>33.125000</td>\n",
       "      <td>21.683333</td>\n",
       "      <td>78.516667</td>\n",
       "    </tr>\n",
       "    <tr>\n",
       "      <th>1999</th>\n",
       "      <td>32.608333</td>\n",
       "      <td>20.341667</td>\n",
       "      <td>47.008333</td>\n",
       "    </tr>\n",
       "    <tr>\n",
       "      <th>2000</th>\n",
       "      <td>32.583333</td>\n",
       "      <td>20.391667</td>\n",
       "      <td>87.066667</td>\n",
       "    </tr>\n",
       "  </tbody>\n",
       "</table>\n",
       "</div>"
      ],
      "text/plain": [
       "        maxtemp    mintemp    rainfall\n",
       "year                                  \n",
       "1951  32.666667  20.233333   58.975000\n",
       "1952  31.975000  19.891667   46.741667\n",
       "1953  32.183333  20.266667   74.245455\n",
       "1954  31.525000  19.875000   70.366667\n",
       "1955  30.883333  19.725000   92.775000\n",
       "1956  30.783333  19.791667   64.941667\n",
       "1957  31.533333  20.016667   66.783333\n",
       "1958  31.733333  20.475000   76.216667\n",
       "1959  31.900000  20.358333   64.825000\n",
       "1960  31.841667  20.416667   57.775000\n",
       "1961  31.258333  20.225000   68.400000\n",
       "1962  30.418182  19.490909  107.118182\n",
       "1963  31.133333  19.308333   69.125000\n",
       "1964  32.150000  19.658333   58.400000\n",
       "1965  32.600000  19.541667   67.441667\n",
       "1966  32.666667  20.550000   55.358333\n",
       "1967  32.625000  19.483333   69.383333\n",
       "1968  32.416667  19.200000   53.250000\n",
       "1969  32.575000  20.408333   53.100000\n",
       "1970  32.041667  19.825000   95.566667\n",
       "1971  31.975000  20.008333   55.433333\n",
       "1972  32.633333  21.008333   42.958333\n",
       "1973  32.425000  21.200000   73.183333\n",
       "1974  32.175000  20.016667   56.283333\n",
       "1975  31.266667  20.258333  115.291667\n",
       "1976  32.050000  20.441667   66.075000\n",
       "1977  32.258333  20.775000   45.300000\n",
       "1978  31.575000  21.108333   93.116667\n",
       "1979  32.400000  21.616667   58.650000\n",
       "1980  32.816667  21.425000   49.325000\n",
       "1981  32.108333  20.750000   82.750000\n",
       "1982  32.241667  21.133333   63.891667\n",
       "1983  32.541667  21.000000  110.025000\n",
       "1984  32.483333  21.033333   64.083333\n",
       "1985  32.875000  20.975000   31.116667\n",
       "1986  32.800000  21.441667   51.775000\n",
       "1987  32.433333  21.200000   80.250000\n",
       "1988  32.525000  21.400000   76.458333\n",
       "1989  32.325000  20.825000   83.883333\n",
       "1990  31.541667  20.991667   76.666667\n",
       "1991  32.450000  21.416667   64.200000\n",
       "1992  32.683333  20.650000   63.716667\n",
       "1993  32.733333  20.516667   60.458333\n",
       "1994  32.225000  20.516667   68.325000\n",
       "1995  32.183333  20.916667  101.991667\n",
       "1996  32.633333  20.958333   80.958333\n",
       "1997  32.616667  21.025000   63.750000\n",
       "1998  33.125000  21.683333   78.516667\n",
       "1999  32.608333  20.341667   47.008333\n",
       "2000  32.583333  20.391667   87.066667"
      ]
     },
     "execution_count": 44,
     "metadata": {},
     "output_type": "execute_result"
    }
   ],
   "source": [
    "mean"
   ]
  },
  {
   "cell_type": "code",
   "execution_count": 45,
   "metadata": {},
   "outputs": [
    {
     "data": {
      "text/plain": [
       "<matplotlib.axes._subplots.AxesSubplot at 0x7fb5e2d1ff60>"
      ]
     },
     "execution_count": 45,
     "metadata": {},
     "output_type": "execute_result"
    },
    {
     "data": {
      "image/png": "[encoded data removed]",
      "text/plain": [
       "<matplotlib.figure.Figure at 0x7fb5e2d46550>"
      ]
     },
     "metadata": {},
     "output_type": "display_data"
    }
   ],
   "source": [
    "mean.plot()"
   ]
  },
  {
   "cell_type": "code",
   "execution_count": 46,
   "metadata": {},
   "outputs": [
    {
     "data": {
      "text/html": [
       "<div>\n",
       "<style>\n",
       "    .dataframe thead tr:only-child th {\n",
       "        text-align: right;\n",
       "    }\n",
       "\n",
       "    .dataframe thead th {\n",
       "        text-align: left;\n",
       "    }\n",
       "\n",
       "    .dataframe tbody tr th {\n",
       "        vertical-align: top;\n",
       "    }\n",
       "</style>\n",
       "<table border=\"1\" class=\"dataframe\">\n",
       "  <thead>\n",
       "    <tr style=\"text-align: right;\">\n",
       "      <th></th>\n",
       "      <th>year</th>\n",
       "      <th>maxtemp</th>\n",
       "      <th>mintemp</th>\n",
       "      <th>rainfall</th>\n",
       "    </tr>\n",
       "    <tr>\n",
       "      <th>month</th>\n",
       "      <th></th>\n",
       "      <th></th>\n",
       "      <th></th>\n",
       "      <th></th>\n",
       "    </tr>\n",
       "  </thead>\n",
       "  <tbody>\n",
       "    <tr>\n",
       "      <th>April</th>\n",
       "      <td>1975.77551</td>\n",
       "      <td>37.863265</td>\n",
       "      <td>24.273469</td>\n",
       "      <td>20.234694</td>\n",
       "    </tr>\n",
       "    <tr>\n",
       "      <th>August</th>\n",
       "      <td>1975.50000</td>\n",
       "      <td>29.786000</td>\n",
       "      <td>22.086000</td>\n",
       "      <td>178.690000</td>\n",
       "    </tr>\n",
       "    <tr>\n",
       "      <th>December</th>\n",
       "      <td>1975.50000</td>\n",
       "      <td>28.004000</td>\n",
       "      <td>14.526000</td>\n",
       "      <td>5.912000</td>\n",
       "    </tr>\n",
       "    <tr>\n",
       "      <th>February</th>\n",
       "      <td>1975.50000</td>\n",
       "      <td>31.932000</td>\n",
       "      <td>17.556000</td>\n",
       "      <td>7.940000</td>\n",
       "    </tr>\n",
       "    <tr>\n",
       "      <th>January</th>\n",
       "      <td>1975.50000</td>\n",
       "      <td>28.760000</td>\n",
       "      <td>15.214000</td>\n",
       "      <td>13.178000</td>\n",
       "    </tr>\n",
       "    <tr>\n",
       "      <th>July</th>\n",
       "      <td>1975.50000</td>\n",
       "      <td>30.754000</td>\n",
       "      <td>22.560000</td>\n",
       "      <td>169.860000</td>\n",
       "    </tr>\n",
       "    <tr>\n",
       "      <th>June</th>\n",
       "      <td>1975.50000</td>\n",
       "      <td>34.528000</td>\n",
       "      <td>23.976000</td>\n",
       "      <td>103.754000</td>\n",
       "    </tr>\n",
       "    <tr>\n",
       "      <th>March</th>\n",
       "      <td>1975.50000</td>\n",
       "      <td>35.444000</td>\n",
       "      <td>20.798000</td>\n",
       "      <td>15.264000</td>\n",
       "    </tr>\n",
       "    <tr>\n",
       "      <th>May</th>\n",
       "      <td>1975.50000</td>\n",
       "      <td>38.996000</td>\n",
       "      <td>26.160000</td>\n",
       "      <td>35.714000</td>\n",
       "    </tr>\n",
       "    <tr>\n",
       "      <th>November</th>\n",
       "      <td>1975.50000</td>\n",
       "      <td>29.016000</td>\n",
       "      <td>16.862000</td>\n",
       "      <td>22.420408</td>\n",
       "    </tr>\n",
       "    <tr>\n",
       "      <th>October</th>\n",
       "      <td>1975.50000</td>\n",
       "      <td>30.582000</td>\n",
       "      <td>20.306000</td>\n",
       "      <td>97.158000</td>\n",
       "    </tr>\n",
       "    <tr>\n",
       "      <th>September</th>\n",
       "      <td>1975.50000</td>\n",
       "      <td>30.452000</td>\n",
       "      <td>21.962000</td>\n",
       "      <td>158.292000</td>\n",
       "    </tr>\n",
       "  </tbody>\n",
       "</table>\n",
       "</div>"
      ],
      "text/plain": [
       "                 year    maxtemp    mintemp    rainfall\n",
       "month                                                  \n",
       "April      1975.77551  37.863265  24.273469   20.234694\n",
       "August     1975.50000  29.786000  22.086000  178.690000\n",
       "December   1975.50000  28.004000  14.526000    5.912000\n",
       "February   1975.50000  31.932000  17.556000    7.940000\n",
       "January    1975.50000  28.760000  15.214000   13.178000\n",
       "July       1975.50000  30.754000  22.560000  169.860000\n",
       "June       1975.50000  34.528000  23.976000  103.754000\n",
       "March      1975.50000  35.444000  20.798000   15.264000\n",
       "May        1975.50000  38.996000  26.160000   35.714000\n",
       "November   1975.50000  29.016000  16.862000   22.420408\n",
       "October    1975.50000  30.582000  20.306000   97.158000\n",
       "September  1975.50000  30.452000  21.962000  158.292000"
      ]
     },
     "execution_count": 46,
     "metadata": {},
     "output_type": "execute_result"
    }
   ],
   "source": [
    "bymonth = df.groupby(\"month\").mean()\n",
    "bymonth"
   ]
  },
  {
   "cell_type": "code",
   "execution_count": 47,
   "metadata": {
    "collapsed": true
   },
   "outputs": [],
   "source": [
    "del bymonth['year']"
   ]
  },
  {
   "cell_type": "code",
   "execution_count": 48,
   "metadata": {},
   "outputs": [
    {
     "data": {
      "text/html": [
       "<div>\n",
       "<style>\n",
       "    .dataframe thead tr:only-child th {\n",
       "        text-align: right;\n",
       "    }\n",
       "\n",
       "    .dataframe thead th {\n",
       "        text-align: left;\n",
       "    }\n",
       "\n",
       "    .dataframe tbody tr th {\n",
       "        vertical-align: top;\n",
       "    }\n",
       "</style>\n",
       "<table border=\"1\" class=\"dataframe\">\n",
       "  <thead>\n",
       "    <tr style=\"text-align: right;\">\n",
       "      <th></th>\n",
       "      <th>maxtemp</th>\n",
       "      <th>mintemp</th>\n",
       "      <th>rainfall</th>\n",
       "    </tr>\n",
       "    <tr>\n",
       "      <th>month</th>\n",
       "      <th></th>\n",
       "      <th></th>\n",
       "      <th></th>\n",
       "    </tr>\n",
       "  </thead>\n",
       "  <tbody>\n",
       "    <tr>\n",
       "      <th>April</th>\n",
       "      <td>37.863265</td>\n",
       "      <td>24.273469</td>\n",
       "      <td>20.234694</td>\n",
       "    </tr>\n",
       "    <tr>\n",
       "      <th>August</th>\n",
       "      <td>29.786000</td>\n",
       "      <td>22.086000</td>\n",
       "      <td>178.690000</td>\n",
       "    </tr>\n",
       "    <tr>\n",
       "      <th>December</th>\n",
       "      <td>28.004000</td>\n",
       "      <td>14.526000</td>\n",
       "      <td>5.912000</td>\n",
       "    </tr>\n",
       "    <tr>\n",
       "      <th>February</th>\n",
       "      <td>31.932000</td>\n",
       "      <td>17.556000</td>\n",
       "      <td>7.940000</td>\n",
       "    </tr>\n",
       "    <tr>\n",
       "      <th>January</th>\n",
       "      <td>28.760000</td>\n",
       "      <td>15.214000</td>\n",
       "      <td>13.178000</td>\n",
       "    </tr>\n",
       "    <tr>\n",
       "      <th>July</th>\n",
       "      <td>30.754000</td>\n",
       "      <td>22.560000</td>\n",
       "      <td>169.860000</td>\n",
       "    </tr>\n",
       "    <tr>\n",
       "      <th>June</th>\n",
       "      <td>34.528000</td>\n",
       "      <td>23.976000</td>\n",
       "      <td>103.754000</td>\n",
       "    </tr>\n",
       "    <tr>\n",
       "      <th>March</th>\n",
       "      <td>35.444000</td>\n",
       "      <td>20.798000</td>\n",
       "      <td>15.264000</td>\n",
       "    </tr>\n",
       "    <tr>\n",
       "      <th>May</th>\n",
       "      <td>38.996000</td>\n",
       "      <td>26.160000</td>\n",
       "      <td>35.714000</td>\n",
       "    </tr>\n",
       "    <tr>\n",
       "      <th>November</th>\n",
       "      <td>29.016000</td>\n",
       "      <td>16.862000</td>\n",
       "      <td>22.420408</td>\n",
       "    </tr>\n",
       "    <tr>\n",
       "      <th>October</th>\n",
       "      <td>30.582000</td>\n",
       "      <td>20.306000</td>\n",
       "      <td>97.158000</td>\n",
       "    </tr>\n",
       "    <tr>\n",
       "      <th>September</th>\n",
       "      <td>30.452000</td>\n",
       "      <td>21.962000</td>\n",
       "      <td>158.292000</td>\n",
       "    </tr>\n",
       "  </tbody>\n",
       "</table>\n",
       "</div>"
      ],
      "text/plain": [
       "             maxtemp    mintemp    rainfall\n",
       "month                                      \n",
       "April      37.863265  24.273469   20.234694\n",
       "August     29.786000  22.086000  178.690000\n",
       "December   28.004000  14.526000    5.912000\n",
       "February   31.932000  17.556000    7.940000\n",
       "January    28.760000  15.214000   13.178000\n",
       "July       30.754000  22.560000  169.860000\n",
       "June       34.528000  23.976000  103.754000\n",
       "March      35.444000  20.798000   15.264000\n",
       "May        38.996000  26.160000   35.714000\n",
       "November   29.016000  16.862000   22.420408\n",
       "October    30.582000  20.306000   97.158000\n",
       "September  30.452000  21.962000  158.292000"
      ]
     },
     "execution_count": 48,
     "metadata": {},
     "output_type": "execute_result"
    }
   ],
   "source": [
    "bymonth"
   ]
  },
  {
   "cell_type": "code",
   "execution_count": 49,
   "metadata": {
    "collapsed": true
   },
   "outputs": [],
   "source": [
    "import datetime\n",
    "list_of_months = [datetime.date(2000, i+1, 1).strftime(\"%B\") for i in range(12)]"
   ]
  },
  {
   "cell_type": "code",
   "execution_count": 51,
   "metadata": {},
   "outputs": [
    {
     "data": {
      "text/plain": [
       "Index(['April', 'August', 'December', 'February', 'January', 'July', 'June',\n",
       "       'March', 'May', 'November', 'October', 'September'],\n",
       "      dtype='object', name='month')"
      ]
     },
     "execution_count": 51,
     "metadata": {},
     "output_type": "execute_result"
    }
   ],
   "source": [
    "bymonth.index"
   ]
  },
  {
   "cell_type": "code",
   "execution_count": 53,
   "metadata": {},
   "outputs": [],
   "source": [
    "newindex = [list_of_months.index(m) for m in bymonth.index]"
   ]
  },
  {
   "cell_type": "code",
   "execution_count": 54,
   "metadata": {
    "collapsed": true
   },
   "outputs": [],
   "source": [
    "bymonth['m'] = newindex"
   ]
  },
  {
   "cell_type": "code",
   "execution_count": 55,
   "metadata": {},
   "outputs": [
    {
     "data": {
      "text/html": [
       "<div>\n",
       "<style>\n",
       "    .dataframe thead tr:only-child th {\n",
       "        text-align: right;\n",
       "    }\n",
       "\n",
       "    .dataframe thead th {\n",
       "        text-align: left;\n",
       "    }\n",
       "\n",
       "    .dataframe tbody tr th {\n",
       "        vertical-align: top;\n",
       "    }\n",
       "</style>\n",
       "<table border=\"1\" class=\"dataframe\">\n",
       "  <thead>\n",
       "    <tr style=\"text-align: right;\">\n",
       "      <th></th>\n",
       "      <th>maxtemp</th>\n",
       "      <th>mintemp</th>\n",
       "      <th>rainfall</th>\n",
       "      <th>m</th>\n",
       "    </tr>\n",
       "    <tr>\n",
       "      <th>month</th>\n",
       "      <th></th>\n",
       "      <th></th>\n",
       "      <th></th>\n",
       "      <th></th>\n",
       "    </tr>\n",
       "  </thead>\n",
       "  <tbody>\n",
       "    <tr>\n",
       "      <th>April</th>\n",
       "      <td>37.863265</td>\n",
       "      <td>24.273469</td>\n",
       "      <td>20.234694</td>\n",
       "      <td>3</td>\n",
       "    </tr>\n",
       "    <tr>\n",
       "      <th>August</th>\n",
       "      <td>29.786000</td>\n",
       "      <td>22.086000</td>\n",
       "      <td>178.690000</td>\n",
       "      <td>7</td>\n",
       "    </tr>\n",
       "    <tr>\n",
       "      <th>December</th>\n",
       "      <td>28.004000</td>\n",
       "      <td>14.526000</td>\n",
       "      <td>5.912000</td>\n",
       "      <td>11</td>\n",
       "    </tr>\n",
       "    <tr>\n",
       "      <th>February</th>\n",
       "      <td>31.932000</td>\n",
       "      <td>17.556000</td>\n",
       "      <td>7.940000</td>\n",
       "      <td>1</td>\n",
       "    </tr>\n",
       "    <tr>\n",
       "      <th>January</th>\n",
       "      <td>28.760000</td>\n",
       "      <td>15.214000</td>\n",
       "      <td>13.178000</td>\n",
       "      <td>0</td>\n",
       "    </tr>\n",
       "    <tr>\n",
       "      <th>July</th>\n",
       "      <td>30.754000</td>\n",
       "      <td>22.560000</td>\n",
       "      <td>169.860000</td>\n",
       "      <td>6</td>\n",
       "    </tr>\n",
       "    <tr>\n",
       "      <th>June</th>\n",
       "      <td>34.528000</td>\n",
       "      <td>23.976000</td>\n",
       "      <td>103.754000</td>\n",
       "      <td>5</td>\n",
       "    </tr>\n",
       "    <tr>\n",
       "      <th>March</th>\n",
       "      <td>35.444000</td>\n",
       "      <td>20.798000</td>\n",
       "      <td>15.264000</td>\n",
       "      <td>2</td>\n",
       "    </tr>\n",
       "    <tr>\n",
       "      <th>May</th>\n",
       "      <td>38.996000</td>\n",
       "      <td>26.160000</td>\n",
       "      <td>35.714000</td>\n",
       "      <td>4</td>\n",
       "    </tr>\n",
       "    <tr>\n",
       "      <th>November</th>\n",
       "      <td>29.016000</td>\n",
       "      <td>16.862000</td>\n",
       "      <td>22.420408</td>\n",
       "      <td>10</td>\n",
       "    </tr>\n",
       "    <tr>\n",
       "      <th>October</th>\n",
       "      <td>30.582000</td>\n",
       "      <td>20.306000</td>\n",
       "      <td>97.158000</td>\n",
       "      <td>9</td>\n",
       "    </tr>\n",
       "    <tr>\n",
       "      <th>September</th>\n",
       "      <td>30.452000</td>\n",
       "      <td>21.962000</td>\n",
       "      <td>158.292000</td>\n",
       "      <td>8</td>\n",
       "    </tr>\n",
       "  </tbody>\n",
       "</table>\n",
       "</div>"
      ],
      "text/plain": [
       "             maxtemp    mintemp    rainfall   m\n",
       "month                                          \n",
       "April      37.863265  24.273469   20.234694   3\n",
       "August     29.786000  22.086000  178.690000   7\n",
       "December   28.004000  14.526000    5.912000  11\n",
       "February   31.932000  17.556000    7.940000   1\n",
       "January    28.760000  15.214000   13.178000   0\n",
       "July       30.754000  22.560000  169.860000   6\n",
       "June       34.528000  23.976000  103.754000   5\n",
       "March      35.444000  20.798000   15.264000   2\n",
       "May        38.996000  26.160000   35.714000   4\n",
       "November   29.016000  16.862000   22.420408  10\n",
       "October    30.582000  20.306000   97.158000   9\n",
       "September  30.452000  21.962000  158.292000   8"
      ]
     },
     "execution_count": 55,
     "metadata": {},
     "output_type": "execute_result"
    }
   ],
   "source": [
    "bymonth"
   ]
  },
  {
   "cell_type": "code",
   "execution_count": 72,
   "metadata": {},
   "outputs": [],
   "source": [
    "bymonths2 = bymonth.set_index(\"m\")"
   ]
  },
  {
   "cell_type": "code",
   "execution_count": 73,
   "metadata": {},
   "outputs": [
    {
     "data": {
      "text/html": [
       "<div>\n",
       "<style>\n",
       "    .dataframe thead tr:only-child th {\n",
       "        text-align: right;\n",
       "    }\n",
       "\n",
       "    .dataframe thead th {\n",
       "        text-align: left;\n",
       "    }\n",
       "\n",
       "    .dataframe tbody tr th {\n",
       "        vertical-align: top;\n",
       "    }\n",
       "</style>\n",
       "<table border=\"1\" class=\"dataframe\">\n",
       "  <thead>\n",
       "    <tr style=\"text-align: right;\">\n",
       "      <th></th>\n",
       "      <th>maxtemp</th>\n",
       "      <th>mintemp</th>\n",
       "      <th>rainfall</th>\n",
       "    </tr>\n",
       "    <tr>\n",
       "      <th>m</th>\n",
       "      <th></th>\n",
       "      <th></th>\n",
       "      <th></th>\n",
       "    </tr>\n",
       "  </thead>\n",
       "  <tbody>\n",
       "    <tr>\n",
       "      <th>3</th>\n",
       "      <td>37.863265</td>\n",
       "      <td>24.273469</td>\n",
       "      <td>20.234694</td>\n",
       "    </tr>\n",
       "    <tr>\n",
       "      <th>7</th>\n",
       "      <td>29.786000</td>\n",
       "      <td>22.086000</td>\n",
       "      <td>178.690000</td>\n",
       "    </tr>\n",
       "    <tr>\n",
       "      <th>11</th>\n",
       "      <td>28.004000</td>\n",
       "      <td>14.526000</td>\n",
       "      <td>5.912000</td>\n",
       "    </tr>\n",
       "    <tr>\n",
       "      <th>1</th>\n",
       "      <td>31.932000</td>\n",
       "      <td>17.556000</td>\n",
       "      <td>7.940000</td>\n",
       "    </tr>\n",
       "    <tr>\n",
       "      <th>0</th>\n",
       "      <td>28.760000</td>\n",
       "      <td>15.214000</td>\n",
       "      <td>13.178000</td>\n",
       "    </tr>\n",
       "    <tr>\n",
       "      <th>6</th>\n",
       "      <td>30.754000</td>\n",
       "      <td>22.560000</td>\n",
       "      <td>169.860000</td>\n",
       "    </tr>\n",
       "    <tr>\n",
       "      <th>5</th>\n",
       "      <td>34.528000</td>\n",
       "      <td>23.976000</td>\n",
       "      <td>103.754000</td>\n",
       "    </tr>\n",
       "    <tr>\n",
       "      <th>2</th>\n",
       "      <td>35.444000</td>\n",
       "      <td>20.798000</td>\n",
       "      <td>15.264000</td>\n",
       "    </tr>\n",
       "    <tr>\n",
       "      <th>4</th>\n",
       "      <td>38.996000</td>\n",
       "      <td>26.160000</td>\n",
       "      <td>35.714000</td>\n",
       "    </tr>\n",
       "    <tr>\n",
       "      <th>10</th>\n",
       "      <td>29.016000</td>\n",
       "      <td>16.862000</td>\n",
       "      <td>22.420408</td>\n",
       "    </tr>\n",
       "    <tr>\n",
       "      <th>9</th>\n",
       "      <td>30.582000</td>\n",
       "      <td>20.306000</td>\n",
       "      <td>97.158000</td>\n",
       "    </tr>\n",
       "    <tr>\n",
       "      <th>8</th>\n",
       "      <td>30.452000</td>\n",
       "      <td>21.962000</td>\n",
       "      <td>158.292000</td>\n",
       "    </tr>\n",
       "  </tbody>\n",
       "</table>\n",
       "</div>"
      ],
      "text/plain": [
       "      maxtemp    mintemp    rainfall\n",
       "m                                   \n",
       "3   37.863265  24.273469   20.234694\n",
       "7   29.786000  22.086000  178.690000\n",
       "11  28.004000  14.526000    5.912000\n",
       "1   31.932000  17.556000    7.940000\n",
       "0   28.760000  15.214000   13.178000\n",
       "6   30.754000  22.560000  169.860000\n",
       "5   34.528000  23.976000  103.754000\n",
       "2   35.444000  20.798000   15.264000\n",
       "4   38.996000  26.160000   35.714000\n",
       "10  29.016000  16.862000   22.420408\n",
       "9   30.582000  20.306000   97.158000\n",
       "8   30.452000  21.962000  158.292000"
      ]
     },
     "execution_count": 73,
     "metadata": {},
     "output_type": "execute_result"
    }
   ],
   "source": [
    "bymonths2"
   ]
  },
  {
   "cell_type": "code",
   "execution_count": 74,
   "metadata": {},
   "outputs": [
    {
     "data": {
      "text/plain": [
       "<matplotlib.axes._subplots.AxesSubplot at 0x7fb5e2b8cd68>"
      ]
     },
     "execution_count": 74,
     "metadata": {},
     "output_type": "execute_result"
    },
    {
     "data": {
      "image/png": "[encoded data removed]",
      "text/plain": [
       "<matplotlib.figure.Figure at 0x7fb5e2ab6080>"
      ]
     },
     "metadata": {},
     "output_type": "display_data"
    }
   ],
   "source": [
    "bymonths2.sort_index().plot()"
   ]
  },
  {
   "cell_type": "markdown",
   "metadata": {},
   "source": [
    "### Example: Indian names dataset ###\n",
    "The dataset is available at https://archive.org/download/india-names-dataset/ap-names.txt.gz"
   ]
  },
  {
   "cell_type": "code",
   "execution_count": null,
   "metadata": {
    "collapsed": true
   },
   "outputs": [],
   "source": []
  }
 ],
 "metadata": {
  "kernelspec": {
   "display_name": "Python 3",
   "language": "python",
   "name": "python3"
  },
  "language_info": {
   "codemirror_mode": {
    "name": "ipython",
    "version": 3
   },
   "file_extension": ".py",
   "mimetype": "text/x-python",
   "name": "python",
   "nbconvert_exporter": "python",
   "pygments_lexer": "ipython3",
   "version": "3.6.1"
  }
 },
 "nbformat": 4,
 "nbformat_minor": 2
}
