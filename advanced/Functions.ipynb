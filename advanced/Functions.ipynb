{
 "cells": [
  {
   "cell_type": "markdown",
   "metadata": {},
   "source": [
    "## function in depth ##\n",
    "To understand advanced features of python we must understand functions with more details."
   ]
  },
  {
   "cell_type": "markdown",
   "metadata": {},
   "source": [
    "**Positional Arguments:** "
   ]
  },
  {
   "cell_type": "code",
   "execution_count": 1,
   "metadata": {
    "collapsed": true
   },
   "outputs": [],
   "source": [
    "def cylinder_volume(radius, height):\n",
    "    return 3.14*radius*radius*height"
   ]
  },
  {
   "cell_type": "code",
   "execution_count": 2,
   "metadata": {},
   "outputs": [
    {
     "data": {
      "text/plain": [
       "785.0"
      ]
     },
     "execution_count": 2,
     "metadata": {},
     "output_type": "execute_result"
    }
   ],
   "source": [
    "cylinder_volume(5, 10) # radius first or height first?"
   ]
  },
  {
   "cell_type": "code",
   "execution_count": 3,
   "metadata": {},
   "outputs": [
    {
     "data": {
      "text/plain": [
       "1570.0"
      ]
     },
     "execution_count": 3,
     "metadata": {},
     "output_type": "execute_result"
    }
   ],
   "source": [
    "cylinder_volume(10,5) # the other way will give wrong results. and difficult to debug later."
   ]
  },
  {
   "cell_type": "markdown",
   "metadata": {},
   "source": [
    "Posistional arguments are identified by the order they are passed by. In this way we need to be carefull about order in which we pass the arguments. If there is mismatch in understanding the design of function we introduce bugs in code."
   ]
  },
  {
   "cell_type": "markdown",
   "metadata": {},
   "source": [
    "**Named Arguments:** Instead if we have named argument, then function calling becomemes unambiguous."
   ]
  },
  {
   "cell_type": "code",
   "execution_count": 4,
   "metadata": {},
   "outputs": [
    {
     "data": {
      "text/plain": [
       "785.0"
      ]
     },
     "execution_count": 4,
     "metadata": {},
     "output_type": "execute_result"
    }
   ],
   "source": [
    "cylinder_volume(5, height=10)"
   ]
  },
  {
   "cell_type": "code",
   "execution_count": 5,
   "metadata": {},
   "outputs": [
    {
     "data": {
      "text/plain": [
       "785.0"
      ]
     },
     "execution_count": 5,
     "metadata": {},
     "output_type": "execute_result"
    }
   ],
   "source": [
    "cylinder_volume(radius=5, height=10)"
   ]
  },
  {
   "cell_type": "code",
   "execution_count": 6,
   "metadata": {},
   "outputs": [
    {
     "ename": "SyntaxError",
     "evalue": "positional argument follows keyword argument (<ipython-input-6-ecfac9fa4968>, line 1)",
     "output_type": "error",
     "traceback": [
      "\u001b[0;36m  File \u001b[0;32m\"<ipython-input-6-ecfac9fa4968>\"\u001b[0;36m, line \u001b[0;32m1\u001b[0m\n\u001b[0;31m    cylinder_volume(radius=5, 10)\u001b[0m\n\u001b[0m                             ^\u001b[0m\n\u001b[0;31mSyntaxError\u001b[0m\u001b[0;31m:\u001b[0m positional argument follows keyword argument\n"
     ]
    }
   ],
   "source": [
    "cylinder_volume(radius=5, 10)"
   ]
  },
  {
   "cell_type": "markdown",
   "metadata": {},
   "source": [
    "**Default Arguments:**Function arguments can have default values. That means even if we do not pass those values while calling the function, default value is assumed and fuction is computed with that value."
   ]
  },
  {
   "cell_type": "code",
   "execution_count": 7,
   "metadata": {
    "collapsed": true
   },
   "outputs": [],
   "source": [
    "import os\n",
    "def location(name, home=\"/home/vikrant\"):\n",
    "    \"\"\"\n",
    "    Returns virtual environment root directory location\n",
    "    \"\"\"\n",
    "    return os.path.sep.join([home, \"usr\",\"local\", name])"
   ]
  },
  {
   "cell_type": "code",
   "execution_count": 8,
   "metadata": {},
   "outputs": [
    {
     "data": {
      "text/plain": [
       "'/home/vikrant/usr/local/jupyter'"
      ]
     },
     "execution_count": 8,
     "metadata": {},
     "output_type": "execute_result"
    }
   ],
   "source": [
    "location(\"jupyter\")"
   ]
  },
  {
   "cell_type": "markdown",
   "metadata": {},
   "source": [
    "Note that default values for argument are set only when function definition is loaded first time."
   ]
  },
  {
   "cell_type": "code",
   "execution_count": 9,
   "metadata": {
    "collapsed": true
   },
   "outputs": [],
   "source": [
    "import random\n",
    "\n",
    "def number():\n",
    "    return random.random()\n",
    "\n",
    "def func(a, b=number()):\n",
    "    print(a,b)"
   ]
  },
  {
   "cell_type": "code",
   "execution_count": 10,
   "metadata": {},
   "outputs": [
    {
     "name": "stdout",
     "output_type": "stream",
     "text": [
      "0 0.6247671291293151\n",
      "1 0.6247671291293151\n",
      "2 0.6247671291293151\n",
      "3 0.6247671291293151\n",
      "4 0.6247671291293151\n"
     ]
    }
   ],
   "source": [
    "for i in range(5):\n",
    "    func(i)"
   ]
  },
  {
   "cell_type": "markdown",
   "metadata": {},
   "source": [
    "if you expect value returned by function number as second argument above"
   ]
  },
  {
   "cell_type": "code",
   "execution_count": 11,
   "metadata": {
    "collapsed": true
   },
   "outputs": [],
   "source": [
    "def func(a, b=None):\n",
    "    if not b:\n",
    "        b = number()\n",
    "    print(a,b)"
   ]
  },
  {
   "cell_type": "code",
   "execution_count": 12,
   "metadata": {},
   "outputs": [
    {
     "name": "stdout",
     "output_type": "stream",
     "text": [
      "0 0.4935006389357517\n",
      "1 0.7690357691243501\n",
      "2 0.26781601390562404\n",
      "3 0.22264320649957847\n",
      "4 0.8060128019750377\n"
     ]
    }
   ],
   "source": [
    "for i in range(5):\n",
    "    func(i)"
   ]
  },
  {
   "cell_type": "markdown",
   "metadata": {},
   "source": [
    "Also make sure that you use only immutables as default value."
   ]
  },
  {
   "cell_type": "code",
   "execution_count": 13,
   "metadata": {
    "collapsed": true
   },
   "outputs": [],
   "source": [
    "def append(a, values = []):\n",
    "    values.append(a)\n",
    "    return values"
   ]
  },
  {
   "cell_type": "code",
   "execution_count": 14,
   "metadata": {},
   "outputs": [
    {
     "data": {
      "text/plain": [
       "['A']"
      ]
     },
     "execution_count": 14,
     "metadata": {},
     "output_type": "execute_result"
    }
   ],
   "source": [
    "append(\"A\")"
   ]
  },
  {
   "cell_type": "code",
   "execution_count": 15,
   "metadata": {},
   "outputs": [
    {
     "data": {
      "text/plain": [
       "['A', 'B']"
      ]
     },
     "execution_count": 15,
     "metadata": {},
     "output_type": "execute_result"
    }
   ],
   "source": [
    "append(\"B\")"
   ]
  },
  {
   "cell_type": "code",
   "execution_count": 16,
   "metadata": {
    "collapsed": true
   },
   "outputs": [],
   "source": [
    "def append(a, values = None):\n",
    "    if values is None:\n",
    "        values = []\n",
    "    values.append(a)\n",
    "    return values"
   ]
  },
  {
   "cell_type": "code",
   "execution_count": 17,
   "metadata": {},
   "outputs": [
    {
     "data": {
      "text/plain": [
       "['A']"
      ]
     },
     "execution_count": 17,
     "metadata": {},
     "output_type": "execute_result"
    }
   ],
   "source": [
    "append('A')"
   ]
  },
  {
   "cell_type": "code",
   "execution_count": 18,
   "metadata": {},
   "outputs": [
    {
     "data": {
      "text/plain": [
       "['B']"
      ]
     },
     "execution_count": 18,
     "metadata": {},
     "output_type": "execute_result"
    }
   ],
   "source": [
    "append('B')"
   ]
  },
  {
   "cell_type": "markdown",
   "metadata": {},
   "source": [
    "**Only Named Arguments:** With python3 there is new syntax for enforcing few arguments with names only."
   ]
  },
  {
   "cell_type": "code",
   "execution_count": 19,
   "metadata": {
    "collapsed": true
   },
   "outputs": [],
   "source": [
    "def sumation(values, *, initial = 0):\n",
    "    total = initial\n",
    "    for v in values:\n",
    "        total += v\n",
    "    return total"
   ]
  },
  {
   "cell_type": "code",
   "execution_count": 20,
   "metadata": {},
   "outputs": [
    {
     "data": {
      "text/plain": [
       "95"
      ]
     },
     "execution_count": 20,
     "metadata": {},
     "output_type": "execute_result"
    }
   ],
   "source": [
    "sumation(range(10), initial=50)"
   ]
  },
  {
   "cell_type": "code",
   "execution_count": 21,
   "metadata": {},
   "outputs": [
    {
     "ename": "TypeError",
     "evalue": "sumation() takes 1 positional argument but 2 were given",
     "output_type": "error",
     "traceback": [
      "\u001b[0;31m---------------------------------------------------------------------------\u001b[0m",
      "\u001b[0;31mTypeError\u001b[0m                                 Traceback (most recent call last)",
      "\u001b[0;32m<ipython-input-21-a5044f61d9a7>\u001b[0m in \u001b[0;36m<module>\u001b[0;34m()\u001b[0m\n\u001b[0;32m----> 1\u001b[0;31m \u001b[0msumation\u001b[0m\u001b[0;34m(\u001b[0m\u001b[0mrange\u001b[0m\u001b[0;34m(\u001b[0m\u001b[0;36m10\u001b[0m\u001b[0;34m)\u001b[0m\u001b[0;34m,\u001b[0m\u001b[0;36m0\u001b[0m\u001b[0;34m)\u001b[0m\u001b[0;34m\u001b[0m\u001b[0m\n\u001b[0m",
      "\u001b[0;31mTypeError\u001b[0m: sumation() takes 1 positional argument but 2 were given"
     ]
    }
   ],
   "source": [
    "sumation(range(10),0)"
   ]
  },
  {
   "cell_type": "markdown",
   "metadata": {},
   "source": [
    "**Variable number of arguments:** Ability to pass variable number of arguments to functions gives advantage of scripting the functions."
   ]
  },
  {
   "cell_type": "code",
   "execution_count": 22,
   "metadata": {
    "collapsed": true
   },
   "outputs": [],
   "source": [
    "def func(*args): # this is how you define function with variable number of arguments\n",
    "    pass"
   ]
  },
  {
   "cell_type": "markdown",
   "metadata": {
    "collapsed": true
   },
   "source": [
    "Lets examin args!"
   ]
  },
  {
   "cell_type": "code",
   "execution_count": 23,
   "metadata": {
    "collapsed": true
   },
   "outputs": [],
   "source": [
    "def func(*args):\n",
    "    print(args)"
   ]
  },
  {
   "cell_type": "code",
   "execution_count": 24,
   "metadata": {},
   "outputs": [
    {
     "name": "stdout",
     "output_type": "stream",
     "text": [
      "(1, 2, 3, 4)\n"
     ]
    }
   ],
   "source": [
    "func(1,2,3,4)"
   ]
  },
  {
   "cell_type": "code",
   "execution_count": 25,
   "metadata": {
    "collapsed": true
   },
   "outputs": [],
   "source": [
    "def genericsum(*args):\n",
    "    total = 0\n",
    "    for v in args:\n",
    "        total += v\n",
    "    return total"
   ]
  },
  {
   "cell_type": "code",
   "execution_count": 26,
   "metadata": {},
   "outputs": [
    {
     "data": {
      "text/plain": [
       "10"
      ]
     },
     "execution_count": 26,
     "metadata": {},
     "output_type": "execute_result"
    }
   ],
   "source": [
    "genericsum(1,2,3,4)"
   ]
  },
  {
   "cell_type": "code",
   "execution_count": 27,
   "metadata": {},
   "outputs": [
    {
     "data": {
      "text/plain": [
       "45"
      ]
     },
     "execution_count": 27,
     "metadata": {},
     "output_type": "execute_result"
    }
   ],
   "source": [
    "genericsum(1,2,3,4,5,6,7,8,9)"
   ]
  },
  {
   "cell_type": "code",
   "execution_count": 28,
   "metadata": {
    "collapsed": true
   },
   "outputs": [],
   "source": [
    "def joinstrings(*args, seperator = \" \"):\n",
    "    alltogether = args[0]\n",
    "    for word in args[1:]:\n",
    "        alltogether = alltogether + seperator + word\n",
    "    return alltogether"
   ]
  },
  {
   "cell_type": "code",
   "execution_count": 29,
   "metadata": {},
   "outputs": [
    {
     "data": {
      "text/plain": [
       "'Alanzo church thought about lambda calculas'"
      ]
     },
     "execution_count": 29,
     "metadata": {},
     "output_type": "execute_result"
    }
   ],
   "source": [
    "joinstrings(\"Alanzo\", \"church\",\"thought\",\"about\",\"lambda\",\"calculas\")"
   ]
  },
  {
   "cell_type": "markdown",
   "metadata": {},
   "source": [
    "This is how you can pass variable number of named arguments"
   ]
  },
  {
   "cell_type": "code",
   "execution_count": 30,
   "metadata": {
    "collapsed": true
   },
   "outputs": [],
   "source": [
    "def make_person(name,**kwargs):\n",
    "    person = {\"name\":name}\n",
    "    for key, value in kwargs.items():\n",
    "        person[key] = value\n",
    "    return person\n",
    "    "
   ]
  },
  {
   "cell_type": "code",
   "execution_count": 31,
   "metadata": {},
   "outputs": [
    {
     "data": {
      "text/plain": [
       "{'email': 'haskell@functional.expressions.com',\n",
       " 'name': 'Haskell',\n",
       " 'surname': 'Curry'}"
      ]
     },
     "execution_count": 31,
     "metadata": {},
     "output_type": "execute_result"
    }
   ],
   "source": [
    "make_person(name=\"Haskell\", surname=\"Curry\",email=\"haskell@functional.expressions.com\")"
   ]
  },
  {
   "cell_type": "markdown",
   "metadata": {},
   "source": [
    "** Unpacking the arguments: **\n",
    "How to pass variable number of arguments to another function without going through them?\n",
    "Lets say we have to write a function which computes general statistics of a input series of numbers."
   ]
  },
  {
   "cell_type": "code",
   "execution_count": 32,
   "metadata": {
    "collapsed": true
   },
   "outputs": [],
   "source": [
    "def find_stats(*args):\n",
    "    results = { 'sum':  genericsum(*args),\n",
    "               'mean': genericsum(*args)/len(args),\n",
    "               'max' : max(args),\n",
    "               'min' : min(args)}\n",
    "    return results\n"
   ]
  },
  {
   "cell_type": "code",
   "execution_count": 33,
   "metadata": {},
   "outputs": [
    {
     "data": {
      "text/plain": [
       "{'max': 8, 'mean': 4.5, 'min': 1, 'sum': 36}"
      ]
     },
     "execution_count": 33,
     "metadata": {},
     "output_type": "execute_result"
    }
   ],
   "source": [
    "find_stats(1,2,3,4,5,6,7,8)"
   ]
  },
  {
   "cell_type": "markdown",
   "metadata": {},
   "source": [
    "Above mentioned variable number of positional and variable number of named arguments can be passed at a time."
   ]
  },
  {
   "cell_type": "code",
   "execution_count": 34,
   "metadata": {
    "collapsed": true
   },
   "outputs": [],
   "source": [
    "def timeseries(*values, **metadata):\n",
    "    stats = find_stats(*values)\n",
    "    ploting_data = {}\n",
    "    ploting_data['values'] = values\n",
    "    ploting_data['stats'] = stats\n",
    "  \n",
    "    for key, value in metadata.items():\n",
    "        ploting_data[key] = value\n",
    "    return ploting_data\n",
    "    "
   ]
  },
  {
   "cell_type": "code",
   "execution_count": 35,
   "metadata": {},
   "outputs": [
    {
     "data": {
      "text/plain": [
       "{'experiment': 'gene expression',\n",
       " 'gene': 'RC311',\n",
       " 'group': 'cancer',\n",
       " 'observations': 'raw intensity',\n",
       " 'stats': {'max': 0.013,\n",
       "  'mean': 0.010379999999999999,\n",
       "  'min': 0.0089,\n",
       "  'sum': 0.051899999999999995},\n",
       " 'values': (0.01, 0.011, 0.013, 0.009, 0.0089)}"
      ]
     },
     "execution_count": 35,
     "metadata": {},
     "output_type": "execute_result"
    }
   ],
   "source": [
    "timeseries(0.01, 0.011, 0.013, 0.009, 0.0089, \n",
    "           group=\"cancer\", \n",
    "           observations=\"raw intensity\", \n",
    "           experiment=\"gene expression\",\n",
    "           gene=\"RC311\")"
   ]
  },
  {
   "cell_type": "markdown",
   "metadata": {},
   "source": [
    "### Functions as arguments and return values ###\n",
    "Fuctions in python are ordinary in a sense that they are nothing special than integers or floats or any other objects. But this makes functions in python very special as compared to other programming langauages."
   ]
  },
  {
   "cell_type": "code",
   "execution_count": 36,
   "metadata": {
    "collapsed": true
   },
   "outputs": [],
   "source": [
    "def func(x):\n",
    "    return 2*x"
   ]
  },
  {
   "cell_type": "code",
   "execution_count": 37,
   "metadata": {},
   "outputs": [
    {
     "data": {
      "text/plain": [
       "<function __main__.func>"
      ]
     },
     "execution_count": 37,
     "metadata": {},
     "output_type": "execute_result"
    }
   ],
   "source": [
    "func"
   ]
  },
  {
   "cell_type": "code",
   "execution_count": 38,
   "metadata": {},
   "outputs": [
    {
     "data": {
      "text/plain": [
       "function"
      ]
     },
     "execution_count": 38,
     "metadata": {},
     "output_type": "execute_result"
    }
   ],
   "source": [
    "type(func)"
   ]
  },
  {
   "cell_type": "code",
   "execution_count": 39,
   "metadata": {
    "collapsed": true
   },
   "outputs": [],
   "source": [
    "twotimes = func # functions can be aliased to different names"
   ]
  },
  {
   "cell_type": "code",
   "execution_count": 40,
   "metadata": {},
   "outputs": [
    {
     "data": {
      "text/plain": [
       "(4, 4)"
      ]
     },
     "execution_count": 40,
     "metadata": {},
     "output_type": "execute_result"
    }
   ],
   "source": [
    "twotimes(2), func(2)"
   ]
  },
  {
   "cell_type": "code",
   "execution_count": 41,
   "metadata": {},
   "outputs": [
    {
     "data": {
      "text/plain": [
       "True"
      ]
     },
     "execution_count": 41,
     "metadata": {},
     "output_type": "execute_result"
    }
   ],
   "source": [
    "twotimes == func"
   ]
  },
  {
   "cell_type": "markdown",
   "metadata": {},
   "source": [
    "As you can see \n",
    "- **we can manipulate and work with function just like any other data type.**\n",
    "- **this fact has much more power than you can imagine.**\n",
    "\n",
    "just think about following function"
   ]
  },
  {
   "cell_type": "code",
   "execution_count": 42,
   "metadata": {
    "collapsed": true
   },
   "outputs": [],
   "source": [
    "def sum_natural(n):\n",
    "    s = 0\n",
    "    for num in range(1,n+1):\n",
    "        s += num\n",
    "    \n",
    "    return s\n",
    "\n",
    "def square(x):\n",
    "    return x*x\n",
    "\n",
    "def sum_squares(n):\n",
    "    s = 0 \n",
    "    for num in range(1, n+1):\n",
    "        s += square(num)\n",
    "        \n",
    "    return s\n",
    "\n",
    "def cube(x):\n",
    "    return x*x*x\n",
    "\n",
    "def sum_cubes(n):\n",
    "    s = 0 \n",
    "    for num in range(1, n+1):\n",
    "        s += cube(num)\n",
    "        \n",
    "    return s\n",
    "\n",
    "def sum_func(n, func):\n",
    "    s = 0\n",
    "    for num in range(1, n+1):\n",
    "        s += func(num)\n",
    "    \n",
    "    return s"
   ]
  },
  {
   "cell_type": "code",
   "execution_count": 43,
   "metadata": {},
   "outputs": [
    {
     "data": {
      "text/plain": [
       "385"
      ]
     },
     "execution_count": 43,
     "metadata": {},
     "output_type": "execute_result"
    }
   ],
   "source": [
    "sum_squares(10)"
   ]
  },
  {
   "cell_type": "code",
   "execution_count": 44,
   "metadata": {},
   "outputs": [
    {
     "data": {
      "text/plain": [
       "385"
      ]
     },
     "execution_count": 44,
     "metadata": {},
     "output_type": "execute_result"
    }
   ],
   "source": [
    "sum_func(10, square)"
   ]
  },
  {
   "cell_type": "markdown",
   "metadata": {},
   "source": [
    "lambda expression can be used to define annonymous functions on fly"
   ]
  },
  {
   "cell_type": "code",
   "execution_count": 45,
   "metadata": {},
   "outputs": [
    {
     "data": {
      "text/plain": [
       "385"
      ]
     },
     "execution_count": 45,
     "metadata": {},
     "output_type": "execute_result"
    }
   ],
   "source": [
    "sum_func(10, lambda x: x*x)"
   ]
  },
  {
   "cell_type": "markdown",
   "metadata": {},
   "source": [
    "with this small abstraction of sumation we can do lots of magic in one line. \n",
    "for example The series `8/1*3 + 8/5*7 + 8/9*11 + ....` converges slowly to pi. we can compute pi!"
   ]
  },
  {
   "cell_type": "code",
   "execution_count": 46,
   "metadata": {},
   "outputs": [
    {
     "data": {
      "text/plain": [
       "3.141092653621038"
      ]
     },
     "execution_count": 46,
     "metadata": {},
     "output_type": "execute_result"
    }
   ],
   "source": [
    "sum_func(1000, lambda n: 8/((4*n-3)*(4*n-1)))"
   ]
  },
  {
   "cell_type": "code",
   "execution_count": 47,
   "metadata": {
    "collapsed": true
   },
   "outputs": [],
   "source": [
    "def make_adder(x):\n",
    "    def adder(y):\n",
    "        return x + y\n",
    "    return adder"
   ]
  },
  {
   "cell_type": "code",
   "execution_count": 48,
   "metadata": {
    "collapsed": true
   },
   "outputs": [],
   "source": [
    "adder5 = make_adder(5)"
   ]
  },
  {
   "cell_type": "code",
   "execution_count": 49,
   "metadata": {},
   "outputs": [
    {
     "data": {
      "text/plain": [
       "9"
      ]
     },
     "execution_count": 49,
     "metadata": {},
     "output_type": "execute_result"
    }
   ],
   "source": [
    "adder5(4)"
   ]
  },
  {
   "cell_type": "code",
   "execution_count": 50,
   "metadata": {},
   "outputs": [
    {
     "data": {
      "text/plain": [
       "<function __main__.make_adder.<locals>.adder>"
      ]
     },
     "execution_count": 50,
     "metadata": {},
     "output_type": "execute_result"
    }
   ],
   "source": [
    "adder5"
   ]
  },
  {
   "cell_type": "code",
   "execution_count": 51,
   "metadata": {
    "collapsed": true
   },
   "outputs": [],
   "source": [
    "def make_logger(prefix):\n",
    "    def logger(*args):\n",
    "        print(prefix, *args)\n",
    "    return logger\n"
   ]
  },
  {
   "cell_type": "code",
   "execution_count": 52,
   "metadata": {
    "collapsed": true
   },
   "outputs": [],
   "source": [
    "info = make_logger(\"[INFO]: \")"
   ]
  },
  {
   "cell_type": "code",
   "execution_count": 53,
   "metadata": {
    "collapsed": true
   },
   "outputs": [],
   "source": [
    "warn = make_logger(\"[WARN]: \")"
   ]
  },
  {
   "cell_type": "code",
   "execution_count": 54,
   "metadata": {},
   "outputs": [
    {
     "name": "stdout",
     "output_type": "stream",
     "text": [
      "[INFO]:  Called some function\n"
     ]
    }
   ],
   "source": [
    "info(\"Called some function\")"
   ]
  },
  {
   "cell_type": "code",
   "execution_count": 55,
   "metadata": {},
   "outputs": [
    {
     "name": "stdout",
     "output_type": "stream",
     "text": [
      "[WARN]:  Something went wrong\n"
     ]
    }
   ],
   "source": [
    "warn(\"Something went wrong\")"
   ]
  },
  {
   "cell_type": "code",
   "execution_count": 56,
   "metadata": {
    "collapsed": true
   },
   "outputs": [],
   "source": [
    "records = [\n",
    "    (\"A\", 40),\n",
    "    (\"B\", 86),\n",
    "    (\"C\", 48),\n",
    "    (\"D\", 75)]# these are scores of tests and we want to find test with max score"
   ]
  },
  {
   "cell_type": "code",
   "execution_count": 57,
   "metadata": {},
   "outputs": [
    {
     "data": {
      "text/plain": [
       "('B', 86)"
      ]
     },
     "execution_count": 57,
     "metadata": {},
     "output_type": "execute_result"
    }
   ],
   "source": [
    "def get_marks(record):\n",
    "    return record[1]\n",
    "\n",
    "max(records, key=get_marks)"
   ]
  },
  {
   "cell_type": "code",
   "execution_count": 58,
   "metadata": {
    "collapsed": true
   },
   "outputs": [],
   "source": [
    "records = [\n",
    "    (\"A\", 90,  6.6),\n",
    "    (\"B\", 100, 6.7),\n",
    "    (\"C\", 110, 7.0),\n",
    "    (\"D\", 95, 10.0)]\n",
    "# column0 is name, column1 is systolic BP, column2 is sugar level in blood"
   ]
  },
  {
   "cell_type": "markdown",
   "metadata": {},
   "source": [
    "We want to find a record with maximum systolic BP (i.e. column 1)"
   ]
  },
  {
   "cell_type": "code",
   "execution_count": 59,
   "metadata": {
    "collapsed": true
   },
   "outputs": [],
   "source": [
    "def column(index):\n",
    "    return lambda row: row[index] # a function that returns item from given column index"
   ]
  },
  {
   "cell_type": "code",
   "execution_count": 60,
   "metadata": {},
   "outputs": [
    {
     "data": {
      "text/plain": [
       "('C', 110, 7.0)"
      ]
     },
     "execution_count": 60,
     "metadata": {},
     "output_type": "execute_result"
    }
   ],
   "source": [
    "max(records, key=column(1))"
   ]
  },
  {
   "cell_type": "markdown",
   "metadata": {},
   "source": [
    "What if we wish to find record with maximum blood sugar?"
   ]
  },
  {
   "cell_type": "code",
   "execution_count": 61,
   "metadata": {},
   "outputs": [
    {
     "data": {
      "text/plain": [
       "('D', 95, 10.0)"
      ]
     },
     "execution_count": 61,
     "metadata": {},
     "output_type": "execute_result"
    }
   ],
   "source": [
    "max(records, key=column(2))"
   ]
  },
  {
   "cell_type": "markdown",
   "metadata": {},
   "source": [
    "Lets look at some more examples\n",
    "- Write a function compose which will take two functions f, g as input and return a function which will compute f(g(x)\n",
    "```\n",
    "    >>> f = lambda x: x**2\n",
    "    >>> g = lambda x: x-1\n",
    "    >>> fg = compose(f, g)\n",
    "    >>> fg(3)\n",
    "    4\n",
    "    >>> gf = compose(g, f)\n",
    "    >>> gf(3) \n",
    "    8\n",
    "```"
   ]
  },
  {
   "cell_type": "code",
   "execution_count": 62,
   "metadata": {
    "collapsed": true
   },
   "outputs": [],
   "source": [
    "def compose(f, g):\n",
    "    return lambda x: f(g(x))"
   ]
  },
  {
   "cell_type": "code",
   "execution_count": 63,
   "metadata": {
    "collapsed": true
   },
   "outputs": [],
   "source": [
    "words = \"Lets print longest word in upper case\".split()"
   ]
  },
  {
   "cell_type": "code",
   "execution_count": 64,
   "metadata": {},
   "outputs": [
    {
     "data": {
      "text/plain": [
       "['Lets', 'print', 'longest', 'word', 'in', 'upper', 'case']"
      ]
     },
     "execution_count": 64,
     "metadata": {},
     "output_type": "execute_result"
    }
   ],
   "source": [
    "words"
   ]
  },
  {
   "cell_type": "code",
   "execution_count": 65,
   "metadata": {},
   "outputs": [
    {
     "data": {
      "text/plain": [
       "'word'"
      ]
     },
     "execution_count": 65,
     "metadata": {},
     "output_type": "execute_result"
    }
   ],
   "source": [
    "max(words) # will this print longest word?"
   ]
  },
  {
   "cell_type": "code",
   "execution_count": 66,
   "metadata": {},
   "outputs": [
    {
     "data": {
      "text/plain": [
       "'longest'"
      ]
     },
     "execution_count": 66,
     "metadata": {},
     "output_type": "execute_result"
    }
   ],
   "source": [
    "max(words, key=len)"
   ]
  },
  {
   "cell_type": "code",
   "execution_count": 67,
   "metadata": {
    "collapsed": true
   },
   "outputs": [],
   "source": [
    "def longest_word(words):\n",
    "    return max(words, key=len)"
   ]
  },
  {
   "cell_type": "code",
   "execution_count": 68,
   "metadata": {},
   "outputs": [
    {
     "data": {
      "text/plain": [
       "'STRING'"
      ]
     },
     "execution_count": 68,
     "metadata": {},
     "output_type": "execute_result"
    }
   ],
   "source": [
    "\"string\".upper()"
   ]
  },
  {
   "cell_type": "code",
   "execution_count": 69,
   "metadata": {
    "collapsed": true
   },
   "outputs": [],
   "source": [
    "def uppercase(w):\n",
    "    return w.upper()"
   ]
  },
  {
   "cell_type": "code",
   "execution_count": 70,
   "metadata": {
    "collapsed": true
   },
   "outputs": [],
   "source": [
    "longest_upper = compose(uppercase, longest_word) # lets compose above to functions"
   ]
  },
  {
   "cell_type": "code",
   "execution_count": 71,
   "metadata": {},
   "outputs": [
    {
     "data": {
      "text/plain": [
       "['Lets', 'print', 'longest', 'word', 'in', 'upper', 'case']"
      ]
     },
     "execution_count": 71,
     "metadata": {},
     "output_type": "execute_result"
    }
   ],
   "source": [
    "words"
   ]
  },
  {
   "cell_type": "code",
   "execution_count": 72,
   "metadata": {},
   "outputs": [
    {
     "data": {
      "text/plain": [
       "'LONGEST'"
      ]
     },
     "execution_count": 72,
     "metadata": {},
     "output_type": "execute_result"
    }
   ],
   "source": [
    "longest_upper(words)"
   ]
  },
  {
   "cell_type": "markdown",
   "metadata": {},
   "source": [
    "### Do  it yourself ###"
   ]
  },
  {
   "cell_type": "markdown",
   "metadata": {
    "collapsed": true
   },
   "source": [
    "- **Problem:** Write a function zip_with which will take function f as argument and return a function which zips two lists into single list by combining element by element with f\n",
    "- **problem:** Write a generic polynomial generator, which takes coefficients as aregument and returns a function which calculates polynomial function for given argument.\n",
    "```\n",
    "P2 = make_polynomial(1,1,1) #  P(x) = x^2 + x + 1\n",
    "P2(2) #compute P(x) for for x = 2\n",
    "7\n",
    "```\n",
    "- **Bonus problem:** A number x is called a fixed point of a function `f` if `x` satisfies the equation `f(x) = x`. For some functions `f` we can locate a fixed point by beginning with an initial guess and applying `f` repeatedly, `f(x),f(f(x), f(f(f(x), ....` Write a python function to find fixed point of a function. it should take function as argument,  initial guess and accuracy (default = 0.0001) for equating `f(x) = x`\n",
    "```\n",
    "fixed_point(math.cos, 1, 0.0001)\n",
    "0.7390547907469174\n",
    "```"
   ]
  },
  {
   "cell_type": "code",
   "execution_count": 73,
   "metadata": {
    "collapsed": true
   },
   "outputs": [],
   "source": [
    "def zip_with(f):\n",
    "    return lambda first, second: [f(x,y) for x,y in zip(first, second)]"
   ]
  },
  {
   "cell_type": "code",
   "execution_count": 74,
   "metadata": {
    "collapsed": true
   },
   "outputs": [],
   "source": [
    "new_vector_add = zip_with(lambda x, y: x+y)"
   ]
  },
  {
   "cell_type": "code",
   "execution_count": 75,
   "metadata": {},
   "outputs": [
    {
     "data": {
      "text/plain": [
       "[3, 5, 7, 9]"
      ]
     },
     "execution_count": 75,
     "metadata": {},
     "output_type": "execute_result"
    }
   ],
   "source": [
    "new_vector_add([2,3,4,5], [1,2,3,4])"
   ]
  },
  {
   "cell_type": "code",
   "execution_count": 76,
   "metadata": {
    "collapsed": true
   },
   "outputs": [],
   "source": [
    "new_multiply_list = zip_with(lambda x,y : x*y)"
   ]
  },
  {
   "cell_type": "code",
   "execution_count": 77,
   "metadata": {},
   "outputs": [
    {
     "data": {
      "text/plain": [
       "[1, 4, 9]"
      ]
     },
     "execution_count": 77,
     "metadata": {},
     "output_type": "execute_result"
    }
   ],
   "source": [
    "new_multiply_list([1,2,3],[1,2,3])"
   ]
  },
  {
   "cell_type": "code",
   "execution_count": 78,
   "metadata": {
    "collapsed": true
   },
   "outputs": [],
   "source": [
    "def usual_way_polynomial(coeffs, x):\n",
    "    \"\"\"\n",
    "    computes value of polynomial given coeeficients and x\n",
    "    >>> usual_way_polynomial([1,1,1],2)\n",
    "    7\n",
    "    \"\"\"\n",
    "    s = 0\n",
    "    for i, c in enumerate(reversed(coeffs)):\n",
    "        s += c*x**i\n",
    "    return s\n",
    "\n",
    "def make_polynomial(*coeffs):\n",
    "    \"\"\"\n",
    "    makes polynimial as function given coefficients\n",
    "    >>> make_polynomial([1,1,1])(2)\n",
    "    7\n",
    "    \"\"\"\n",
    "    return lambda x: sum([c*x**i for i, c in enumerate(reversed(coeffs))])"
   ]
  },
  {
   "cell_type": "code",
   "execution_count": 79,
   "metadata": {},
   "outputs": [
    {
     "data": {
      "text/plain": [
       "9"
      ]
     },
     "execution_count": 79,
     "metadata": {},
     "output_type": "execute_result"
    }
   ],
   "source": [
    "usual_way_polynomial(coeffs=[1,2,1],x=2) # compute x^2 + 2x + 1 for x =2"
   ]
  },
  {
   "cell_type": "code",
   "execution_count": 80,
   "metadata": {
    "collapsed": true
   },
   "outputs": [],
   "source": [
    "P2 = make_polynomial(1,2,1) # return a polynomial x^2 + 2x + 1"
   ]
  },
  {
   "cell_type": "code",
   "execution_count": 81,
   "metadata": {},
   "outputs": [
    {
     "data": {
      "text/plain": [
       "9"
      ]
     },
     "execution_count": 81,
     "metadata": {},
     "output_type": "execute_result"
    }
   ],
   "source": [
    "P2(2)"
   ]
  },
  {
   "cell_type": "code",
   "execution_count": 82,
   "metadata": {
    "collapsed": true
   },
   "outputs": [],
   "source": [
    "def fixed_point(f, guess, tollerance=0.00001):\n",
    "    \"\"\"\n",
    "    computes fixed point of a function\n",
    "    x is fixed point of f(x) if f(x) = x\n",
    "    \"\"\"\n",
    "    prev = f(guess)\n",
    "    current = f(prev)\n",
    "\n",
    "    while abs(prev - current) > tollerance:\n",
    "        prev , current = current, f(current)\n",
    "\n",
    "    return current"
   ]
  },
  {
   "cell_type": "code",
   "execution_count": 83,
   "metadata": {},
   "outputs": [
    {
     "data": {
      "text/plain": [
       "0.7390547907469174"
      ]
     },
     "execution_count": 83,
     "metadata": {},
     "output_type": "execute_result"
    }
   ],
   "source": [
    "import math\n",
    "fixed_point(math.cos, 1, 0.0001)"
   ]
  },
  {
   "cell_type": "code",
   "execution_count": 84,
   "metadata": {},
   "outputs": [
    {
     "data": {
      "text/plain": [
       "0.7391055719265363"
      ]
     },
     "execution_count": 84,
     "metadata": {},
     "output_type": "execute_result"
    }
   ],
   "source": [
    "math.cos(0.7390547907469174)"
   ]
  },
  {
   "cell_type": "markdown",
   "metadata": {},
   "source": [
    "### Decorators ###"
   ]
  },
  {
   "cell_type": "markdown",
   "metadata": {
    "collapsed": true
   },
   "source": [
    "What is the easiest and surest way of debugging? "
   ]
  },
  {
   "cell_type": "code",
   "execution_count": 85,
   "metadata": {
    "collapsed": true
   },
   "outputs": [],
   "source": [
    "def add(x,y):\n",
    "    #print(\"add\", x,y)\n",
    "    return x+y"
   ]
  },
  {
   "cell_type": "markdown",
   "metadata": {},
   "source": [
    "isn't it? "
   ]
  },
  {
   "cell_type": "code",
   "execution_count": 86,
   "metadata": {
    "collapsed": true
   },
   "outputs": [],
   "source": [
    "def sub(x,y):\n",
    "                #<---print(\"sub\", x,y)\n",
    "    return x - y\n",
    "\n",
    "def mult(x,y):\n",
    "                #<---print(\"mult\", x, y)\n",
    "    return x*y\n",
    "\n",
    "def fib(n):\n",
    "                #<---print(\"fib\", n)\n",
    "    if n in [1,2]:\n",
    "        return 1\n",
    "    else:\n",
    "        return fib(n-1) + fib(n-2)\n",
    "#what if we want to debug at many places to find out some bug!"
   ]
  },
  {
   "cell_type": "code",
   "execution_count": 87,
   "metadata": {},
   "outputs": [
    {
     "data": {
      "text/plain": [
       "8"
      ]
     },
     "execution_count": 87,
     "metadata": {},
     "output_type": "execute_result"
    }
   ],
   "source": [
    "fib(6)"
   ]
  },
  {
   "cell_type": "markdown",
   "metadata": {},
   "source": [
    "It will be helpful if there is any mechanism to write wrapper arround function to do some\n",
    "```\n",
    "def debug(func):\n",
    "    #do some additional stuff \n",
    "    #...\n",
    "    # call func!\n",
    "```    "
   ]
  },
  {
   "cell_type": "code",
   "execution_count": 88,
   "metadata": {
    "collapsed": true
   },
   "outputs": [],
   "source": [
    "def debug(func):\n",
    "    \n",
    "    def wrapper(*args):\n",
    "        print(func.__qualname__, args)\n",
    "        return func(*args)\n",
    "        \n",
    "    return wrapper"
   ]
  },
  {
   "cell_type": "code",
   "execution_count": 89,
   "metadata": {},
   "outputs": [
    {
     "data": {
      "text/plain": [
       "5"
      ]
     },
     "execution_count": 89,
     "metadata": {},
     "output_type": "execute_result"
    }
   ],
   "source": [
    "add(2,3)"
   ]
  },
  {
   "cell_type": "code",
   "execution_count": 90,
   "metadata": {
    "collapsed": true
   },
   "outputs": [],
   "source": [
    "newadd = debug(add)"
   ]
  },
  {
   "cell_type": "code",
   "execution_count": 91,
   "metadata": {},
   "outputs": [
    {
     "name": "stdout",
     "output_type": "stream",
     "text": [
      "add (2, 3)\n"
     ]
    },
    {
     "data": {
      "text/plain": [
       "5"
      ]
     },
     "execution_count": 91,
     "metadata": {},
     "output_type": "execute_result"
    }
   ],
   "source": [
    "newadd(2,3)"
   ]
  },
  {
   "cell_type": "code",
   "execution_count": 92,
   "metadata": {
    "collapsed": true
   },
   "outputs": [],
   "source": [
    "add = debug(add)"
   ]
  },
  {
   "cell_type": "code",
   "execution_count": 93,
   "metadata": {},
   "outputs": [
    {
     "name": "stdout",
     "output_type": "stream",
     "text": [
      "add (3, 4)\n"
     ]
    },
    {
     "data": {
      "text/plain": [
       "7"
      ]
     },
     "execution_count": 93,
     "metadata": {},
     "output_type": "execute_result"
    }
   ],
   "source": [
    "add(3,4)"
   ]
  },
  {
   "cell_type": "markdown",
   "metadata": {},
   "source": [
    "syntactic sugar for above procedure is"
   ]
  },
  {
   "cell_type": "code",
   "execution_count": 94,
   "metadata": {
    "collapsed": true
   },
   "outputs": [],
   "source": [
    "@debug\n",
    "def fib(n):\n",
    "    \"\"\"\n",
    "    Computes nth fibonacci number\n",
    "    \"\"\"\n",
    "    if n in [1,2]:\n",
    "        return 1\n",
    "    else:\n",
    "        return fib(n-1) + fib(n-2)"
   ]
  },
  {
   "cell_type": "code",
   "execution_count": 95,
   "metadata": {},
   "outputs": [
    {
     "name": "stdout",
     "output_type": "stream",
     "text": [
      "fib (5,)\n",
      "fib (4,)\n",
      "fib (3,)\n",
      "fib (2,)\n",
      "fib (1,)\n",
      "fib (2,)\n",
      "fib (3,)\n",
      "fib (2,)\n",
      "fib (1,)\n"
     ]
    },
    {
     "data": {
      "text/plain": [
       "5"
      ]
     },
     "execution_count": 95,
     "metadata": {},
     "output_type": "execute_result"
    }
   ],
   "source": [
    "fib(5)"
   ]
  },
  {
   "cell_type": "code",
   "execution_count": 96,
   "metadata": {
    "collapsed": true
   },
   "outputs": [],
   "source": [
    "@debug\n",
    "def square(x):\n",
    "    return x*x\n",
    "\n",
    "@debug\n",
    "def sumofsquares(x,y):\n",
    "    return square(x) + square(y)\n"
   ]
  },
  {
   "cell_type": "code",
   "execution_count": 97,
   "metadata": {},
   "outputs": [
    {
     "name": "stdout",
     "output_type": "stream",
     "text": [
      "sumofsquares (4, 5)\n",
      "square (4,)\n",
      "square (5,)\n"
     ]
    },
    {
     "data": {
      "text/plain": [
       "41"
      ]
     },
     "execution_count": 97,
     "metadata": {},
     "output_type": "execute_result"
    }
   ],
   "source": [
    "sumofsquares(4,5)"
   ]
  },
  {
   "cell_type": "markdown",
   "metadata": {},
   "source": [
    "### Whats the achievement? ###\n",
    "- **Debugging code is at one place**\n",
    "- **It becomes easy to change it later**\n",
    "- ** User of decorator need not worry about changes in decorator**\n",
    "\n",
    "Lets do some advanced debuging!"
   ]
  },
  {
   "cell_type": "code",
   "execution_count": 98,
   "metadata": {},
   "outputs": [
    {
     "name": "stdout",
     "output_type": "stream",
     "text": [
      "Overwriting trace.py\n"
     ]
    }
   ],
   "source": [
    "%%file trace.py\n",
    "import os\n",
    "level = 0\n",
    "\n",
    "def log(*args):\n",
    "    # print only if DEBUG is set to true\n",
    "    if os.getenv(\"DEBUG\") == \"true\":\n",
    "        print(*args)\n",
    "\n",
    "def trace(f):\n",
    "    \n",
    "    def g(*args):\n",
    "        global level\n",
    "        log(\"| \" * level + \"|-- \" + f.__qualname__, args)\n",
    "        level += 1\n",
    "        value = f(*args)\n",
    "        level -= 1\n",
    "        log(\"| \" * level + \"|-- \" + \"return\", value)\n",
    "        return value\n",
    "        \n",
    "    return g\n",
    "    "
   ]
  },
  {
   "cell_type": "code",
   "execution_count": 99,
   "metadata": {},
   "outputs": [
    {
     "name": "stdout",
     "output_type": "stream",
     "text": [
      "Overwriting sum.py\n"
     ]
    }
   ],
   "source": [
    "%%file sum.py\n",
    "\n",
    "from trace import trace\n",
    "\n",
    "@trace\n",
    "def square(x):\n",
    "    return x*x\n",
    "\n",
    "#square = trace(square)\n",
    "\n",
    "@trace\n",
    "def sum_of_squares(x, y):\n",
    "    return square(x) + square(y)\n",
    "\n",
    "#sum_of_squares = trace(sum_of_squares)\n",
    "\n",
    "if __name__ == \"__main__\":\n",
    "    print(sum_of_squares(3, 4))\n"
   ]
  },
  {
   "cell_type": "code",
   "execution_count": 100,
   "metadata": {},
   "outputs": [
    {
     "name": "stdout",
     "output_type": "stream",
     "text": [
      "25\r\n"
     ]
    }
   ],
   "source": [
    "!python sum.py"
   ]
  },
  {
   "cell_type": "code",
   "execution_count": 101,
   "metadata": {},
   "outputs": [
    {
     "name": "stdout",
     "output_type": "stream",
     "text": [
      "|-- sum_of_squares (3, 4)\r\n",
      "| |-- square (3,)\r\n",
      "| |-- return 9\r\n",
      "| |-- square (4,)\r\n",
      "| |-- return 16\r\n",
      "|-- return 25\r\n",
      "25\r\n"
     ]
    }
   ],
   "source": [
    "!DEBUG=true python sum.py"
   ]
  },
  {
   "cell_type": "code",
   "execution_count": 102,
   "metadata": {},
   "outputs": [
    {
     "name": "stdout",
     "output_type": "stream",
     "text": [
      "Overwriting fib.py\n"
     ]
    }
   ],
   "source": [
    "%%file fib.py\n",
    "import sys\n",
    "from trace import trace\n",
    "\n",
    "@trace\n",
    "def fib(n):\n",
    "    \"\"\"\n",
    "    Computes nth fibonacci number\n",
    "    \"\"\"\n",
    "    if n in [1,2]:\n",
    "        return 1\n",
    "    else:\n",
    "        return fib(n-1) + fib(n-2)\n",
    "\n",
    "def main():\n",
    "    n = int(sys.argv[1])\n",
    "    fib(n)\n",
    "    \n",
    "if __name__ == \"__main__\":\n",
    "    main()"
   ]
  },
  {
   "cell_type": "code",
   "execution_count": 103,
   "metadata": {
    "scrolled": true
   },
   "outputs": [
    {
     "name": "stdout",
     "output_type": "stream",
     "text": [
      "|-- fib (5,)\r\n",
      "| |-- fib (4,)\r\n",
      "| | |-- fib (3,)\r\n",
      "| | | |-- fib (2,)\r\n",
      "| | | |-- return 1\r\n",
      "| | | |-- fib (1,)\r\n",
      "| | | |-- return 1\r\n",
      "| | |-- return 2\r\n",
      "| | |-- fib (2,)\r\n",
      "| | |-- return 1\r\n",
      "| |-- return 3\r\n",
      "| |-- fib (3,)\r\n",
      "| | |-- fib (2,)\r\n",
      "| | |-- return 1\r\n",
      "| | |-- fib (1,)\r\n",
      "| | |-- return 1\r\n",
      "| |-- return 2\r\n",
      "|-- return 5\r\n"
     ]
    }
   ],
   "source": [
    "!DEBUG=\"true\" python fib.py 5"
   ]
  },
  {
   "cell_type": "markdown",
   "metadata": {},
   "source": [
    "** Problem: ** Write a function depricated that prints a warning message saying that the function is depricated everytime it is called.\n",
    "```\n",
    "@depricated\n",
    "def square(x):\n",
    "    return x*x\n",
    "\n",
    "print(square(4))\n",
    "WARNING: function square is depricated.\n",
    "16\n",
    "```\n",
    "\n"
   ]
  },
  {
   "cell_type": "markdown",
   "metadata": {},
   "source": [
    "** Problem: ** Write a decorator function with_retries that continue to retry for 5 times if there is any exception raised in calling the original function.\n",
    "```\n",
    "from urllib.request import urlopen\n",
    "\n",
    "@with_retries\n",
    "def wget(url):\n",
    "    return urlopen(url).read()\n",
    "\n",
    "wget(\"http://google.com/no-such-page\")\n",
    "Failed to download, retrying...\n",
    "Failed to download, retrying...\n",
    "Failed to download, retrying...\n",
    "Failed to download, retrying...\n",
    "Failed to download, retrying...\n",
    "Giving up!\n",
    "```"
   ]
  },
  {
   "cell_type": "code",
   "execution_count": 104,
   "metadata": {},
   "outputs": [
    {
     "name": "stdout",
     "output_type": "stream",
     "text": [
      "WARNING: function square is depricated.\n"
     ]
    },
    {
     "data": {
      "text/plain": [
       "9"
      ]
     },
     "execution_count": 104,
     "metadata": {},
     "output_type": "execute_result"
    }
   ],
   "source": [
    "def depricated(f):\n",
    "    \n",
    "    def wraper(*args):\n",
    "        print(\"WARNING: function \" + f.__qualname__ + \" is depricated.\")\n",
    "        return f(*args)\n",
    "    \n",
    "    return wraper\n",
    "\n",
    "@depricated\n",
    "def square(x):\n",
    "    return x*x\n",
    "\n",
    "square(3)\n"
   ]
  },
  {
   "cell_type": "code",
   "execution_count": 105,
   "metadata": {
    "collapsed": true
   },
   "outputs": [],
   "source": [
    "def with_retries(f):\n",
    "    \n",
    "    def wrapper(*args):\n",
    "        for i in range(5):\n",
    "            try:\n",
    "                return f(*args)\n",
    "            except Exception as e:\n",
    "                print(e, \"retrying\")\n",
    "        print(\"Giving up\")\n",
    "    \n",
    "    return wrapper\n",
    "\n",
    "from urllib.request import urlopen\n",
    "\n",
    "@with_retries\n",
    "def wget(url):\n",
    "    response = urlopen(url)\n",
    "    if response:\n",
    "        return response.read()\n"
   ]
  },
  {
   "cell_type": "code",
   "execution_count": 106,
   "metadata": {},
   "outputs": [
    {
     "name": "stdout",
     "output_type": "stream",
     "text": [
      "HTTP Error 404: Not Found retrying\n",
      "HTTP Error 404: Not Found retrying\n",
      "HTTP Error 404: Not Found retrying\n",
      "HTTP Error 404: Not Found retrying\n",
      "HTTP Error 404: Not Found retrying\n",
      "Giving up\n"
     ]
    }
   ],
   "source": [
    "wget(\"http://google.com/nourl\")"
   ]
  },
  {
   "cell_type": "markdown",
   "metadata": {},
   "source": [
    "Lets look closely at our fibonacci program"
   ]
  },
  {
   "cell_type": "code",
   "execution_count": 107,
   "metadata": {},
   "outputs": [
    {
     "name": "stdout",
     "output_type": "stream",
     "text": [
      "|-- fib (5,)\r\n",
      "| |-- fib (4,)\r\n",
      "| | |-- fib (3,)\r\n",
      "| | | |-- fib (2,)\r\n",
      "| | | |-- return 1\r\n",
      "| | | |-- fib (1,)\r\n",
      "| | | |-- return 1\r\n",
      "| | |-- return 2\r\n",
      "| | |-- fib (2,)\r\n",
      "| | |-- return 1\r\n",
      "| |-- return 3\r\n",
      "| |-- fib (3,)\r\n",
      "| | |-- fib (2,)\r\n",
      "| | |-- return 1\r\n",
      "| | |-- fib (1,)\r\n",
      "| | |-- return 1\r\n",
      "| |-- return 2\r\n",
      "|-- return 5\r\n"
     ]
    }
   ],
   "source": [
    "!DEBUG=true python fib.py 5"
   ]
  },
  {
   "cell_type": "markdown",
   "metadata": {},
   "source": [
    "How can we improve it?\n",
    "- Because of recursion we get elegantly redable solution but so many function calls are repeated.\n",
    "- Can be improved if we can cache the results in some way!"
   ]
  },
  {
   "cell_type": "code",
   "execution_count": 108,
   "metadata": {},
   "outputs": [
    {
     "name": "stdout",
     "output_type": "stream",
     "text": [
      "Overwriting memoize.py\n"
     ]
    }
   ],
   "source": [
    "%%file memoize.py\n",
    "\n",
    "def memoize(func):\n",
    "    cache = {}\n",
    "    def wraper(*args):\n",
    "        if args not in cache:\n",
    "            cache[args] = func(*args)\n",
    "        return cache[args]\n",
    "    \n",
    "    return wraper"
   ]
  },
  {
   "cell_type": "code",
   "execution_count": 109,
   "metadata": {},
   "outputs": [
    {
     "name": "stdout",
     "output_type": "stream",
     "text": [
      "Overwriting sq.py\n"
     ]
    }
   ],
   "source": [
    "%%file sq.py\n",
    "from memoize import memoize\n",
    "\n",
    "@memoize\n",
    "def square(x):\n",
    "    print(\"calling square({})\".format(x))\n",
    "    return x*x\n",
    "\n",
    "print(square(5))\n",
    "print(square(5))"
   ]
  },
  {
   "cell_type": "code",
   "execution_count": 110,
   "metadata": {},
   "outputs": [
    {
     "name": "stdout",
     "output_type": "stream",
     "text": [
      "calling square(5)\r\n",
      "25\r\n",
      "25\r\n"
     ]
    }
   ],
   "source": [
    "!python sq.py"
   ]
  },
  {
   "cell_type": "code",
   "execution_count": 111,
   "metadata": {},
   "outputs": [
    {
     "name": "stdout",
     "output_type": "stream",
     "text": [
      "Overwriting fib1.py\n"
     ]
    }
   ],
   "source": [
    "%%file fib1.py\n",
    "\n",
    "import sys\n",
    "from memoize import memoize\n",
    "from trace import trace\n",
    "\n",
    "@memoize\n",
    "@trace\n",
    "def fib(n):\n",
    "    \"\"\"\n",
    "    Computes nth fibonacci number\n",
    "    \"\"\"\n",
    "    if n in [1,2]:\n",
    "        return 1\n",
    "    else:\n",
    "        return fib(n-1) + fib(n-2)\n",
    "\n",
    "#fib = trace(fib)    \n",
    "#fib = memoize(fib)\n",
    "    \n",
    "def main():\n",
    "    n = int(sys.argv[1])\n",
    "    fib(n)\n",
    "    \n",
    "if __name__ == \"__main__\":\n",
    "    main()\n"
   ]
  },
  {
   "cell_type": "code",
   "execution_count": 112,
   "metadata": {},
   "outputs": [
    {
     "name": "stdout",
     "output_type": "stream",
     "text": [
      "|-- fib (10,)\r\n",
      "| |-- fib (9,)\r\n",
      "| | |-- fib (8,)\r\n",
      "| | | |-- fib (7,)\r\n",
      "| | | | |-- fib (6,)\r\n",
      "| | | | | |-- fib (5,)\r\n",
      "| | | | | | |-- fib (4,)\r\n",
      "| | | | | | | |-- fib (3,)\r\n",
      "| | | | | | | | |-- fib (2,)\r\n",
      "| | | | | | | | |-- return 1\r\n",
      "| | | | | | | | |-- fib (1,)\r\n",
      "| | | | | | | | |-- return 1\r\n",
      "| | | | | | | |-- return 2\r\n",
      "| | | | | | |-- return 3\r\n",
      "| | | | | |-- return 5\r\n",
      "| | | | |-- return 8\r\n",
      "| | | |-- return 13\r\n",
      "| | |-- return 21\r\n",
      "| |-- return 34\r\n",
      "|-- return 55\r\n"
     ]
    }
   ],
   "source": [
    "!DEBUG=true python fib1.py 10"
   ]
  },
  {
   "cell_type": "code",
   "execution_count": 113,
   "metadata": {},
   "outputs": [
    {
     "name": "stdout",
     "output_type": "stream",
     "text": [
      "real 13.62\r\n",
      "user 13.61\r\n",
      "sys 0.00\r\n"
     ]
    }
   ],
   "source": [
    "!time -p python fib.py 30"
   ]
  },
  {
   "cell_type": "code",
   "execution_count": 114,
   "metadata": {},
   "outputs": [
    {
     "name": "stdout",
     "output_type": "stream",
     "text": [
      "real 0.03\r\n",
      "user 0.01\r\n",
      "sys 0.01\r\n"
     ]
    }
   ],
   "source": [
    "!time -p python fib1.py 30"
   ]
  },
  {
   "cell_type": "markdown",
   "metadata": {},
   "source": [
    "** Problem: ** Write a module cmdline.py to build command-line applications easily. Here is an example of how it can be used:\n",
    "\n",
    "```\n",
    "from cmdline import command, main\n",
    "\n",
    "@command\n",
    "def hello():\n",
    "    \"\"\"\n",
    "    Prints hello world message\n",
    "    \"\"\"\n",
    "    print(\"Hello World\")\n",
    "\n",
    "@command\n",
    "def cat(filename):\n",
    "    \"\"\"\n",
    "    prints given file on standard output\n",
    "    \"\"\"\n",
    "    for line in open(filename).readlines():\n",
    "        print(line.strip())\n",
    "\n",
    "@command\n",
    "def grep(word, filename):\n",
    "    \"\"\"\n",
    "    greps word in a files and prints lines with given word\n",
    "    \"\"\"\n",
    "    for line in open(filename).readlines():\n",
    "        if word in line:\n",
    "            print(line.strip())\n",
    "\n",
    "\n",
    "if __name__ == \"__main__\":\n",
    "    main()\n",
    "```"
   ]
  },
  {
   "cell_type": "markdown",
   "metadata": {},
   "source": [
    "The program should produce the following output when run.\n",
    "\n",
    "```\n",
    "$ python commands.py hello\n",
    "hello world!\n",
    "$ python commands.py cat commands.py\n",
    "from cmdline import command, main\n",
    "\n",
    "@command\n",
    "def hello():\n",
    "    \"\"\"\n",
    "    Prints hello world message\n",
    "    \"\"\"\n",
    "    print(\"Hello World\")\n",
    "\n",
    "@command\n",
    "def cat(filename):\n",
    "    \"\"\"\n",
    "    prints given file on standard output\n",
    "    \"\"\"\n",
    "    for line in open(filename).readlines():\n",
    "        print(line.strip())\n",
    "\n",
    "@command\n",
    "def grep(word, filename):\n",
    "    \"\"\"\n",
    "    greps word in a files and prints lines with given word\n",
    "    \"\"\"\n",
    "    for line in open(filename).readlines():\n",
    "        if word in line:\n",
    "            print(line.strip())\n",
    "\n",
    "\n",
    "if __name__ == \"__main__\":\n",
    "    main()\n",
    "\n",
    "```"
   ]
  },
  {
   "cell_type": "markdown",
   "metadata": {},
   "source": [
    "** Bonus Problem:** Implement support for help in the cmdline.py module.\n",
    "\n",
    "```\n",
    "$ python commands.py help\n",
    "Available commands\n",
    "hello      Prints hello world message\n",
    "cat        prints given file on standard output\n",
    "grep       greps word in a files and prints lines with given word\n",
    "```"
   ]
  },
  {
   "cell_type": "code",
   "execution_count": 115,
   "metadata": {},
   "outputs": [
    {
     "name": "stdout",
     "output_type": "stream",
     "text": [
      "Overwriting cmdline.py\n"
     ]
    }
   ],
   "source": [
    "%%file cmdline.py\n",
    "import sys\n",
    "\n",
    "\n",
    "commands = {}\n",
    "\n",
    "def command(f):\n",
    "    commands[f.__name__] = f\n",
    "    return f\n",
    "\n",
    "def help():\n",
    "    print(\"Available commands\")\n",
    "    for cmd in commands.keys():\n",
    "        print(cmd.ljust(10) , commands[cmd].__doc__.strip())\n",
    "\n",
    "def main():\n",
    "    cmdname = sys.argv[1]\n",
    "    args = sys.argv[2:]\n",
    "    if \"help\" in sys.argv:\n",
    "        help()\n",
    "    elif cmdname in commands:\n",
    "        func = commands[cmdname]\n",
    "        print(\"Executing command:\", cmdname)\n",
    "        func(*args)"
   ]
  },
  {
   "cell_type": "markdown",
   "metadata": {},
   "source": [
    "### Decorators taking arguments ###\n",
    "Sometimes we need arguments to decorators..these are few examples\n",
    "```\n",
    "@with_retries(retries=3, delay=0.1)\n",
    "def wget(url):\n",
    "    ...\n",
    " \n",
    "@debug(prefix=\"***\")\n",
    "def fib(n):\n",
    "    ...\n",
    "\n",
    "@login_required(role=\"admin\")\n",
    "def edit_interface(..):\n",
    "    ...\n",
    "```"
   ]
  },
  {
   "cell_type": "code",
   "execution_count": 116,
   "metadata": {
    "collapsed": true
   },
   "outputs": [],
   "source": [
    "import time\n",
    "def with_retries(retries=5, delay=0):\n",
    "    def decor(f):\n",
    "        def g(*args):\n",
    "            print(\"retries = \",retries,\"delay=\", delay)\n",
    "            for i in range(retries):\n",
    "                try:\n",
    "                    return f(*args)\n",
    "                except Exception as e:\n",
    "                    print(f.__name__, args, \"failed:\", e)\n",
    "                time.sleep(delay)\n",
    "            print(\"Giving up...\")\n",
    "        return g        \n",
    "    return decor\n",
    "\n",
    "\n",
    "from urllib.request import urlopen\n",
    "@with_retries(retries=3, delay=0.5) # explain how this applies ... decor = with_retries(); wget = decor(wget)\n",
    "def wget(url):\n",
    "    response = urlopen(url)\n",
    "    if response:\n",
    "        return response.read()\n"
   ]
  },
  {
   "cell_type": "code",
   "execution_count": 117,
   "metadata": {},
   "outputs": [
    {
     "name": "stdout",
     "output_type": "stream",
     "text": [
      "retries =  3 delay= 0.5\n",
      "wget ('http://google.com/nourl/',) failed: HTTP Error 404: Not Found\n",
      "wget ('http://google.com/nourl/',) failed: HTTP Error 404: Not Found\n",
      "wget ('http://google.com/nourl/',) failed: HTTP Error 404: Not Found\n",
      "Giving up...\n"
     ]
    }
   ],
   "source": [
    "wget(\"http://google.com/nourl/\")"
   ]
  },
  {
   "cell_type": "markdown",
   "metadata": {},
   "source": [
    "Alternatively this can be written as"
   ]
  },
  {
   "cell_type": "code",
   "execution_count": 118,
   "metadata": {
    "collapsed": true
   },
   "outputs": [],
   "source": [
    "import time\n",
    "from functools import partial\n",
    "\n",
    "def with_retries(f=None, retries=5, delay=0):\n",
    "    if f == None:\n",
    "        return partial(with_retries, retries=retries, delay=delay)\n",
    "    \n",
    "    def g(*args):\n",
    "        print(\"retries = \",retries,\"delay=\", delay)\n",
    "        for i in range(retries):\n",
    "            try:\n",
    "                return f(*args)\n",
    "            except Exception as e:\n",
    "                print(f.__name__, args, \"failed:\", e)\n",
    "            time.sleep(delay)\n",
    "        print(\"Giving up...\")\n",
    "    \n",
    "    return g        \n",
    "    \n",
    "from urllib.request import urlopen\n",
    "@with_retries(retries=2, delay=0.1) # explain how this applies ... decor = with_retries(); wget = decor(wget)\n",
    "def wget(url):\n",
    "    response = urlopen(url)\n",
    "    if response:\n",
    "        return response.read()\n"
   ]
  },
  {
   "cell_type": "code",
   "execution_count": 119,
   "metadata": {},
   "outputs": [
    {
     "name": "stdout",
     "output_type": "stream",
     "text": [
      "retries =  2 delay= 0.1\n",
      "wget ('http://google.com/nourl',) failed: HTTP Error 404: Not Found\n",
      "wget ('http://google.com/nourl',) failed: HTTP Error 404: Not Found\n",
      "Giving up...\n"
     ]
    }
   ],
   "source": [
    "wget(\"http://google.com/nourl\")"
   ]
  },
  {
   "cell_type": "markdown",
   "metadata": {},
   "source": [
    "\n",
    "### More about decorators ###"
   ]
  },
  {
   "cell_type": "code",
   "execution_count": 120,
   "metadata": {
    "collapsed": true
   },
   "outputs": [],
   "source": [
    "def square(x):#docstrings\n",
    "    \"\"\" \n",
    "    compute square of a number \n",
    "    \"\"\"\n",
    "    return x*x"
   ]
  },
  {
   "cell_type": "code",
   "execution_count": 121,
   "metadata": {},
   "outputs": [
    {
     "name": "stdout",
     "output_type": "stream",
     "text": [
      "Help on function square in module __main__:\n",
      "\n",
      "square(x)\n",
      "    compute square of a number\n",
      "\n"
     ]
    }
   ],
   "source": [
    "help(square)"
   ]
  },
  {
   "cell_type": "code",
   "execution_count": 122,
   "metadata": {},
   "outputs": [
    {
     "name": "stdout",
     "output_type": "stream",
     "text": [
      "<function trace.<locals>.g at 0x7f7156d7ea60>\n"
     ]
    }
   ],
   "source": [
    "import fib\n",
    "print(fib.fib)"
   ]
  },
  {
   "cell_type": "code",
   "execution_count": 123,
   "metadata": {},
   "outputs": [
    {
     "name": "stdout",
     "output_type": "stream",
     "text": [
      "Help on function g in module trace:\n",
      "\n",
      "g(*args)\n",
      "\n"
     ]
    }
   ],
   "source": [
    "help(fib.fib)"
   ]
  },
  {
   "cell_type": "markdown",
   "metadata": {},
   "source": [
    "Our wrapper has done well functionaly , but everything is not fine! Aim is that everything including help should work as if original function was called. How do we fix it! Function carries matadata with it , which contains docstring. So there has to be a way to copy metadata as well."
   ]
  },
  {
   "cell_type": "code",
   "execution_count": 124,
   "metadata": {
    "collapsed": true
   },
   "outputs": [],
   "source": [
    "from functools import wraps\n",
    "\n",
    "def debug(func):\n",
    "    @wraps(func)\n",
    "    def wrapper(*args):\n",
    "        print(\"DEBUG : === \",func.__qualname__, args)\n",
    "        return func(*args)\n",
    "        \n",
    "    return wrapper"
   ]
  },
  {
   "cell_type": "code",
   "execution_count": 125,
   "metadata": {
    "collapsed": true
   },
   "outputs": [],
   "source": [
    "@debug\n",
    "def fib(n):\n",
    "    \"\"\"\n",
    "    Computes nth fibonacci number\n",
    "    \"\"\"\n",
    "    if n in [1,2]:\n",
    "        return 1\n",
    "    else:\n",
    "        return fib(n-1) + fib(n-2)"
   ]
  },
  {
   "cell_type": "code",
   "execution_count": 126,
   "metadata": {},
   "outputs": [
    {
     "name": "stdout",
     "output_type": "stream",
     "text": [
      "<function fib at 0x7f716c73c378>\n"
     ]
    }
   ],
   "source": [
    "print(fib)"
   ]
  },
  {
   "cell_type": "code",
   "execution_count": 127,
   "metadata": {},
   "outputs": [
    {
     "name": "stdout",
     "output_type": "stream",
     "text": [
      "Help on function fib in module __main__:\n",
      "\n",
      "fib(n)\n",
      "    Computes nth fibonacci number\n",
      "\n"
     ]
    }
   ],
   "source": [
    "help(fib)"
   ]
  },
  {
   "cell_type": "markdown",
   "metadata": {
    "collapsed": true
   },
   "source": [
    "### Decorators summary ###"
   ]
  },
  {
   "cell_type": "code",
   "execution_count": 128,
   "metadata": {
    "collapsed": true
   },
   "outputs": [],
   "source": [
    "from functools import wraps\n",
    "\n",
    "def decorator(f):\n",
    "    @wraps(func)\n",
    "    def wraper(*args, **kwargs):\n",
    "        print(\"before calling function\", f.__qualname__)\n",
    "        result = f(*args, **kwargs)\n",
    "        print(\"after calling function\", f.__qualname__)\n",
    "        return result\n",
    "        \n",
    "    return wraper"
   ]
  },
  {
   "cell_type": "code",
   "execution_count": null,
   "metadata": {
    "collapsed": true
   },
   "outputs": [],
   "source": []
  }
 ],
 "metadata": {
  "kernelspec": {
   "display_name": "Python 3",
   "language": "python",
   "name": "python3"
  },
  "language_info": {
   "codemirror_mode": {
    "name": "ipython",
    "version": 3
   },
   "file_extension": ".py",
   "mimetype": "text/x-python",
   "name": "python",
   "nbconvert_exporter": "python",
   "pygments_lexer": "ipython3",
   "version": "3.6.1"
  }
 },
 "nbformat": 4,
 "nbformat_minor": 2
}
