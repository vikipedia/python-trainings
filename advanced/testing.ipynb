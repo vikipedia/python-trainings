{
 "cells": [
  {
   "cell_type": "markdown",
   "metadata": {},
   "source": [
    "### Testing Python Programs ###"
   ]
  },
  {
   "cell_type": "code",
   "execution_count": 1,
   "metadata": {},
   "outputs": [
    {
     "name": "stdout",
     "output_type": "stream",
     "text": [
      "Writing sq1.py\n"
     ]
    }
   ],
   "source": [
    "%%file sq1.py\n",
    "def square(x):\n",
    "    return x*x\n",
    "\n",
    "def test():\n",
    "    print(square(3))\n",
    "    \n",
    "if __name__ == \"__main__\":\n",
    "    test()"
   ]
  },
  {
   "cell_type": "code",
   "execution_count": 2,
   "metadata": {},
   "outputs": [
    {
     "name": "stdout",
     "output_type": "stream",
     "text": [
      "9\r\n"
     ]
    }
   ],
   "source": [
    "!python sq1.py"
   ]
  },
  {
   "cell_type": "code",
   "execution_count": 5,
   "metadata": {},
   "outputs": [
    {
     "name": "stdout",
     "output_type": "stream",
     "text": [
      "Writing sq2.py\n"
     ]
    }
   ],
   "source": [
    "%%file sq2.py\n",
    "def square(x):\n",
    "    return x*x\n",
    "\n",
    "def test():\n",
    "    if square(3) == 9:\n",
    "        print(\"Passed\")\n",
    "    \n",
    "if __name__ == \"__main__\":\n",
    "    test()"
   ]
  },
  {
   "cell_type": "code",
   "execution_count": 6,
   "metadata": {},
   "outputs": [
    {
     "name": "stdout",
     "output_type": "stream",
     "text": [
      "Passed\r\n"
     ]
    }
   ],
   "source": [
    "!python sq2.py"
   ]
  },
  {
   "cell_type": "code",
   "execution_count": 7,
   "metadata": {},
   "outputs": [
    {
     "name": "stdout",
     "output_type": "stream",
     "text": [
      "Writing sq3.py\n"
     ]
    }
   ],
   "source": [
    "%%file sq3.py\n",
    "def square(x):\n",
    "    return x*x\n",
    "\n",
    "def test_square():\n",
    "    assert square(0) == 0\n",
    "    assert square(3) == 9\n",
    "    assert square(-3) == 9\n",
    "    \n",
    "if __name__ == \"__main__\":\n",
    "    test_square()"
   ]
  },
  {
   "cell_type": "code",
   "execution_count": 8,
   "metadata": {
    "collapsed": true
   },
   "outputs": [],
   "source": [
    "!python sq3.py"
   ]
  },
  {
   "cell_type": "markdown",
   "metadata": {},
   "source": [
    "** py.test ** is third party tool which makes testing very easy.\n",
    "to install it use\n",
    "```\n",
    "pip3 install pytest\n",
    "```"
   ]
  },
  {
   "cell_type": "code",
   "execution_count": 9,
   "metadata": {},
   "outputs": [
    {
     "name": "stdout",
     "output_type": "stream",
     "text": [
      "\u001b[1m============================= test session starts ==============================\u001b[0m\r\n",
      "platform linux -- Python 3.6.1, pytest-3.0.7, py-1.4.33, pluggy-0.4.0\r\n",
      "rootdir: /home/vikrant/programming/work/github/python-trainings/advanced, inifile:\r\n",
      "\u001b[1m\r",
      "collecting 0 items\u001b[0m\u001b[1m\r",
      "collecting 1 items\u001b[0m\u001b[1m\r",
      "collected 1 items \r\n",
      "\u001b[0m\r\n",
      "sq3.py .\r\n",
      "\r\n",
      "\u001b[32m\u001b[1m=========================== 1 passed in 0.01 seconds ===========================\u001b[0m\r\n"
     ]
    }
   ],
   "source": [
    "!pytest sq3.py"
   ]
  },
  {
   "cell_type": "code",
   "execution_count": 11,
   "metadata": {},
   "outputs": [
    {
     "name": "stdout",
     "output_type": "stream",
     "text": [
      "Writing weekday.py\n"
     ]
    }
   ],
   "source": [
    "%%file weekday.py\n",
    "\n",
    "import datetime\n",
    "\n",
    "def now():\n",
    "    return datetime.datetime.now()\n",
    "\n",
    "def weekday():\n",
    "    t = now()\n",
    "    return t.strftime(\"%A\")\n",
    "\n",
    "if __name__ == \"__main__\":\n",
    "    print(weekday())"
   ]
  },
  {
   "cell_type": "code",
   "execution_count": 12,
   "metadata": {},
   "outputs": [
    {
     "name": "stdout",
     "output_type": "stream",
     "text": [
      "Tuesday\r\n"
     ]
    }
   ],
   "source": [
    "!python weekday.py"
   ]
  },
  {
   "cell_type": "code",
   "execution_count": 17,
   "metadata": {},
   "outputs": [
    {
     "name": "stdout",
     "output_type": "stream",
     "text": [
      "Overwriting test_weekday.py\n"
     ]
    }
   ],
   "source": [
    "%%file test_weekday.py\n",
    "import weekday\n",
    "import datetime\n",
    "\n",
    "def test_weekday(monkeypatch):\n",
    "    faketime = 2010, 1, 1\n",
    "    def fakenow():\n",
    "        return datetime.datetime(*faketime)\n",
    "    monkeypatch.setattr(weekday, \"now\", fakenow)\n",
    "    \n",
    "    faketime = 2010, 1, 1    \n",
    "    assert weekday.weekday() == \"Friday\"\n",
    "    \n",
    "    faketime = 2010, 1, 2   \n",
    "    assert weekday.weekday() == \"Saturday\"  "
   ]
  },
  {
   "cell_type": "code",
   "execution_count": 18,
   "metadata": {},
   "outputs": [
    {
     "name": "stdout",
     "output_type": "stream",
     "text": [
      "\u001b[1m============================= test session starts ==============================\u001b[0m\r\n",
      "platform linux -- Python 3.6.1, pytest-3.0.7, py-1.4.33, pluggy-0.4.0\r\n",
      "rootdir: /home/vikrant/programming/work/github/python-trainings/advanced, inifile:\r\n",
      "\u001b[1m\r",
      "collecting 0 items\u001b[0m\u001b[1m\r",
      "collecting 1 items\u001b[0m\u001b[1m\r",
      "collected 1 items \r\n",
      "\u001b[0m\r\n",
      "test_weekday.py .\r\n",
      "\r\n",
      "\u001b[32m\u001b[1m=========================== 1 passed in 0.01 seconds ===========================\u001b[0m\r\n"
     ]
    }
   ],
   "source": [
    "!pytest test_weekday.py"
   ]
  },
  {
   "cell_type": "code",
   "execution_count": null,
   "metadata": {
    "collapsed": true
   },
   "outputs": [],
   "source": []
  }
 ],
 "metadata": {
  "kernelspec": {
   "display_name": "Python 3",
   "language": "python",
   "name": "python3"
  },
  "language_info": {
   "codemirror_mode": {
    "name": "ipython",
    "version": 3
   },
   "file_extension": ".py",
   "mimetype": "text/x-python",
   "name": "python",
   "nbconvert_exporter": "python",
   "pygments_lexer": "ipython3",
   "version": "3.6.1"
  }
 },
 "nbformat": 4,
 "nbformat_minor": 2
}
