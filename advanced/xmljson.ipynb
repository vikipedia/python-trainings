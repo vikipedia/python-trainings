{
 "cells": [
  {
   "cell_type": "markdown",
   "metadata": {},
   "source": [
    "### Working with XML ###"
   ]
  },
  {
   "cell_type": "code",
   "execution_count": 3,
   "metadata": {},
   "outputs": [],
   "source": [
    "import requests\n",
    "url = \"http://www.thehindu.com/\"\n",
    "response = requests.get(url,params={\"service\":\"rss\"})"
   ]
  },
  {
   "cell_type": "code",
   "execution_count": 5,
   "metadata": {},
   "outputs": [],
   "source": [
    "xmltext = response.text"
   ]
  },
  {
   "cell_type": "code",
   "execution_count": 6,
   "metadata": {
    "collapsed": true
   },
   "outputs": [],
   "source": [
    "from xml.etree import ElementTree as et"
   ]
  },
  {
   "cell_type": "code",
   "execution_count": 7,
   "metadata": {
    "collapsed": true
   },
   "outputs": [],
   "source": [
    "root = et.fromstring(xmltext)"
   ]
  },
  {
   "cell_type": "code",
   "execution_count": 8,
   "metadata": {
    "collapsed": true
   },
   "outputs": [],
   "source": [
    "items = root.findall(\".//item\")"
   ]
  },
  {
   "cell_type": "code",
   "execution_count": 9,
   "metadata": {},
   "outputs": [
    {
     "data": {
      "text/plain": [
       "372"
      ]
     },
     "execution_count": 9,
     "metadata": {},
     "output_type": "execute_result"
    }
   ],
   "source": [
    "len(items)"
   ]
  },
  {
   "cell_type": "code",
   "execution_count": 10,
   "metadata": {},
   "outputs": [
    {
     "data": {
      "text/plain": [
       "<Element 'item' at 0x7fe7586f4958>"
      ]
     },
     "execution_count": 10,
     "metadata": {},
     "output_type": "execute_result"
    }
   ],
   "source": [
    "items[0]"
   ]
  },
  {
   "cell_type": "code",
   "execution_count": 13,
   "metadata": {},
   "outputs": [
    {
     "name": "stdout",
     "output_type": "stream",
     "text": [
      "<item>\n",
      "<title> A temple tank losing its sheen</title>\n",
      "<author>Sanjana Ganesh</author>\n",
      "<category>Madurai</category>\n",
      "<link>http://www.thehindu.com/news/cities/Madurai/a-temple-tank-losing-its-sheen/article20448431.ece?utm_source=RSS_Feed&amp;utm_medium=RSS&amp;utm_campaign=RSS_Syndication</link>\n",
      "<description>\n",
      "Empty liquor bottles, matchsticks, garbage are found on the steps of Mariamman Teppakulam\n",
      "\n",
      "</description>\n",
      "<pubDate>Wed, 15 Nov 2017 08:16:51 +0530</pubDate>\n",
      "</item>\n",
      "\n"
     ]
    }
   ],
   "source": [
    "print(et.tostring(items[0]).decode())"
   ]
  },
  {
   "cell_type": "code",
   "execution_count": 14,
   "metadata": {},
   "outputs": [
    {
     "name": "stdout",
     "output_type": "stream",
     "text": [
      " A temple tank losing its sheen\n",
      "http://www.thehindu.com/news/cities/Madurai/a-temple-tank-losing-its-sheen/article20448431.ece?utm_source=RSS_Feed&utm_medium=RSS&utm_campaign=RSS_Syndication\n",
      "----------\n",
      "IPS officersget new postings\n",
      "http://www.thehindu.com/news/national/tamil-nadu/ips-officersget-new-postings/article20448417.ece?utm_source=RSS_Feed&utm_medium=RSS&utm_campaign=RSS_Syndication\n",
      "----------\n",
      "Shankar murder case verdict on Dec. 12\n",
      "http://www.thehindu.com/news/national/tamil-nadu/shankar-murder-case-verdict-on-dec-12/article20448416.ece?utm_source=RSS_Feed&utm_medium=RSS&utm_campaign=RSS_Syndication\n",
      "----------\n",
      "IT department completes raids at Curzon Green Tea Estate\n",
      "http://www.thehindu.com/news/national/tamil-nadu/it-department-completes-raids-at-curzon-green-tea-estate/article20448415.ece?utm_source=RSS_Feed&utm_medium=RSS&utm_campaign=RSS_Syndication\n",
      "----------\n",
      "Ailing jumbo dies despite treatment\n",
      "http://www.thehindu.com/news/cities/Coimbatore/ailing-jumbo-dies-despite-treatment/article20448414.ece?utm_source=RSS_Feed&utm_medium=RSS&utm_campaign=RSS_Syndication\n",
      "----------\n",
      " ‘Doctor’ arrested in Udhagamandalam\n",
      "http://www.thehindu.com/news/cities/Coimbatore/doctor-arrested-in-udhagamandalam/article20448412.ece?utm_source=RSS_Feed&utm_medium=RSS&utm_campaign=RSS_Syndication\n",
      "----------\n",
      "Buses shun new flyover\n",
      "http://www.thehindu.com/news/cities/Coimbatore/buses-shun-new-flyover/article20448410.ece?utm_source=RSS_Feed&utm_medium=RSS&utm_campaign=RSS_Syndication\n",
      "----------\n",
      " Red-whiskered bulbul with albinism spotted in STR \n",
      "http://www.thehindu.com/news/cities/Coimbatore/red-whiskered-bulbul-with-albinism-spotted-in-str/article20448408.ece?utm_source=RSS_Feed&utm_medium=RSS&utm_campaign=RSS_Syndication\n",
      "----------\n",
      " Children’s Day for rehabilitated child workers\n",
      "http://www.thehindu.com/news/cities/Coimbatore/childrens-day-for-rehabilitated-child-workers/article20448406.ece?utm_source=RSS_Feed&utm_medium=RSS&utm_campaign=RSS_Syndication\n",
      "----------\n",
      " India’s growth has provided new opportunities to youth: Justice Sundresh\n",
      "http://www.thehindu.com/news/cities/Coimbatore/indias-growth-has-provided-new-opportunities-to-youth-justice-sundresh/article20448404.ece?utm_source=RSS_Feed&utm_medium=RSS&utm_campaign=RSS_Syndication\n",
      "----------\n"
     ]
    }
   ],
   "source": [
    "for item in items[:10]:\n",
    "    print(item.findtext(\"title\"))\n",
    "    print(item.findtext(\"link\"))    \n",
    "    print(\"-\"*10)"
   ]
  },
  {
   "cell_type": "markdown",
   "metadata": {},
   "source": [
    "### How is etree different from minidom? ###\n",
    "etree feels more pythonic than minidom."
   ]
  },
  {
   "cell_type": "code",
   "execution_count": 15,
   "metadata": {
    "collapsed": true
   },
   "outputs": [],
   "source": [
    "from xml.dom.minidom import parseString"
   ]
  },
  {
   "cell_type": "code",
   "execution_count": 16,
   "metadata": {
    "collapsed": true
   },
   "outputs": [],
   "source": [
    "root = parseString(xmltext)"
   ]
  },
  {
   "cell_type": "code",
   "execution_count": 17,
   "metadata": {
    "collapsed": true
   },
   "outputs": [],
   "source": [
    "items = root.getElementsByTagName(\"item\")"
   ]
  },
  {
   "cell_type": "code",
   "execution_count": 18,
   "metadata": {},
   "outputs": [
    {
     "data": {
      "text/plain": [
       "372"
      ]
     },
     "execution_count": 18,
     "metadata": {},
     "output_type": "execute_result"
    }
   ],
   "source": [
    "len(items)"
   ]
  },
  {
   "cell_type": "code",
   "execution_count": 19,
   "metadata": {
    "collapsed": true
   },
   "outputs": [],
   "source": [
    "item = items[0]"
   ]
  },
  {
   "cell_type": "code",
   "execution_count": 20,
   "metadata": {
    "collapsed": true
   },
   "outputs": [],
   "source": [
    "title = item.getElementsByTagName(\"title\")[0]"
   ]
  },
  {
   "cell_type": "code",
   "execution_count": 21,
   "metadata": {},
   "outputs": [
    {
     "data": {
      "text/plain": [
       "' A temple tank losing its sheen'"
      ]
     },
     "execution_count": 21,
     "metadata": {},
     "output_type": "execute_result"
    }
   ],
   "source": [
    "title.firstChild.data"
   ]
  },
  {
   "cell_type": "code",
   "execution_count": null,
   "metadata": {
    "collapsed": true
   },
   "outputs": [],
   "source": []
  }
 ],
 "metadata": {
  "kernelspec": {
   "display_name": "Python 3",
   "language": "python",
   "name": "python3"
  },
  "language_info": {
   "codemirror_mode": {
    "name": "ipython",
    "version": 3
   },
   "file_extension": ".py",
   "mimetype": "text/x-python",
   "name": "python",
   "nbconvert_exporter": "python",
   "pygments_lexer": "ipython3",
   "version": "3.6.1"
  }
 },
 "nbformat": 4,
 "nbformat_minor": 2
}
