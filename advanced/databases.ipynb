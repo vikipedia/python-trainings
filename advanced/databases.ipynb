{
 "cells": [
  {
   "cell_type": "markdown",
   "metadata": {},
   "source": [
    "### Working With Databases ###"
   ]
  },
  {
   "cell_type": "markdown",
   "metadata": {},
   "source": [
    "\n",
    "Lets create a database using sqlite3.\n",
    "```\n",
    "$ sqlite3 a.db\n",
    "SQLite version 3.8.10.2 2015-05-20 18:17:19\n",
    "Enter \".help\" for usage hints.\n",
    "sqlite> create table person (name varchar(100), email varchar(100));\n",
    "sqlite>\n",
    "sqlite> select * from person;\n",
    "sqlite> insert into person (name, email) values ('alice', 'alice@example.com');\n",
    "sqlite> select * from person;\n",
    "alice|alice@example.com\n",
    "```\n"
   ]
  },
  {
   "cell_type": "code",
   "execution_count": 3,
   "metadata": {
    "collapsed": true
   },
   "outputs": [],
   "source": [
    "import sqlite3"
   ]
  },
  {
   "cell_type": "code",
   "execution_count": 5,
   "metadata": {},
   "outputs": [
    {
     "data": {
      "text/plain": [
       "[('alice', 'alice@wonder.land')]"
      ]
     },
     "execution_count": 5,
     "metadata": {},
     "output_type": "execute_result"
    }
   ],
   "source": [
    "conn = sqlite3.connect(\"data.db\")\n",
    "cur = conn.cursor()\n",
    "result = cur.execute(\"select * from person\")\n",
    "result.fetchall()"
   ]
  },
  {
   "cell_type": "code",
   "execution_count": 7,
   "metadata": {},
   "outputs": [
    {
     "name": "stdout",
     "output_type": "stream",
     "text": [
      "select * from person where email='alice@wonder.land'\n"
     ]
    },
    {
     "data": {
      "text/plain": [
       "('alice', 'alice@wonder.land')"
      ]
     },
     "execution_count": 7,
     "metadata": {},
     "output_type": "execute_result"
    }
   ],
   "source": [
    "# WARNING: not a good implementation\n",
    "def find_person(email):\n",
    "    q = \"select * from person where email='{}'\".format(email)\n",
    "    print(q)\n",
    "    cur = conn.cursor()\n",
    "    result = cur.execute(q)\n",
    "    return result.fetchone()\n",
    "\n",
    "find_person(\"alice@wonder.land\")"
   ]
  },
  {
   "cell_type": "code",
   "execution_count": 11,
   "metadata": {
    "collapsed": true
   },
   "outputs": [],
   "source": [
    "def find_person(email):\n",
    "    query = \"select * from person where email=?\"\n",
    "    cur = conn.cursor()t\n",
    "    result = cur.execute(query, (email,))\n",
    "    return result.fetchone()\n",
    "    "
   ]
  },
  {
   "cell_type": "code",
   "execution_count": 12,
   "metadata": {},
   "outputs": [
    {
     "data": {
      "text/plain": [
       "('alice', 'alice@wonder.land')"
      ]
     },
     "execution_count": 12,
     "metadata": {},
     "output_type": "execute_result"
    }
   ],
   "source": [
    "find_person(\"alice@wonder.land\")"
   ]
  },
  {
   "cell_type": "code",
   "execution_count": 13,
   "metadata": {
    "collapsed": true
   },
   "outputs": [],
   "source": [
    "def query(conn, querystring, params=()):\n",
    "    cur = conn.cursor()\n",
    "    result = cur.execute(querystring, params)\n",
    "    return result.fetchall()"
   ]
  },
  {
   "cell_type": "code",
   "execution_count": 14,
   "metadata": {},
   "outputs": [
    {
     "data": {
      "text/plain": [
       "[('alice', 'alice@wonder.land')]"
      ]
     },
     "execution_count": 14,
     "metadata": {},
     "output_type": "execute_result"
    }
   ],
   "source": [
    "query(conn, \"select * from person where name=?\", (\"alice\",))"
   ]
  },
  {
   "cell_type": "code",
   "execution_count": 15,
   "metadata": {},
   "outputs": [
    {
     "data": {
      "text/plain": [
       "[('alice', 'alice@wonder.land')]"
      ]
     },
     "execution_count": 15,
     "metadata": {},
     "output_type": "execute_result"
    }
   ],
   "source": [
    "query(conn, \"select * from person\")"
   ]
  },
  {
   "cell_type": "code",
   "execution_count": 16,
   "metadata": {
    "collapsed": true
   },
   "outputs": [],
   "source": [
    "conn.close()"
   ]
  },
  {
   "cell_type": "code",
   "execution_count": 17,
   "metadata": {
    "collapsed": true
   },
   "outputs": [],
   "source": [
    "conn = sqlite3.connect(\"data.db\")"
   ]
  },
  {
   "cell_type": "code",
   "execution_count": 4,
   "metadata": {},
   "outputs": [
    {
     "data": {
      "text/plain": [
       "<sqlite3.Cursor at 0x7f6c1c28fb90>"
      ]
     },
     "execution_count": 4,
     "metadata": {},
     "output_type": "execute_result"
    }
   ],
   "source": [
    "cur = conn.cursor()\n",
    "persons = [(\"dilbert\", \"dilbert@dilbert.com\"),\n",
    "          (\"calvin\", \"calvin@calvinhobes.com\"),\n",
    "          (\"jerry\", \"jerry@disney.com\")]\n",
    "cur.executemany(\"insert into person values(?,?)\", persons)"
   ]
  },
  {
   "cell_type": "code",
   "execution_count": 5,
   "metadata": {
    "collapsed": true
   },
   "outputs": [],
   "source": [
    "conn.commit() # this will save the changes to db file\n",
    "conn.close()"
   ]
  },
  {
   "cell_type": "code",
   "execution_count": 4,
   "metadata": {},
   "outputs": [
    {
     "name": "stdout",
     "output_type": "stream",
     "text": [
      "alice alice@wonder.land\n",
      "calvin calvin@calvinhobes.com\n",
      "dilbert dilbert@dilbert.com\n",
      "jerry jerry@disney.com\n"
     ]
    }
   ],
   "source": [
    "conn = sqlite3.connect(\"data.db\")\n",
    "cur = conn.cursor()\n",
    "for name, email in cur.execute(\"select * from person ORDER by name\"):\n",
    "    print(name, email)"
   ]
  },
  {
   "cell_type": "markdown",
   "metadata": {
    "collapsed": true
   },
   "source": [
    "### sqlalchemy ###"
   ]
  },
  {
   "cell_type": "code",
   "execution_count": 1,
   "metadata": {
    "collapsed": true
   },
   "outputs": [],
   "source": [
    "from sqlalchemy import Table, Column, Integer, String, MetaData, ForeignKey, create_engine\n",
    "\n",
    "metadata = MetaData()\n",
    "\n",
    "users = Table('users', metadata,\n",
    "    Column('id', Integer, primary_key=True),\n",
    "    Column('name', String),\n",
    "    Column('email', String))\n",
    "\n",
    "posts = Table('posts', metadata,\n",
    "    Column('id', Integer, primary_key=True),\n",
    "    Column('author_id', Integer, ForeignKey('users.id')),\n",
    "    Column('title', String),\n",
    "    Column('body', String))"
   ]
  },
  {
   "cell_type": "code",
   "execution_count": 2,
   "metadata": {},
   "outputs": [
    {
     "name": "stdout",
     "output_type": "stream",
     "text": [
      "2017-11-14 21:22:23,502 INFO sqlalchemy.engine.base.Engine SELECT CAST('test plain returns' AS VARCHAR(60)) AS anon_1\n",
      "2017-11-14 21:22:23,504 INFO sqlalchemy.engine.base.Engine ()\n",
      "2017-11-14 21:22:23,511 INFO sqlalchemy.engine.base.Engine SELECT CAST('test unicode returns' AS VARCHAR(60)) AS anon_1\n",
      "2017-11-14 21:22:23,516 INFO sqlalchemy.engine.base.Engine ()\n",
      "2017-11-14 21:22:23,523 INFO sqlalchemy.engine.base.Engine PRAGMA table_info(\"users\")\n",
      "2017-11-14 21:22:23,527 INFO sqlalchemy.engine.base.Engine ()\n",
      "2017-11-14 21:22:23,535 INFO sqlalchemy.engine.base.Engine PRAGMA table_info(\"posts\")\n",
      "2017-11-14 21:22:23,538 INFO sqlalchemy.engine.base.Engine ()\n"
     ]
    }
   ],
   "source": [
    "engine = create_engine('sqlite:///test.db', echo=True)\n",
    "metadata.create_all(engine)"
   ]
  },
  {
   "cell_type": "code",
   "execution_count": 3,
   "metadata": {},
   "outputs": [
    {
     "name": "stdout",
     "output_type": "stream",
     "text": [
      "2017-11-14 21:22:29,285 INFO sqlalchemy.engine.base.Engine INSERT INTO users (name, email) VALUES (?, ?)\n",
      "2017-11-14 21:22:29,291 INFO sqlalchemy.engine.base.Engine ('Alice', 'alice@wonder.land')\n",
      "2017-11-14 21:22:29,298 INFO sqlalchemy.engine.base.Engine COMMIT\n"
     ]
    },
    {
     "data": {
      "text/plain": [
       "<sqlalchemy.engine.result.ResultProxy at 0x7f1d20391978>"
      ]
     },
     "execution_count": 3,
     "metadata": {},
     "output_type": "execute_result"
    }
   ],
   "source": [
    "q = users.insert().values(name=\"Alice\",email=\"alice@wonder.land\")\n",
    "# connect the engine to the metadata\n",
    "metadata.bind = engine\n",
    "q.execute()"
   ]
  },
  {
   "cell_type": "code",
   "execution_count": 5,
   "metadata": {},
   "outputs": [
    {
     "name": "stdout",
     "output_type": "stream",
     "text": [
      "2017-11-14 21:23:52,777 INFO sqlalchemy.engine.base.Engine SELECT users.id, users.name, users.email \n",
      "FROM users\n",
      "2017-11-14 21:23:52,784 INFO sqlalchemy.engine.base.Engine ()\n"
     ]
    }
   ],
   "source": [
    "result = users.select().execute()"
   ]
  },
  {
   "cell_type": "code",
   "execution_count": 6,
   "metadata": {},
   "outputs": [
    {
     "data": {
      "text/plain": [
       "[(1, 'Alice', 'alice@wonder.land'), (2, 'Alice', 'alice@wonder.land')]"
      ]
     },
     "execution_count": 6,
     "metadata": {},
     "output_type": "execute_result"
    }
   ],
   "source": [
    "result.fetchall()"
   ]
  },
  {
   "cell_type": "code",
   "execution_count": 8,
   "metadata": {},
   "outputs": [],
   "source": [
    "select = users.select()"
   ]
  },
  {
   "cell_type": "code",
   "execution_count": 10,
   "metadata": {},
   "outputs": [],
   "source": [
    "q = select.where(users.c.email==\"alice@wonder.land\")"
   ]
  },
  {
   "cell_type": "code",
   "execution_count": 11,
   "metadata": {},
   "outputs": [
    {
     "name": "stdout",
     "output_type": "stream",
     "text": [
      "SELECT users.id, users.name, users.email \n",
      "FROM users \n",
      "WHERE users.email = ?\n"
     ]
    }
   ],
   "source": [
    "print(q)"
   ]
  },
  {
   "cell_type": "code",
   "execution_count": 13,
   "metadata": {},
   "outputs": [
    {
     "name": "stdout",
     "output_type": "stream",
     "text": [
      "SELECT users.id, users.name, users.email \n",
      "FROM users\n"
     ]
    }
   ],
   "source": [
    "print(select)"
   ]
  },
  {
   "cell_type": "code",
   "execution_count": 19,
   "metadata": {},
   "outputs": [
    {
     "name": "stdout",
     "output_type": "stream",
     "text": [
      "2017-11-14 21:32:22,629 INFO sqlalchemy.engine.base.Engine SELECT users.id, users.name, users.email \n",
      "FROM users \n",
      "WHERE users.name = ?\n",
      "2017-11-14 21:32:22,635 INFO sqlalchemy.engine.base.Engine ('Alice',)\n"
     ]
    },
    {
     "data": {
      "text/plain": [
       "[(1, 'Alice', 'alice@wonder.land'), (2, 'Alice', 'alice@wonder.land')]"
      ]
     },
     "execution_count": 19,
     "metadata": {},
     "output_type": "execute_result"
    }
   ],
   "source": [
    "select.where(users.columns.name==\"Alice\").execute().fetchall()"
   ]
  },
  {
   "cell_type": "markdown",
   "metadata": {},
   "source": [
    "** Q: How to work with existing db? **"
   ]
  },
  {
   "cell_type": "code",
   "execution_count": 23,
   "metadata": {},
   "outputs": [],
   "source": [
    "engine = create_engine(\"sqlite:///test.db\",echo=True)\n",
    "metadata = MetaData(engine)"
   ]
  },
  {
   "cell_type": "code",
   "execution_count": 24,
   "metadata": {},
   "outputs": [
    {
     "data": {
      "text/plain": [
       "immutabledict({})"
      ]
     },
     "execution_count": 24,
     "metadata": {},
     "output_type": "execute_result"
    }
   ],
   "source": [
    "metadata.tables"
   ]
  },
  {
   "cell_type": "code",
   "execution_count": 25,
   "metadata": {},
   "outputs": [
    {
     "name": "stdout",
     "output_type": "stream",
     "text": [
      "2017-11-14 21:46:36,157 INFO sqlalchemy.engine.base.Engine SELECT CAST('test plain returns' AS VARCHAR(60)) AS anon_1\n",
      "2017-11-14 21:46:36,160 INFO sqlalchemy.engine.base.Engine ()\n",
      "2017-11-14 21:46:36,163 INFO sqlalchemy.engine.base.Engine SELECT CAST('test unicode returns' AS VARCHAR(60)) AS anon_1\n",
      "2017-11-14 21:46:36,165 INFO sqlalchemy.engine.base.Engine ()\n",
      "2017-11-14 21:46:36,167 INFO sqlalchemy.engine.base.Engine SELECT name FROM sqlite_master WHERE type='table' ORDER BY name\n",
      "2017-11-14 21:46:36,169 INFO sqlalchemy.engine.base.Engine ()\n",
      "2017-11-14 21:46:36,172 INFO sqlalchemy.engine.base.Engine PRAGMA table_info(\"posts\")\n",
      "2017-11-14 21:46:36,173 INFO sqlalchemy.engine.base.Engine ()\n",
      "2017-11-14 21:46:36,175 INFO sqlalchemy.engine.base.Engine SELECT sql FROM  (SELECT * FROM sqlite_master UNION ALL   SELECT * FROM sqlite_temp_master) WHERE name = 'posts' AND type = 'table'\n",
      "2017-11-14 21:46:36,176 INFO sqlalchemy.engine.base.Engine ()\n",
      "2017-11-14 21:46:36,178 INFO sqlalchemy.engine.base.Engine PRAGMA foreign_key_list(\"posts\")\n",
      "2017-11-14 21:46:36,179 INFO sqlalchemy.engine.base.Engine ()\n",
      "2017-11-14 21:46:36,180 INFO sqlalchemy.engine.base.Engine SELECT sql FROM  (SELECT * FROM sqlite_master UNION ALL   SELECT * FROM sqlite_temp_master) WHERE name = 'posts' AND type = 'table'\n",
      "2017-11-14 21:46:36,182 INFO sqlalchemy.engine.base.Engine ()\n",
      "2017-11-14 21:46:36,187 INFO sqlalchemy.engine.base.Engine PRAGMA table_info(\"users\")\n",
      "2017-11-14 21:46:36,188 INFO sqlalchemy.engine.base.Engine ()\n",
      "2017-11-14 21:46:36,189 INFO sqlalchemy.engine.base.Engine SELECT sql FROM  (SELECT * FROM sqlite_master UNION ALL   SELECT * FROM sqlite_temp_master) WHERE name = 'users' AND type = 'table'\n",
      "2017-11-14 21:46:36,190 INFO sqlalchemy.engine.base.Engine ()\n",
      "2017-11-14 21:46:36,192 INFO sqlalchemy.engine.base.Engine PRAGMA foreign_key_list(\"users\")\n",
      "2017-11-14 21:46:36,193 INFO sqlalchemy.engine.base.Engine ()\n",
      "2017-11-14 21:46:36,194 INFO sqlalchemy.engine.base.Engine SELECT sql FROM  (SELECT * FROM sqlite_master UNION ALL   SELECT * FROM sqlite_temp_master) WHERE name = 'users' AND type = 'table'\n",
      "2017-11-14 21:46:36,194 INFO sqlalchemy.engine.base.Engine ()\n",
      "2017-11-14 21:46:36,196 INFO sqlalchemy.engine.base.Engine PRAGMA index_list(\"users\")\n",
      "2017-11-14 21:46:36,196 INFO sqlalchemy.engine.base.Engine ()\n",
      "2017-11-14 21:46:36,198 INFO sqlalchemy.engine.base.Engine PRAGMA index_list(\"users\")\n",
      "2017-11-14 21:46:36,198 INFO sqlalchemy.engine.base.Engine ()\n",
      "2017-11-14 21:46:36,200 INFO sqlalchemy.engine.base.Engine SELECT sql FROM  (SELECT * FROM sqlite_master UNION ALL   SELECT * FROM sqlite_temp_master) WHERE name = 'users' AND type = 'table'\n",
      "2017-11-14 21:46:36,200 INFO sqlalchemy.engine.base.Engine ()\n",
      "2017-11-14 21:46:36,205 INFO sqlalchemy.engine.base.Engine PRAGMA index_list(\"posts\")\n",
      "2017-11-14 21:46:36,206 INFO sqlalchemy.engine.base.Engine ()\n",
      "2017-11-14 21:46:36,207 INFO sqlalchemy.engine.base.Engine PRAGMA index_list(\"posts\")\n",
      "2017-11-14 21:46:36,208 INFO sqlalchemy.engine.base.Engine ()\n",
      "2017-11-14 21:46:36,210 INFO sqlalchemy.engine.base.Engine SELECT sql FROM  (SELECT * FROM sqlite_master UNION ALL   SELECT * FROM sqlite_temp_master) WHERE name = 'posts' AND type = 'table'\n",
      "2017-11-14 21:46:36,210 INFO sqlalchemy.engine.base.Engine ()\n"
     ]
    }
   ],
   "source": [
    "metadata.reflect() # loads all the existing tables"
   ]
  },
  {
   "cell_type": "code",
   "execution_count": 26,
   "metadata": {},
   "outputs": [
    {
     "data": {
      "text/plain": [
       "immutabledict({'posts': Table('posts', MetaData(bind=Engine(sqlite:///test.db)), Column('id', INTEGER(), table=<posts>, primary_key=True, nullable=False), Column('author_id', INTEGER(), ForeignKey('users.id'), table=<posts>), Column('title', VARCHAR(), table=<posts>), Column('body', VARCHAR(), table=<posts>), schema=None), 'users': Table('users', MetaData(bind=Engine(sqlite:///test.db)), Column('id', INTEGER(), table=<users>, primary_key=True, nullable=False), Column('name', VARCHAR(), table=<users>), Column('email', VARCHAR(), table=<users>), schema=None)})"
      ]
     },
     "execution_count": 26,
     "metadata": {},
     "output_type": "execute_result"
    }
   ],
   "source": [
    "metadata.tables"
   ]
  },
  {
   "cell_type": "markdown",
   "metadata": {},
   "source": [
    "### Objects-Relational Mapping (ORM) ###"
   ]
  },
  {
   "cell_type": "code",
   "execution_count": 31,
   "metadata": {},
   "outputs": [],
   "source": [
    "from sqlalchemy import Table, Column, Integer, String, MetaData, ForeignKey, create_engine\n",
    "from sqlalchemy.ext.declarative import declarative_base\n",
    "engine = create_engine('sqlite:///test.db')\n",
    "Base = declarative_base()\n",
    "\n",
    "# connect the engine so that we don't have to worry about it later\n",
    "Base.metadata.bind = engine \n",
    "\n",
    "class User(Base):\n",
    "    __tablename__ = \"users\"\n",
    "    id = Column(Integer, primary_key=True)\n",
    "    name = Column(String)\n",
    "    email = Column(String)\n",
    "    \n",
    "    def __repr__(self):\n",
    "        return \"User({0},{1})\".format(self.name, self.email)\n",
    "\n",
    "class Post(Base):\n",
    "    __tablename__ = \"posts\"\n",
    "    id = Column(Integer, primary_key=True)\n",
    "    author_id = Column(Integer, ForeignKey(\"users.id\"))\n",
    "    title = Column(String)\n",
    "    body = Column(String)\n",
    "    \n",
    "    def __repr__(self):\n",
    "        return \"Post({author},{title})\".format(author=self.author_id, title=self.title)\n",
    "    \n",
    "\n",
    "from sqlalchemy.orm import sessionmaker\n",
    "DBSession = sessionmaker(bind=engine)\n",
    "session = DBSession()\n",
    "\n",
    "new_user = User(name=\"anand\",email=\"anand@anandology.com\")\n",
    "session.add(new_user)\n",
    "session.commit()"
   ]
  },
  {
   "cell_type": "code",
   "execution_count": 32,
   "metadata": {},
   "outputs": [
    {
     "name": "stdout",
     "output_type": "stream",
     "text": [
      "[User(Alice,alice@wonder.land), User(Alice,alice@wonder.land), User(anand,anand@anandology.com), User(anand,anand@anandology.com)]\n"
     ]
    }
   ],
   "source": [
    "q = session.query(User)\n",
    "print(q.all())"
   ]
  },
  {
   "cell_type": "code",
   "execution_count": 34,
   "metadata": {},
   "outputs": [
    {
     "data": {
      "text/plain": [
       "[User(anand,anand@anandology.com), User(anand,anand@anandology.com)]"
      ]
     },
     "execution_count": 34,
     "metadata": {},
     "output_type": "execute_result"
    }
   ],
   "source": [
    "q.filter(User.name==\"anand\").all()"
   ]
  },
  {
   "cell_type": "markdown",
   "metadata": {},
   "source": [
    "#### Applying joins ####"
   ]
  },
  {
   "cell_type": "code",
   "execution_count": 35,
   "metadata": {
    "collapsed": true
   },
   "outputs": [],
   "source": [
    "q = session.query(User, Post)"
   ]
  },
  {
   "cell_type": "code",
   "execution_count": 36,
   "metadata": {},
   "outputs": [
    {
     "name": "stdout",
     "output_type": "stream",
     "text": [
      "SELECT users.id AS users_id, users.name AS users_name, users.email AS users_email, posts.id AS posts_id, posts.author_id AS posts_author_id, posts.title AS posts_title, posts.body AS posts_body \n",
      "FROM users, posts\n"
     ]
    }
   ],
   "source": [
    "print(q)"
   ]
  },
  {
   "cell_type": "code",
   "execution_count": null,
   "metadata": {
    "collapsed": true
   },
   "outputs": [],
   "source": []
  }
 ],
 "metadata": {
  "kernelspec": {
   "display_name": "Python 3",
   "language": "python",
   "name": "python3"
  },
  "language_info": {
   "codemirror_mode": {
    "name": "ipython",
    "version": 3
   },
   "file_extension": ".py",
   "mimetype": "text/x-python",
   "name": "python",
   "nbconvert_exporter": "python",
   "pygments_lexer": "ipython3",
   "version": "3.6.1"
  }
 },
 "nbformat": 4,
 "nbformat_minor": 2
}
