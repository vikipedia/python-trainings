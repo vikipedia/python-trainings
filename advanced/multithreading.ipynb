{
 "cells": [
  {
   "cell_type": "markdown",
   "metadata": {
    "collapsed": true
   },
   "source": [
    "### Concurrency ###"
   ]
  },
  {
   "cell_type": "markdown",
   "metadata": {},
   "source": [
    "#### Concurrency with threads ####"
   ]
  },
  {
   "cell_type": "code",
   "execution_count": 118,
   "metadata": {},
   "outputs": [
    {
     "name": "stdout",
     "output_type": "stream",
     "text": [
      "Overwriting twrite.py\n"
     ]
    }
   ],
   "source": [
    "%%file twrite.py\n",
    "import threading\n",
    "import random\n",
    "import sys, time\n",
    "\n",
    "def generate_data(n=1000000):\n",
    "    return (random.random() for i in range(n))\n",
    "\n",
    "def cputask():\n",
    "    s = 0\n",
    "    for i in range(1000):\n",
    "        for j in range(10000):\n",
    "            s += i*j*1.0\n",
    "    print(s)\n",
    "\n",
    "def countdown(*args):\n",
    "    for i in reversed(range(10)):\n",
    "        time.sleep(0.25)\n",
    "    print(\"Finished!\")\n",
    "    \n",
    "def writedata(filename, data):\n",
    "    with open(filename, \"w\") as f:\n",
    "        for item in data:\n",
    "            f.write(str(item).zfill(8))\n",
    "            \n",
    "def threads_():\n",
    "    concurrency = int(sys.argv[1])\n",
    "    taskcount = 10\n",
    "    filenames = [\"base{}\".format(i) for i in range(taskcount)]\n",
    "    data = [generate_data() for i in range(taskcount)]\n",
    "    argseq = list(zip(filenames, data))\n",
    "    while argseq:\n",
    "        tcount = concurrency if len(argseq)>concurrency else len(argseq)\n",
    "        print(\"Starting {} threads\".format(tcount))\n",
    "        threads = [threading.Thread(target=writedata, args=argseq.pop()) for i in range(tcount)]\n",
    "        \n",
    "        for t in threads:\n",
    "            t.start()\n",
    "        for t in threads:\n",
    "            t.join()\n",
    "    \n",
    "    \n",
    "if __name__ == \"__main__\":\n",
    "    threads_()"
   ]
  },
  {
   "cell_type": "code",
   "execution_count": 119,
   "metadata": {},
   "outputs": [
    {
     "name": "stdout",
     "output_type": "stream",
     "text": [
      "Starting 1 threads\n",
      "Starting 1 threads\n",
      "Starting 1 threads\n",
      "Starting 1 threads\n",
      "Starting 1 threads\n",
      "Starting 1 threads\n",
      "Starting 1 threads\n",
      "Starting 1 threads\n",
      "Starting 1 threads\n",
      "Starting 1 threads\n",
      "real 21.95\n",
      "user 21.75\n",
      "sys 0.18\n"
     ]
    }
   ],
   "source": [
    "!time -p python twrite.py 1"
   ]
  },
  {
   "cell_type": "code",
   "execution_count": 120,
   "metadata": {},
   "outputs": [
    {
     "name": "stdout",
     "output_type": "stream",
     "text": [
      "Starting 2 threads\n",
      "Starting 2 threads\n",
      "Starting 2 threads\n",
      "Starting 2 threads\n",
      "Starting 2 threads\n",
      "real 22.13\n",
      "user 21.99\n",
      "sys 0.37\n"
     ]
    }
   ],
   "source": [
    "!time -p python twrite.py 2"
   ]
  },
  {
   "cell_type": "code",
   "execution_count": 121,
   "metadata": {},
   "outputs": [
    {
     "name": "stdout",
     "output_type": "stream",
     "text": [
      "Starting 4 threads\n",
      "Starting 4 threads\n",
      "Starting 2 threads\n",
      "real 21.96\n",
      "user 21.96\n",
      "sys 0.40\n"
     ]
    }
   ],
   "source": [
    "!time -p python twrite.py 4"
   ]
  },
  {
   "cell_type": "code",
   "execution_count": 8,
   "metadata": {},
   "outputs": [
    {
     "name": "stdout",
     "output_type": "stream",
     "text": [
      "Overwriting tpwrite.py\n"
     ]
    }
   ],
   "source": [
    "%%file tpwrite.py\n",
    "from multiprocessing.pool import ThreadPool\n",
    "import random\n",
    "import sys, time\n",
    "\n",
    "def cputask(*args):\n",
    "    s = 0\n",
    "    for i in range(1000):\n",
    "        for j in range(10000):\n",
    "            s += i*j*1.0\n",
    "    print(s)\n",
    "    \n",
    "def writedata(*args):\n",
    "    filename = args[0]\n",
    "    with open(filename, \"w\") as f:\n",
    "        for i in range(1000000):\n",
    "            f.write(str(random.random()).zfill(8))\n",
    "\n",
    "def countdown(*args):\n",
    "    for i in reversed(range(10)):\n",
    "        time.sleep(0.25)\n",
    "    print(\"Finished!\")\n",
    "    \n",
    "def threads():\n",
    "    concurrency = int(sys.argv[1])\n",
    "    taskcount = 10\n",
    "    filenames = [\"base{}\".format(i) for i in range(taskcount)]\n",
    "    pool = ThreadPool(concurrency)\n",
    "    pool.map(countdown, filenames)\n",
    "    \n",
    "    \n",
    "if __name__ == \"__main__\":\n",
    "    threads()"
   ]
  },
  {
   "cell_type": "code",
   "execution_count": 94,
   "metadata": {
    "scrolled": true
   },
   "outputs": [
    {
     "name": "stdout",
     "output_type": "stream",
     "text": [
      "Finished!\n",
      "Finished!\n",
      "Finished!\n",
      "Finished!\n",
      "Finished!\n",
      "Finished!\n",
      "Finished!\n",
      "Finished!\n",
      "Finished!\n",
      "Finished!\n",
      "real 25.16\n",
      "user 0.11\n",
      "sys 0.01\n"
     ]
    }
   ],
   "source": [
    "!time -p python tpwrite.py 1"
   ]
  },
  {
   "cell_type": "code",
   "execution_count": 95,
   "metadata": {
    "scrolled": true
   },
   "outputs": [
    {
     "name": "stdout",
     "output_type": "stream",
     "text": [
      "Finished!\n",
      "Finished!\n",
      "Finished!\n",
      "Finished!\n",
      "Finished!\n",
      "Finished!\n",
      "Finished!\n",
      "Finished!\n",
      "Finished!\n",
      "Finished!\n",
      "real 15.14\n",
      "user 0.10\n",
      "sys 0.01\n"
     ]
    }
   ],
   "source": [
    "!time -p python tpwrite.py 2"
   ]
  },
  {
   "cell_type": "code",
   "execution_count": 96,
   "metadata": {},
   "outputs": [
    {
     "name": "stdout",
     "output_type": "stream",
     "text": [
      "Finished!\n",
      "Finished!\n",
      "Finished!\n",
      "Finished!\n",
      "Finished!\n",
      "Finished!\n",
      "Finished!\n",
      "Finished!\n",
      "Finished!\n",
      "Finished!\n",
      "real 7.70\n",
      "user 0.13\n",
      "sys 0.02\n"
     ]
    }
   ],
   "source": [
    "!time -p python tpwrite.py 4"
   ]
  },
  {
   "cell_type": "code",
   "execution_count": 9,
   "metadata": {},
   "outputs": [
    {
     "name": "stdout",
     "output_type": "stream",
     "text": [
      "Overwriting pwrite.py\n"
     ]
    }
   ],
   "source": [
    "%%file pwrite.py\n",
    "from multiprocessing.pool import Pool\n",
    "import random\n",
    "import sys, time\n",
    "\n",
    "def cputask(*args):\n",
    "    s = 0\n",
    "    for i in range(1000):\n",
    "        for j in range(10000):\n",
    "            s += i*j*1.0\n",
    "    print(s)\n",
    "    \n",
    "def writedata(*args):\n",
    "    filename = args[0]\n",
    "    with open(filename, \"w\") as f:\n",
    "        for i in range(1000000):\n",
    "            f.write(str(random.random()).zfill(8))\n",
    "\n",
    "        \n",
    "def countdown(*args):\n",
    "    for i in reversed(range(10)):\n",
    "        time.sleep(0.25)\n",
    "    print(\"Finished!\")\n",
    "    \n",
    "def process():\n",
    "    concurrency = int(sys.argv[1])\n",
    "    taskcount = 10\n",
    "    filenames = [\"base{}\".format(i) for i in range(taskcount)]\n",
    "    pool = Pool(concurrency)\n",
    "    pool.map(cputask, filenames)\n",
    "    \n",
    "    \n",
    "if __name__ == \"__main__\":\n",
    "    process()"
   ]
  },
  {
   "cell_type": "code",
   "execution_count": 12,
   "metadata": {},
   "outputs": [
    {
     "name": "stdout",
     "output_type": "stream",
     "text": [
      "24972502500000.0\n",
      "24972502500000.0\n",
      "24972502500000.0\n",
      "24972502500000.0\n",
      "24972502500000.0\n",
      "24972502500000.0\n",
      "24972502500000.0\n",
      "24972502500000.0\n",
      "24972502500000.0\n",
      "24972502500000.0\n",
      "real 16.85\n",
      "user 16.76\n",
      "sys 0.03\n"
     ]
    }
   ],
   "source": [
    "!time -p python pwrite.py 1"
   ]
  },
  {
   "cell_type": "code",
   "execution_count": 13,
   "metadata": {},
   "outputs": [
    {
     "name": "stdout",
     "output_type": "stream",
     "text": [
      "24972502500000.0\n",
      "24972502500000.0\n",
      "24972502500000.0\n",
      "24972502500000.0\n",
      "24972502500000.0\n",
      "24972502500000.0\n",
      "24972502500000.0\n",
      "24972502500000.0\n",
      "24972502500000.0\n",
      "24972502500000.0\n",
      "real 11.87\n",
      "user 19.71\n",
      "sys 0.00\n"
     ]
    }
   ],
   "source": [
    "!time -p python pwrite.py 2"
   ]
  },
  {
   "cell_type": "code",
   "execution_count": 14,
   "metadata": {},
   "outputs": [
    {
     "name": "stdout",
     "output_type": "stream",
     "text": [
      "24972502500000.0\n",
      "24972502500000.0\n",
      "24972502500000.0\n",
      "24972502500000.0\n",
      "24972502500000.0\n",
      "24972502500000.0\n",
      "24972502500000.0\n",
      "24972502500000.0\n",
      "24972502500000.0\n",
      "24972502500000.0\n",
      "real 10.47\n",
      "user 34.05\n",
      "sys 0.01\n"
     ]
    }
   ],
   "source": [
    "!time -p python pwrite.py 4"
   ]
  },
  {
   "cell_type": "markdown",
   "metadata": {},
   "source": [
    "### Starting and Stopping Threads ###"
   ]
  },
  {
   "cell_type": "code",
   "execution_count": 122,
   "metadata": {
    "collapsed": true
   },
   "outputs": [],
   "source": [
    "import time\n",
    "class CountdownTask:\n",
    "    def __init__(self):\n",
    "        self._running = True\n",
    "\n",
    "    def terminate(self):\n",
    "        self._running = False\n",
    "\n",
    "    def run(self, n):\n",
    "        while self._running and n > 0:\n",
    "            print('T-minus', n)\n",
    "            n -= 1\n",
    "            time.sleep(5)\n",
    "        print(\"Stopping, Bye!\")\n"
   ]
  },
  {
   "cell_type": "code",
   "execution_count": 123,
   "metadata": {},
   "outputs": [
    {
     "name": "stdout",
     "output_type": "stream",
     "text": [
      "T-minus 10\n",
      "T-minus 9\n",
      "T-minus 8\n"
     ]
    }
   ],
   "source": [
    "from threading import Thread\n",
    "c = CountdownTask()\n",
    "t = Thread(target=c.run, args=(10,))\n",
    "t.start()"
   ]
  },
  {
   "cell_type": "code",
   "execution_count": 124,
   "metadata": {},
   "outputs": [
    {
     "name": "stdout",
     "output_type": "stream",
     "text": [
      "Stopping, Bye!\n"
     ]
    }
   ],
   "source": [
    "c.terminate()"
   ]
  },
  {
   "cell_type": "code",
   "execution_count": 125,
   "metadata": {},
   "outputs": [
    {
     "name": "stdout",
     "output_type": "stream",
     "text": [
      "T-minus 10\n",
      "T-minus 9\n",
      "T-minus 8\n"
     ]
    }
   ],
   "source": [
    "from threading import Event, Thread\n",
    "\n",
    "def task(n, event):\n",
    "    while (not event.is_set()) and n > 0:\n",
    "        print('T-minus', n)\n",
    "        n -= 1\n",
    "        time.sleep(5)\n",
    "    print(\"Stopping, Bye!\")\n",
    "e = Event()\n",
    "t = Thread(target=task, args=(10,e))\n",
    "t.start()"
   ]
  },
  {
   "cell_type": "code",
   "execution_count": 126,
   "metadata": {},
   "outputs": [
    {
     "name": "stdout",
     "output_type": "stream",
     "text": [
      "Stopping, Bye!\n"
     ]
    }
   ],
   "source": [
    "e.set()"
   ]
  },
  {
   "cell_type": "markdown",
   "metadata": {},
   "source": [
    "### Communicating between threads###"
   ]
  },
  {
   "cell_type": "code",
   "execution_count": 127,
   "metadata": {},
   "outputs": [
    {
     "name": "stdout",
     "output_type": "stream",
     "text": [
      "Overwriting producer-consumer.py\n"
     ]
    }
   ],
   "source": [
    "%%file producer-consumer.py\n",
    "from queue import Queue\n",
    "\n",
    "from threading import Thread\n",
    "\n",
    "def producer(out_q):\n",
    "    while True:\n",
    "        #Produce some data\n",
    "        #...\n",
    "        #...\n",
    "        out_q.put(data)\n",
    "        \n",
    "        \n",
    "def consumer(in_q):\n",
    "    #consume data\n",
    "    while True:\n",
    "        #get some data\n",
    "        data = in_q.get()\n",
    "        #process the data\n",
    "        #...\n",
    "        \n",
    "q = Queue()\n",
    "t1 = Thread(target=producer, args=(q,))\n",
    "t2 = Thread(target=consumer, args=(q,))\n",
    "t1.start()\n",
    "t2.start()\n"
   ]
  },
  {
   "cell_type": "code",
   "execution_count": null,
   "metadata": {
    "collapsed": true
   },
   "outputs": [],
   "source": []
  }
 ],
 "metadata": {
  "kernelspec": {
   "display_name": "Python 3",
   "language": "python",
   "name": "python3"
  },
  "language_info": {
   "codemirror_mode": {
    "name": "ipython",
    "version": 3
   },
   "file_extension": ".py",
   "mimetype": "text/x-python",
   "name": "python",
   "nbconvert_exporter": "python",
   "pygments_lexer": "ipython3",
   "version": "3.6.1"
  }
 },
 "nbformat": 4,
 "nbformat_minor": 2
}
