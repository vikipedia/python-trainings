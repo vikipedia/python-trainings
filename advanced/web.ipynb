{
 "cells": [
  {
   "cell_type": "code",
   "execution_count": 1,
   "metadata": {
    "collapsed": true
   },
   "outputs": [],
   "source": [
    "from urllib.request import urlopen"
   ]
  },
  {
   "cell_type": "code",
   "execution_count": 2,
   "metadata": {
    "collapsed": true
   },
   "outputs": [],
   "source": [
    "response = urlopen(\"http://httpbin.org/html\")"
   ]
  },
  {
   "cell_type": "code",
   "execution_count": 3,
   "metadata": {},
   "outputs": [
    {
     "data": {
      "text/plain": [
       "<http.client.HTTPResponse at 0x7f44b474ccf8>"
      ]
     },
     "execution_count": 3,
     "metadata": {},
     "output_type": "execute_result"
    }
   ],
   "source": [
    "response"
   ]
  },
  {
   "cell_type": "code",
   "execution_count": 4,
   "metadata": {
    "collapsed": true
   },
   "outputs": [],
   "source": [
    "contents = response.read()"
   ]
  },
  {
   "cell_type": "code",
   "execution_count": 5,
   "metadata": {},
   "outputs": [
    {
     "data": {
      "text/plain": [
       "b'<!DOCTYPE html>\\n<html>\\n  <head>\\n  </head>\\n  <body>\\n      <h1>Herman Melville - Moby-Dick</h1>\\n\\n     '"
      ]
     },
     "execution_count": 5,
     "metadata": {},
     "output_type": "execute_result"
    }
   ],
   "source": [
    "contents[:100]"
   ]
  },
  {
   "cell_type": "markdown",
   "metadata": {},
   "source": [
    "The contents of http response are always bytes"
   ]
  },
  {
   "cell_type": "code",
   "execution_count": 6,
   "metadata": {
    "collapsed": true
   },
   "outputs": [],
   "source": [
    "html = contents.decode(\"utf-8\")"
   ]
  },
  {
   "cell_type": "code",
   "execution_count": 7,
   "metadata": {},
   "outputs": [
    {
     "name": "stdout",
     "output_type": "stream",
     "text": [
      "<!DOCTYPE html>\n",
      "<html>\n",
      "  <head>\n",
      "  </head>\n",
      "  <body>\n",
      "      <h1>Herman Melville - Moby-Dick</h1>\n",
      "\n",
      "      <div>\n",
      "        <p>\n",
      "          Availing himself of the mild, summer-cool weather that now reigned in these latitudes, and in preparation for the peculiarly active pursuits shortly to be anticipated, Perth, the begrimed, blistered old blacksmith, had not removed his portable forge to the hold again, af\n"
     ]
    }
   ],
   "source": [
    "print(html[:400])"
   ]
  },
  {
   "cell_type": "markdown",
   "metadata": {},
   "source": [
    "How to find status?"
   ]
  },
  {
   "cell_type": "code",
   "execution_count": 8,
   "metadata": {},
   "outputs": [
    {
     "data": {
      "text/plain": [
       "200"
      ]
     },
     "execution_count": 8,
     "metadata": {},
     "output_type": "execute_result"
    }
   ],
   "source": [
    "response.status"
   ]
  },
  {
   "cell_type": "markdown",
   "metadata": {},
   "source": [
    "The third party library requests makes it very easy to work withHTTP request\n",
    "\n",
    "Install Using:\n",
    "\n",
    "  `pip3 install request`"
   ]
  },
  {
   "cell_type": "code",
   "execution_count": 9,
   "metadata": {
    "collapsed": true
   },
   "outputs": [],
   "source": [
    "import requests"
   ]
  },
  {
   "cell_type": "code",
   "execution_count": 10,
   "metadata": {},
   "outputs": [
    {
     "name": "stdout",
     "output_type": "stream",
     "text": [
      "<!DOCTYPE html>\n",
      "<html>\n",
      "  <head>\n",
      "  </head>\n",
      "  <body>\n",
      "      <h1>Herman Melville - Moby-Dick</h1>\n",
      "\n",
      "      <div>\n",
      "        <p>\n",
      "          Availing himself of the mild, summer-cool weather that now reigned in these latitudes, and in preparation for the peculiarly active pursuits shortly to be anticipated, Perth, the begrimed, blistered old blacksmith, had not removed his portable forge to the hold again, af\n"
     ]
    }
   ],
   "source": [
    "response = requests.get(\"http://httpbin.org/html\")\n",
    "print(response.text[:400])"
   ]
  },
  {
   "cell_type": "markdown",
   "metadata": {},
   "source": [
    "** Q: ** How to look at response headers?"
   ]
  },
  {
   "cell_type": "code",
   "execution_count": 11,
   "metadata": {},
   "outputs": [
    {
     "data": {
      "text/plain": [
       "{'Connection': 'keep-alive', 'Server': 'meinheld/0.6.1', 'Date': 'Tue, 26 Sep 2017 13:14:54 GMT', 'Content-Type': 'text/html; charset=utf-8', 'Content-Length': '3741', 'Access-Control-Allow-Origin': '*', 'Access-Control-Allow-Credentials': 'true', 'X-Powered-By': 'Flask', 'X-Processed-Time': '0.000411033630371', 'Via': '1.1 vegur'}"
      ]
     },
     "execution_count": 11,
     "metadata": {},
     "output_type": "execute_result"
    }
   ],
   "source": [
    "response.headers"
   ]
  },
  {
   "cell_type": "markdown",
   "metadata": {},
   "source": [
    "**Q:** How to pass query parameters?"
   ]
  },
  {
   "cell_type": "code",
   "execution_count": 13,
   "metadata": {},
   "outputs": [
    {
     "name": "stdout",
     "output_type": "stream",
     "text": [
      "{\n",
      "  \"args\": {\n",
      "    \"page\": \"2\", \n",
      "    \"query\": \"python class\"\n",
      "  }, \n",
      "  \"headers\": {\n",
      "    \"Accept\": \"*/*\", \n",
      "    \"Accept-Encoding\": \"gzip, deflate\", \n",
      "    \"Connection\": \"close\", \n",
      "    \"Host\": \"httpbin.org\", \n",
      "    \"User-Agent\": \"python-requests/2.14.2\"\n",
      "  }, \n",
      "  \"origin\": \"114.143.44.79\", \n",
      "  \"url\": \"http://httpbin.org/get?query=python+class&page=2\"\n",
      "}\n",
      "\n"
     ]
    }
   ],
   "source": [
    "response = requests.get(\"http://httpbin.org/get\", params={'query':'python class', \"page\":\"2\"})\n",
    "print(response.text)"
   ]
  },
  {
   "cell_type": "markdown",
   "metadata": {},
   "source": [
    "**Q:** How to send post data"
   ]
  },
  {
   "cell_type": "code",
   "execution_count": 14,
   "metadata": {},
   "outputs": [
    {
     "name": "stdout",
     "output_type": "stream",
     "text": [
      "{\n",
      "  \"args\": {}, \n",
      "  \"data\": \"Plain text pay load\", \n",
      "  \"files\": {}, \n",
      "  \"form\": {}, \n",
      "  \"headers\": {\n",
      "    \"Accept\": \"*/*\", \n",
      "    \"Accept-Encoding\": \"gzip, deflate\", \n",
      "    \"Connection\": \"close\", \n",
      "    \"Content-Length\": \"19\", \n",
      "    \"Host\": \"httpbin.org\", \n",
      "    \"User-Agent\": \"python-requests/2.14.2\"\n",
      "  }, \n",
      "  \"json\": null, \n",
      "  \"origin\": \"114.143.44.79\", \n",
      "  \"url\": \"http://httpbin.org/post\"\n",
      "}\n",
      "\n"
     ]
    }
   ],
   "source": [
    "response = requests.post(\"http://httpbin.org/post\", data=\"Plain text pay load\")\n",
    "print(response.text)"
   ]
  },
  {
   "cell_type": "code",
   "execution_count": 16,
   "metadata": {},
   "outputs": [
    {
     "name": "stdout",
     "output_type": "stream",
     "text": [
      "{\n",
      "  \"args\": {}, \n",
      "  \"data\": \"\", \n",
      "  \"files\": {}, \n",
      "  \"form\": {\n",
      "    \"name\": \"python\", \n",
      "    \"version\": \"3.6\"\n",
      "  }, \n",
      "  \"headers\": {\n",
      "    \"Accept\": \"*/*\", \n",
      "    \"Accept-Encoding\": \"gzip, deflate\", \n",
      "    \"Connection\": \"close\", \n",
      "    \"Content-Length\": \"23\", \n",
      "    \"Content-Type\": \"application/x-www-form-urlencoded\", \n",
      "    \"Host\": \"httpbin.org\", \n",
      "    \"User-Agent\": \"python-requests/2.14.2\"\n",
      "  }, \n",
      "  \"json\": null, \n",
      "  \"origin\": \"114.143.44.79\", \n",
      "  \"url\": \"http://httpbin.org/post\"\n",
      "}\n",
      "\n"
     ]
    }
   ],
   "source": [
    "response = requests.post(\"http://httpbin.org/post\", data={\"name\":\"python\",\"version\":\"3.6\"})\n",
    "print(response.text)"
   ]
  },
  {
   "cell_type": "markdown",
   "metadata": {},
   "source": [
    "** Example: Find popular repositories of vmware on github**"
   ]
  },
  {
   "cell_type": "code",
   "execution_count": 17,
   "metadata": {
    "collapsed": true
   },
   "outputs": [],
   "source": [
    "import requests\n",
    "url = \"https://api.github.com/orgs/vmware/repos\"\n",
    "repos = requests.get(url).json()"
   ]
  },
  {
   "cell_type": "code",
   "execution_count": 18,
   "metadata": {},
   "outputs": [
    {
     "data": {
      "text/plain": [
       "list"
      ]
     },
     "execution_count": 18,
     "metadata": {},
     "output_type": "execute_result"
    }
   ],
   "source": [
    "type(repos)"
   ]
  },
  {
   "cell_type": "code",
   "execution_count": 19,
   "metadata": {},
   "outputs": [
    {
     "name": "stdout",
     "output_type": "stream",
     "text": [
      "vmware/pyvco 4\n",
      "vmware/rvc 46\n",
      "vmware/rbvmomi 151\n",
      "vmware/vprobe-toolkit 8\n",
      "vmware/CloudFS 15\n",
      "vmware/vcd-nclient 2\n",
      "vmware/lmock 5\n",
      "vmware/FireBreath 2\n",
      "vmware/weasel 1\n",
      "vmware/vmware-vcenter 83\n",
      "vmware/vmware-vshield 6\n",
      "vmware/vcloud-rest 38\n",
      "vmware/GemstoneWebTools 0\n",
      "vmware/vmware-vcsa 17\n",
      "vmware/vmware-vmware_lib 23\n",
      "vmware/saml20serviceprovider 1\n",
      "vmware/pg_rewind 19\n",
      "vmware/vco-powershel-plugin 2\n",
      "vmware/jenkins-reviewbot 12\n",
      "vmware/dbeekeeper 0\n",
      "vmware/thinapp_factory 16\n",
      "vmware/vmware-cassandra 4\n",
      "vmware/vmware-java 0\n",
      "vmware/data-driven-framework 2\n",
      "vmware/pyvmomi 422\n",
      "vmware/pyvmomi-community-samples 358\n",
      "vmware/open-vm-tools 133\n",
      "vmware/pyvmomi-tools 18\n",
      "vmware/upgrade-framework 11\n",
      "vmware/webcommander 29\n"
     ]
    }
   ],
   "source": [
    "for repo in repos:\n",
    "    print(repo['full_name'], repo['forks'])"
   ]
  },
  {
   "cell_type": "markdown",
   "metadata": {},
   "source": [
    "Let us find top 5 popular repos by the number of forks."
   ]
  },
  {
   "cell_type": "code",
   "execution_count": 20,
   "metadata": {
    "collapsed": true
   },
   "outputs": [],
   "source": [
    "def get_forks(repo):\n",
    "    return repo['forks']\n",
    "repos = sorted(repos, key=get_forks, reverse=True)[:5]"
   ]
  },
  {
   "cell_type": "code",
   "execution_count": 21,
   "metadata": {},
   "outputs": [
    {
     "name": "stdout",
     "output_type": "stream",
     "text": [
      "vmware/pyvmomi 422\n",
      "vmware/pyvmomi-community-samples 358\n",
      "vmware/rbvmomi 151\n",
      "vmware/open-vm-tools 133\n",
      "vmware/vmware-vcenter 83\n"
     ]
    }
   ],
   "source": [
    "for repo in repos:\n",
    "    print(repo['full_name'], repo['forks'])"
   ]
  },
  {
   "cell_type": "markdown",
   "metadata": {},
   "source": [
    "Now let us find out who commits to these repos."
   ]
  },
  {
   "cell_type": "code",
   "execution_count": 22,
   "metadata": {
    "collapsed": true
   },
   "outputs": [],
   "source": [
    "def get_top_contributors(reponame):\n",
    "    url = \"https://api.github.com/repos/{}/stats/contributors\".format(reponame)\n",
    "    print(url)\n",
    "    contributors = requests.get(url).json()\n",
    "    contributors = sorted(contributors, key=lambda x: x['total'], reverse=True)\n",
    "    for c in contributors[:5]:\n",
    "        print(c['author']['login'], c['total'])"
   ]
  },
  {
   "cell_type": "code",
   "execution_count": 23,
   "metadata": {},
   "outputs": [
    {
     "name": "stdout",
     "output_type": "stream",
     "text": [
      "https://api.github.com/repos/vmware/pyvmomi/stats/contributors\n",
      "tianhao64 63\n",
      "hartsock 54\n",
      "michaelrice 10\n",
      "wiggin15 7\n",
      "mstagi 7\n"
     ]
    }
   ],
   "source": [
    "get_top_contributors(\"vmware/pyvmomi\")"
   ]
  },
  {
   "cell_type": "markdown",
   "metadata": {},
   "source": [
    "**Q:** How to pass username and password?\n",
    "\n",
    "```\n",
    "username = \"xxx\"\n",
    "password = open(\"secret-file-xxx-passwd.txt\").read().strip()\n",
    "response = requests.get(url, auth=(username, password))\n",
    "```"
   ]
  },
  {
   "cell_type": "markdown",
   "metadata": {},
   "source": [
    "__Problem:__ How do you find distance between two cities using google maps API?\n",
    "hints:\n",
    "\n",
    "- url for map api is \"https://maps.googleapis.com/maps/api/distancematrix/json\"\n",
    "- parameters of above get url are\n",
    "```\n",
    "    origins\n",
    "    destinations\n",
    "    units (metric)\n",
    "```\n"
   ]
  },
  {
   "cell_type": "code",
   "execution_count": 28,
   "metadata": {
    "collapsed": true
   },
   "outputs": [],
   "source": [
    "import requests\n",
    "\n",
    "def distance(origin, destination):\n",
    "    url = \"https://maps.googleapis.com/maps/api/distancematrix/json\"\n",
    "    response = requests.get(url, params={\"units\":\"metric\",\n",
    "                                         \"origins\":origin,\n",
    "                                         \"destinations\":destination})\n",
    "\n",
    "    return response.json()\n",
    "    #data = response.json()\n",
    "    #return data['rows'][0]['elements'][0]['distance']['text']\n"
   ]
  },
  {
   "cell_type": "code",
   "execution_count": 31,
   "metadata": {
    "collapsed": true
   },
   "outputs": [],
   "source": [
    "data = distance(\"pune\", \"dapoli\")"
   ]
  },
  {
   "cell_type": "code",
   "execution_count": 32,
   "metadata": {},
   "outputs": [
    {
     "name": "stdout",
     "output_type": "stream",
     "text": [
      "{'destination_addresses': ['Dapoli, Maharashtra, India'], 'origin_addresses': ['Pune, Maharashtra, India'], 'rows': [{'elements': [{'distance': {'text': '189 km', 'value': 189372}, 'duration': {'text': '4 hours 56 mins', 'value': 17773}, 'status': 'OK'}]}], 'status': 'OK'}\n"
     ]
    }
   ],
   "source": [
    "print(data)"
   ]
  },
  {
   "cell_type": "markdown",
   "metadata": {},
   "source": [
    "### Reading a config file ###"
   ]
  },
  {
   "cell_type": "code",
   "execution_count": 24,
   "metadata": {},
   "outputs": [
    {
     "name": "stdout",
     "output_type": "stream",
     "text": [
      "Writing test.conf\n"
     ]
    }
   ],
   "source": [
    "%%file test.conf\n",
    "[auth]\n",
    "username=guest\n",
    "password=secret"
   ]
  },
  {
   "cell_type": "code",
   "execution_count": 25,
   "metadata": {},
   "outputs": [
    {
     "data": {
      "text/plain": [
       "['test.conf']"
      ]
     },
     "execution_count": 25,
     "metadata": {},
     "output_type": "execute_result"
    }
   ],
   "source": [
    "import configparser\n",
    "p = configparser.ConfigParser()\n",
    "p.read(\"test.conf\")"
   ]
  },
  {
   "cell_type": "code",
   "execution_count": 26,
   "metadata": {},
   "outputs": [
    {
     "data": {
      "text/plain": [
       "'guest'"
      ]
     },
     "execution_count": 26,
     "metadata": {},
     "output_type": "execute_result"
    }
   ],
   "source": [
    "p.get(\"auth\", \"username\")"
   ]
  },
  {
   "cell_type": "code",
   "execution_count": null,
   "metadata": {
    "collapsed": true
   },
   "outputs": [],
   "source": []
  }
 ],
 "metadata": {
  "kernelspec": {
   "display_name": "Python 3",
   "language": "python",
   "name": "python3"
  },
  "language_info": {
   "codemirror_mode": {
    "name": "ipython",
    "version": 3
   },
   "file_extension": ".py",
   "mimetype": "text/x-python",
   "name": "python",
   "nbconvert_exporter": "python",
   "pygments_lexer": "ipython3",
   "version": "3.6.1"
  }
 },
 "nbformat": 4,
 "nbformat_minor": 2
}
