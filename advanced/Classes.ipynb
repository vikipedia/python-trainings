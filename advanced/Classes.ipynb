{
 "cells": [
  {
   "cell_type": "markdown",
   "metadata": {},
   "source": [
    "## Understanding Names, Scope and Namespaces ##"
   ]
  },
  {
   "cell_type": "markdown",
   "metadata": {},
   "source": [
    "For any advanced python programmer it is good idea to understand how names, scope and namaspaces work. "
   ]
  },
  {
   "cell_type": "markdown",
   "metadata": {},
   "source": [
    "### Names ###\n",
    "Python has objects and objects can be given names. Asignment is nothing but giving name to whatever is result of right hand side."
   ]
  },
  {
   "cell_type": "code",
   "execution_count": 1,
   "metadata": {
    "collapsed": true
   },
   "outputs": [],
   "source": [
    "x = 2 + 3 # Here result of right hand side of '=' will be given name 'x'"
   ]
  },
  {
   "cell_type": "markdown",
   "metadata": {},
   "source": [
    "*Name* is a handle provided py python to that object. With this handle you can refer the computed object later anytime. More formally it is called as binding. "
   ]
  },
  {
   "cell_type": "code",
   "execution_count": 2,
   "metadata": {},
   "outputs": [
    {
     "data": {
      "text/plain": [
       "5"
      ]
     },
     "execution_count": 2,
     "metadata": {},
     "output_type": "execute_result"
    }
   ],
   "source": [
    "x"
   ]
  },
  {
   "cell_type": "markdown",
   "metadata": {},
   "source": [
    "Python allows giving multiple names to same object. When one object is known by multiple names we can call it aliasing as in other programming languages. "
   ]
  },
  {
   "cell_type": "code",
   "execution_count": 5,
   "metadata": {
    "collapsed": true
   },
   "outputs": [],
   "source": [
    "y = x"
   ]
  },
  {
   "cell_type": "code",
   "execution_count": 6,
   "metadata": {},
   "outputs": [
    {
     "data": {
      "text/plain": [
       "(5, 5)"
      ]
     },
     "execution_count": 6,
     "metadata": {},
     "output_type": "execute_result"
    }
   ],
   "source": [
    "x,y"
   ]
  },
  {
   "cell_type": "markdown",
   "metadata": {},
   "source": [
    "Aliases behave like pointers in some sense. Mutable objects (lists, dictionaries and most of the other objects) with aliases can have surprising effects on semantics python code. But these effects are usually used to benefit the programming. For example aliasing make it very easy to pass objects around as arguments, as return values. There is hardly any overhead in doing that."
   ]
  },
  {
   "cell_type": "markdown",
   "metadata": {},
   "source": [
    "### Namespace ###"
   ]
  },
  {
   "cell_type": "markdown",
   "metadata": {},
   "source": [
    "*Namespace* is mapping from names to objects. Examples of namespaces are set of names that are built in as you start interpreter, global names in a module, local names in a function.\n",
    "**Important things about namespaces**\n",
    "- Names form two different namespaces are by no way realated.This means you can easily define attributes of same name in two different namespaces without any conflict.\n",
    "- If we call names in a given namespace as attributes, attributes can ne read-only or writable. writable attributes can be deleted.\n",
    "- Namespaces are created at different moments and have different lifespans."
   ]
  },
  {
   "cell_type": "code",
   "execution_count": 7,
   "metadata": {},
   "outputs": [
    {
     "name": "stdout",
     "output_type": "stream",
     "text": [
      "Writing module.py\n"
     ]
    }
   ],
   "source": [
    "%%file module.py\n",
    "value = 42\n",
    "novalue = 24\n"
   ]
  },
  {
   "cell_type": "code",
   "execution_count": 8,
   "metadata": {},
   "outputs": [
    {
     "name": "stdout",
     "output_type": "stream",
     "text": [
      "Writing anothermodule.py\n"
     ]
    }
   ],
   "source": [
    "%%file anothermodule.py\n",
    "value = 0\n",
    "infinity = \"Biggest numeric value you can imagine\""
   ]
  },
  {
   "cell_type": "code",
   "execution_count": 9,
   "metadata": {
    "collapsed": true
   },
   "outputs": [],
   "source": [
    "import module, anothermodule"
   ]
  },
  {
   "cell_type": "code",
   "execution_count": 10,
   "metadata": {},
   "outputs": [
    {
     "name": "stdout",
     "output_type": "stream",
     "text": [
      "42\n"
     ]
    }
   ],
   "source": [
    "print(module.value)"
   ]
  },
  {
   "cell_type": "code",
   "execution_count": 11,
   "metadata": {},
   "outputs": [
    {
     "name": "stdout",
     "output_type": "stream",
     "text": [
      "0\n"
     ]
    }
   ],
   "source": [
    "print(anothermodule.value)"
   ]
  },
  {
   "cell_type": "code",
   "execution_count": 12,
   "metadata": {
    "collapsed": true
   },
   "outputs": [],
   "source": [
    "del module.value"
   ]
  },
  {
   "cell_type": "code",
   "execution_count": 13,
   "metadata": {},
   "outputs": [
    {
     "ename": "AttributeError",
     "evalue": "'module' object has no attribute 'value'",
     "output_type": "error",
     "traceback": [
      "\u001b[0;31m---------------------------------------------------------------------------\u001b[0m",
      "\u001b[0;31mAttributeError\u001b[0m                            Traceback (most recent call last)",
      "\u001b[0;32m<ipython-input-13-3e6f3e3d9fcb>\u001b[0m in \u001b[0;36m<module>\u001b[0;34m()\u001b[0m\n\u001b[0;32m----> 1\u001b[0;31m \u001b[0mprint\u001b[0m\u001b[0;34m(\u001b[0m\u001b[0mmodule\u001b[0m\u001b[0;34m.\u001b[0m\u001b[0mvalue\u001b[0m\u001b[0;34m)\u001b[0m\u001b[0;34m\u001b[0m\u001b[0m\n\u001b[0m",
      "\u001b[0;31mAttributeError\u001b[0m: 'module' object has no attribute 'value'"
     ]
    }
   ],
   "source": [
    "print(module.value)"
   ]
  },
  {
   "cell_type": "markdown",
   "metadata": {
    "collapsed": true
   },
   "source": [
    "### Scope ###"
   ]
  },
  {
   "cell_type": "markdown",
   "metadata": {},
   "source": [
    "*Scope* is textual part of python program from where namespace is directly available. "
   ]
  },
  {
   "cell_type": "markdown",
   "metadata": {},
   "source": [
    "Here is one simple example to explain how namespaces and scope work"
   ]
  },
  {
   "cell_type": "code",
   "execution_count": 1,
   "metadata": {},
   "outputs": [
    {
     "name": "stdout",
     "output_type": "stream",
     "text": [
      "balance =  50000\n",
      "amount =  10000\n"
     ]
    }
   ],
   "source": [
    "amount = 10000\n",
    "balance = 50000\n",
    "\n",
    "def withdraw(balance, amount):\n",
    "    balance = balance - amount\n",
    "    return balance\n",
    "\n",
    "fixdep = withdraw(balance, 1000)\n",
    "\n",
    "print(\"balance = \", balance)\n",
    "print(\"amount = \", amount)"
   ]
  },
  {
   "cell_type": "markdown",
   "metadata": {},
   "source": [
    "Note that as soon as the interpreter is invoked, there is namespace created whcih contains all built-in functions. as the script is loaded one by one all definations are added to namespace. As soon as we invoke built-in function or refer to previously defined name it is accessible. This means the available name is in scope.But as we call a function, there is another local namespace created which refers to its own local variables. These local namespace contains arguments and names defined inside the function as well as built-in functions."
   ]
  },
  {
   "cell_type": "code",
   "execution_count": 7,
   "metadata": {},
   "outputs": [
    {
     "name": "stdout",
     "output_type": "stream",
     "text": [
      "Overwriting scopetest.py\n"
     ]
    }
   ],
   "source": [
    "%%file scopetest.py\n",
    "hello = \"Hello Initial\"\n",
    "\n",
    "def scope_changed():\n",
    "    hello = \"hello from scope_changed()\"\n",
    "    \n",
    "    def change_local():\n",
    "        hello = \"hello local\"\n",
    "    \n",
    "    def change_nonlocal():\n",
    "        hello = \"Hello initial inside change_nonlocal\"\n",
    "        def f():\n",
    "            nonlocal hello\n",
    "            hello = \"hello nonlocal\"\n",
    "        f()\n",
    "        \n",
    "    def change_global():\n",
    "        global hello\n",
    "        hello = \"Hello global\"\n",
    "    \n",
    "    print(\"Before change_local:\", hello)# these refer to local hello from top function\n",
    "    change_local()\n",
    "    print(\"After change_local: \",hello)\n",
    "    change_nonlocal()\n",
    "    print(\"After change_nonlocal: \",hello)\n",
    "    change_global()\n",
    "    print(\"After change_global: \", hello)\n",
    "    \n",
    "print(\"Initial value:\", hello)\n",
    "scope_changed()\n",
    "print(\"Outside : \", hello)"
   ]
  },
  {
   "cell_type": "code",
   "execution_count": 8,
   "metadata": {},
   "outputs": [
    {
     "name": "stdout",
     "output_type": "stream",
     "text": [
      "Initial value: Hello Initial\r\n",
      "Before change_local: hello from scope_changed()\r\n",
      "After change_local:  hello from scope_changed()\r\n",
      "After change_nonlocal:  hello from scope_changed()\r\n",
      "After change_global:  hello from scope_changed()\r\n",
      "Outside :  Hello global\r\n"
     ]
    }
   ],
   "source": [
    "!python scopetest.py"
   ]
  },
  {
   "cell_type": "markdown",
   "metadata": {},
   "source": [
    "**Problem:** What will be output of following code?\n",
    "```\n",
    "def f(x):\n",
    "    x.append(5)\n",
    "    \n",
    "def g(x):\n",
    "    x = [1,1,1,1,1]\n",
    "\n",
    "l = [1,2,3,4]\n",
    "f(l)\n",
    "print(l)\n",
    "g(l)\n",
    "print(l)\n",
    "```"
   ]
  },
  {
   "cell_type": "markdown",
   "metadata": {},
   "source": [
    "## Classes ##"
   ]
  },
  {
   "cell_type": "markdown",
   "metadata": {
    "collapsed": true
   },
   "source": [
    "Syntactically classes in python look like this\n",
    "```\n",
    "class Name:\n",
    "    <statement-1>\n",
    "    <statement-2>\n",
    "    .\n",
    "    .\n",
    "    .\n",
    "```"
   ]
  },
  {
   "cell_type": "code",
   "execution_count": 21,
   "metadata": {
    "collapsed": true
   },
   "outputs": [],
   "source": [
    "import math\n",
    "\n",
    "class Circle:\n",
    "    def __init__(self, radius):\n",
    "        self.radius = radius\n",
    "        \n",
    "    def area(self):\n",
    "        return math.pi*self.radius**2\n",
    "\n",
    "class Square:\n",
    "    def __init__(self, s):\n",
    "        self.side = s\n",
    "    \n",
    "    def area(self):\n",
    "        return self.side*self.side\n",
    "    \n",
    "class Triangle:\n",
    "    def __init__(self, base, height):\n",
    "        self.base = base\n",
    "        self.height = height\n",
    "  "
   ]
  },
  {
   "cell_type": "code",
   "execution_count": 22,
   "metadata": {},
   "outputs": [
    {
     "data": {
      "text/plain": [
       "[3.141592653589793, 1, 12.566370614359172, 4]"
      ]
     },
     "execution_count": 22,
     "metadata": {},
     "output_type": "execute_result"
    }
   ],
   "source": [
    "shapes = [Circle(1), Square(1), Circle(2), Square(2)]\n",
    "areas = [s.area() for s in shapes]\n",
    "areas"
   ]
  },
  {
   "cell_type": "code",
   "execution_count": 23,
   "metadata": {
    "collapsed": true
   },
   "outputs": [],
   "source": [
    "shapes.append(Triangle(1, 1))"
   ]
  },
  {
   "cell_type": "code",
   "execution_count": 24,
   "metadata": {},
   "outputs": [
    {
     "ename": "AttributeError",
     "evalue": "'Triangle' object has no attribute 'area'",
     "output_type": "error",
     "traceback": [
      "\u001b[0;31m---------------------------------------------------------------------------\u001b[0m",
      "\u001b[0;31mAttributeError\u001b[0m                            Traceback (most recent call last)",
      "\u001b[0;32m<ipython-input-24-a9e10ed9f43d>\u001b[0m in \u001b[0;36m<module>\u001b[0;34m()\u001b[0m\n\u001b[0;32m----> 1\u001b[0;31m \u001b[0;34m[\u001b[0m\u001b[0ms\u001b[0m\u001b[0;34m.\u001b[0m\u001b[0marea\u001b[0m\u001b[0;34m(\u001b[0m\u001b[0;34m)\u001b[0m \u001b[0;32mfor\u001b[0m \u001b[0ms\u001b[0m \u001b[0;32min\u001b[0m \u001b[0mshapes\u001b[0m\u001b[0;34m]\u001b[0m\u001b[0;34m\u001b[0m\u001b[0m\n\u001b[0m",
      "\u001b[0;32m<ipython-input-24-a9e10ed9f43d>\u001b[0m in \u001b[0;36m<listcomp>\u001b[0;34m(.0)\u001b[0m\n\u001b[0;32m----> 1\u001b[0;31m \u001b[0;34m[\u001b[0m\u001b[0ms\u001b[0m\u001b[0;34m.\u001b[0m\u001b[0marea\u001b[0m\u001b[0;34m(\u001b[0m\u001b[0;34m)\u001b[0m \u001b[0;32mfor\u001b[0m \u001b[0ms\u001b[0m \u001b[0;32min\u001b[0m \u001b[0mshapes\u001b[0m\u001b[0;34m]\u001b[0m\u001b[0;34m\u001b[0m\u001b[0m\n\u001b[0m",
      "\u001b[0;31mAttributeError\u001b[0m: 'Triangle' object has no attribute 'area'"
     ]
    }
   ],
   "source": [
    "[s.area() for s in shapes]"
   ]
  },
  {
   "cell_type": "markdown",
   "metadata": {},
   "source": [
    "Basic idea of classes in python does **not** work **with types**. It just works **with atrributes**. we just make use of object attributes without worrying what object it it. If attribute is not there it fails. Basic logic while implementing \n",
    "above list comprehension was that the list contains shapes which has attribute area()."
   ]
  },
  {
   "cell_type": "markdown",
   "metadata": {},
   "source": [
    "### Why Classes? ###\n",
    "Lets try to see with simple example. Let us try to model a bank account. Initialy let it be a module with the required functions in it"
   ]
  },
  {
   "cell_type": "code",
   "execution_count": 19,
   "metadata": {},
   "outputs": [
    {
     "name": "stdout",
     "output_type": "stream",
     "text": [
      "Overwriting bank0.py\n"
     ]
    }
   ],
   "source": [
    "%%file bank0.py\n",
    "\n",
    "balance = 0\n",
    "\n",
    "def deposit(amount):\n",
    "    global balance\n",
    "    balance = balance + amount\n",
    "\n",
    "def withdraw(amount):\n",
    "    global balance\n",
    "    balance = balance - amount\n",
    "\n",
    "def get_balance():\n",
    "    return balance\n",
    "\n",
    "def main():\n",
    "    deposit(100)\n",
    "    withdraw(40)\n",
    "    print(get_balance())\n",
    "    \n",
    "    deposit(20)\n",
    "    print(get_balance())\n",
    "\n",
    "if __name__ == \"__main__\":\n",
    "    main()\n"
   ]
  },
  {
   "cell_type": "code",
   "execution_count": 20,
   "metadata": {},
   "outputs": [
    {
     "name": "stdout",
     "output_type": "stream",
     "text": [
      "60\r\n",
      "80\r\n"
     ]
    }
   ],
   "source": [
    "!python bank0.py"
   ]
  },
  {
   "cell_type": "markdown",
   "metadata": {},
   "source": [
    "But what if we want to model multiple accounts? the bank0 module allows only one instance of banck account."
   ]
  },
  {
   "cell_type": "code",
   "execution_count": 23,
   "metadata": {},
   "outputs": [
    {
     "name": "stdout",
     "output_type": "stream",
     "text": [
      "Overwriting bank1.py\n"
     ]
    }
   ],
   "source": [
    "%%file bank1.py\n",
    "\"\"\"Implementation of bank accounts with support for multiple accounts.\n",
    "\"\"\"\n",
    "\n",
    "def make_account():\n",
    "    return {\"balance\": 0}\n",
    "\n",
    "def deposit(account, amount):\n",
    "    account[\"balance\"] += amount\n",
    "\n",
    "def withdraw(account, amount):\n",
    "    account[\"balance\"] -= amount\n",
    "    \n",
    "def get_balance(account):\n",
    "    return account[\"balance\"]\n",
    "\n",
    "def main():\n",
    "    a1 = make_account()\n",
    "    a2 = make_account()\n",
    "    \n",
    "    deposit(a1, 100)\n",
    "    deposit(a2, 50)\n",
    "    print(get_balance(a1), get_balance(a2))\n",
    "    \n",
    "    withdraw(a1, 30)\n",
    "    withdraw(a2, 20)\n",
    "    print(get_balance(a1), get_balance(a2))\n",
    "\n",
    "if __name__ == \"__main__\":\n",
    "    main()"
   ]
  },
  {
   "cell_type": "code",
   "execution_count": 24,
   "metadata": {},
   "outputs": [
    {
     "name": "stdout",
     "output_type": "stream",
     "text": [
      "100 50\r\n",
      "70 30\r\n"
     ]
    }
   ],
   "source": [
    "!python bank1.py"
   ]
  },
  {
   "cell_type": "markdown",
   "metadata": {},
   "source": [
    "- functions **manipulate** data nicely, while classes **model** the data nicely. A class is a great way of describing what something is rather than manipulating data. Above example shows that you can model data even with functions. but now lets try it using classes."
   ]
  },
  {
   "cell_type": "code",
   "execution_count": 26,
   "metadata": {},
   "outputs": [
    {
     "name": "stdout",
     "output_type": "stream",
     "text": [
      "Overwriting bank2.py\n"
     ]
    }
   ],
   "source": [
    "%%file bank2.py\n",
    "\"\"\"Class-based implementation of bank account.\n",
    "\"\"\"\n",
    "\n",
    "class BankAccount:\n",
    "    def __init__(self):\n",
    "        self.balance = 0\n",
    "\n",
    "    def deposit(self, amount):\n",
    "        self.balance += amount\n",
    "\n",
    "    def withdraw(self, amount):\n",
    "        self.balance -= amount\n",
    "\n",
    "    def get_balance(self):\n",
    "        return self.balance\n",
    "\n",
    "def main():\n",
    "    a1 = BankAccount()\n",
    "    a2 = BankAccount()\n",
    "    \n",
    "    a1.deposit(100)\n",
    "    a2.deposit(50)\n",
    "    print(a1.get_balance(), a2.get_balance())\n",
    "    \n",
    "    a1.withdraw(30)\n",
    "    a2.withdraw(20)\n",
    "    print(a1.get_balance(), a2.get_balance())\n",
    "\n",
    "if __name__ == \"__main__\":\n",
    "    main()"
   ]
  },
  {
   "cell_type": "code",
   "execution_count": 27,
   "metadata": {},
   "outputs": [
    {
     "name": "stdout",
     "output_type": "stream",
     "text": [
      "100 50\r\n",
      "70 30\r\n"
     ]
    }
   ],
   "source": [
    "!python bank2.py"
   ]
  },
  {
   "cell_type": "markdown",
   "metadata": {},
   "source": [
    "- If you have a number of related functions that you just want to bundle, a module will be do the work.\n",
    "- The purpose of a class is to bundle a data structure which represents some logical entity with the operations that work with this data structure. ** Classes are convenient namespaces **\n",
    "- One of the big advantages of using OOP is extensibility."
   ]
  },
  {
   "cell_type": "code",
   "execution_count": 28,
   "metadata": {
    "collapsed": true
   },
   "outputs": [],
   "source": [
    "class Point:\n",
    "    def __init__(self, x, y):\n",
    "        self.x = x\n",
    "        self.y = y"
   ]
  },
  {
   "cell_type": "markdown",
   "metadata": {},
   "source": [
    "Suppose you have code base with this class everywhere in data analysis as well as in visualization. There is a need to add color to point in visualization module!"
   ]
  },
  {
   "cell_type": "code",
   "execution_count": 29,
   "metadata": {
    "collapsed": true
   },
   "outputs": [],
   "source": [
    "class ColoredPoint(Point):\n",
    "    color = (0,0,0) #r,g,b\n",
    "    \n",
    "    def get_color(self):\n",
    "        return self.color\n"
   ]
  },
  {
   "cell_type": "code",
   "execution_count": 30,
   "metadata": {},
   "outputs": [
    {
     "name": "stdout",
     "output_type": "stream",
     "text": [
      "10\n",
      "(0, 0, 0)\n"
     ]
    }
   ],
   "source": [
    "p = ColoredPoint(10,5)\n",
    "print(p.x)\n",
    "print(p.get_color())"
   ]
  },
  {
   "cell_type": "markdown",
   "metadata": {},
   "source": [
    "### Class object ###\n",
    "Just like functions, classes come into existence only when the code they are defined with is accessed by python interpreter. That means if you write a class defination in a branch of condition, you would potentialy hide the defination of class for some condition. And just like functions, classes are also some kind of objects."
   ]
  },
  {
   "cell_type": "code",
   "execution_count": 31,
   "metadata": {
    "collapsed": true
   },
   "outputs": [],
   "source": [
    "class ClassA:\n",
    "    value = 42\n",
    "    \n",
    "    def f(self):\n",
    "        return \"Hello from ClassA\""
   ]
  },
  {
   "cell_type": "code",
   "execution_count": 32,
   "metadata": {},
   "outputs": [
    {
     "data": {
      "text/plain": [
       "__main__.ClassA"
      ]
     },
     "execution_count": 32,
     "metadata": {},
     "output_type": "execute_result"
    }
   ],
   "source": [
    "ClassA"
   ]
  },
  {
   "cell_type": "code",
   "execution_count": 33,
   "metadata": {},
   "outputs": [
    {
     "data": {
      "text/plain": [
       "42"
      ]
     },
     "execution_count": 33,
     "metadata": {},
     "output_type": "execute_result"
    }
   ],
   "source": [
    "ClassA.value"
   ]
  },
  {
   "cell_type": "code",
   "execution_count": 34,
   "metadata": {},
   "outputs": [
    {
     "data": {
      "text/plain": [
       "<function __main__.ClassA.f>"
      ]
     },
     "execution_count": 34,
     "metadata": {},
     "output_type": "execute_result"
    }
   ],
   "source": [
    "ClassA.f"
   ]
  },
  {
   "cell_type": "markdown",
   "metadata": {},
   "source": [
    "### Instance Object ###\n",
    "Instance object of class is created when we call class defination as we call function."
   ]
  },
  {
   "cell_type": "code",
   "execution_count": 35,
   "metadata": {
    "collapsed": true
   },
   "outputs": [],
   "source": [
    "x = ClassA()"
   ]
  },
  {
   "cell_type": "code",
   "execution_count": 36,
   "metadata": {},
   "outputs": [
    {
     "data": {
      "text/plain": [
       "<__main__.ClassA at 0x7fc9c402d860>"
      ]
     },
     "execution_count": 36,
     "metadata": {},
     "output_type": "execute_result"
    }
   ],
   "source": [
    "x"
   ]
  },
  {
   "cell_type": "code",
   "execution_count": 37,
   "metadata": {},
   "outputs": [
    {
     "data": {
      "text/plain": [
       "42"
      ]
     },
     "execution_count": 37,
     "metadata": {},
     "output_type": "execute_result"
    }
   ],
   "source": [
    "x.value"
   ]
  },
  {
   "cell_type": "markdown",
   "metadata": {},
   "source": [
    "Nothing stops you from adding new attribute to instance after creation! it can be added seemlessly without affecting rest attributes in the object."
   ]
  },
  {
   "cell_type": "code",
   "execution_count": 38,
   "metadata": {
    "collapsed": true
   },
   "outputs": [],
   "source": [
    "x.myown_value = 43"
   ]
  },
  {
   "cell_type": "code",
   "execution_count": 39,
   "metadata": {},
   "outputs": [
    {
     "data": {
      "text/plain": [
       "43"
      ]
     },
     "execution_count": 39,
     "metadata": {},
     "output_type": "execute_result"
    }
   ],
   "source": [
    "x.myown_value"
   ]
  },
  {
   "cell_type": "code",
   "execution_count": 40,
   "metadata": {},
   "outputs": [
    {
     "data": {
      "text/plain": [
       "42"
      ]
     },
     "execution_count": 40,
     "metadata": {},
     "output_type": "execute_result"
    }
   ],
   "source": [
    "x.value"
   ]
  },
  {
   "cell_type": "code",
   "execution_count": 41,
   "metadata": {},
   "outputs": [
    {
     "data": {
      "text/plain": [
       "<bound method ClassA.f of <__main__.ClassA object at 0x7fc9c402d860>>"
      ]
     },
     "execution_count": 41,
     "metadata": {},
     "output_type": "execute_result"
    }
   ],
   "source": [
    "x.f"
   ]
  },
  {
   "cell_type": "code",
   "execution_count": 42,
   "metadata": {},
   "outputs": [
    {
     "data": {
      "text/plain": [
       "<function __main__.ClassA.f>"
      ]
     },
     "execution_count": 42,
     "metadata": {},
     "output_type": "execute_result"
    }
   ],
   "source": [
    "ClassA.f"
   ]
  },
  {
   "cell_type": "markdown",
   "metadata": {},
   "source": [
    "Note that `x.f` and `ClassA.f` are two different things. one is method object and one is just a function. "
   ]
  },
  {
   "cell_type": "code",
   "execution_count": 43,
   "metadata": {},
   "outputs": [
    {
     "data": {
      "text/plain": [
       "'Hello from ClassA'"
      ]
     },
     "execution_count": 43,
     "metadata": {},
     "output_type": "execute_result"
    }
   ],
   "source": [
    "method = x.f\n",
    "method()"
   ]
  },
  {
   "cell_type": "code",
   "execution_count": 44,
   "metadata": {},
   "outputs": [
    {
     "ename": "TypeError",
     "evalue": "f() missing 1 required positional argument: 'self'",
     "output_type": "error",
     "traceback": [
      "\u001b[0;31m---------------------------------------------------------------------------\u001b[0m",
      "\u001b[0;31mTypeError\u001b[0m                                 Traceback (most recent call last)",
      "\u001b[0;32m<ipython-input-44-e0bd045424f7>\u001b[0m in \u001b[0;36m<module>\u001b[0;34m()\u001b[0m\n\u001b[1;32m      1\u001b[0m \u001b[0mfunc\u001b[0m \u001b[0;34m=\u001b[0m \u001b[0mClassA\u001b[0m\u001b[0;34m.\u001b[0m\u001b[0mf\u001b[0m\u001b[0;34m\u001b[0m\u001b[0m\n\u001b[0;32m----> 2\u001b[0;31m \u001b[0mfunc\u001b[0m\u001b[0;34m(\u001b[0m\u001b[0;34m)\u001b[0m\u001b[0;34m\u001b[0m\u001b[0m\n\u001b[0m",
      "\u001b[0;31mTypeError\u001b[0m: f() missing 1 required positional argument: 'self'"
     ]
    }
   ],
   "source": [
    "func = ClassA.f\n",
    "func()"
   ]
  },
  {
   "cell_type": "code",
   "execution_count": 45,
   "metadata": {},
   "outputs": [
    {
     "data": {
      "text/plain": [
       "'Hello from ClassA'"
      ]
     },
     "execution_count": 45,
     "metadata": {},
     "output_type": "execute_result"
    }
   ],
   "source": [
    "func(x) # needs argument, instance object"
   ]
  },
  {
   "cell_type": "code",
   "execution_count": 46,
   "metadata": {},
   "outputs": [
    {
     "data": {
      "text/plain": [
       "'Hello from ClassA'"
      ]
     },
     "execution_count": 46,
     "metadata": {},
     "output_type": "execute_result"
    }
   ],
   "source": [
    "method = x.f\n",
    "method() # this actually calls function f with x as its first argument"
   ]
  },
  {
   "cell_type": "markdown",
   "metadata": {},
   "source": [
    "Method object is special function packed with pointer to object instance and function defined in class. This also proves that functions defined as part of class are nothing special. They are just convensions. Logically speaking this function can be written anywhere, but conventions say that we should group the functions wich relate more to each other and to data they work with."
   ]
  },
  {
   "cell_type": "code",
   "execution_count": 47,
   "metadata": {
    "collapsed": true
   },
   "outputs": [],
   "source": [
    "def outside_increment(self):\n",
    "    self.value += 1\n",
    "    \n",
    "class A:\n",
    "    value = 0\n",
    "    \n",
    "    def increment(self):\n",
    "        self.value +=1"
   ]
  },
  {
   "cell_type": "markdown",
   "metadata": {},
   "source": [
    "Note that `outside_increment` and `A.increment` are actually same, but writing a function outside class is only confusing but not adding extra usefulness. "
   ]
  },
  {
   "cell_type": "markdown",
   "metadata": {
    "collapsed": true
   },
   "source": [
    "### customizing classes ###\n",
    "- special methods\n",
    " 1. `__str__`\n",
    " 2. `__repr__`\n",
    " 3. `__getattribute__`\n",
    " 4. `__setattr__`\n",
    " 5. mathematical operators, conditional operators etc."
   ]
  },
  {
   "cell_type": "code",
   "execution_count": null,
   "metadata": {
    "collapsed": true
   },
   "outputs": [],
   "source": []
  }
 ],
 "metadata": {
  "kernelspec": {
   "display_name": "Python 3",
   "language": "python",
   "name": "python3"
  },
  "language_info": {
   "codemirror_mode": {
    "name": "ipython",
    "version": 3
   },
   "file_extension": ".py",
   "mimetype": "text/x-python",
   "name": "python",
   "nbconvert_exporter": "python",
   "pygments_lexer": "ipython3",
   "version": "3.5.2"
  }
 },
 "nbformat": 4,
 "nbformat_minor": 2
}
