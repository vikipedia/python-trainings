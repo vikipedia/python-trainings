{
 "cells": [
  {
   "cell_type": "markdown",
   "metadata": {},
   "source": [
    "### Opening outlook using python\n",
    "\n",
    "Create virtual environment using (use cmd prompt to do this)\n",
    "\n",
    "`python.exe -m venv pywinservices`\n",
    "\n",
    "activate the environment using\n",
    "\n",
    "`.\\pytwinservices\\Scripts\\activate.bat`\n",
    "\n",
    "on activated environment install following package and use follwoing code\n",
    "\n",
    "`python -m pip install pypiwin32 typer`"
   ]
  },
  {
   "cell_type": "code",
   "execution_count": 2,
   "metadata": {},
   "outputs": [
    {
     "name": "stdout",
     "output_type": "stream",
     "text": [
      "Overwriting outlook.py\n"
     ]
    }
   ],
   "source": [
    "%%file outlook.py\n",
    "import win32com.client\n",
    "import typer\n",
    "\n",
    "app = typer.Typer()\n",
    "\n",
    "@app.command()\n",
    "def print_emails(folderindex:int=6, emailcount:int=3): # with this you can change \n",
    "    \"\"\"\n",
    "    folderindex 3, 4, 5, 6 ..Trash, Outbox, Sent, Inbox \n",
    "    \"\"\"                                                    # folders,and emailcount, \n",
    "                                                        # try different numbers\n",
    "    outlook = win32com.client.Dispatch(\"Outlook.Application\").GetNamespace(\"MAPI\")\n",
    "    inbox = outlook.GetDefaultFolder(folderindex)\n",
    "    messages = inbox.Items\n",
    "    for i in range(emailcount):\n",
    "        message = messages[i]\n",
    "        print(message.Subject)\n",
    "        print(message.Body)\n",
    "        print(\"=\"*30)\n",
    "        \n",
    "if __name__ == \"__main__\":\n",
    "    app()"
   ]
  },
  {
   "cell_type": "code",
   "execution_count": null,
   "metadata": {},
   "outputs": [],
   "source": []
  },
  {
   "cell_type": "markdown",
   "metadata": {},
   "source": [
    "### Database"
   ]
  },
  {
   "cell_type": "code",
   "execution_count": 29,
   "metadata": {},
   "outputs": [],
   "source": [
    "import sqlite3"
   ]
  },
  {
   "cell_type": "code",
   "execution_count": 30,
   "metadata": {},
   "outputs": [
    {
     "data": {
      "text/plain": [
       "[('alice', 'alice@example.com')]"
      ]
     },
     "execution_count": 30,
     "metadata": {},
     "output_type": "execute_result"
    }
   ],
   "source": [
    "conn = sqlite3.connect(\"a.db\")\n",
    "cur = conn.cursor()\n",
    "result = cur.execute(\"select * from person\")\n",
    "result.fetchall()"
   ]
  },
  {
   "cell_type": "code",
   "execution_count": 34,
   "metadata": {},
   "outputs": [
    {
     "name": "stdout",
     "output_type": "stream",
     "text": [
      "select * from person where email='alice@example.com'\n"
     ]
    },
    {
     "data": {
      "text/plain": [
       "('alice', 'alice@example.com')"
      ]
     },
     "execution_count": 34,
     "metadata": {},
     "output_type": "execute_result"
    }
   ],
   "source": [
    "# WARNING: not a good implementation\n",
    "def find_person(email):\n",
    "    q = \"select * from person where email='{}'\".format(email)\n",
    "    print(q)\n",
    "    cur = conn.cursor()\n",
    "    result = cur.execute(q)\n",
    "    return result.fetchone()\n",
    "\n",
    "find_person(\"alice@example.com\")"
   ]
  },
  {
   "cell_type": "code",
   "execution_count": 37,
   "metadata": {},
   "outputs": [
    {
     "data": {
      "text/plain": [
       "('alice', 'alice@example.com')"
      ]
     },
     "execution_count": 37,
     "metadata": {},
     "output_type": "execute_result"
    }
   ],
   "source": [
    "def find_person(email):\n",
    "    query = \"select * from person where email=?\"\n",
    "    cur = conn.cursor()\n",
    "    result = cur.execute(query, (email,))\n",
    "    return result.fetchone()\n",
    "    \n",
    "find_person(\"alice@example.com\")"
   ]
  },
  {
   "cell_type": "code",
   "execution_count": 38,
   "metadata": {},
   "outputs": [
    {
     "data": {
      "text/plain": [
       "[('alice', 'alice@example.com')]"
      ]
     },
     "execution_count": 38,
     "metadata": {},
     "output_type": "execute_result"
    }
   ],
   "source": [
    "def query(conn, querystring, params=()):\n",
    "    cur = conn.cursor()\n",
    "    result = cur.execute(querystring, params)\n",
    "    return result.fetchall()\n",
    "\n",
    "query(conn, \"select * from person where name=?\", (\"alice\",))\n"
   ]
  },
  {
   "cell_type": "code",
   "execution_count": 39,
   "metadata": {},
   "outputs": [
    {
     "data": {
      "text/plain": [
       "[('alice', 'alice@example.com')]"
      ]
     },
     "execution_count": 39,
     "metadata": {},
     "output_type": "execute_result"
    }
   ],
   "source": [
    "query(conn, \"select * from person\")"
   ]
  },
  {
   "cell_type": "code",
   "execution_count": 40,
   "metadata": {},
   "outputs": [],
   "source": [
    "conn.close()"
   ]
  },
  {
   "cell_type": "code",
   "execution_count": 41,
   "metadata": {},
   "outputs": [],
   "source": [
    "import pandas as pd\n",
    "conn = sqlite3.connect(\"wallet.db\")"
   ]
  },
  {
   "cell_type": "code",
   "execution_count": 48,
   "metadata": {},
   "outputs": [],
   "source": [
    "df = pd.read_csv(\"wallet1.csv\")"
   ]
  },
  {
   "cell_type": "code",
   "execution_count": 50,
   "metadata": {},
   "outputs": [
    {
     "data": {
      "text/plain": [
       "100"
      ]
     },
     "execution_count": 50,
     "metadata": {},
     "output_type": "execute_result"
    }
   ],
   "source": [
    "df.to_sql(\"wallet\", con=conn, if_exists=\"replace\")"
   ]
  },
  {
   "cell_type": "code",
   "execution_count": 51,
   "metadata": {},
   "outputs": [],
   "source": [
    "r = conn.cursor().execute(\"select * from wallet\")"
   ]
  },
  {
   "cell_type": "code",
   "execution_count": 52,
   "metadata": {},
   "outputs": [
    {
     "name": "stdout",
     "output_type": "stream",
     "text": [
      "(0, 0, '2020-12-22 07:15:07.815379', 'Utility', 'Electricity', 418.3354775217243)\n",
      "(1, 1, '2021-08-28 15:15:07.815379', 'Travel', 'Auto', 301.3777497294401)\n",
      "(2, 2, '2021-04-01 17:15:07.815379', 'Books', 'Flipcart', 176.64556316410133)\n",
      "(3, 3, '2021-02-25 16:15:07.815379', 'Travel', 'Auto', 157.07182841795515)\n",
      "(4, 4, '2021-03-05 09:15:07.815379', 'Utility', 'Phone', 107.68343696792935)\n",
      "(5, 5, '2021-07-29 12:15:07.815379', 'Travel', 'Metro', 339.4906184538765)\n",
      "(6, 6, '2021-02-03 08:15:07.815379', 'Travel', 'Taxi', 348.49297261177713)\n",
      "(7, 7, '2021-02-10 15:15:07.815379', 'Food', 'Zomato', 495.4599281797951)\n",
      "(8, 8, '2021-01-23 13:15:07.815379', 'Music', 'Amazon', 443.53640829192335)\n",
      "(9, 9, '2021-02-15 08:15:07.815379', 'Food', 'Zomato', 315.50928061465976)\n",
      "(10, 10, '2021-02-11 14:15:07.815379', 'Travel', 'Metro', 345.89996036923293)\n",
      "(11, 11, '2020-10-15 08:15:07.815379', 'Food', 'Swiggy', 427.99497007803296)\n",
      "(12, 12, '2021-01-29 11:15:07.815379', 'Utility', 'Phone', 308.71135498523984)\n",
      "(13, 13, '2021-05-30 09:15:07.815379', 'Books', 'Amazon', 153.8028349959245)\n",
      "(14, 14, '2021-06-12 12:15:07.815379', 'Music', 'spotify', 295.95535498165725)\n",
      "(15, 15, '2021-02-07 13:15:07.815379', 'Travel', 'Auto', 390.6120017299408)\n",
      "(16, 16, '2021-06-10 12:15:07.815379', 'Music', 'Netflix', 304.2118311911406)\n",
      "(17, 17, '2021-02-05 07:15:07.815379', 'Travel', 'Taxi', 361.6209409660257)\n",
      "(18, 18, '2020-10-22 15:15:07.815379', 'Food', 'Swiggy', 447.4365389177168)\n",
      "(19, 19, '2020-11-20 11:15:07.815379', 'Food', 'Swiggy', 264.8653450400193)\n",
      "(20, 20, '2021-01-18 08:15:07.815379', 'Travel', 'Taxi', 163.8499257229653)\n",
      "(21, 21, '2021-05-26 09:15:07.815379', 'Books', 'Flipcart', 124.37875915215405)\n",
      "(22, 22, '2020-10-07 15:15:07.815379', 'Utility', 'Electricity', 448.6176040109191)\n",
      "(23, 23, '2021-08-11 11:15:07.815379', 'Food', 'Hotel', 115.63502792106505)\n",
      "(24, 24, '2021-02-01 16:15:07.815379', 'Music', 'Netflix', 127.00735257654728)\n",
      "(25, 25, '2021-03-18 09:15:07.815379', 'Books', 'Amazon', 410.88379060061874)\n",
      "(26, 26, '2021-05-28 11:15:07.815379', 'Books', 'Amazon Kindle', 225.38984520602625)\n",
      "(27, 27, '2021-04-28 10:15:07.815379', 'Music', 'spotify', 100.6940793006998)\n",
      "(28, 28, '2021-08-25 09:15:07.815379', 'Travel', 'Taxi', 365.7390292317421)\n",
      "(29, 29, '2021-09-08 15:15:07.815379', 'Food', 'Swiggy', 477.4273830119777)\n",
      "(30, 30, '2021-01-01 17:15:07.815379', 'Food', 'Zomato', 112.64443770713042)\n",
      "(31, 31, '2021-08-30 10:15:07.815379', 'Travel', 'Metro', 338.3506457426912)\n",
      "(32, 32, '2021-03-07 08:15:07.815379', 'Travel', 'Taxi', 467.2250511034058)\n",
      "(33, 33, '2020-12-22 17:15:07.815379', 'Music', 'spotify', 479.436093374705)\n",
      "(34, 34, '2021-07-24 09:15:07.815379', 'Food', 'Swiggy', 211.02999249741663)\n",
      "(35, 35, '2021-01-16 07:15:07.815379', 'Travel', 'Taxi', 354.51689121024253)\n",
      "(36, 36, '2021-07-27 14:15:07.815379', 'Travel', 'Metro', 434.1058960264933)\n",
      "(37, 37, '2021-08-12 10:15:07.815379', 'Food', 'Swiggy', 229.54874118750448)\n",
      "(38, 38, '2021-07-25 08:15:07.815379', 'Food', 'Swiggy', 369.85192572939593)\n",
      "(39, 39, '2021-01-14 12:15:07.815379', 'Music', 'Amazon', 243.64743248564815)\n",
      "(40, 40, '2021-07-01 07:15:07.815379', 'Music', 'Netflix', 429.157774888694)\n",
      "(41, 41, '2021-04-05 14:15:07.815379', 'Food', 'Zomato', 132.02891156372027)\n",
      "(42, 42, '2021-02-07 13:15:07.815379', 'Books', 'Flipcart', 204.20687859075693)\n",
      "(43, 43, '2020-11-17 08:15:07.815379', 'Food', 'Hotel', 264.3160925083697)\n",
      "(44, 44, '2020-12-26 15:15:07.815379', 'Music', 'Amazon', 135.76771299310093)\n",
      "(45, 45, '2021-05-03 08:15:07.815379', 'Utility', 'Phone', 439.0713008628418)\n",
      "(46, 46, '2021-03-03 17:15:07.815379', 'Books', 'Amazon', 250.4081973171163)\n",
      "(47, 47, '2021-06-10 09:15:07.815379', 'Books', 'Amazon Kindle', 438.5552776315245)\n",
      "(48, 48, '2021-02-22 14:15:07.815379', 'Travel', 'Metro', 211.18254910833645)\n",
      "(49, 49, '2021-06-12 13:15:07.815379', 'Utility', 'Electricity', 148.24880160403643)\n",
      "(50, 50, '2020-10-08 11:15:07.815379', 'Utility', 'Phone', 163.55563419924985)\n",
      "(51, 51, '2021-01-20 12:15:07.815379', 'Food', 'Swiggy', 309.58723368544395)\n",
      "(52, 52, '2020-10-17 15:15:07.815379', 'Music', 'spotify', 454.1212541379086)\n",
      "(53, 53, '2021-05-15 16:15:07.815379', 'Food', 'Hotel', 362.2648612294762)\n",
      "(54, 54, '2021-07-19 13:15:07.815379', 'Travel', 'Metro', 127.317995072046)\n",
      "(55, 55, '2021-07-01 16:15:07.815379', 'Utility', 'Electricity', 160.39727446149246)\n",
      "(56, 56, '2021-01-06 12:15:07.815379', 'Books', 'Amazon Kindle', 459.64286672906553)\n",
      "(57, 57, '2021-05-10 11:15:07.815379', 'Music', 'spotify', 399.1312865363829)\n",
      "(58, 58, '2020-09-23 11:15:07.815379', 'Music', 'Netflix', 211.40800191123608)\n",
      "(59, 59, '2020-11-01 09:15:07.815379', 'Books', 'Amazon Kindle', 409.49565458666495)\n",
      "(60, 60, '2021-04-05 07:15:07.815379', 'Utility', 'Electricity', 118.15547598859476)\n",
      "(61, 61, '2021-01-10 09:15:07.815379', 'Food', 'Swiggy', 182.63688719152623)\n",
      "(62, 62, '2021-08-26 11:15:07.815379', 'Utility', 'Electricity', 191.4426870922433)\n",
      "(63, 63, '2021-08-18 15:15:07.815379', 'Music', 'Amazon', 157.34050464688707)\n",
      "(64, 64, '2020-12-19 14:15:07.815379', 'Music', 'Amazon', 196.30725905139167)\n",
      "(65, 65, '2021-02-11 08:15:07.815379', 'Travel', 'Auto', 433.966000008112)\n",
      "(66, 66, '2020-12-29 15:15:07.815379', 'Music', 'Netflix', 466.7562984772105)\n",
      "(67, 67, '2021-02-17 11:15:07.815379', 'Travel', 'Metro', 178.26125745738483)\n",
      "(68, 68, '2021-01-06 16:15:07.815379', 'Music', 'Netflix', 489.5069570634831)\n",
      "(69, 69, '2021-05-18 10:15:07.815379', 'Books', 'Amazon', 340.04846422559376)\n",
      "(70, 70, '2021-05-01 10:15:07.815379', 'Utility', 'Electricity', 249.7879331429329)\n",
      "(71, 71, '2020-12-25 13:15:07.815379', 'Utility', 'Phone', 359.72736244936607)\n",
      "(72, 72, '2021-01-11 16:15:07.815379', 'Food', 'Hotel', 467.6109243091568)\n",
      "(73, 73, '2021-07-21 13:15:07.815379', 'Music', 'Netflix', 259.4012248221076)\n",
      "(74, 74, '2020-10-28 14:15:07.815379', 'Food', 'Swiggy', 272.16030559915646)\n",
      "(75, 75, '2021-06-23 14:15:07.815379', 'Travel', 'Metro', 253.5371754181714)\n",
      "(76, 76, '2021-05-14 14:15:07.815379', 'Utility', 'Phone', 288.20600505758887)\n",
      "(77, 77, '2021-04-12 13:15:07.815379', 'Music', 'spotify', 134.1256239746048)\n",
      "(78, 78, '2020-12-30 12:15:07.815379', 'Books', 'Amazon', 459.04531817691054)\n",
      "(79, 79, '2021-04-01 10:15:07.815379', 'Books', 'Amazon Kindle', 131.23496926686147)\n",
      "(80, 80, '2020-09-24 07:15:07.815379', 'Books', 'Flipcart', 227.4860890886676)\n",
      "(81, 81, '2021-02-18 13:15:07.815379', 'Books', 'Flipcart', 113.19434168940124)\n",
      "(82, 82, '2020-11-06 09:15:07.815379', 'Music', 'Netflix', 272.99318915513084)\n",
      "(83, 83, '2021-05-27 17:15:07.815379', 'Utility', 'Phone', 244.7405553027889)\n",
      "(84, 84, '2021-03-12 11:15:07.815379', 'Music', 'Amazon', 426.8521397500627)\n",
      "(85, 85, '2021-05-03 17:15:07.815379', 'Food', 'Zomato', 223.40166219659463)\n",
      "(86, 86, '2020-11-20 07:15:07.815379', 'Food', 'Zomato', 445.59840652333975)\n",
      "(87, 87, '2021-05-03 09:15:07.815379', 'Travel', 'Metro', 416.2565522174256)\n",
      "(88, 88, '2020-09-21 07:15:07.815379', 'Utility', 'Phone', 367.1234191920505)\n",
      "(89, 89, '2020-10-12 10:15:07.815379', 'Music', 'Amazon', 430.9708613631159)\n",
      "(90, 90, '2020-09-29 16:15:07.815379', 'Travel', 'Auto', 318.5102223236555)\n",
      "(91, 91, '2021-02-18 13:15:07.815379', 'Food', 'Swiggy', 310.13347133046216)\n",
      "(92, 92, '2021-09-11 09:15:07.815379', 'Food', 'Swiggy', 118.07140423650168)\n",
      "(93, 93, '2021-06-15 09:15:07.815379', 'Travel', 'Metro', 454.3295830387988)\n",
      "(94, 94, '2021-07-11 07:15:07.815379', 'Utility', 'Phone', 127.51664067839958)\n",
      "(95, 95, '2020-12-22 16:15:07.815379', 'Music', 'spotify', 328.9925875329303)\n",
      "(96, 96, '2020-10-04 12:15:07.815379', 'Travel', 'Metro', 143.9111171402323)\n",
      "(97, 97, '2020-11-15 10:15:07.815379', 'Books', 'Flipcart', 238.4655708329284)\n",
      "(98, 98, '2020-12-08 09:15:07.815379', 'Music', 'Netflix', 172.05164190983777)\n",
      "(99, 99, '2021-07-31 13:15:07.815379', 'Utility', 'Electricity', 345.67126353343826)\n"
     ]
    }
   ],
   "source": [
    "for item in r:\n",
    "    print(item)"
   ]
  },
  {
   "cell_type": "code",
   "execution_count": 53,
   "metadata": {},
   "outputs": [
    {
     "data": {
      "text/html": [
       "<div>\n",
       "<style scoped>\n",
       "    .dataframe tbody tr th:only-of-type {\n",
       "        vertical-align: middle;\n",
       "    }\n",
       "\n",
       "    .dataframe tbody tr th {\n",
       "        vertical-align: top;\n",
       "    }\n",
       "\n",
       "    .dataframe thead th {\n",
       "        text-align: right;\n",
       "    }\n",
       "</style>\n",
       "<table border=\"1\" class=\"dataframe\">\n",
       "  <thead>\n",
       "    <tr style=\"text-align: right;\">\n",
       "      <th></th>\n",
       "      <th>index</th>\n",
       "      <th>Unnamed: 0</th>\n",
       "      <th>date</th>\n",
       "      <th>category</th>\n",
       "      <th>description</th>\n",
       "      <th>debit</th>\n",
       "    </tr>\n",
       "  </thead>\n",
       "  <tbody>\n",
       "    <tr>\n",
       "      <th>0</th>\n",
       "      <td>0</td>\n",
       "      <td>0</td>\n",
       "      <td>2020-12-22 07:15:07.815379</td>\n",
       "      <td>Utility</td>\n",
       "      <td>Electricity</td>\n",
       "      <td>418.335478</td>\n",
       "    </tr>\n",
       "    <tr>\n",
       "      <th>1</th>\n",
       "      <td>1</td>\n",
       "      <td>1</td>\n",
       "      <td>2021-08-28 15:15:07.815379</td>\n",
       "      <td>Travel</td>\n",
       "      <td>Auto</td>\n",
       "      <td>301.377750</td>\n",
       "    </tr>\n",
       "    <tr>\n",
       "      <th>2</th>\n",
       "      <td>2</td>\n",
       "      <td>2</td>\n",
       "      <td>2021-04-01 17:15:07.815379</td>\n",
       "      <td>Books</td>\n",
       "      <td>Flipcart</td>\n",
       "      <td>176.645563</td>\n",
       "    </tr>\n",
       "    <tr>\n",
       "      <th>3</th>\n",
       "      <td>3</td>\n",
       "      <td>3</td>\n",
       "      <td>2021-02-25 16:15:07.815379</td>\n",
       "      <td>Travel</td>\n",
       "      <td>Auto</td>\n",
       "      <td>157.071828</td>\n",
       "    </tr>\n",
       "    <tr>\n",
       "      <th>4</th>\n",
       "      <td>4</td>\n",
       "      <td>4</td>\n",
       "      <td>2021-03-05 09:15:07.815379</td>\n",
       "      <td>Utility</td>\n",
       "      <td>Phone</td>\n",
       "      <td>107.683437</td>\n",
       "    </tr>\n",
       "    <tr>\n",
       "      <th>...</th>\n",
       "      <td>...</td>\n",
       "      <td>...</td>\n",
       "      <td>...</td>\n",
       "      <td>...</td>\n",
       "      <td>...</td>\n",
       "      <td>...</td>\n",
       "    </tr>\n",
       "    <tr>\n",
       "      <th>95</th>\n",
       "      <td>95</td>\n",
       "      <td>95</td>\n",
       "      <td>2020-12-22 16:15:07.815379</td>\n",
       "      <td>Music</td>\n",
       "      <td>spotify</td>\n",
       "      <td>328.992588</td>\n",
       "    </tr>\n",
       "    <tr>\n",
       "      <th>96</th>\n",
       "      <td>96</td>\n",
       "      <td>96</td>\n",
       "      <td>2020-10-04 12:15:07.815379</td>\n",
       "      <td>Travel</td>\n",
       "      <td>Metro</td>\n",
       "      <td>143.911117</td>\n",
       "    </tr>\n",
       "    <tr>\n",
       "      <th>97</th>\n",
       "      <td>97</td>\n",
       "      <td>97</td>\n",
       "      <td>2020-11-15 10:15:07.815379</td>\n",
       "      <td>Books</td>\n",
       "      <td>Flipcart</td>\n",
       "      <td>238.465571</td>\n",
       "    </tr>\n",
       "    <tr>\n",
       "      <th>98</th>\n",
       "      <td>98</td>\n",
       "      <td>98</td>\n",
       "      <td>2020-12-08 09:15:07.815379</td>\n",
       "      <td>Music</td>\n",
       "      <td>Netflix</td>\n",
       "      <td>172.051642</td>\n",
       "    </tr>\n",
       "    <tr>\n",
       "      <th>99</th>\n",
       "      <td>99</td>\n",
       "      <td>99</td>\n",
       "      <td>2021-07-31 13:15:07.815379</td>\n",
       "      <td>Utility</td>\n",
       "      <td>Electricity</td>\n",
       "      <td>345.671264</td>\n",
       "    </tr>\n",
       "  </tbody>\n",
       "</table>\n",
       "<p>100 rows × 6 columns</p>\n",
       "</div>"
      ],
      "text/plain": [
       "    index  Unnamed: 0                        date category  description  \\\n",
       "0       0           0  2020-12-22 07:15:07.815379  Utility  Electricity   \n",
       "1       1           1  2021-08-28 15:15:07.815379   Travel         Auto   \n",
       "2       2           2  2021-04-01 17:15:07.815379    Books     Flipcart   \n",
       "3       3           3  2021-02-25 16:15:07.815379   Travel         Auto   \n",
       "4       4           4  2021-03-05 09:15:07.815379  Utility        Phone   \n",
       "..    ...         ...                         ...      ...          ...   \n",
       "95     95          95  2020-12-22 16:15:07.815379    Music      spotify   \n",
       "96     96          96  2020-10-04 12:15:07.815379   Travel        Metro   \n",
       "97     97          97  2020-11-15 10:15:07.815379    Books     Flipcart   \n",
       "98     98          98  2020-12-08 09:15:07.815379    Music      Netflix   \n",
       "99     99          99  2021-07-31 13:15:07.815379  Utility  Electricity   \n",
       "\n",
       "         debit  \n",
       "0   418.335478  \n",
       "1   301.377750  \n",
       "2   176.645563  \n",
       "3   157.071828  \n",
       "4   107.683437  \n",
       "..         ...  \n",
       "95  328.992588  \n",
       "96  143.911117  \n",
       "97  238.465571  \n",
       "98  172.051642  \n",
       "99  345.671264  \n",
       "\n",
       "[100 rows x 6 columns]"
      ]
     },
     "execution_count": 53,
     "metadata": {},
     "output_type": "execute_result"
    }
   ],
   "source": [
    "pd.read_sql_query(\"select * from wallet\", con=conn)"
   ]
  },
  {
   "cell_type": "code",
   "execution_count": 14,
   "metadata": {},
   "outputs": [
    {
     "data": {
      "text/plain": [
       "\u001b[0;31mSignature:\u001b[0m\n",
       "\u001b[0mpd\u001b[0m\u001b[0;34m.\u001b[0m\u001b[0mread_sql_query\u001b[0m\u001b[0;34m(\u001b[0m\u001b[0;34m\u001b[0m\n",
       "\u001b[0;34m\u001b[0m    \u001b[0msql\u001b[0m\u001b[0;34m,\u001b[0m\u001b[0;34m\u001b[0m\n",
       "\u001b[0;34m\u001b[0m    \u001b[0mcon\u001b[0m\u001b[0;34m,\u001b[0m\u001b[0;34m\u001b[0m\n",
       "\u001b[0;34m\u001b[0m    \u001b[0mindex_col\u001b[0m\u001b[0;34m=\u001b[0m\u001b[0;32mNone\u001b[0m\u001b[0;34m,\u001b[0m\u001b[0;34m\u001b[0m\n",
       "\u001b[0;34m\u001b[0m    \u001b[0mcoerce_float\u001b[0m\u001b[0;34m=\u001b[0m\u001b[0;32mTrue\u001b[0m\u001b[0;34m,\u001b[0m\u001b[0;34m\u001b[0m\n",
       "\u001b[0;34m\u001b[0m    \u001b[0mparams\u001b[0m\u001b[0;34m=\u001b[0m\u001b[0;32mNone\u001b[0m\u001b[0;34m,\u001b[0m\u001b[0;34m\u001b[0m\n",
       "\u001b[0;34m\u001b[0m    \u001b[0mparse_dates\u001b[0m\u001b[0;34m=\u001b[0m\u001b[0;32mNone\u001b[0m\u001b[0;34m,\u001b[0m\u001b[0;34m\u001b[0m\n",
       "\u001b[0;34m\u001b[0m    \u001b[0mchunksize\u001b[0m\u001b[0;34m=\u001b[0m\u001b[0;32mNone\u001b[0m\u001b[0;34m,\u001b[0m\u001b[0;34m\u001b[0m\n",
       "\u001b[0;34m\u001b[0m\u001b[0;34m)\u001b[0m\u001b[0;34m\u001b[0m\u001b[0;34m\u001b[0m\u001b[0m\n",
       "\u001b[0;31mDocstring:\u001b[0m\n",
       "Read SQL query into a DataFrame.\n",
       "\n",
       "Returns a DataFrame corresponding to the result set of the query\n",
       "string. Optionally provide an `index_col` parameter to use one of the\n",
       "columns as the index, otherwise default integer index will be used.\n",
       "\n",
       "Parameters\n",
       "----------\n",
       "sql : str SQL query or SQLAlchemy Selectable (select or text object)\n",
       "    SQL query to be executed.\n",
       "con : SQLAlchemy connectable(engine/connection), database str URI,\n",
       "    or sqlite3 DBAPI2 connection\n",
       "    Using SQLAlchemy makes it possible to use any DB supported by that\n",
       "    library.\n",
       "    If a DBAPI2 object, only sqlite3 is supported.\n",
       "index_col : str or list of strings, optional, default: None\n",
       "    Column(s) to set as index(MultiIndex).\n",
       "coerce_float : bool, default True\n",
       "    Attempts to convert values of non-string, non-numeric objects (like\n",
       "    decimal.Decimal) to floating point. Useful for SQL result sets.\n",
       "params : list, tuple or dict, optional, default: None\n",
       "    List of parameters to pass to execute method.  The syntax used\n",
       "    to pass parameters is database driver dependent. Check your\n",
       "    database driver documentation for which of the five syntax styles,\n",
       "    described in PEP 249's paramstyle, is supported.\n",
       "    Eg. for psycopg2, uses %(name)s so use params={'name' : 'value'}.\n",
       "parse_dates : list or dict, default: None\n",
       "    - List of column names to parse as dates.\n",
       "    - Dict of ``{column_name: format string}`` where format string is\n",
       "      strftime compatible in case of parsing string times, or is one of\n",
       "      (D, s, ns, ms, us) in case of parsing integer timestamps.\n",
       "    - Dict of ``{column_name: arg dict}``, where the arg dict corresponds\n",
       "      to the keyword arguments of :func:`pandas.to_datetime`\n",
       "      Especially useful with databases without native Datetime support,\n",
       "      such as SQLite.\n",
       "chunksize : int, default None\n",
       "    If specified, return an iterator where `chunksize` is the number of\n",
       "    rows to include in each chunk.\n",
       "\n",
       "Returns\n",
       "-------\n",
       "DataFrame\n",
       "\n",
       "See Also\n",
       "--------\n",
       "read_sql_table : Read SQL database table into a DataFrame.\n",
       "read_sql\n",
       "\n",
       "Notes\n",
       "-----\n",
       "Any datetime values with time zone information parsed via the `parse_dates`\n",
       "parameter will be converted to UTC.\n",
       "\u001b[0;31mFile:\u001b[0m      ~/anaconda3/lib/python3.8/site-packages/pandas/io/sql.py\n",
       "\u001b[0;31mType:\u001b[0m      function\n"
      ]
     },
     "metadata": {},
     "output_type": "display_data"
    }
   ],
   "source": [
    "pd.read_sql_query?"
   ]
  },
  {
   "cell_type": "code",
   "execution_count": 15,
   "metadata": {},
   "outputs": [],
   "source": [
    "cur = conn.cursor()"
   ]
  },
  {
   "cell_type": "markdown",
   "metadata": {},
   "source": [
    "### read PDf files"
   ]
  },
  {
   "cell_type": "code",
   "execution_count": 1,
   "metadata": {},
   "outputs": [
    {
     "name": "stdout",
     "output_type": "stream",
     "text": [
      " \n",
      "National Load Despatch Centre  \n",
      "राष्ट्रीय भार प्\n",
      "NR WR SR ER NER TOTAL\n",
      "59882 41115 34238 21526 2730\n",
      "16-Jul-2020\n",
      "Sl \n",
      "NoVoltage Level Line Details Circu\n"
     ]
    }
   ],
   "source": [
    "import PyPDF2\n",
    "with open(\"/home/vikrant/Downloads/upload.pdf\", \"rb\") as f:\n",
    "    pdfreader = PyPDF2.PdfFileReader(f)\n",
    "    n = pdfreader.getNumPages()\n",
    "    for p in range(n):\n",
    "        page = pdfreader.getPage(p)\n",
    "        print(page.extractText()[:50])"
   ]
  },
  {
   "cell_type": "code",
   "execution_count": 4,
   "metadata": {},
   "outputs": [
    {
     "name": "stdout",
     "output_type": "stream",
     "text": [
      "NR WR SR ER NER TOTAL\n",
      "59882 41115 34238 21526 2730 159491\n",
      "1114 0 0 0 6 1120\n",
      "1398 998 807 447 48 3698\n",
      "355 33 77 149 29 643\n",
      "11 49 128 - - 187\n",
      "39.60 16.60 41.59 4.60 0.03 102\n",
      "12.6 0.0 0.0 0.0 0.0 12.6\n",
      "65470 43593 38117 21535 2827 160654\n",
      "22:20 10:29 10:00 21:20 19:41 21:26\n",
      "Region FVI < 49.7 49.7 - 49.8 49.8 - 49.9 < 49.9 49.9 - 50.05 > 50.05\n",
      "All India 0.057 0.16 1.81 13.19 15.16 76.52 8.32\n",
      "Max.Demand Shortage during Energy Met Drawal OD(+)/UD(-) Max OD Energy\n",
      "Region States Met during the \n",
      "day(MW)maximum \n",
      "Demand(MW)(MU)Schedule\n",
      "(MU)(MU) (MW)Shortage \n",
      "(MU)\n",
      "Punjab 11090 0 237.9 146.8 -1.8 49 0.0\n",
      "Haryana 9388 0 209.4 152.8 0.7 325 1.9\n",
      "Rajasthan 12087 0 262.4 119.7 5.4 809 0.0\n",
      "Delhi 5726 0 118.6 102.8 -1.4 228 0.0\n",
      "NR UP 22873 0 448.9 208.5 2.0 546 0.4\n",
      "Uttarakhand 1899 0 42.8 20.7 0.8 111 0.0\n",
      "HP 1366 0 28.6 -2.6 -0.2 91 0.0\n",
      "J&K(UT) & Ladakh(UT) 2177 544 43.1 20.3 0.4 502 10.3\n",
      "Chandigarh 295 0 6.0 5.9 0.2 61 0.0\n",
      "Chhattisgarh 3685 0 86.9 36.8 0.8 468 0.0\n",
      "Gujarat 13478 0 286.2 87.6 4.0 527 0.0\n",
      "MP 9547 0 214.7 113.8 -3.8 198 0.0\n",
      "WR Maharashtra 16964 0 365.1 138.1 -1.9 457 0.0\n",
      "Goa 405 0 8.5 8.2 -0.2 33 0.0\n",
      "DD 246 0 5.3 5.3 0.0 19 0.0\n",
      "DNH 614 0 14.0 13.8 0.2 44 0.0\n",
      "AMNSIL 777 0 17.1 4.2 0.7 272 0.0\n",
      "Andhra Pradesh 6439 0 141.0 45.6 -1.3 607 0.0\n",
      "Telangana 8614 0 167.3 81.6 -2.5 385 0.0\n",
      "SR Karnataka 8486 0 155.1 51.1 -3.4 650 0.0\n",
      "Kerala 3077 0 65.2 46.1 0.5 179 0.0\n",
      "Tamil Nadu 12371 0 271.3 125.9 -3.7 573 0.0\n",
      "Puducherry 349 0 7.5 7.5 -0.1 35 0.0\n",
      "Bihar 5740 0 111.5 106.0 -0.3 386 0.0\n",
      "DVC 2989 0 62.7 -42.6 -0.7 206 0.0\n",
      "Jharkhand 1438 0 26.3 18.5 -1.0 124 0.0\n",
      "ER Odisha 3983 0 82.2 -0.2 -0.2 325 0.0\n",
      "West Bengal 7917 0 162.6 47.2 -0.8 303 0.0\n",
      "Sikkim 100 0 1.4 1.5 -0.1 17 0.0\n",
      "Arunachal Pradesh 120 3 2.0 1.8 0.2 40 0.0\n",
      "Assam 1759 23 30.0 27.1 -0.1 135 0.0\n",
      "Manipur 183 1 2.6 2.3 0.3 37 0.0\n",
      "NER Meghalaya 307 2 5.3 -1.3 0.3 52 0.0\n",
      "Mizoram 89 1 1.5 1.2 0.0 13 0.0\n",
      "Nagaland 140 2 2.2 2.3 -0.2 23 0.0\n",
      "Tripura 298 7 4.9 5.9 0.7 66 0.0\n",
      "Bhutan Nepal Bangladesh\n",
      "53.3 -1.5 -19.1\n",
      "2337.0 -271.3 -1110.0\n",
      "NR WR SR ER NER TOTAL\n",
      "352.1 -295.4 95.0 -145.8 -6.0 0.0\n",
      "359.2 -293.7 84.6 -152.6 -3.4 -6.0\n",
      "7.1 1.6 -10.5 -6.9 2.6 -6.0\n",
      "NR WR SR ER NER TOTAL\n",
      "3838 14847 11792 3445 677 34598\n",
      "9289 23225 14423 4892 47 51876\n",
      "13127 38072 26215 8337 723 86473\n",
      "NR WR SR ER NER All India\n",
      "546 1080 370 482 7 2486\n",
      "25 13 14 0 0 52\n",
      "355 33 77 149 29 643\n",
      "26 33 47 0 0 106\n",
      "40 82 19 0 22 163\n",
      "71 73 210 5 0 359\n",
      "1063 1314 737 636 58 3809\n",
      "6.71 5.54 28.51 0.73 0.05 9.43\n",
      "42.55 10.54 45.35 24.19 49.63 29.09\n",
      "1.068\n",
      "1.102 Based on State Max Demands\n",
      "Diversity factor = Sum of regional or state maximum demands / All India maximum demand\n",
      "*Source: RLDCs for solar connected to ISTS; SLDCs for embedded solar. Limited visibility of embedded solar data.\n",
      "Executive Director-NLDCShare of RES in total generation (%)\n",
      "Share of Non-fossil fuel (Hydro,Nuclear and RES) in total generation(%)\n",
      "H. All India Demand Diversity Factor\n",
      "Based on Regional Max DemandsLignite\n",
      "Hydro\n",
      "Nuclear\n",
      "Gas, Naptha & Diesel\n",
      "RES (Wind, Solar, Biomass & Others)\n",
      "TotalState Sector\n",
      "Total\n",
      "G. Sourcewise generation (MU)\n",
      "CoalActual(MU)\n",
      "O/D/U/D(MU)\n",
      "F. Generation Outage(MW)\n",
      "Central SectorDay Peak (MW)\n",
      "E. Import/Export by Regions (in MU) - Import(+ve)/Export(-ve); OD(+)/UD(-)\n",
      "Schedule(MU)D. Transnational Exchanges (MU) - Import(+ve)/Export(-ve)   \n",
      "Actual (MU)Energy Shortage (MU)\n",
      "Maximum Demand Met During the Day (MW) (From NLDC SCADA)\n",
      "Time Of Maximum Demand Met (From NLDC SCADA)\n",
      "B. Frequency Profile (%)\n",
      "C. Power Supply Position in StatesDemand Met during Evening Peak hrs(MW) (at 2000 hrs; from RLDCs)\n",
      "Peak Shortage (MW)\n",
      "Energy Met (MU)\n",
      "Hydro Gen (MU)\n",
      "Wind Gen (MU)\n",
      "Solar Gen (MU)*Report for previous day Date of Reporting: 16-Jul-2020\n",
      "A. Power Supply Position at All India and Regional level\n",
      "\n"
     ]
    }
   ],
   "source": [
    "import PyPDF2\n",
    "with open(\"/home/vikrant/Downloads/upload.pdf\", \"rb\") as f:\n",
    "    pdfreader = PyPDF2.PdfFileReader(f)\n",
    "    n = pdfreader.getNumPages()\n",
    "    page = pdfreader.getPage(1)\n",
    "    print(page.extractText())"
   ]
  },
  {
   "cell_type": "code",
   "execution_count": 13,
   "metadata": {},
   "outputs": [],
   "source": [
    "import csv\n",
    "    \n",
    "def extract_tableA(page):\n",
    "    lines = page.split(\"\\n\")\n",
    "    tableA = lines[:9]\n",
    "    \n",
    "    headers = tableA[0].split()\n",
    "    data = [line.strip().split() for line in tableA[1:]]\n",
    "    #data = [fitem for row in data for item in row]\n",
    "    return headers, data\n",
    "\n",
    "\n",
    "def write_csv(headers, data, filename):\n",
    "    with open(filename, \"w\") as f:\n",
    "        csvf = csv.writer(f)\n",
    "        csvf.writerow(headers)\n",
    "        for row in data:\n",
    "            csvf.writerow(row)\n",
    "\n",
    "with open(\"/home/vikrant/Downloads/upload.pdf\", \"rb\") as f:\n",
    "    pdfreader = PyPDF2.PdfFileReader(f)\n",
    "    n = pdfreader.getNumPages()\n",
    "    page = pdfreader.getPage(1)\n",
    "    headers,data = extract_tableA(page.extractText())\n",
    "    write_csv(headers, data, \"tableA.csv\")"
   ]
  },
  {
   "cell_type": "code",
   "execution_count": 14,
   "metadata": {},
   "outputs": [
    {
     "name": "stdout",
     "output_type": "stream",
     "text": [
      "NR,WR,SR,ER,NER,TOTAL\n",
      "59882,41115,34238,21526,2730,159491\n",
      "1114,0,0,0,6,1120\n",
      "1398,998,807,447,48,3698\n",
      "355,33,77,149,29,643\n",
      "11,49,128,-,-,187\n",
      "39.60,16.60,41.59,4.60,0.03,102\n",
      "12.6,0.0,0.0,0.0,0.0,12.6\n",
      "65470,43593,38117,21535,2827,160654\n"
     ]
    }
   ],
   "source": [
    "!cat tableA.csv"
   ]
  },
  {
   "cell_type": "code",
   "execution_count": 15,
   "metadata": {},
   "outputs": [],
   "source": [
    "import pandas as pd"
   ]
  },
  {
   "cell_type": "code",
   "execution_count": 19,
   "metadata": {},
   "outputs": [],
   "source": [
    "df = pd.read_csv(\"tableA.csv\")"
   ]
  },
  {
   "cell_type": "code",
   "execution_count": 25,
   "metadata": {},
   "outputs": [],
   "source": [
    "df['ER'] = pd.to_numeric(df.ER.str.replace(\"-\",\"\"))"
   ]
  },
  {
   "cell_type": "code",
   "execution_count": 26,
   "metadata": {},
   "outputs": [],
   "source": [
    "df['NER'] = pd.to_numeric(df.NER.str.replace(\"-\",\"\"))"
   ]
  },
  {
   "cell_type": "code",
   "execution_count": 27,
   "metadata": {},
   "outputs": [
    {
     "data": {
      "text/html": [
       "<div>\n",
       "<style scoped>\n",
       "    .dataframe tbody tr th:only-of-type {\n",
       "        vertical-align: middle;\n",
       "    }\n",
       "\n",
       "    .dataframe tbody tr th {\n",
       "        vertical-align: top;\n",
       "    }\n",
       "\n",
       "    .dataframe thead th {\n",
       "        text-align: right;\n",
       "    }\n",
       "</style>\n",
       "<table border=\"1\" class=\"dataframe\">\n",
       "  <thead>\n",
       "    <tr style=\"text-align: right;\">\n",
       "      <th></th>\n",
       "      <th>NR</th>\n",
       "      <th>WR</th>\n",
       "      <th>SR</th>\n",
       "      <th>ER</th>\n",
       "      <th>NER</th>\n",
       "      <th>TOTAL</th>\n",
       "    </tr>\n",
       "  </thead>\n",
       "  <tbody>\n",
       "    <tr>\n",
       "      <th>0</th>\n",
       "      <td>59882.0</td>\n",
       "      <td>41115.0</td>\n",
       "      <td>34238.00</td>\n",
       "      <td>21526.0</td>\n",
       "      <td>2730.00</td>\n",
       "      <td>159491.0</td>\n",
       "    </tr>\n",
       "    <tr>\n",
       "      <th>1</th>\n",
       "      <td>1114.0</td>\n",
       "      <td>0.0</td>\n",
       "      <td>0.00</td>\n",
       "      <td>0.0</td>\n",
       "      <td>6.00</td>\n",
       "      <td>1120.0</td>\n",
       "    </tr>\n",
       "    <tr>\n",
       "      <th>2</th>\n",
       "      <td>1398.0</td>\n",
       "      <td>998.0</td>\n",
       "      <td>807.00</td>\n",
       "      <td>447.0</td>\n",
       "      <td>48.00</td>\n",
       "      <td>3698.0</td>\n",
       "    </tr>\n",
       "    <tr>\n",
       "      <th>3</th>\n",
       "      <td>355.0</td>\n",
       "      <td>33.0</td>\n",
       "      <td>77.00</td>\n",
       "      <td>149.0</td>\n",
       "      <td>29.00</td>\n",
       "      <td>643.0</td>\n",
       "    </tr>\n",
       "    <tr>\n",
       "      <th>4</th>\n",
       "      <td>11.0</td>\n",
       "      <td>49.0</td>\n",
       "      <td>128.00</td>\n",
       "      <td>NaN</td>\n",
       "      <td>NaN</td>\n",
       "      <td>187.0</td>\n",
       "    </tr>\n",
       "    <tr>\n",
       "      <th>5</th>\n",
       "      <td>39.6</td>\n",
       "      <td>16.6</td>\n",
       "      <td>41.59</td>\n",
       "      <td>4.6</td>\n",
       "      <td>0.03</td>\n",
       "      <td>102.0</td>\n",
       "    </tr>\n",
       "    <tr>\n",
       "      <th>6</th>\n",
       "      <td>12.6</td>\n",
       "      <td>0.0</td>\n",
       "      <td>0.00</td>\n",
       "      <td>0.0</td>\n",
       "      <td>0.00</td>\n",
       "      <td>12.6</td>\n",
       "    </tr>\n",
       "    <tr>\n",
       "      <th>7</th>\n",
       "      <td>65470.0</td>\n",
       "      <td>43593.0</td>\n",
       "      <td>38117.00</td>\n",
       "      <td>21535.0</td>\n",
       "      <td>2827.00</td>\n",
       "      <td>160654.0</td>\n",
       "    </tr>\n",
       "  </tbody>\n",
       "</table>\n",
       "</div>"
      ],
      "text/plain": [
       "        NR       WR        SR       ER      NER     TOTAL\n",
       "0  59882.0  41115.0  34238.00  21526.0  2730.00  159491.0\n",
       "1   1114.0      0.0      0.00      0.0     6.00    1120.0\n",
       "2   1398.0    998.0    807.00    447.0    48.00    3698.0\n",
       "3    355.0     33.0     77.00    149.0    29.00     643.0\n",
       "4     11.0     49.0    128.00      NaN      NaN     187.0\n",
       "5     39.6     16.6     41.59      4.6     0.03     102.0\n",
       "6     12.6      0.0      0.00      0.0     0.00      12.6\n",
       "7  65470.0  43593.0  38117.00  21535.0  2827.00  160654.0"
      ]
     },
     "execution_count": 27,
     "metadata": {},
     "output_type": "execute_result"
    }
   ],
   "source": [
    "df"
   ]
  },
  {
   "cell_type": "markdown",
   "metadata": {},
   "source": []
  }
 ],
 "metadata": {
  "kernelspec": {
   "display_name": "Python 3 (ipykernel)",
   "language": "python",
   "name": "python3"
  },
  "language_info": {
   "codemirror_mode": {
    "name": "ipython",
    "version": 3
   },
   "file_extension": ".py",
   "mimetype": "text/x-python",
   "name": "python",
   "nbconvert_exporter": "python",
   "pygments_lexer": "ipython3",
   "version": "3.10.1"
  }
 },
 "nbformat": 4,
 "nbformat_minor": 4
}
