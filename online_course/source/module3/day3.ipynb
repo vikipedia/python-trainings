{
 "cells": [
  {
   "cell_type": "markdown",
   "metadata": {},
   "source": [
    "### Working with json data"
   ]
  },
  {
   "cell_type": "code",
   "execution_count": 62,
   "metadata": {},
   "outputs": [],
   "source": [
    "import json"
   ]
  },
  {
   "cell_type": "code",
   "execution_count": 63,
   "metadata": {},
   "outputs": [],
   "source": [
    "pydta = {\"value\":[1, 2, 3, 4, 5],\n",
    " \"symbol\":[\"X\",\"Y\",\"Z\",\"A\",\"B\"]\n",
    "}"
   ]
  },
  {
   "cell_type": "code",
   "execution_count": 64,
   "metadata": {},
   "outputs": [
    {
     "data": {
      "text/plain": [
       "'{\"value\": [1, 2, 3, 4, 5], \"symbol\": [\"X\", \"Y\", \"Z\", \"A\", \"B\"]}'"
      ]
     },
     "execution_count": 64,
     "metadata": {},
     "output_type": "execute_result"
    }
   ],
   "source": [
    "json.dumps(pydta)"
   ]
  },
  {
   "cell_type": "markdown",
   "metadata": {},
   "source": [
    "### Example nsetools on through venv and cmd"
   ]
  },
  {
   "cell_type": "code",
   "execution_count": 66,
   "metadata": {},
   "outputs": [
    {
     "ename": "ModuleNotFoundError",
     "evalue": "No module named 'nsetools'",
     "output_type": "error",
     "traceback": [
      "\u001b[0;31m---------------------------------------------------------------------------\u001b[0m",
      "\u001b[0;31mModuleNotFoundError\u001b[0m                       Traceback (most recent call last)",
      "\u001b[0;32m<ipython-input-66-a34ea5329c4a>\u001b[0m in \u001b[0;36m<module>\u001b[0;34m\u001b[0m\n\u001b[0;32m----> 1\u001b[0;31m \u001b[0;32mfrom\u001b[0m \u001b[0mnsetools\u001b[0m \u001b[0;32mimport\u001b[0m \u001b[0mNse\u001b[0m\u001b[0;34m\u001b[0m\u001b[0;34m\u001b[0m\u001b[0m\n\u001b[0m\u001b[1;32m      2\u001b[0m \u001b[0mnse\u001b[0m \u001b[0;34m=\u001b[0m \u001b[0mNse\u001b[0m\u001b[0;34m(\u001b[0m\u001b[0;34m)\u001b[0m\u001b[0;34m\u001b[0m\u001b[0;34m\u001b[0m\u001b[0m\n\u001b[1;32m      3\u001b[0m \u001b[0mnse\u001b[0m\u001b[0;34m.\u001b[0m\u001b[0mget_quote\u001b[0m\u001b[0;34m(\u001b[0m\u001b[0;34m'infy'\u001b[0m\u001b[0;34m)\u001b[0m\u001b[0;34m\u001b[0m\u001b[0;34m\u001b[0m\u001b[0m\n\u001b[1;32m      4\u001b[0m \u001b[0mnse\u001b[0m\u001b[0;34m.\u001b[0m\u001b[0mget_quote\u001b[0m\u001b[0;34m(\u001b[0m\u001b[0;34m'infy'\u001b[0m\u001b[0;34m,\u001b[0m \u001b[0mas_json\u001b[0m\u001b[0;34m=\u001b[0m\u001b[0;32mTrue\u001b[0m\u001b[0;34m)\u001b[0m\u001b[0;34m\u001b[0m\u001b[0;34m\u001b[0m\u001b[0m\n\u001b[1;32m      5\u001b[0m \u001b[0mnse\u001b[0m\u001b[0;34m.\u001b[0m\u001b[0mget_index_list\u001b[0m\u001b[0;34m(\u001b[0m\u001b[0;34m)\u001b[0m\u001b[0;34m\u001b[0m\u001b[0;34m\u001b[0m\u001b[0m\n",
      "\u001b[0;31mModuleNotFoundError\u001b[0m: No module named 'nsetools'"
     ]
    }
   ],
   "source": [
    "from nsetools import Nse\n",
    "nse = Nse()\n",
    "nse.get_quote('infy')\n",
    "nse.get_quote('infy', as_json=True)\n",
    "nse.get_index_list()\n",
    "nse.get_index_quote(\"nifty bank\")\n",
    "nse.get_stock_codes()\n",
    "nse.get_index_list()\n",
    "nse.get_advances_declines()\n",
    "nse.get_top_gainers()\n",
    "nse.get_fno_lot_sizes()\n"
   ]
  },
  {
   "cell_type": "markdown",
   "metadata": {},
   "source": [
    "### Downloading data from internet"
   ]
  },
  {
   "cell_type": "code",
   "execution_count": 1,
   "metadata": {},
   "outputs": [],
   "source": [
    "import requests"
   ]
  },
  {
   "cell_type": "code",
   "execution_count": 4,
   "metadata": {},
   "outputs": [],
   "source": [
    "resp = requests.get(\"https://api.github.com/events\")"
   ]
  },
  {
   "cell_type": "code",
   "execution_count": 5,
   "metadata": {},
   "outputs": [
    {
     "data": {
      "text/plain": [
       "200"
      ]
     },
     "execution_count": 5,
     "metadata": {},
     "output_type": "execute_result"
    }
   ],
   "source": [
    "resp.status_code"
   ]
  },
  {
   "cell_type": "markdown",
   "metadata": {},
   "source": [
    "### get requests\n",
    "whats a get request? Search in seacrh engine is get request. for exmaple look at this request"
   ]
  },
  {
   "cell_type": "code",
   "execution_count": 24,
   "metadata": {},
   "outputs": [],
   "source": [
    "url = \"https://httpbin.org/get\""
   ]
  },
  {
   "cell_type": "code",
   "execution_count": 27,
   "metadata": {},
   "outputs": [],
   "source": [
    "resp = requests.get(url, params={\"x\":\"hello\",\"q\":\"world\"})"
   ]
  },
  {
   "cell_type": "code",
   "execution_count": 28,
   "metadata": {},
   "outputs": [
    {
     "data": {
      "text/plain": [
       "{'args': {'q': 'world', 'x': 'hello'},\n",
       " 'headers': {'Accept': '*/*',\n",
       "  'Accept-Encoding': 'gzip, deflate',\n",
       "  'Host': 'httpbin.org',\n",
       "  'User-Agent': 'python-requests/2.24.0',\n",
       "  'X-Amzn-Trace-Id': 'Root=1-5f61ad36-338a4f621e33a534db3ef368'},\n",
       " 'origin': '157.33.153.191',\n",
       " 'url': 'https://httpbin.org/get?x=hello&q=world'}"
      ]
     },
     "execution_count": 28,
     "metadata": {},
     "output_type": "execute_result"
    }
   ],
   "source": [
    "resp.json()"
   ]
  },
  {
   "cell_type": "markdown",
   "metadata": {},
   "source": [
    "### Alphavantage example"
   ]
  },
  {
   "cell_type": "code",
   "execution_count": 34,
   "metadata": {},
   "outputs": [],
   "source": [
    "API_KEY  = \"UKVFE0JLE0TBPDEF\"\n",
    "alphavantageurl = \"https://www.alphavantage.co/query\"\n"
   ]
  },
  {
   "cell_type": "code",
   "execution_count": 35,
   "metadata": {},
   "outputs": [],
   "source": [
    "params = {\"function\":\"TIME_SERIES_INTRADAY\",\n",
    "          \"apikey\":API_KEY,\n",
    "          \"interval\":\"30min\",\n",
    "          \"symbol\":\"IBM\"}\n",
    "\n",
    "resp = requests.get(alphavantageurl, params)"
   ]
  },
  {
   "cell_type": "code",
   "execution_count": 37,
   "metadata": {},
   "outputs": [],
   "source": [
    "resp.json()\n",
    "import pandas as pd"
   ]
  },
  {
   "cell_type": "code",
   "execution_count": 40,
   "metadata": {},
   "outputs": [],
   "source": [
    "data = resp.json()"
   ]
  },
  {
   "cell_type": "code",
   "execution_count": 43,
   "metadata": {},
   "outputs": [],
   "source": [
    "meta = data['Meta Data']\n",
    "del data['Meta Data']"
   ]
  },
  {
   "cell_type": "code",
   "execution_count": 55,
   "metadata": {},
   "outputs": [
    {
     "data": {
      "text/html": [
       "<div>\n",
       "<style scoped>\n",
       "    .dataframe tbody tr th:only-of-type {\n",
       "        vertical-align: middle;\n",
       "    }\n",
       "\n",
       "    .dataframe tbody tr th {\n",
       "        vertical-align: top;\n",
       "    }\n",
       "\n",
       "    .dataframe thead th {\n",
       "        text-align: right;\n",
       "    }\n",
       "</style>\n",
       "<table border=\"1\" class=\"dataframe\">\n",
       "  <thead>\n",
       "    <tr style=\"text-align: right;\">\n",
       "      <th></th>\n",
       "      <th>1. open</th>\n",
       "      <th>2. high</th>\n",
       "      <th>3. low</th>\n",
       "      <th>4. close</th>\n",
       "      <th>5. volume</th>\n",
       "    </tr>\n",
       "  </thead>\n",
       "  <tbody>\n",
       "    <tr>\n",
       "      <th>2020-09-15 20:00:00</th>\n",
       "      <td>122.4000</td>\n",
       "      <td>122.4000</td>\n",
       "      <td>122.4000</td>\n",
       "      <td>122.4000</td>\n",
       "      <td>600</td>\n",
       "    </tr>\n",
       "    <tr>\n",
       "      <th>2020-09-15 19:30:00</th>\n",
       "      <td>122.4600</td>\n",
       "      <td>122.4600</td>\n",
       "      <td>122.4600</td>\n",
       "      <td>122.4600</td>\n",
       "      <td>100</td>\n",
       "    </tr>\n",
       "    <tr>\n",
       "      <th>2020-09-15 18:30:00</th>\n",
       "      <td>122.5000</td>\n",
       "      <td>122.5500</td>\n",
       "      <td>122.5000</td>\n",
       "      <td>122.5500</td>\n",
       "      <td>474</td>\n",
       "    </tr>\n",
       "    <tr>\n",
       "      <th>2020-09-15 17:30:00</th>\n",
       "      <td>122.6900</td>\n",
       "      <td>122.6900</td>\n",
       "      <td>122.6900</td>\n",
       "      <td>122.6900</td>\n",
       "      <td>101</td>\n",
       "    </tr>\n",
       "    <tr>\n",
       "      <th>2020-09-15 16:30:00</th>\n",
       "      <td>122.4400</td>\n",
       "      <td>122.4400</td>\n",
       "      <td>122.4400</td>\n",
       "      <td>122.4400</td>\n",
       "      <td>60581</td>\n",
       "    </tr>\n",
       "    <tr>\n",
       "      <th>...</th>\n",
       "      <td>...</td>\n",
       "      <td>...</td>\n",
       "      <td>...</td>\n",
       "      <td>...</td>\n",
       "      <td>...</td>\n",
       "    </tr>\n",
       "    <tr>\n",
       "      <th>2020-09-09 14:30:00</th>\n",
       "      <td>123.2350</td>\n",
       "      <td>123.4300</td>\n",
       "      <td>123.0550</td>\n",
       "      <td>123.2100</td>\n",
       "      <td>159330</td>\n",
       "    </tr>\n",
       "    <tr>\n",
       "      <th>2020-09-09 14:00:00</th>\n",
       "      <td>123.1700</td>\n",
       "      <td>123.4500</td>\n",
       "      <td>123.0900</td>\n",
       "      <td>123.2300</td>\n",
       "      <td>190492</td>\n",
       "    </tr>\n",
       "    <tr>\n",
       "      <th>2020-09-09 13:30:00</th>\n",
       "      <td>122.8200</td>\n",
       "      <td>123.3300</td>\n",
       "      <td>122.7800</td>\n",
       "      <td>123.1800</td>\n",
       "      <td>156239</td>\n",
       "    </tr>\n",
       "    <tr>\n",
       "      <th>2020-09-09 13:00:00</th>\n",
       "      <td>122.7700</td>\n",
       "      <td>122.9840</td>\n",
       "      <td>122.7300</td>\n",
       "      <td>122.8200</td>\n",
       "      <td>134224</td>\n",
       "    </tr>\n",
       "    <tr>\n",
       "      <th>2020-09-09 12:30:00</th>\n",
       "      <td>122.5600</td>\n",
       "      <td>122.8600</td>\n",
       "      <td>122.5400</td>\n",
       "      <td>122.7422</td>\n",
       "      <td>110373</td>\n",
       "    </tr>\n",
       "  </tbody>\n",
       "</table>\n",
       "<p>100 rows × 5 columns</p>\n",
       "</div>"
      ],
      "text/plain": [
       "                      1. open   2. high    3. low  4. close 5. volume\n",
       "2020-09-15 20:00:00  122.4000  122.4000  122.4000  122.4000       600\n",
       "2020-09-15 19:30:00  122.4600  122.4600  122.4600  122.4600       100\n",
       "2020-09-15 18:30:00  122.5000  122.5500  122.5000  122.5500       474\n",
       "2020-09-15 17:30:00  122.6900  122.6900  122.6900  122.6900       101\n",
       "2020-09-15 16:30:00  122.4400  122.4400  122.4400  122.4400     60581\n",
       "...                       ...       ...       ...       ...       ...\n",
       "2020-09-09 14:30:00  123.2350  123.4300  123.0550  123.2100    159330\n",
       "2020-09-09 14:00:00  123.1700  123.4500  123.0900  123.2300    190492\n",
       "2020-09-09 13:30:00  122.8200  123.3300  122.7800  123.1800    156239\n",
       "2020-09-09 13:00:00  122.7700  122.9840  122.7300  122.8200    134224\n",
       "2020-09-09 12:30:00  122.5600  122.8600  122.5400  122.7422    110373\n",
       "\n",
       "[100 rows x 5 columns]"
      ]
     },
     "execution_count": 55,
     "metadata": {},
     "output_type": "execute_result"
    }
   ],
   "source": [
    "columns = {}\n",
    "labels = []\n",
    "for time, item in data['Time Series (30min)'].items():\n",
    "    labels.append(time)\n",
    "    for k,v in item.items():\n",
    "        columns.setdefault(k, []).append(v)\n",
    "        \n",
    "pd.DataFrame(columns, index=labels)"
   ]
  },
  {
   "cell_type": "markdown",
   "metadata": {},
   "source": [
    "### Authentication\n"
   ]
  },
  {
   "cell_type": "code",
   "execution_count": 79,
   "metadata": {},
   "outputs": [],
   "source": [
    "user = \"vikipedia\"\n",
    "pass_ = open(\"/tmp/pass.txt\").read().strip()\n",
    "resp = requests.get(\"http://api.github.com/user\", auth=(\"vikipedia\", pass_))"
   ]
  },
  {
   "cell_type": "code",
   "execution_count": 80,
   "metadata": {},
   "outputs": [
    {
     "data": {
      "text/plain": [
       "{'login': 'vikipedia',\n",
       " 'id': 30557,\n",
       " 'node_id': 'MDQ6VXNlcjMwNTU3',\n",
       " 'avatar_url': 'https://avatars3.githubusercontent.com/u/30557?v=4',\n",
       " 'gravatar_id': '',\n",
       " 'url': 'https://api.github.com/users/vikipedia',\n",
       " 'html_url': 'https://github.com/vikipedia',\n",
       " 'followers_url': 'https://api.github.com/users/vikipedia/followers',\n",
       " 'following_url': 'https://api.github.com/users/vikipedia/following{/other_user}',\n",
       " 'gists_url': 'https://api.github.com/users/vikipedia/gists{/gist_id}',\n",
       " 'starred_url': 'https://api.github.com/users/vikipedia/starred{/owner}{/repo}',\n",
       " 'subscriptions_url': 'https://api.github.com/users/vikipedia/subscriptions',\n",
       " 'organizations_url': 'https://api.github.com/users/vikipedia/orgs',\n",
       " 'repos_url': 'https://api.github.com/users/vikipedia/repos',\n",
       " 'events_url': 'https://api.github.com/users/vikipedia/events{/privacy}',\n",
       " 'received_events_url': 'https://api.github.com/users/vikipedia/received_events',\n",
       " 'type': 'User',\n",
       " 'site_admin': False,\n",
       " 'name': 'vikrant',\n",
       " 'company': None,\n",
       " 'blog': '',\n",
       " 'location': 'kudawale, dapoli, pune',\n",
       " 'email': 'vikrant.patil@gmail.com',\n",
       " 'hireable': None,\n",
       " 'bio': None,\n",
       " 'twitter_username': None,\n",
       " 'public_repos': 7,\n",
       " 'public_gists': 0,\n",
       " 'followers': 9,\n",
       " 'following': 0,\n",
       " 'created_at': '2008-10-23T08:54:39Z',\n",
       " 'updated_at': '2020-09-16T08:25:20Z',\n",
       " 'private_gists': 0,\n",
       " 'total_private_repos': 1,\n",
       " 'owned_private_repos': 1,\n",
       " 'disk_usage': 7840,\n",
       " 'collaborators': 0,\n",
       " 'two_factor_authentication': False,\n",
       " 'plan': {'name': 'free',\n",
       "  'space': 976562499,\n",
       "  'collaborators': 0,\n",
       "  'private_repos': 10000}}"
      ]
     },
     "execution_count": 80,
     "metadata": {},
     "output_type": "execute_result"
    }
   ],
   "source": [
    "resp.json()"
   ]
  },
  {
   "cell_type": "markdown",
   "metadata": {},
   "source": [
    "### Post request"
   ]
  },
  {
   "cell_type": "code",
   "execution_count": 57,
   "metadata": {},
   "outputs": [],
   "source": [
    "resp = requests.post(\"https://httpbin.org/post\", data={\"input1\":\"x\",\"input2\":'y'})"
   ]
  },
  {
   "cell_type": "code",
   "execution_count": 58,
   "metadata": {},
   "outputs": [
    {
     "data": {
      "text/plain": [
       "{'args': {},\n",
       " 'data': '',\n",
       " 'files': {},\n",
       " 'form': {'input1': 'x', 'input2': 'y'},\n",
       " 'headers': {'Accept': '*/*',\n",
       "  'Accept-Encoding': 'gzip, deflate',\n",
       "  'Content-Length': '17',\n",
       "  'Content-Type': 'application/x-www-form-urlencoded',\n",
       "  'Host': 'httpbin.org',\n",
       "  'User-Agent': 'python-requests/2.24.0',\n",
       "  'X-Amzn-Trace-Id': 'Root=1-5f61b62a-300540ef9217828ec60c4040'},\n",
       " 'json': None,\n",
       " 'origin': '157.33.153.191',\n",
       " 'url': 'https://httpbin.org/post'}"
      ]
     },
     "execution_count": 58,
     "metadata": {},
     "output_type": "execute_result"
    }
   ],
   "source": [
    "resp.json()"
   ]
  },
  {
   "cell_type": "code",
   "execution_count": 59,
   "metadata": {},
   "outputs": [],
   "source": [
    "resp = requests.post(\"https://httpbin.org/post\", data={\"input1\":\"x\",\"input2\":'y'})"
   ]
  },
  {
   "cell_type": "markdown",
   "metadata": {},
   "source": [
    "### Downloading a file"
   ]
  },
  {
   "cell_type": "code",
   "execution_count": 67,
   "metadata": {},
   "outputs": [],
   "source": [
    "def download(url, filename):\n",
    "    resp = requests.get(url)\n",
    "    with open(filename, \"wb\") as f:\n",
    "        f.write(resp.content)"
   ]
  },
  {
   "cell_type": "markdown",
   "metadata": {},
   "source": [
    "\n",
    "if file is very big"
   ]
  },
  {
   "cell_type": "code",
   "execution_count": 69,
   "metadata": {},
   "outputs": [],
   "source": [
    "def download_big(url, filename, chunksize=1024):\n",
    "    resp = requests.get(url)\n",
    "    with open(filename, \"wb\") as f:\n",
    "        for chunk in resp.iter_content(chunk_size=chunksize):\n",
    "            f.write(chunk)\n",
    "            "
   ]
  },
  {
   "cell_type": "markdown",
   "metadata": {},
   "source": [
    "### General Scraping "
   ]
  },
  {
   "cell_type": "code",
   "execution_count": 70,
   "metadata": {},
   "outputs": [
    {
     "name": "stdout",
     "output_type": "stream",
     "text": [
      "<?xml version=\"1.0\" encoding=\"UTF-8\"?>\n",
      "<rss version=\"2.0\">\n",
      "    <channel>\n",
      "        <title>The Hindu - Home</title>\n",
      "        <link>https://www.thehindu.com/</link>\n",
      "        <description>Default RSS Feed</description>\n",
      "        <language>en-us</language>\n",
      "        <copyright>Copyright 2020 The Hindu</copyright>\n",
      "        <item>\n",
      "            <title><![CDATA[Madonna to direct, co-write biopic about herself ]]></title>\n",
      "            <author><![CDATA[AP]]></author>\n",
      "            <category><![CDATA[Movies]]></category>\n",
      "            <link>https://www.thehindu.com/entertainment/movies/madonna-to-direct-co-write-biopic-about-herself/article32618321.ece</link>\n",
      "            <description><![CDATA[\n",
      "                Madonna, whose last album was 2019’s ‘Madame X,’ has sold 335 million records worldwide in her career\n",
      "            ]]></description>\n",
      "            <pubDate><![CDATA[Wed, 16 Sep 2020 12:42:29 +0530]]></pubDate>\n",
      "        </item>\n",
      "        <item>\n",
      "            <title><![CDATA[Look forward to jointly take our special strategic partnership to new heights: Modi to new Japan PM ]]></title>\n",
      "            <author><![CDATA[PTI]]></author>\n",
      "            <category><![CDATA[National]]></category>\n",
      "        \n"
     ]
    }
   ],
   "source": [
    "url = \"http://www.thehindu.com/\"\n",
    "response = requests.get(url, params={\"service\":\"rss\"})\n",
    "xmltext = response.text\n",
    "print(xmltext[:1200])\n"
   ]
  },
  {
   "cell_type": "code",
   "execution_count": 72,
   "metadata": {},
   "outputs": [
    {
     "data": {
      "text/plain": [
       "<Element 'item' at 0x7f653e5fcae0>"
      ]
     },
     "execution_count": 72,
     "metadata": {},
     "output_type": "execute_result"
    }
   ],
   "source": [
    "from xml.etree import ElementTree as et\n",
    "root = et.fromstring(xmltext)\n",
    "items = root.findall(\".//item\")\n",
    "items[0]\n"
   ]
  },
  {
   "cell_type": "code",
   "execution_count": 75,
   "metadata": {},
   "outputs": [
    {
     "name": "stdout",
     "output_type": "stream",
     "text": [
      "<item>\n",
      "            <title>Madonna to direct, co-write biopic about herself </title>\n",
      "            <author>AP</author>\n",
      "            <category>Movies</category>\n",
      "            <link>https://www.thehindu.com/entertainment/movies/madonna-to-direct-co-write-biopic-about-herself/article32618321.ece</link>\n",
      "            <description>\n",
      "                Madonna, whose last album was 2019&#8217;s &#8216;Madame X,&#8217; has sold 335 million records worldwide in her career\n",
      "            </description>\n",
      "            <pubDate>Wed, 16 Sep 2020 12:42:29 +0530</pubDate>\n",
      "        </item>\n",
      "        \n"
     ]
    }
   ],
   "source": [
    "print(et.tostring(items[0]).decode())"
   ]
  },
  {
   "cell_type": "code",
   "execution_count": 76,
   "metadata": {},
   "outputs": [
    {
     "name": "stdout",
     "output_type": "stream",
     "text": [
      "Madonna to direct, co-write biopic about herself \n",
      "https://www.thehindu.com/entertainment/movies/madonna-to-direct-co-write-biopic-about-herself/article32618321.ece\n",
      "------------------------------\n",
      "Look forward to jointly take our special strategic partnership to new heights: Modi to new Japan PM \n",
      "https://www.thehindu.com/news/national/look-forward-to-jointly-take-our-special-strategic-partnership-to-new-heights-modi-to-new-japan-pm/article32618256.ece\n",
      "------------------------------\n",
      "Punjab police solve murder case involving Suresh Raina’s relatives\n",
      "https://www.thehindu.com/news/national/other-states/punjab-police-solve-murder-case-involving-suresh-rainas-relatives/article32618255.ece\n",
      "------------------------------\n",
      "Will take necessary measures to promote growth: RBI Governor \n",
      "https://www.thehindu.com/business/Economy/will-take-necessary-measures-to-promote-growth-rbi-governor/article32618226.ece\n",
      "------------------------------\n",
      "Congress members raise in RS reports of data mining by Chinese firm \n",
      "https://www.thehindu.com/news/national/congress-members-raise-in-rs-reports-of-data-mining-by-chinese-firm/article32618219.ece\n",
      "------------------------------\n",
      "Madras University to offer BA and MA Tamil lessons on Swayam Prabha TV\n",
      "https://www.thehindu.com/news/national/tamil-nadu/madras-university-to-offer-ba-and-ma-tamil-lessons-on-swayam-prabha-tv/article32618171.ece\n",
      "------------------------------\n",
      "Indian-origin author Avni Doshi on Booker Prize shortlist \n",
      "https://www.thehindu.com/news/international/indian-origin-author-avni-doshi-on-booker-prize-shortlist/article32618146.ece\n",
      "------------------------------\n",
      "Suga formally elected as Japan PM, readies 'continuity cabinet'\n",
      "https://www.thehindu.com/news/international/suga-formally-elected-as-japan-pm-readies-continuity-cabinet/article32618132.ece\n",
      "------------------------------\n",
      "Mira Nair wins TIFF Tribute award, says important to tell our own stories\n",
      "https://www.thehindu.com/entertainment/movies/mira-nair-wins-tiff-tribute-award-says-important-to-tell-our-own-stories/article32618125.ece\n",
      "------------------------------\n",
      "Line utilisation on Delhi Metro network steadily increasing \n",
      "https://www.thehindu.com/news/cities/Delhi/line-utilisation-on-delhi-metro-network-steadily-increasing/article32618070.ece\n",
      "------------------------------\n"
     ]
    }
   ],
   "source": [
    "for item in items[:10]:\n",
    "    print(item.findtext(\"title\"))\n",
    "    print(item.findtext(\"link\"))\n",
    "    print(\"-\"*30)\n"
   ]
  },
  {
   "cell_type": "code",
   "execution_count": null,
   "metadata": {},
   "outputs": [],
   "source": []
  },
  {
   "cell_type": "code",
   "execution_count": null,
   "metadata": {},
   "outputs": [],
   "source": []
  }
 ],
 "metadata": {
  "kernelspec": {
   "display_name": "Python 3",
   "language": "python",
   "name": "python3"
  },
  "language_info": {
   "codemirror_mode": {
    "name": "ipython",
    "version": 3
   },
   "file_extension": ".py",
   "mimetype": "text/x-python",
   "name": "python",
   "nbconvert_exporter": "python",
   "pygments_lexer": "ipython3",
   "version": "3.8.3"
  }
 },
 "nbformat": 4,
 "nbformat_minor": 4
}
