{
 "cells": [
  {
   "cell_type": "markdown",
   "metadata": {
    "collapsed": true
   },
   "source": [
    "### Working with files ###"
   ]
  },
  {
   "cell_type": "code",
   "execution_count": 1,
   "metadata": {},
   "outputs": [
    {
     "name": "stdout",
     "output_type": "stream",
     "text": [
      "Overwriting three.txt\n"
     ]
    }
   ],
   "source": [
    "%%file three.txt\n",
    "one\n",
    "two\n",
    "three"
   ]
  },
  {
   "cell_type": "code",
   "execution_count": 2,
   "metadata": {
    "collapsed": true
   },
   "outputs": [],
   "source": [
    "fhandle = open(\"three.txt\")"
   ]
  },
  {
   "cell_type": "code",
   "execution_count": 3,
   "metadata": {},
   "outputs": [
    {
     "data": {
      "text/plain": [
       "'one\\ntwo\\nthree'"
      ]
     },
     "execution_count": 3,
     "metadata": {},
     "output_type": "execute_result"
    }
   ],
   "source": [
    "fhandle.read() # you can read whole content in a single statement"
   ]
  },
  {
   "cell_type": "code",
   "execution_count": 4,
   "metadata": {},
   "outputs": [
    {
     "data": {
      "text/plain": [
       "''"
      ]
     },
     "execution_count": 4,
     "metadata": {},
     "output_type": "execute_result"
    }
   ],
   "source": [
    "fhandle.read() # trying read after this will result in empty string"
   ]
  },
  {
   "cell_type": "code",
   "execution_count": 5,
   "metadata": {
    "collapsed": true
   },
   "outputs": [],
   "source": [
    "fhandle.close()"
   ]
  },
  {
   "cell_type": "code",
   "execution_count": 6,
   "metadata": {
    "collapsed": true
   },
   "outputs": [],
   "source": [
    "!python3 -c \"import this\" > data.txt"
   ]
  },
  {
   "cell_type": "code",
   "execution_count": 7,
   "metadata": {
    "collapsed": true
   },
   "outputs": [],
   "source": [
    "filehandle = open(\"data.txt\")"
   ]
  },
  {
   "cell_type": "code",
   "execution_count": 8,
   "metadata": {},
   "outputs": [
    {
     "data": {
      "text/plain": [
       "'The Zen of Python, by Tim Peters\\n'"
      ]
     },
     "execution_count": 8,
     "metadata": {},
     "output_type": "execute_result"
    }
   ],
   "source": [
    "filehandle.readline() # possible to read one line at a time"
   ]
  },
  {
   "cell_type": "code",
   "execution_count": 9,
   "metadata": {
    "collapsed": true
   },
   "outputs": [],
   "source": [
    "lines = filehandle.readlines() # read content of file and return as lines"
   ]
  },
  {
   "cell_type": "code",
   "execution_count": 10,
   "metadata": {},
   "outputs": [
    {
     "data": {
      "text/plain": [
       "['\\n',\n",
       " 'Beautiful is better than ugly.\\n',\n",
       " 'Explicit is better than implicit.\\n',\n",
       " 'Simple is better than complex.\\n',\n",
       " 'Complex is better than complicated.\\n',\n",
       " 'Flat is better than nested.\\n',\n",
       " 'Sparse is better than dense.\\n',\n",
       " 'Readability counts.\\n',\n",
       " \"Special cases aren't special enough to break the rules.\\n\",\n",
       " 'Although practicality beats purity.\\n',\n",
       " 'Errors should never pass silently.\\n',\n",
       " 'Unless explicitly silenced.\\n',\n",
       " 'In the face of ambiguity, refuse the temptation to guess.\\n',\n",
       " 'There should be one-- and preferably only one --obvious way to do it.\\n',\n",
       " \"Although that way may not be obvious at first unless you're Dutch.\\n\",\n",
       " 'Now is better than never.\\n',\n",
       " 'Although never is often better than *right* now.\\n',\n",
       " \"If the implementation is hard to explain, it's a bad idea.\\n\",\n",
       " 'If the implementation is easy to explain, it may be a good idea.\\n',\n",
       " \"Namespaces are one honking great idea -- let's do more of those!\\n\"]"
      ]
     },
     "execution_count": 10,
     "metadata": {},
     "output_type": "execute_result"
    }
   ],
   "source": [
    "lines"
   ]
  },
  {
   "cell_type": "markdown",
   "metadata": {},
   "source": [
    "lets do some work with this data. how about computing number of words on every line?"
   ]
  },
  {
   "cell_type": "code",
   "execution_count": 11,
   "metadata": {
    "collapsed": true
   },
   "outputs": [],
   "source": [
    "filehandle = open(\"data.txt\")"
   ]
  },
  {
   "cell_type": "code",
   "execution_count": 12,
   "metadata": {},
   "outputs": [
    {
     "name": "stdout",
     "output_type": "stream",
     "text": [
      "7\n",
      "0\n",
      "5\n",
      "5\n",
      "5\n",
      "5\n",
      "5\n",
      "5\n",
      "2\n",
      "9\n",
      "4\n",
      "5\n",
      "3\n",
      "10\n",
      "13\n",
      "12\n",
      "5\n",
      "8\n",
      "11\n",
      "13\n",
      "12\n"
     ]
    }
   ],
   "source": [
    "for line in filehandle.readlines():\n",
    "    print(len(line.strip().split()))"
   ]
  },
  {
   "cell_type": "markdown",
   "metadata": {},
   "source": [
    "### Do it yourself ###\n",
    "- Write a program cat.py equivalent to `cat` command in unix.\n",
    "```\n",
    "python cat.py three.txt\n",
    "one\n",
    "two\n",
    "three\n",
    "```\n",
    "\n",
    "- Write a program head.py equivalent to unix command head. it should take first commandline argument as number of lines and second argument as filename\n",
    "\n",
    "```\n",
    "python head.py 5 data.txt\n",
    "The Zen of Python, by Tim Peters\n",
    "\n",
    "Beautiful is better than ugly.\n",
    "Explicit is better than implicit.\n",
    "Simple is better than complex.\n",
    "```\n",
    "\n",
    "- Write a program wc.py which implements functions to compute line count, word count and charecter count.\n",
    "```\n",
    "python wc.py data.txt\n",
    "20 144 856\n",
    "```"
   ]
  },
  {
   "cell_type": "code",
   "execution_count": 13,
   "metadata": {},
   "outputs": [
    {
     "name": "stdout",
     "output_type": "stream",
     "text": [
      "one\r\n",
      "two\r\n",
      "three"
     ]
    }
   ],
   "source": [
    "!python cat.py three.txt"
   ]
  },
  {
   "cell_type": "code",
   "execution_count": 14,
   "metadata": {},
   "outputs": [
    {
     "name": "stdout",
     "output_type": "stream",
     "text": [
      "Overwriting cat.py\n"
     ]
    }
   ],
   "source": [
    "%%file cat.py\n",
    "\"\"\"\n",
    "module cat is rough implementation of unix command cat.\n",
    "\"\"\"\n",
    "import sys\n",
    "\n",
    "def cat(file):\n",
    "    \"\"\"\n",
    "    prints contents of file to standard output\n",
    "    \"\"\"\n",
    "    f = open(file)\n",
    "    \n",
    "    for line in f.readlines():\n",
    "        print(line, end=\"\")# try this first without end=\"\"\n",
    "    \n",
    "    f.close()\n",
    "\n",
    "if __name__ == \"__main__\":\n",
    "    cat(sys.argv[1])"
   ]
  },
  {
   "cell_type": "code",
   "execution_count": 15,
   "metadata": {},
   "outputs": [
    {
     "name": "stdout",
     "output_type": "stream",
     "text": [
      "Overwriting head.py\n"
     ]
    }
   ],
   "source": [
    "%%file head.py\n",
    "\"\"\"\n",
    "module head is rough implementation of unix command head.\n",
    "it prints initial part of file to standard output\n",
    "\"\"\"\n",
    "import sys\n",
    "\n",
    "def head(file, n):\n",
    "    \"\"\"\n",
    "    prints initial n lines of file to standard output\n",
    "    \"\"\"\n",
    "    f = open(file)\n",
    "    for line in f.readlines()[:n]:\n",
    "        print(line, end=\"\")\n",
    "\n",
    "if __name__ == \"__main__\":\n",
    "    head(sys.argv[2], int(sys.argv[1]))"
   ]
  },
  {
   "cell_type": "code",
   "execution_count": 16,
   "metadata": {},
   "outputs": [
    {
     "name": "stdout",
     "output_type": "stream",
     "text": [
      "The Zen of Python, by Tim Peters\r\n",
      "\r\n",
      "Beautiful is better than ugly.\r\n",
      "Explicit is better than implicit.\r\n",
      "Simple is better than complex.\r\n"
     ]
    }
   ],
   "source": [
    "!python head.py 5 data.txt "
   ]
  },
  {
   "cell_type": "code",
   "execution_count": 17,
   "metadata": {},
   "outputs": [
    {
     "name": "stdout",
     "output_type": "stream",
     "text": [
      "Overwriting wc.py\n"
     ]
    }
   ],
   "source": [
    "%%file wc.py\n",
    "\"\"\"\n",
    "module wc implements unix equivalent of wc command\n",
    "\"\"\"\n",
    "import sys\n",
    "\n",
    "def line_count(f):\n",
    "    return len(open(f).readlines())\n",
    "\n",
    "def word_count(f):\n",
    "    return len(open(f).read().split())\n",
    "\n",
    "def char_count(f):\n",
    "    return len(open(f).read())\n",
    "\n",
    "if __name__ == \"__main__\":\n",
    "    file = sys.argv[1]\n",
    "    print(line_count(file), word_count(file), char_count(file))"
   ]
  },
  {
   "cell_type": "code",
   "execution_count": 18,
   "metadata": {},
   "outputs": [
    {
     "name": "stdout",
     "output_type": "stream",
     "text": [
      "21 144 857\r\n"
     ]
    }
   ],
   "source": [
    "!python wc.py data.txt"
   ]
  },
  {
   "cell_type": "markdown",
   "metadata": {
    "collapsed": true
   },
   "source": [
    "### Do it yourself ###\n",
    "- Using above wc module \n",
    "  1. Find file with maximum number of lines in current directory\n",
    "  2. How about file with maximum number of words?"
   ]
  },
  {
   "cell_type": "code",
   "execution_count": 19,
   "metadata": {
    "collapsed": true
   },
   "outputs": [],
   "source": [
    "import os\n",
    "files = [f for f in os.listdir(os.getcwd()) if os.path.isfile(f)]"
   ]
  },
  {
   "cell_type": "code",
   "execution_count": 20,
   "metadata": {
    "collapsed": true
   },
   "outputs": [],
   "source": [
    "import wc"
   ]
  },
  {
   "cell_type": "code",
   "execution_count": 21,
   "metadata": {},
   "outputs": [
    {
     "data": {
      "text/plain": [
       "'Foundation1.html'"
      ]
     },
     "execution_count": 21,
     "metadata": {},
     "output_type": "execute_result"
    }
   ],
   "source": [
    "max(files, key=wc.line_count)"
   ]
  },
  {
   "cell_type": "code",
   "execution_count": 22,
   "metadata": {},
   "outputs": [
    {
     "data": {
      "text/plain": [
       "'Foundation1.html'"
      ]
     },
     "execution_count": 22,
     "metadata": {},
     "output_type": "execute_result"
    }
   ],
   "source": [
    "max(files, key=wc.word_count)"
   ]
  },
  {
   "cell_type": "markdown",
   "metadata": {},
   "source": [
    "### Writing files ###\n",
    "for writing you need to open file with write mode."
   ]
  },
  {
   "cell_type": "code",
   "execution_count": 23,
   "metadata": {
    "collapsed": true
   },
   "outputs": [],
   "source": [
    "f = open(\"primes.txt\",\"w\")\n",
    "f.write(\"two\\n\")\n",
    "f.write(\"three\\n\")\n",
    "f.write(\"five\\n\")\n",
    "f.close() # only on close contents are flushed to disk."
   ]
  },
  {
   "cell_type": "markdown",
   "metadata": {},
   "source": [
    "Lets check contents of our file with our own module `cat.py`"
   ]
  },
  {
   "cell_type": "code",
   "execution_count": 24,
   "metadata": {},
   "outputs": [
    {
     "name": "stdout",
     "output_type": "stream",
     "text": [
      "two\r\n",
      "three\r\n",
      "five\r\n"
     ]
    }
   ],
   "source": [
    "!python cat.py primes.txt "
   ]
  },
  {
   "cell_type": "markdown",
   "metadata": {},
   "source": [
    "When we open file with `w` mode , file contents are overwritten. if appned is expected, open the file with `a`mode"
   ]
  },
  {
   "cell_type": "code",
   "execution_count": 25,
   "metadata": {
    "collapsed": true
   },
   "outputs": [],
   "source": [
    "f = open(\"primes.txt\", \"a\")\n",
    "f.write(\"seven\\n\")\n",
    "f.write(\"eleven\\n\")\n",
    "f.close()"
   ]
  },
  {
   "cell_type": "code",
   "execution_count": 26,
   "metadata": {},
   "outputs": [
    {
     "name": "stdout",
     "output_type": "stream",
     "text": [
      "two\r\n",
      "three\r\n",
      "five\r\n",
      "seven\r\n",
      "eleven\r\n"
     ]
    }
   ],
   "source": [
    "!python cat.py primes.txt"
   ]
  },
  {
   "cell_type": "markdown",
   "metadata": {},
   "source": [
    "Similarly we can read and write binary files with following modes.\n",
    "1. `rb`  => read in binary mode\n",
    "2. `wb` => write in binary mode\n",
    "3. `ab` => append in binary mode"
   ]
  },
  {
   "cell_type": "code",
   "execution_count": 27,
   "metadata": {},
   "outputs": [
    {
     "data": {
      "text/plain": [
       "'two\\nthree\\nfive\\nseven\\neleven\\n'"
      ]
     },
     "execution_count": 27,
     "metadata": {},
     "output_type": "execute_result"
    }
   ],
   "source": [
    "open(\"primes.txt\",'r').read() # text mode"
   ]
  },
  {
   "cell_type": "code",
   "execution_count": 28,
   "metadata": {},
   "outputs": [
    {
     "data": {
      "text/plain": [
       "b'two\\nthree\\nfive\\nseven\\neleven\\n'"
      ]
     },
     "execution_count": 28,
     "metadata": {},
     "output_type": "execute_result"
    }
   ],
   "source": [
    "open(\"primes.txt\", \"rb\").read() # binary mode"
   ]
  },
  {
   "cell_type": "code",
   "execution_count": 29,
   "metadata": {
    "collapsed": true
   },
   "outputs": [],
   "source": [
    "f = open(\"binarydata.bin\", \"wb\")\n",
    "f.write(b'x025x082')\n",
    "f.close()"
   ]
  },
  {
   "cell_type": "code",
   "execution_count": 30,
   "metadata": {},
   "outputs": [
    {
     "data": {
      "text/plain": [
       "b'x025x082'"
      ]
     },
     "execution_count": 30,
     "metadata": {},
     "output_type": "execute_result"
    }
   ],
   "source": [
    "open(\"binarydata.bin\", \"rb\").read()"
   ]
  },
  {
   "cell_type": "code",
   "execution_count": 31,
   "metadata": {
    "collapsed": true
   },
   "outputs": [],
   "source": [
    "f = open(\"binarydata.bin\", \"ab\")\n",
    "f.write(b'Hello')\n",
    "f.close()"
   ]
  },
  {
   "cell_type": "code",
   "execution_count": 32,
   "metadata": {},
   "outputs": [
    {
     "data": {
      "text/plain": [
       "b'x025x082Hello'"
      ]
     },
     "execution_count": 32,
     "metadata": {},
     "output_type": "execute_result"
    }
   ],
   "source": [
    "open(\"binarydata.bin\", \"rb\").read()"
   ]
  },
  {
   "cell_type": "markdown",
   "metadata": {},
   "source": [
    "### with statement ###\n",
    "with `with` statements it becomes very easy to write file as file handle is closed automatically by python after exit from with block."
   ]
  },
  {
   "cell_type": "code",
   "execution_count": 33,
   "metadata": {
    "collapsed": true
   },
   "outputs": [],
   "source": [
    "with open(\"primes.txt\", \"a\") as f:\n",
    "    f.write(\"thirteen\")"
   ]
  },
  {
   "cell_type": "code",
   "execution_count": 34,
   "metadata": {},
   "outputs": [
    {
     "data": {
      "text/plain": [
       "'two\\nthree\\nfive\\nseven\\neleven\\nthirteen'"
      ]
     },
     "execution_count": 34,
     "metadata": {},
     "output_type": "execute_result"
    }
   ],
   "source": [
    "open(\"primes.txt\").read() # note that contents are flushed to disk only after close"
   ]
  },
  {
   "cell_type": "code",
   "execution_count": 35,
   "metadata": {
    "collapsed": true
   },
   "outputs": [],
   "source": [
    "with open(\"regional.txt\",\"w\", encoding=\"utf-8\" ) as regional:\n",
    "    regional.write(\"\\u0c05\\u0c06\")"
   ]
  },
  {
   "cell_type": "code",
   "execution_count": 36,
   "metadata": {},
   "outputs": [
    {
     "data": {
      "text/plain": [
       "'అఆ'"
      ]
     },
     "execution_count": 36,
     "metadata": {},
     "output_type": "execute_result"
    }
   ],
   "source": [
    "open(\"regional.txt\", encoding=\"utf-8\").read()"
   ]
  },
  {
   "cell_type": "code",
   "execution_count": 37,
   "metadata": {},
   "outputs": [
    {
     "data": {
      "text/plain": [
       "b'\\xe0\\xb0\\x85\\xe0\\xb0\\x86'"
      ]
     },
     "execution_count": 37,
     "metadata": {},
     "output_type": "execute_result"
    }
   ],
   "source": [
    "open(\"regional.txt\", \"rb\").read()"
   ]
  },
  {
   "cell_type": "markdown",
   "metadata": {},
   "source": [
    "### Do it yourself ###\n",
    "1. Write a function to write multiplication tables upto 11 in csv format in a file as given below.\n",
    "```\n",
    "1,2,3,4,5,6,7,8,9,10,11\n",
    "2,4,6,8,10,12,14,16,18,20,22\n",
    ".\n",
    ".\n",
    ".\n",
    "```\n",
    "2. Write python module tabulate.py which converts a cvs file data into a nice prety print table format.\n",
    "```\n",
    "python tabulate.py multi_tables.csv tabulated.txt\n",
    "cat tabulated.txt\n",
    "  1   2   3   4   5   6   7   8   9  10  11\n",
    "  2   4   6   8  10  12  14  16  18  20  22\n",
    "  3   6   9  12  15  18  21  24  27  30  33\n",
    "  4   8  12  16  20  24  28  32  36  40  44\n",
    "  5  10  15  20  25  30  35  40  45  50  55\n",
    "  6  12  18  24  30  36  42  48  54  60  66\n",
    "  7  14  21  28  35  42  49  56  63  70  77\n",
    "  8  16  24  32  40  48  56  64  72  80  88\n",
    "  9  18  27  36  45  54  63  72  81  90  99\n",
    " 10  20  30  40  50  60  70  80  90 100 110\n",
    "```\n"
   ]
  },
  {
   "cell_type": "code",
   "execution_count": 1,
   "metadata": {
    "collapsed": true
   },
   "outputs": [],
   "source": [
    "\n",
    "def write_tables(n, filename):\n",
    "    def tables(n):\n",
    "        return [[str(m*i) for m in range(1,n+1)] for i in range(1,11)]\n",
    "    \n",
    "    with open(filename, \"w\") as f:\n",
    "        data = tables(n)\n",
    "        for row in data:\n",
    "            f.write(\",\".join(row))\n",
    "            f.write(\"\\n\")\n",
    "    \n",
    "        "
   ]
  },
  {
   "cell_type": "code",
   "execution_count": 2,
   "metadata": {
    "collapsed": true
   },
   "outputs": [],
   "source": [
    "write_tables(11, \"multi_tables.csv\")"
   ]
  },
  {
   "cell_type": "code",
   "execution_count": 3,
   "metadata": {},
   "outputs": [
    {
     "name": "stdout",
     "output_type": "stream",
     "text": [
      "1,2,3,4,5,6,7,8,9,10,11\r\n",
      "2,4,6,8,10,12,14,16,18,20,22\r\n",
      "3,6,9,12,15,18,21,24,27,30,33\r\n",
      "4,8,12,16,20,24,28,32,36,40,44\r\n",
      "5,10,15,20,25,30,35,40,45,50,55\r\n",
      "6,12,18,24,30,36,42,48,54,60,66\r\n",
      "7,14,21,28,35,42,49,56,63,70,77\r\n",
      "8,16,24,32,40,48,56,64,72,80,88\r\n",
      "9,18,27,36,45,54,63,72,81,90,99\r\n",
      "10,20,30,40,50,60,70,80,90,100,110\r\n"
     ]
    }
   ],
   "source": [
    "!cat multi_tables.csv"
   ]
  },
  {
   "cell_type": "code",
   "execution_count": 4,
   "metadata": {},
   "outputs": [
    {
     "name": "stdout",
     "output_type": "stream",
     "text": [
      "Overwriting tabulate.py\n"
     ]
    }
   ],
   "source": [
    "%%file tabulate.py\n",
    "\"\"\"\n",
    "# tabulate.py\n",
    "converts cvs file in to nice prety print table\n",
    "\"\"\"\n",
    "import sys\n",
    "\n",
    "def parse_csv(filename):\n",
    "    return [line.strip().split(\",\") for line in open(filename).readlines()]\n",
    "    \n",
    "def tabulate(csv, tabular):\n",
    "    data = parse_csv(csv)\n",
    "    maxwordlength = len(max([max(row, key=len) for row in data], key=len))\n",
    "    with open(tabular, \"w\") as f:\n",
    "        for row in data:\n",
    "            f.write(\" \".join([word.rjust(maxwordlength) for word in row]))\n",
    "            f.write(\"\\n\")\n",
    "    \n",
    "    \n",
    "\n",
    "if __name__ == \"__main__\":\n",
    "    tabulate(sys.argv[1], sys.argv[2])"
   ]
  },
  {
   "cell_type": "code",
   "execution_count": 5,
   "metadata": {
    "collapsed": true
   },
   "outputs": [],
   "source": [
    "!python tabulate.py multi_tables.csv tabulated.txt"
   ]
  },
  {
   "cell_type": "code",
   "execution_count": 45,
   "metadata": {},
   "outputs": [
    {
     "name": "stdout",
     "output_type": "stream",
     "text": [
      "  1   2   3   4   5   6   7   8   9  10  11\r\n",
      "  2   4   6   8  10  12  14  16  18  20  22\r\n",
      "  3   6   9  12  15  18  21  24  27  30  33\r\n",
      "  4   8  12  16  20  24  28  32  36  40  44\r\n",
      "  5  10  15  20  25  30  35  40  45  50  55\r\n",
      "  6  12  18  24  30  36  42  48  54  60  66\r\n",
      "  7  14  21  28  35  42  49  56  63  70  77\r\n",
      "  8  16  24  32  40  48  56  64  72  80  88\r\n",
      "  9  18  27  36  45  54  63  72  81  90  99\r\n",
      " 10  20  30  40  50  60  70  80  90 100 110\r\n"
     ]
    }
   ],
   "source": [
    "!cat tabulated.txt"
   ]
  },
  {
   "cell_type": "markdown",
   "metadata": {},
   "source": [
    "### Writing to stderr, stdout ###\n",
    "Any proces when starts it opens up three files, stdout, stderr, stdin. \n",
    "1. stdout -> standard output usually directed to terminal\n",
    "2. stdinput -> standard input, usually takes from keyboard\n",
    "3. stderr -> standard error\n",
    "\n",
    "python provides handle to write to these buffers via sys module"
   ]
  },
  {
   "cell_type": "code",
   "execution_count": null,
   "metadata": {
    "collapsed": true
   },
   "outputs": [],
   "source": [
    "import sys\n",
    "sys.stdout.write(\"Hello Python\")"
   ]
  },
  {
   "cell_type": "code",
   "execution_count": null,
   "metadata": {
    "collapsed": true
   },
   "outputs": [],
   "source": [
    "sys.stderr.write(\"Error: some ..Exception..\")"
   ]
  },
  {
   "cell_type": "markdown",
   "metadata": {},
   "source": [
    "### Dictionaries ##\n",
    "Dictionaries are used internally extensively by python langauge. Lets try to work with dictionaries"
   ]
  },
  {
   "cell_type": "code",
   "execution_count": 50,
   "metadata": {
    "collapsed": true
   },
   "outputs": [],
   "source": [
    "author = {'name':\"lewis carrol\", \n",
    "          'books':[\"alice in wonderland\", \"looking through the glass\"],\n",
    "          'language':\"english\"}"
   ]
  },
  {
   "cell_type": "code",
   "execution_count": 51,
   "metadata": {},
   "outputs": [
    {
     "data": {
      "text/plain": [
       "'lewis carrol'"
      ]
     },
     "execution_count": 51,
     "metadata": {},
     "output_type": "execute_result"
    }
   ],
   "source": [
    "author['name']"
   ]
  },
  {
   "cell_type": "code",
   "execution_count": 53,
   "metadata": {},
   "outputs": [
    {
     "data": {
      "text/plain": [
       "['alice in wonderland', 'looking through the glass']"
      ]
     },
     "execution_count": 53,
     "metadata": {},
     "output_type": "execute_result"
    }
   ],
   "source": [
    "author['books']"
   ]
  },
  {
   "cell_type": "code",
   "execution_count": 54,
   "metadata": {},
   "outputs": [
    {
     "name": "stdout",
     "output_type": "stream",
     "text": [
      "{'books': ['alice in wonderland', 'looking through the glass'], 'language': 'english', 'name': 'lewis carrol'}\n"
     ]
    }
   ],
   "source": [
    "print(author)"
   ]
  },
  {
   "cell_type": "code",
   "execution_count": 55,
   "metadata": {
    "collapsed": true
   },
   "outputs": [],
   "source": [
    "author['name'] = \"lewis\""
   ]
  },
  {
   "cell_type": "code",
   "execution_count": 56,
   "metadata": {},
   "outputs": [
    {
     "name": "stdout",
     "output_type": "stream",
     "text": [
      "{'books': ['alice in wonderland', 'looking through the glass'], 'language': 'english', 'name': 'lewis'}\n"
     ]
    }
   ],
   "source": [
    "print(author)"
   ]
  },
  {
   "cell_type": "code",
   "execution_count": 57,
   "metadata": {
    "collapsed": true
   },
   "outputs": [],
   "source": [
    "del author['books']"
   ]
  },
  {
   "cell_type": "code",
   "execution_count": 58,
   "metadata": {},
   "outputs": [
    {
     "name": "stdout",
     "output_type": "stream",
     "text": [
      "{'language': 'english', 'name': 'lewis'}\n"
     ]
    }
   ],
   "source": [
    "print(author)"
   ]
  },
  {
   "cell_type": "code",
   "execution_count": 59,
   "metadata": {},
   "outputs": [
    {
     "data": {
      "text/plain": [
       "True"
      ]
     },
     "execution_count": 59,
     "metadata": {},
     "output_type": "execute_result"
    }
   ],
   "source": [
    "\"name\" in author"
   ]
  },
  {
   "cell_type": "code",
   "execution_count": 60,
   "metadata": {},
   "outputs": [
    {
     "data": {
      "text/plain": [
       "False"
      ]
     },
     "execution_count": 60,
     "metadata": {},
     "output_type": "execute_result"
    }
   ],
   "source": [
    "\"lewis\" in author"
   ]
  },
  {
   "cell_type": "code",
   "execution_count": 61,
   "metadata": {},
   "outputs": [
    {
     "data": {
      "text/plain": [
       "'english'"
      ]
     },
     "execution_count": 61,
     "metadata": {},
     "output_type": "execute_result"
    }
   ],
   "source": [
    "author['language']"
   ]
  },
  {
   "cell_type": "code",
   "execution_count": 62,
   "metadata": {},
   "outputs": [
    {
     "data": {
      "text/plain": [
       "'english'"
      ]
     },
     "execution_count": 62,
     "metadata": {},
     "output_type": "execute_result"
    }
   ],
   "source": [
    "author.get(\"language\")"
   ]
  },
  {
   "cell_type": "code",
   "execution_count": 64,
   "metadata": {},
   "outputs": [
    {
     "data": {
      "text/plain": [
       "False"
      ]
     },
     "execution_count": 64,
     "metadata": {},
     "output_type": "execute_result"
    }
   ],
   "source": [
    "'books' in author # what happens if we try to get item that it not there in dictionary"
   ]
  },
  {
   "cell_type": "code",
   "execution_count": 65,
   "metadata": {},
   "outputs": [
    {
     "ename": "KeyError",
     "evalue": "'books]'",
     "output_type": "error",
     "traceback": [
      "\u001b[0;31m---------------------------------------------------------------------------\u001b[0m",
      "\u001b[0;31mKeyError\u001b[0m                                  Traceback (most recent call last)",
      "\u001b[0;32m<ipython-input-65-87bc7a40c874>\u001b[0m in \u001b[0;36m<module>\u001b[0;34m()\u001b[0m\n\u001b[0;32m----> 1\u001b[0;31m \u001b[0mauthor\u001b[0m\u001b[0;34m[\u001b[0m\u001b[0;34m'books]'\u001b[0m\u001b[0;34m]\u001b[0m\u001b[0;34m\u001b[0m\u001b[0m\n\u001b[0m",
      "\u001b[0;31mKeyError\u001b[0m: 'books]'"
     ]
    }
   ],
   "source": [
    "author['books]']"
   ]
  },
  {
   "cell_type": "code",
   "execution_count": 66,
   "metadata": {},
   "outputs": [
    {
     "data": {
      "text/plain": [
       "[]"
      ]
     },
     "execution_count": 66,
     "metadata": {},
     "output_type": "execute_result"
    }
   ],
   "source": [
    "author.get(\"books\",[])"
   ]
  },
  {
   "cell_type": "markdown",
   "metadata": {},
   "source": [
    "Lets use dictionaries in real world. Here is how default grub config file looks like on my debian.\n",
    "```\n",
    "GRUB_DEFAULT=0\n",
    "GRUB_TIMEOUT=5\n",
    "GRUB_DISTRIBUTOR=`lsb_release -i -s 2> /dev/null || echo Debian`\n",
    "GRUB_CMDLINE_LINUX_DEFAULT=\"quiet\"\n",
    "GRUB_CMDLINE_LINUX=\"\"\n",
    "```\n",
    "I want to have two different configs for ubuntu and debian as there are some modules which are not compatible on debian for my laptop hardware"
   ]
  },
  {
   "cell_type": "code",
   "execution_count": 76,
   "metadata": {
    "collapsed": true
   },
   "outputs": [],
   "source": [
    "grub_debian = {\n",
    "    'GRUB_DEFAULT' :0,\n",
    "    'GRUB_TIMEOUT' :5,\n",
    "    'GRUB_DISTRIBUTOR' :\"`lsb_release -i -s 2> /dev/null || echo Debian`\",\n",
    "    'GRUB_CMDLINE_LINUX_DEFAULT' :\"quiet splash modprob.blacklist=dw_dmac, dw_dmax_core\",\n",
    "    'GRUB_CMDLINE_LINUX' : \"\"\n",
    "}"
   ]
  },
  {
   "cell_type": "code",
   "execution_count": 77,
   "metadata": {
    "collapsed": true
   },
   "outputs": [],
   "source": [
    "grub_ubuntu ={\n",
    "        'GRUB_DEFAULT' :0,\n",
    "        'GRUB_HIDDEN_TIMEOUT_QUIET' :'true',\n",
    "        'GRUB_TIMEOUT' :10,\n",
    "        'GRUB_DISTRIBUTOR' :\"`lsb_release -i -s 2> /dev/null || echo Debian`\",\n",
    "        'GRUB_CMDLINE_LINUX_DEFAULT' :\"quiet splash reboot=bios\",\n",
    "        'GRUB_CMDLINE_LINUX' : \"\"\n",
    "}"
   ]
  },
  {
   "cell_type": "code",
   "execution_count": 73,
   "metadata": {
    "collapsed": true
   },
   "outputs": [],
   "source": [
    "grub_config = {'debian':grub_debian,\n",
    "               'ubuntu':grub_ubuntu\n",
    "              }"
   ]
  },
  {
   "cell_type": "code",
   "execution_count": 74,
   "metadata": {},
   "outputs": [
    {
     "data": {
      "text/plain": [
       "{'GRUB_CMDLINE_LINUX': '',\n",
       " 'GRUB_CMDLINE_LINUX_DEFAULT': 'quiet splash modprob.blacklist=dw_dmac, dw_dmax_core',\n",
       " 'GRUB_DEFAULT': 0,\n",
       " 'GRUB_DISTRIBUTOR': '`lsb_release -i -s 2> /dev/null || echo Debian`',\n",
       " 'GRUB_TIMEOUT': 5}"
      ]
     },
     "execution_count": 74,
     "metadata": {},
     "output_type": "execute_result"
    }
   ],
   "source": [
    "grub_config['debian']"
   ]
  },
  {
   "cell_type": "code",
   "execution_count": 75,
   "metadata": {},
   "outputs": [
    {
     "data": {
      "text/plain": [
       "'quiet splash modprob.blacklist=dw_dmac, dw_dmax_core'"
      ]
     },
     "execution_count": 75,
     "metadata": {},
     "output_type": "execute_result"
    }
   ],
   "source": [
    "grub_config['debian']['GRUB_CMDLINE_LINUX_DEFAULT']"
   ]
  },
  {
   "cell_type": "markdown",
   "metadata": {},
   "source": [
    "### Iterating over dictionaries ###"
   ]
  },
  {
   "cell_type": "code",
   "execution_count": 79,
   "metadata": {
    "collapsed": true
   },
   "outputs": [],
   "source": [
    "d = {\"one\":1, \"two\":2 , \"three\":3}"
   ]
  },
  {
   "cell_type": "markdown",
   "metadata": {},
   "source": [
    "Iterating over keys"
   ]
  },
  {
   "cell_type": "code",
   "execution_count": 81,
   "metadata": {},
   "outputs": [
    {
     "name": "stdout",
     "output_type": "stream",
     "text": [
      "one 1\n",
      "three 3\n",
      "two 2\n"
     ]
    }
   ],
   "source": [
    "for key in d.keys():\n",
    "    print(key, d[key])"
   ]
  },
  {
   "cell_type": "markdown",
   "metadata": {},
   "source": [
    "Iterating over values directly"
   ]
  },
  {
   "cell_type": "code",
   "execution_count": 82,
   "metadata": {},
   "outputs": [
    {
     "name": "stdout",
     "output_type": "stream",
     "text": [
      "1\n",
      "3\n",
      "2\n"
     ]
    }
   ],
   "source": [
    "for value in d.values():\n",
    "    print(value)"
   ]
  },
  {
   "cell_type": "markdown",
   "metadata": {},
   "source": [
    "Iterating over keys and values together"
   ]
  },
  {
   "cell_type": "code",
   "execution_count": 83,
   "metadata": {},
   "outputs": [
    {
     "name": "stdout",
     "output_type": "stream",
     "text": [
      "one 1\n",
      "three 3\n",
      "two 2\n"
     ]
    }
   ],
   "source": [
    "for k,v in d.items():\n",
    "    print(k,v)"
   ]
  },
  {
   "cell_type": "markdown",
   "metadata": {},
   "source": [
    "what if we iterate directly over dictionary?"
   ]
  },
  {
   "cell_type": "code",
   "execution_count": 84,
   "metadata": {},
   "outputs": [
    {
     "name": "stdout",
     "output_type": "stream",
     "text": [
      "one\n",
      "three\n",
      "two\n"
     ]
    }
   ],
   "source": [
    "for item in d:\n",
    "    print(item)"
   ]
  },
  {
   "cell_type": "markdown",
   "metadata": {},
   "source": [
    "it goes over keys!"
   ]
  },
  {
   "cell_type": "code",
   "execution_count": 87,
   "metadata": {
    "collapsed": true
   },
   "outputs": [],
   "source": [
    "numbers = [(\"one\", 1), (\"two\", 2) , (\"three\", 3)]"
   ]
  },
  {
   "cell_type": "code",
   "execution_count": 88,
   "metadata": {},
   "outputs": [
    {
     "data": {
      "text/plain": [
       "{'one': 1, 'three': 3, 'two': 2}"
      ]
     },
     "execution_count": 88,
     "metadata": {},
     "output_type": "execute_result"
    }
   ],
   "source": [
    "dict(numbers)"
   ]
  },
  {
   "cell_type": "code",
   "execution_count": 91,
   "metadata": {},
   "outputs": [
    {
     "data": {
      "text/plain": [
       "{'a': 1, 'b': 2, 'c': 3}"
      ]
     },
     "execution_count": 91,
     "metadata": {},
     "output_type": "execute_result"
    }
   ],
   "source": [
    "dict(zip(('a','b','c'), (1, 2, 3)))"
   ]
  },
  {
   "cell_type": "code",
   "execution_count": 93,
   "metadata": {
    "collapsed": true
   },
   "outputs": [],
   "source": [
    "items = (\"Pen\", \"Pencil\", \"Colorbox\")\n",
    "prices = (25, 10, 50)\n",
    "cart = dict(zip(items, prices))"
   ]
  },
  {
   "cell_type": "code",
   "execution_count": 94,
   "metadata": {},
   "outputs": [
    {
     "name": "stdout",
     "output_type": "stream",
     "text": [
      "  Pencil 10\n",
      "     Pen 25\n",
      "Colorbox 50\n",
      "------------\n",
      "   Total 85\n"
     ]
    }
   ],
   "source": [
    "for item, price in cart.items():\n",
    "    print(item.rjust(8), price)\n",
    "print(\"-\"*12)\n",
    "print(\"Total\".rjust(8), sum(cart.values()))"
   ]
  },
  {
   "cell_type": "markdown",
   "metadata": {},
   "source": [
    "### Do it yourself ###\n",
    "- write a function unzip which operates over a dictionary and returns keys and and values as seperate lists."
   ]
  },
  {
   "cell_type": "code",
   "execution_count": 97,
   "metadata": {
    "collapsed": true
   },
   "outputs": [],
   "source": [
    "def unzip(d):\n",
    "    keys = d.keys()\n",
    "    values = [d[k] for k in keys]\n",
    "    return list(keys), values"
   ]
  },
  {
   "cell_type": "code",
   "execution_count": 98,
   "metadata": {},
   "outputs": [
    {
     "data": {
      "text/plain": [
       "(['Pencil', 'Pen', 'Colorbox'], [10, 25, 50])"
      ]
     },
     "execution_count": 98,
     "metadata": {},
     "output_type": "execute_result"
    }
   ],
   "source": [
    "unzip(cart)"
   ]
  },
  {
   "cell_type": "markdown",
   "metadata": {},
   "source": [
    "### More examples ###\n",
    "Write a program to compute frequency of words in a file."
   ]
  },
  {
   "cell_type": "code",
   "execution_count": 104,
   "metadata": {},
   "outputs": [
    {
     "name": "stdout",
     "output_type": "stream",
     "text": [
      "Overwriting words.txt\n"
     ]
    }
   ],
   "source": [
    "%%file words.txt\n",
    "five\n",
    "five four\n",
    "five four three\n",
    "five four three two\n",
    "five four three two one\n",
    "six seven eight nine\n",
    "six seven eight\n",
    "six seven\n",
    "six"
   ]
  },
  {
   "cell_type": "code",
   "execution_count": 105,
   "metadata": {},
   "outputs": [
    {
     "name": "stdout",
     "output_type": "stream",
     "text": [
      "Overwriting wordfreq.py\n"
     ]
    }
   ],
   "source": [
    "%%file wordfreq.py\n",
    "\"\"\"\n",
    "computes frequency of every word in a file\n",
    "\"\"\"\n",
    "import sys\n",
    "\n",
    "def read_words(filename):\n",
    "    return open(filename).read().split()\n",
    "\n",
    "def wordfreq(words):\n",
    "    freq = {}\n",
    "    for word in words:\n",
    "        if word in freq:\n",
    "            freq[word] += 1\n",
    "        else:\n",
    "            freq[word] = 1\n",
    "    return freq\n",
    "\n",
    "if __name__ == \"__main__\":\n",
    "    words = read_words(sys.argv[1])\n",
    "    freq = wordfreq(words)\n",
    "    print(freq)"
   ]
  },
  {
   "cell_type": "code",
   "execution_count": 106,
   "metadata": {},
   "outputs": [
    {
     "name": "stdout",
     "output_type": "stream",
     "text": [
      "{'two': 2, 'one': 1, 'six': 4, 'five': 5, 'nine': 1, 'three': 3, 'seven': 3, 'four': 4, 'eight': 2}\r\n"
     ]
    }
   ],
   "source": [
    "!python wordfreq.py words.txt"
   ]
  },
  {
   "cell_type": "markdown",
   "metadata": {},
   "source": [
    "Can we improve this?"
   ]
  },
  {
   "cell_type": "code",
   "execution_count": 113,
   "metadata": {},
   "outputs": [
    {
     "name": "stdout",
     "output_type": "stream",
     "text": [
      "Overwriting wordfreq.py\n"
     ]
    }
   ],
   "source": [
    "%%file wordfreq.py\n",
    "\"\"\"\n",
    "computes frequency of every word in a file\n",
    "usage:\n",
    "python wordfreq.py filename\n",
    "\"\"\"\n",
    "import sys\n",
    "\n",
    "def read_words(filename):\n",
    "    return open(filename).read().split()\n",
    "\n",
    "def wordfreq(words):\n",
    "    freq = {}\n",
    "    for word in words:\n",
    "        freq[word] = freq.get(word,0) + 1\n",
    "    return freq\n",
    "\n",
    "if __name__ == \"__main__\":\n",
    "    words = read_words(sys.argv[1])\n",
    "    freq = wordfreq(words)\n",
    "    print(freq)"
   ]
  },
  {
   "cell_type": "code",
   "execution_count": 7,
   "metadata": {},
   "outputs": [
    {
     "name": "stdout",
     "output_type": "stream",
     "text": [
      "{'six': 4, 'five': 5, 'eight': 2, 'four': 4, 'nine': 1, 'three': 3, 'seven': 3, 'one': 1, 'two': 2}\r\n"
     ]
    }
   ],
   "source": [
    "!python wordfreq.py words.txt"
   ]
  },
  {
   "cell_type": "code",
   "execution_count": 8,
   "metadata": {
    "collapsed": true
   },
   "outputs": [],
   "source": [
    "def wordfreq1(words):\n",
    "    freq = {}\n",
    "    uniqwords = set(words)\n",
    "    for w in uniqwords:\n",
    "        freq[w] = words.count(w)\n",
    "    return freq"
   ]
  },
  {
   "cell_type": "code",
   "execution_count": 9,
   "metadata": {
    "collapsed": true
   },
   "outputs": [],
   "source": [
    "import wordfreq"
   ]
  },
  {
   "cell_type": "code",
   "execution_count": 10,
   "metadata": {
    "collapsed": true
   },
   "outputs": [],
   "source": [
    "words = wordfreq.read_words(\"words.txt\")"
   ]
  },
  {
   "cell_type": "code",
   "execution_count": 11,
   "metadata": {
    "collapsed": true
   },
   "outputs": [],
   "source": [
    "freq = wordfreq1(words)"
   ]
  },
  {
   "cell_type": "markdown",
   "metadata": {},
   "source": [
    "How about printing it nicely"
   ]
  },
  {
   "cell_type": "code",
   "execution_count": 12,
   "metadata": {},
   "outputs": [
    {
     "name": "stdout",
     "output_type": "stream",
     "text": [
      "eight 2\n",
      "  two 2\n",
      " four 4\n",
      "seven 3\n",
      " five 5\n",
      " nine 1\n",
      "  one 1\n",
      "  six 4\n",
      "three 3\n"
     ]
    }
   ],
   "source": [
    "for w, f in freq.items():\n",
    "    print(w.rjust(5),f)"
   ]
  },
  {
   "cell_type": "markdown",
   "metadata": {},
   "source": [
    "In sorted order of frequencies?"
   ]
  },
  {
   "cell_type": "code",
   "execution_count": 17,
   "metadata": {},
   "outputs": [
    {
     "name": "stdout",
     "output_type": "stream",
     "text": [
      "eight 2\n",
      " five 5\n",
      " four 4\n",
      " nine 1\n",
      "  one 1\n",
      "seven 3\n",
      "  six 4\n",
      "three 3\n",
      "  two 2\n"
     ]
    }
   ],
   "source": [
    "for k,v in sorted(freq.items()):\n",
    "    print(k.rjust(5), v)"
   ]
  },
  {
   "cell_type": "code",
   "execution_count": 18,
   "metadata": {},
   "outputs": [
    {
     "name": "stdout",
     "output_type": "stream",
     "text": [
      " nine 1\n",
      "  one 1\n",
      "eight 2\n",
      "  two 2\n",
      "seven 3\n",
      "three 3\n",
      " four 4\n",
      "  six 4\n",
      " five 5\n"
     ]
    }
   ],
   "source": [
    "for k,v in sorted(freq.items(), key=lambda x:x[1]):\n",
    "    print(k.rjust(5),v)"
   ]
  },
  {
   "cell_type": "code",
   "execution_count": 20,
   "metadata": {},
   "outputs": [
    {
     "name": "stdout",
     "output_type": "stream",
     "text": [
      " five 5\n",
      " four 4\n",
      "  six 4\n",
      "seven 3\n",
      "three 3\n",
      "eight 2\n",
      "  two 2\n",
      " nine 1\n",
      "  one 1\n"
     ]
    }
   ],
   "source": [
    "for k,v in sorted(freq.items(), key=lambda x:x[1], reverse=True):\n",
    "    print(k.rjust(5),v)"
   ]
  },
  {
   "cell_type": "markdown",
   "metadata": {},
   "source": [
    "Print a horixontal Text histogram of word frequency"
   ]
  },
  {
   "cell_type": "code",
   "execution_count": 22,
   "metadata": {},
   "outputs": [
    {
     "name": "stdout",
     "output_type": "stream",
     "text": [
      " five 5 *****\n",
      " four 4 ****\n",
      "  six 4 ****\n",
      "seven 3 ***\n",
      "three 3 ***\n",
      "eight 2 **\n",
      "  two 2 **\n",
      " nine 1 *\n",
      "  one 1 *\n"
     ]
    }
   ],
   "source": [
    "for k,v in sorted(freq.items(), key=lambda x:x[1], reverse=True):\n",
    "    print(k.rjust(5),v, \"*\"*v)"
   ]
  },
  {
   "cell_type": "markdown",
   "metadata": {},
   "source": [
    "Grouping all keys with given values!"
   ]
  },
  {
   "cell_type": "code",
   "execution_count": 23,
   "metadata": {
    "collapsed": true
   },
   "outputs": [],
   "source": [
    "team = {\"david\":\"USA\", \"anand\":\"india\", \"linus\":\"USA\",\"nouful\":\"india\",\"alice\":\"UK\"}"
   ]
  },
  {
   "cell_type": "code",
   "execution_count": 24,
   "metadata": {},
   "outputs": [
    {
     "data": {
      "text/plain": [
       "['nouful', 'anand']"
      ]
     },
     "execution_count": 24,
     "metadata": {},
     "output_type": "execute_result"
    }
   ],
   "source": [
    "[name for name in team.keys() if team[name]==\"india\"]"
   ]
  },
  {
   "cell_type": "code",
   "execution_count": 25,
   "metadata": {},
   "outputs": [
    {
     "data": {
      "text/plain": [
       "['linus', 'david']"
      ]
     },
     "execution_count": 25,
     "metadata": {},
     "output_type": "execute_result"
    }
   ],
   "source": [
    "[name for name in team.keys() if team[name]==\"USA\"]"
   ]
  },
  {
   "cell_type": "markdown",
   "metadata": {},
   "source": [
    "### Pitfalls ###"
   ]
  },
  {
   "cell_type": "code",
   "execution_count": 29,
   "metadata": {},
   "outputs": [
    {
     "name": "stdout",
     "output_type": "stream",
     "text": [
      "[1, 2, 3, 4, 5]\n"
     ]
    }
   ],
   "source": [
    "x = [1, 2, 3, 4]\n",
    "y = x\n",
    "y.append(5)\n",
    "print(x)"
   ]
  },
  {
   "cell_type": "code",
   "execution_count": 30,
   "metadata": {},
   "outputs": [
    {
     "name": "stdout",
     "output_type": "stream",
     "text": [
      "[1, 2, 3, 4]\n"
     ]
    }
   ],
   "source": [
    "x = [1, 2, 3, 4]\n",
    "y = x\n",
    "y = [1, 2, 3]\n",
    "print(x)"
   ]
  },
  {
   "cell_type": "code",
   "execution_count": 31,
   "metadata": {},
   "outputs": [
    {
     "name": "stdout",
     "output_type": "stream",
     "text": [
      "1\n"
     ]
    }
   ],
   "source": [
    "x = 1\n",
    "y = x\n",
    "y = 2\n",
    "print(x)"
   ]
  },
  {
   "cell_type": "markdown",
   "metadata": {},
   "source": [
    "### Classes ###"
   ]
  }
 ],
 "metadata": {
  "kernelspec": {
   "display_name": "Python 3",
   "language": "python",
   "name": "python3"
  },
  "language_info": {
   "codemirror_mode": {
    "name": "ipython",
    "version": 3
   },
   "file_extension": ".py",
   "mimetype": "text/x-python",
   "name": "python",
   "nbconvert_exporter": "python",
   "pygments_lexer": "ipython3",
   "version": "3.4.2"
  }
 },
 "nbformat": 4,
 "nbformat_minor": 2
}
