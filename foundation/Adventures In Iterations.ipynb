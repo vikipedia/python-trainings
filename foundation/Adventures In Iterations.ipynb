{
 "cells": [
  {
   "cell_type": "markdown",
   "metadata": {},
   "source": [
    "### What is an iteration? ###\n",
    "Playing makes learning fun. And how do you make learning mathematics fun? Obviously playing with mathematical abstractions. Early days people used to play with mathematical objects using pen and paper. But imagine playing with repetitive things using pen and paper. That will make it boring soon, won't it? In this article I will show you how Python programming language be used to make simple to advanced iterative mathematics fun. Yes you are reading it right. From shuffling of a deck, sequences of numbers, calculus these are few steps of our journey through iterative mathematics using python.\n",
    "\n",
    "Although iteration seems to be very mathematical term, we do iterate many things in daily life. Have you played cards? We riffle shuffle card deck in iterative manner, we churn buttermilk using iterative process, wood cutting is iterative process etc. We will start explo|ring nature of iteration using few simple examples.\n"
   ]
  },
  {
   "cell_type": "markdown",
   "metadata": {},
   "source": [
    "### Riffle Shuffle ###\n",
    "Imagine that we have a machine which can riffle shuffle cards for us in perfect manner. This is how a perfect riffle shuffle will look like.\n",
    "\n",
    "\n",
    "```\n",
    "A1   B1         A1\n",
    "                B1\n",
    "A2   B2         A2\n",
    "           ===> B2\n",
    "A3   B3         A3\n",
    "                B3\n",
    "A4   B4         A4\n",
    "                B4\n",
    "```\n",
    "\n",
    "Divide the deck in two equal halves. Take one card from first half then one card from second half. Like this we continue till both halves finish. With a riffle shuffle we expect to randomize the card deck. But do you think that a perfect riffle shuffle will randomize the deck or it will form some pattern? What if we iterate the perfect riffle shuffle? is it possible that we come back to original arrangement of card deck where we started? All these questions can be examined only after we build a program which can do a perfect riffle shuffle for us.\n",
    "\n",
    "Lets us model our deck using simple list. a list in python is nothing but collection of objects. We will use string as card and list of strings as deck."
   ]
  },
  {
   "cell_type": "code",
   "execution_count": 10,
   "metadata": {},
   "outputs": [
    {
     "name": "stdout",
     "output_type": "stream",
     "text": [
      "deck   ['A1', 'A2', 'A3', 'A4', 'B1', 'B2', 'B3', 'B4']\n",
      "part-1 ['A1', 'A2', 'A3', 'A4']\n",
      "part-2 ['B1', 'B2', 'B3', 'B4']\n"
     ]
    }
   ],
   "source": [
    "deck = [\"A1\",\"A2\",\"A3\",\"A4\",\"B1\",\"B2\",\"B3\",\"B4\"]\n",
    "n = len(deck) # returns length of deck\n",
    "part1 = deck[:n//2] # returns new list starting from 0th till n//2 th position\n",
    "part2 = deck[n//2:] # returns new list starting from n//2th position till end\n",
    "print(\"deck\".ljust(6), deck)\n",
    "print(\"part-1\".ljust(6), part1)\n",
    "print(\"part-2\".ljust(6),part2)"
   ]
  },
  {
   "cell_type": "markdown",
   "metadata": {},
   "source": [
    "**string** : strings in python are sequences of charecters. strings can be enclosed in single **'** or double **\"** quote"
   ]
  },
  {
   "cell_type": "markdown",
   "metadata": {},
   "source": [
    "**list** : objects seperated by commas and enclosed with square bracket. This make a list!"
   ]
  },
  {
   "cell_type": "markdown",
   "metadata": {},
   "source": [
    "**len** : it is built in function that returns length of a sequence (here list)"
   ]
  },
  {
   "cell_type": "markdown",
   "metadata": {},
   "source": [
    "**`//`** : it is integer division operator."
   ]
  },
  {
   "cell_type": "markdown",
   "metadata": {},
   "source": [
    "Before we write a function that riffle shuffle a deck, lets see how to iterate in python. Python provides only way to iterate over sequences. for each item in sequence do something!\n"
   ]
  },
  {
   "cell_type": "code",
   "execution_count": 22,
   "metadata": {},
   "outputs": [
    {
     "name": "stdout",
     "output_type": "stream",
     "text": [
      "2,4,6,8,10,"
     ]
    }
   ],
   "source": [
    "collection = [1,2,3,4,5]\n",
    "for number in collection:\n",
    "    print(number*2, end=\",\")"
   ]
  },
  {
   "cell_type": "code",
   "execution_count": 23,
   "metadata": {},
   "outputs": [
    {
     "name": "stdout",
     "output_type": "stream",
     "text": [
      "anshul,varsha,mugdha,shambhavi,"
     ]
    }
   ],
   "source": [
    "girls = [\"Anshul\",\"Varsha\",\"Mugdha\",\"Shambhavi\"]\n",
    "for girl in girls:\n",
    "    print(girl.lower(), end=\",\")"
   ]
  },
  {
   "cell_type": "code",
   "execution_count": 24,
   "metadata": {},
   "outputs": [
    {
     "name": "stdout",
     "output_type": "stream",
     "text": [
      "a b c d e f g h i j k l m n o p q r s t u v w x y z "
     ]
    }
   ],
   "source": [
    "import string\n",
    "alphabets = \"abcdefghijklmnopqrstuvwxyz\"\n",
    "for char in alphabets:\n",
    "    print(char, end=\" \")"
   ]
  },
  {
   "cell_type": "code",
   "execution_count": 25,
   "metadata": {
    "collapsed": true
   },
   "outputs": [],
   "source": [
    "def riffle_shuffle(deck):\n",
    "    n = len(deck)\n",
    "    part1 = deck[:n//2]\n",
    "    part2 = deck[n//2:]\n",
    "    \n",
    "    s = []\n",
    "    for x,y in zip(part1, part2):\n",
    "        s.extend([x,y])\n",
    "    \n",
    "    if n%2==1:\n",
    "        s.append(part2[-1]) #last item from second list\n",
    "    \n",
    "    return s"
   ]
  },
  {
   "cell_type": "code",
   "execution_count": 26,
   "metadata": {},
   "outputs": [
    {
     "data": {
      "text/plain": [
       "['h', 'w', 'e', 'o', 'l', 'r', 'l', 'l', 'o', 'd', ' ', '!']"
      ]
     },
     "execution_count": 26,
     "metadata": {},
     "output_type": "execute_result"
    }
   ],
   "source": [
    "riffle_shuffle(\"hello world!\")"
   ]
  },
  {
   "cell_type": "markdown",
   "metadata": {},
   "source": [
    "### Four Number Game ###"
   ]
  },
  {
   "cell_type": "code",
   "execution_count": 20,
   "metadata": {
    "collapsed": true
   },
   "outputs": [],
   "source": [
    "def four_number_game(n, a,b,c,d):\n",
    "    for i in range(n):\n",
    "        a, b, c, d = abs(a-b), abs(b-c), abs(c-d), abs(d-a)\n",
    "        print(a,b,c,d)\n",
    "    return a, b, c, d"
   ]
  },
  {
   "cell_type": "code",
   "execution_count": 24,
   "metadata": {},
   "outputs": [
    {
     "name": "stdout",
     "output_type": "stream",
     "text": [
      "30 24 66 12\n",
      "6 42 54 18\n",
      "36 12 36 12\n",
      "24 24 24 24\n",
      "0 0 0 0\n",
      "0 0 0 0\n",
      "0 0 0 0\n",
      "0 0 0 0\n",
      "0 0 0 0\n",
      "0 0 0 0\n"
     ]
    },
    {
     "data": {
      "text/plain": [
       "(0, 0, 0, 0)"
      ]
     },
     "execution_count": 24,
     "metadata": {},
     "output_type": "execute_result"
    }
   ],
   "source": [
    "four_number_game(10, 19, 49, 73, 7)"
   ]
  },
  {
   "cell_type": "code",
   "execution_count": 25,
   "metadata": {},
   "outputs": [
    {
     "name": "stdout",
     "output_type": "stream",
     "text": [
      "16 46 57 5\n",
      "30 11 52 11\n",
      "19 41 41 19\n",
      "22 0 22 0\n",
      "22 22 22 22\n",
      "0 0 0 0\n",
      "0 0 0 0\n",
      "0 0 0 0\n",
      "0 0 0 0\n",
      "0 0 0 0\n"
     ]
    },
    {
     "data": {
      "text/plain": [
       "(0, 0, 0, 0)"
      ]
     },
     "execution_count": 25,
     "metadata": {},
     "output_type": "execute_result"
    }
   ],
   "source": [
    "four_number_game(10, 1, 17, 63, 6)"
   ]
  },
  {
   "cell_type": "code",
   "execution_count": 26,
   "metadata": {},
   "outputs": [
    {
     "name": "stdout",
     "output_type": "stream",
     "text": [
      "26 104 47 31\n",
      "78 57 16 5\n",
      "21 41 11 73\n",
      "20 30 62 52\n",
      "10 32 10 32\n",
      "22 22 22 22\n",
      "0 0 0 0\n",
      "0 0 0 0\n",
      "0 0 0 0\n",
      "0 0 0 0\n"
     ]
    },
    {
     "data": {
      "text/plain": [
       "(0, 0, 0, 0)"
      ]
     },
     "execution_count": 26,
     "metadata": {},
     "output_type": "execute_result"
    }
   ],
   "source": [
    "four_number_game(10, 91, 117, 13, 60)"
   ]
  },
  {
   "cell_type": "code",
   "execution_count": 27,
   "metadata": {},
   "outputs": [
    {
     "name": "stdout",
     "output_type": "stream",
     "text": [
      "196 27 64 233\n",
      "169 37 169 37\n",
      "132 132 132 132\n",
      "0 0 0 0\n",
      "0 0 0 0\n",
      "0 0 0 0\n",
      "0 0 0 0\n",
      "0 0 0 0\n",
      "0 0 0 0\n",
      "0 0 0 0\n"
     ]
    },
    {
     "data": {
      "text/plain": [
       "(0, 0, 0, 0)"
      ]
     },
     "execution_count": 27,
     "metadata": {},
     "output_type": "execute_result"
    }
   ],
   "source": [
    "four_number_game(10, 236, 40, 67, 3)"
   ]
  },
  {
   "cell_type": "code",
   "execution_count": 28,
   "metadata": {},
   "outputs": [
    {
     "name": "stdout",
     "output_type": "stream",
     "text": [
      "44 99 98 153\n",
      "55 1 55 109\n",
      "54 54 54 54\n",
      "0 0 0 0\n",
      "0 0 0 0\n",
      "0 0 0 0\n",
      "0 0 0 0\n",
      "0 0 0 0\n",
      "0 0 0 0\n",
      "0 0 0 0\n"
     ]
    },
    {
     "data": {
      "text/plain": [
       "(0, 0, 0, 0)"
      ]
     },
     "execution_count": 28,
     "metadata": {},
     "output_type": "execute_result"
    }
   ],
   "source": [
    "four_number_game(10, 47, 3, 102, 200)"
   ]
  },
  {
   "cell_type": "markdown",
   "metadata": {},
   "source": [
    "### Sum Of Squares ###"
   ]
  },
  {
   "cell_type": "code",
   "execution_count": 1,
   "metadata": {
    "collapsed": true
   },
   "outputs": [],
   "source": [
    "def SSQ(n):\n",
    "    digits = [int(s) for s in str(n)]\n",
    "    return sum([d*d for d in digits])\n",
    "\n",
    "def SSQi(repeat, d):\n",
    "    for i in range(repeat):\n",
    "        d = SSQ(d)\n",
    "        print(d)"
   ]
  },
  {
   "cell_type": "code",
   "execution_count": 3,
   "metadata": {},
   "outputs": [
    {
     "name": "stdout",
     "output_type": "stream",
     "text": [
      "50\n",
      "25\n",
      "29\n",
      "85\n",
      "89\n",
      "145\n",
      "42\n",
      "20\n",
      "4\n",
      "16\n",
      "37\n",
      "58\n",
      "89\n",
      "145\n",
      "42\n",
      "20\n",
      "4\n",
      "16\n",
      "37\n",
      "58\n",
      "89\n",
      "145\n",
      "42\n",
      "20\n",
      "4\n"
     ]
    }
   ],
   "source": [
    "SSQi(25, 17)"
   ]
  },
  {
   "cell_type": "code",
   "execution_count": null,
   "metadata": {
    "collapsed": true
   },
   "outputs": [],
   "source": []
  }
 ],
 "metadata": {
  "kernelspec": {
   "display_name": "Python 3",
   "language": "python",
   "name": "python3"
  },
  "language_info": {
   "codemirror_mode": {
    "name": "ipython",
    "version": 3
   },
   "file_extension": ".py",
   "mimetype": "text/x-python",
   "name": "python",
   "nbconvert_exporter": "python",
   "pygments_lexer": "ipython3",
   "version": "3.6.2"
  }
 },
 "nbformat": 4,
 "nbformat_minor": 2
}
