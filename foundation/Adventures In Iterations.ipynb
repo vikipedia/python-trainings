{
 "cells": [
  {
   "cell_type": "markdown",
   "metadata": {},
   "source": [
    "### What is an iteration? ###\n",
    "Playing makes learning fun. And how do you make learning mathematics fun? Obviously playing with mathematical abstractions. Earlier days people used to play with mathematical objects using pen and paper. But imagine playing with repetitive things using pen and paper. That will make it boring soon, won't it? In this article I will show you how Python programming language be used to make simple to advanced iterative mathematics fun. Yes you are reading it right. From shuffling of a deck, sequences of numbers, calculus these are few steps of our journey through iterative mathematics using python.\n",
    "\n",
    "Although iteration seems to be very mathematical term, we do iterate many things in daily life. Have you played cards? We riffle shuffle card deck in iterative manner. We will start exploring nature of iteration using few simple examples.\n"
   ]
  },
  {
   "cell_type": "markdown",
   "metadata": {},
   "source": [
    "### Riffle Shuffle ###\n",
    "Imagine that we have a machine which can riffle shuffle cards for us in perfect manner. This is how a perfect riffle shuffle will look like.\n",
    "\n",
    "\n",
    "```\n",
    "deck       part1  part2     out-shuffle  in-shuffle\n",
    "\n",
    "A1          A1                 A1          B1\n",
    "A2                  B1         B1          A1 \n",
    "A3          A2                 A2          B2\n",
    "A4                  B2    ===> B2          A2\n",
    "B1          A3                 A3          B3\n",
    "B2                  B3         B3          A3\n",
    "B3          A4                 A4          B4\n",
    "B4                  B4         B4          A4\n",
    "```\n",
    "\n",
    "Divide the deck in two equal halves. Take one card from first half then one card from second half. Like this we continue till both halves finish. lets call this out-riffle-shuffle. With a riffle shuffle we expect to randomize the card deck. But do you think that a perfect riffle shuffle will randomize the deck or it will form some pattern? What if we iterate the perfect riffle shuffle? is it possible that we come back to original arrangement of card deck where we started? All these questions can be examined only after we build a program which can do a perfect riffle shuffle for us.\n",
    "\n",
    "And what happens if we take first card from second half and then first card from first half. and continue till both halves finish. lets call this in-riffle-shuffle.\n",
    "\n",
    "Lets us model our deck using simple list. a list in python is nothing but collection of objects. We will use string as card and list of strings as deck."
   ]
  },
  {
   "cell_type": "code",
   "execution_count": 1,
   "metadata": {},
   "outputs": [
    {
     "name": "stdout",
     "output_type": "stream",
     "text": [
      "deck   ['A1', 'A2', 'A3', 'A4', 'B1', 'B2', 'B3', 'B4']\n",
      "part-1 ['A1', 'A2', 'A3', 'A4']\n",
      "part-2 ['B1', 'B2', 'B3', 'B4']\n"
     ]
    }
   ],
   "source": [
    "deck = [\"A1\",\"A2\",\"A3\",\"A4\",\"B1\",\"B2\",\"B3\",\"B4\"]\n",
    "n = len(deck) # returns length of deck\n",
    "mid = n//2\n",
    "part1 = deck[:mid] # returns new list starting from 0th till n//2 th position\n",
    "part2 = deck[mid:] # returns new list starting from n//2th position till end\n",
    "print(\"deck\".ljust(6), deck)\n",
    "print(\"part-1\".ljust(6), part1)\n",
    "print(\"part-2\".ljust(6),part2)"
   ]
  },
  {
   "cell_type": "markdown",
   "metadata": {},
   "source": [
    "**string** : strings in python are sequences of charecters. strings can be enclosed in single **'** or double **\"** quote"
   ]
  },
  {
   "cell_type": "markdown",
   "metadata": {},
   "source": [
    "**list** : objects seperated by commas and enclosed with square bracket. This makes a list!"
   ]
  },
  {
   "cell_type": "markdown",
   "metadata": {},
   "source": [
    "**len** : it is built in function that returns length of a sequence (here list)"
   ]
  },
  {
   "cell_type": "markdown",
   "metadata": {},
   "source": [
    "**`//`** : it is integer division operator."
   ]
  },
  {
   "cell_type": "markdown",
   "metadata": {},
   "source": [
    "Before we write a function that riffle shuffle a deck, lets see how to iterate in python. Python provides only obvious way to iterate over sequences. for each item in sequence do something!\n"
   ]
  },
  {
   "cell_type": "code",
   "execution_count": 2,
   "metadata": {},
   "outputs": [
    {
     "name": "stdout",
     "output_type": "stream",
     "text": [
      "2,4,6,8,10,"
     ]
    }
   ],
   "source": [
    "collection = [1,2,3,4,5]\n",
    "for number in collection:\n",
    "    print(number*2, end=\",\")"
   ]
  },
  {
   "cell_type": "code",
   "execution_count": 3,
   "metadata": {},
   "outputs": [
    {
     "name": "stdout",
     "output_type": "stream",
     "text": [
      "Anshul,Varsha,Mugdha,Shambhavi,"
     ]
    }
   ],
   "source": [
    "girls = [\"Anshul\",\"Varsha\",\"Mugdha\",\"Shambhavi\"]\n",
    "for girl in girls:\n",
    "    print(girl, end=\",\")"
   ]
  },
  {
   "cell_type": "code",
   "execution_count": 4,
   "metadata": {},
   "outputs": [
    {
     "name": "stdout",
     "output_type": "stream",
     "text": [
      "a b c d e f g h i j k l m n o p q r s t u v w x y z "
     ]
    }
   ],
   "source": [
    "alphabets = \"abcdefghijklmnopqrstuvwxyz\"\n",
    "for char in alphabets:\n",
    "    print(char, end=\" \")"
   ]
  },
  {
   "cell_type": "markdown",
   "metadata": {},
   "source": [
    "lets puts bunch of statements in an abstraction called function. That will allow calling these bunch of statements with single statement."
   ]
  },
  {
   "cell_type": "code",
   "execution_count": 1,
   "metadata": {},
   "outputs": [
    {
     "name": "stdout",
     "output_type": "stream",
     "text": [
      "a,b,c,d,e,f,g,h,i,j,k,l,m,n,o,p,q,r,s,t,u,v,w,x,y,z,"
     ]
    }
   ],
   "source": [
    "def print_seq(sequence): #this is how we define function in python print_seq is name of function \n",
    "    for item in sequence:\n",
    "        print(item, end=\",\")\n",
    "print_seq(\"abcdefghijklmnopqrstuvwxyz\") # we call above defined function with some argument"
   ]
  },
  {
   "cell_type": "code",
   "execution_count": 8,
   "metadata": {
    "collapsed": true
   },
   "outputs": [],
   "source": [
    "def riffle_shuffle(deck):\n",
    "    n = len(deck)\n",
    "    part1 = deck[:n//2]\n",
    "    part2 = deck[n//2:]\n",
    "    \n",
    "    s = []\n",
    "    for x,y in zip(part1, part2):\n",
    "        s.extend([x,y])\n",
    "    \n",
    "    if n%2==1: # in case we have odd number of items in deck!\n",
    "        s.append(part2[-1]) #last item from second list\n",
    "    \n",
    "    return s"
   ]
  },
  {
   "cell_type": "code",
   "execution_count": 7,
   "metadata": {},
   "outputs": [
    {
     "data": {
      "text/plain": [
       "['h', 'w', 'e', 'o', 'l', 'r', 'l', 'l', 'o', 'd', ' ', '!']"
      ]
     },
     "execution_count": 7,
     "metadata": {},
     "output_type": "execute_result"
    }
   ],
   "source": [
    "riffle_shuffle(\"hello world!\")"
   ]
  },
  {
   "cell_type": "markdown",
   "metadata": {},
   "source": [
    "So we are ready with our riffle suffle programme. Next thing we want to verify what happens if we riffle-shuffle deck multiple times! "
   ]
  },
  {
   "cell_type": "markdown",
   "metadata": {},
   "source": [
    "### Functions as first class object ###\n",
    "Functions in python are just like any other variable. Functions can be copied with different names just like any other variables. Functions can be passed as argument to other function. Functions can be returned from another function. "
   ]
  },
  {
   "cell_type": "code",
   "execution_count": 52,
   "metadata": {
    "collapsed": true
   },
   "outputs": [],
   "source": [
    "def repeat(func, n, arg, end=\"\\n\"):\n",
    "    for i in range(n):\n",
    "        arg = func(arg)\n",
    "        print(str(i+1).rjust(2) , \"\".join(arg), end=end)\n",
    "    return arg"
   ]
  },
  {
   "cell_type": "code",
   "execution_count": 53,
   "metadata": {},
   "outputs": [
    {
     "name": "stdout",
     "output_type": "stream",
     "text": [
      " 1 hweolrllod !\n",
      " 2 hlwleoodl r!\n",
      " 3 holdwll ero!\n",
      " 4 hlo ledrwol!\n",
      " 5 hdlrow olle!\n",
      " 6 h dollrloew!\n",
      " 7 hr ldooelwl!\n",
      " 8 hore llwdlo!\n",
      " 9 hlowrdel ol!\n",
      "10 hello world!\n"
     ]
    },
    {
     "data": {
      "text/plain": [
       "['h', 'e', 'l', 'l', 'o', ' ', 'w', 'o', 'r', 'l', 'd', '!']"
      ]
     },
     "execution_count": 53,
     "metadata": {},
     "output_type": "execute_result"
    }
   ],
   "source": [
    "repeat(riffle_shuffle, 10, \"hello world!\")"
   ]
  },
  {
   "cell_type": "code",
   "execution_count": 17,
   "metadata": {},
   "outputs": [
    {
     "name": "stdout",
     "output_type": "stream",
     "text": [
      " 1 A1B1A2B2A3B3A4B4\n",
      " 2 A1A3B1B3A2A4B2B4\n",
      " 3 A1A2A3A4B1B2B3B4\n",
      " 4 A1B1A2B2A3B3A4B4\n",
      " 5 A1A3B1B3A2A4B2B4\n",
      " 6 A1A2A3A4B1B2B3B4\n",
      " 7 A1B1A2B2A3B3A4B4\n",
      " 8 A1A3B1B3A2A4B2B4\n",
      " 9 A1A2A3A4B1B2B3B4\n",
      "10 A1B1A2B2A3B3A4B4\n"
     ]
    },
    {
     "data": {
      "text/plain": [
       "['A1', 'B1', 'A2', 'B2', 'A3', 'B3', 'A4', 'B4']"
      ]
     },
     "execution_count": 17,
     "metadata": {},
     "output_type": "execute_result"
    }
   ],
   "source": [
    "deck = [\"A1\",\"A2\",\"A3\",\"A4\",\"B1\",\"B2\",\"B3\",\"B4\"]\n",
    "repeat(riffle_shuffle, 10, deck)"
   ]
  },
  {
   "cell_type": "code",
   "execution_count": 18,
   "metadata": {},
   "outputs": [
    {
     "name": "stdout",
     "output_type": "stream",
     "text": [
      " 1 Peyrtehnocne  C2o0n1f8\n",
      " 2 Pee y rCt2eoh0nno1cfn8\n",
      " 3 Poehe0 nyn or1Cctf2ne8\n",
      " 4 Poore1hCec0t fn2ynne 8\n",
      " 5 Pto ofrne21yhnCneec 08\n",
      " 6 Python Conference 2018\n",
      " 7 Peyrtehnocne  C2o0n1f8\n",
      " 8 Pee y rCt2eoh0nno1cfn8\n",
      " 9 Poehe0 nyn or1Cctf2ne8\n",
      "10 Poore1hCec0t fn2ynne 8\n"
     ]
    },
    {
     "data": {
      "text/plain": [
       "['P',\n",
       " 'o',\n",
       " 'o',\n",
       " 'r',\n",
       " 'e',\n",
       " '1',\n",
       " 'h',\n",
       " 'C',\n",
       " 'e',\n",
       " 'c',\n",
       " '0',\n",
       " 't',\n",
       " ' ',\n",
       " 'f',\n",
       " 'n',\n",
       " '2',\n",
       " 'y',\n",
       " 'n',\n",
       " 'n',\n",
       " 'e',\n",
       " ' ',\n",
       " '8']"
      ]
     },
     "execution_count": 18,
     "metadata": {},
     "output_type": "execute_result"
    }
   ],
   "source": [
    "repeat(riffle_shuffle, 10, \"Python Conference 2018\")"
   ]
  },
  {
   "cell_type": "code",
   "execution_count": 19,
   "metadata": {},
   "outputs": [
    {
     "name": "stdout",
     "output_type": "stream",
     "text": [
      "length shuffles\n",
      "     1        1\n",
      "     2        1\n",
      "     3        1\n",
      "     4        2\n",
      "     5        2\n",
      "     6        4\n",
      "     7        4\n",
      "     8        3\n",
      "     9        3\n",
      "    10        6\n",
      "    11        6\n",
      "    12       10\n",
      "    13       10\n",
      "    14       12\n",
      "    15       12\n",
      "    16        4\n",
      "    17        4\n",
      "    18        8\n",
      "    19        8\n",
      "    20       18\n",
      "    21       18\n",
      "    22        6\n",
      "    23        6\n",
      "    24       11\n",
      "    25       11\n",
      "    26       20\n",
      "    27       20\n",
      "    28       18\n",
      "    29       18\n",
      "    30       28\n",
      "    31       28\n",
      "    32        5\n",
      "    33        5\n",
      "    34       10\n",
      "    35       10\n",
      "    36       12\n",
      "    37       12\n",
      "    38       36\n",
      "    39       36\n",
      "    40       12\n",
      "    41       12\n",
      "    42       20\n",
      "    43       20\n",
      "    44       14\n",
      "    45       14\n",
      "    46       12\n",
      "    47       12\n",
      "    48       23\n",
      "    49       23\n",
      "    50       21\n",
      "    51       21\n",
      "    52        8\n"
     ]
    }
   ],
   "source": [
    "def repeat_(func, arg):\n",
    "    \"\"\"\n",
    "    count how many riffle shuffles it takes to get original state of deck!\n",
    "    \"\"\"\n",
    "    arg_ = arg[:]\n",
    "    count = 1\n",
    "    arg_ = func(arg_)\n",
    "    while arg_ != arg:\n",
    "        arg_ = func(arg_)\n",
    "        count += 1\n",
    "    return count\n",
    "\n",
    "print(\"length\",\"shuffles\")\n",
    "for i in range(1,53):\n",
    "    print(\"{:6d} {:8d}\".format(i, repeat_(riffle_shuffle, list(range(i)))))"
   ]
  },
  {
   "cell_type": "code",
   "execution_count": 20,
   "metadata": {
    "collapsed": true
   },
   "outputs": [],
   "source": [
    "def in_riffle_shuffle(deck):\n",
    "    n = len(deck)\n",
    "    part1 = deck[:n//2]\n",
    "    part2 = deck[n//2:]\n",
    "    \n",
    "    s = []\n",
    "    for x,y in zip(part1, part2):\n",
    "        s.extend([y,x])\n",
    "    \n",
    "    if n%2==1: # in case we have odd number of items in deck!\n",
    "        s.append(part2[-1]) #last item from second list\n",
    "    \n",
    "    return s"
   ]
  },
  {
   "cell_type": "code",
   "execution_count": 21,
   "metadata": {},
   "outputs": [
    {
     "data": {
      "text/plain": [
       "[3, 1, 4, 2, 5]"
      ]
     },
     "execution_count": 21,
     "metadata": {},
     "output_type": "execute_result"
    }
   ],
   "source": [
    "in_riffle_shuffle([1,2,3,4,5])"
   ]
  },
  {
   "cell_type": "code",
   "execution_count": 25,
   "metadata": {},
   "outputs": [
    {
     "name": "stdout",
     "output_type": "stream",
     "text": [
      " 1 ePryetnhcoen  2C0o1n8f\n",
      " 2 ne P r2yCe0ton1hnc8ofe\n",
      " 3 tnoen 1Ph nrc28yoCfee0\n",
      " 4 rtcn2o8eyno C1fPehe 0n\n",
      " 5  rCt1cfnP2eoh8ee y0nno\n",
      " 6 o hr8Cete1 cyf0nnPn2oe\n",
      " 7 coy fh0rn8nCPent2eo1e \n",
      " 8 CcPoeyn tf2he0or1ne8 n\n",
      " 9 hCec0Poore1ynne 8t fn2\n",
      "10 yhnCneec 08Pto ofrne21\n",
      "11 Python Conference 2018\n",
      "12 ePryetnhcoen  2C0o1n8f\n"
     ]
    },
    {
     "data": {
      "text/plain": [
       "['e',\n",
       " 'P',\n",
       " 'r',\n",
       " 'y',\n",
       " 'e',\n",
       " 't',\n",
       " 'n',\n",
       " 'h',\n",
       " 'c',\n",
       " 'o',\n",
       " 'e',\n",
       " 'n',\n",
       " ' ',\n",
       " ' ',\n",
       " '2',\n",
       " 'C',\n",
       " '0',\n",
       " 'o',\n",
       " '1',\n",
       " 'n',\n",
       " '8',\n",
       " 'f']"
      ]
     },
     "execution_count": 25,
     "metadata": {},
     "output_type": "execute_result"
    }
   ],
   "source": [
    "repeat(in_riffle_shuffle,12,\"Python Conference 2018\")"
   ]
  },
  {
   "cell_type": "code",
   "execution_count": 22,
   "metadata": {},
   "outputs": [
    {
     "name": "stdout",
     "output_type": "stream",
     "text": [
      "length shuffles\n",
      "     1        1\n",
      "     2        2\n",
      "     3        2\n",
      "     4        4\n",
      "     5        4\n",
      "     6        3\n",
      "     7        3\n",
      "     8        6\n",
      "     9        6\n",
      "    10       10\n",
      "    11       10\n",
      "    12       12\n",
      "    13       12\n",
      "    14        4\n",
      "    15        4\n",
      "    16        8\n",
      "    17        8\n",
      "    18       18\n",
      "    19       18\n",
      "    20        6\n",
      "    21        6\n",
      "    22       11\n",
      "    23       11\n",
      "    24       20\n",
      "    25       20\n",
      "    26       18\n",
      "    27       18\n",
      "    28       28\n",
      "    29       28\n",
      "    30        5\n",
      "    31        5\n",
      "    32       10\n",
      "    33       10\n",
      "    34       12\n",
      "    35       12\n",
      "    36       36\n",
      "    37       36\n",
      "    38       12\n",
      "    39       12\n",
      "    40       20\n",
      "    41       20\n",
      "    42       14\n",
      "    43       14\n",
      "    44       12\n",
      "    45       12\n",
      "    46       23\n",
      "    47       23\n",
      "    48       21\n",
      "    49       21\n",
      "    50        8\n",
      "    51        8\n",
      "    52       52\n"
     ]
    }
   ],
   "source": [
    "print(\"length\",\"shuffles\")\n",
    "for i in range(1,53):\n",
    "    print(\"{:6d} {:8d}\".format(i, repeat_(in_riffle_shuffle, list(range(i)))))"
   ]
  },
  {
   "cell_type": "markdown",
   "metadata": {},
   "source": [
    "### Four Number Game ###\n",
    "Consider four integers a, b,c,d. We do following iteration as part of four number game\n",
    "a => |a-b|\n",
    "b => |b-c|\n",
    "c => |c-d|\n",
    "d => |d-a|\n",
    "\n",
    "we keep repeating this iteration and see what happens!"
   ]
  },
  {
   "cell_type": "code",
   "execution_count": 23,
   "metadata": {
    "collapsed": true
   },
   "outputs": [],
   "source": [
    "def four_number_game(a,b,c,d, n= 10):\n",
    "    for i in range(n):\n",
    "        a, b, c, d = abs(a-b), abs(b-c), abs(c-d), abs(d-a)\n",
    "        print(a,b,c,d)\n",
    "    return a, b, c, d"
   ]
  },
  {
   "cell_type": "code",
   "execution_count": 14,
   "metadata": {},
   "outputs": [
    {
     "name": "stdout",
     "output_type": "stream",
     "text": [
      "30 24 66 12\n",
      "6 42 54 18\n",
      "36 12 36 12\n",
      "24 24 24 24\n",
      "0 0 0 0\n",
      "0 0 0 0\n",
      "0 0 0 0\n",
      "0 0 0 0\n",
      "0 0 0 0\n",
      "0 0 0 0\n"
     ]
    },
    {
     "data": {
      "text/plain": [
       "(0, 0, 0, 0)"
      ]
     },
     "execution_count": 14,
     "metadata": {},
     "output_type": "execute_result"
    }
   ],
   "source": [
    "four_number_game(19, 49, 73, 7)"
   ]
  },
  {
   "cell_type": "code",
   "execution_count": 15,
   "metadata": {},
   "outputs": [
    {
     "name": "stdout",
     "output_type": "stream",
     "text": [
      "16 46 57 5\n",
      "30 11 52 11\n",
      "19 41 41 19\n",
      "22 0 22 0\n",
      "22 22 22 22\n",
      "0 0 0 0\n",
      "0 0 0 0\n",
      "0 0 0 0\n",
      "0 0 0 0\n",
      "0 0 0 0\n"
     ]
    },
    {
     "data": {
      "text/plain": [
       "(0, 0, 0, 0)"
      ]
     },
     "execution_count": 15,
     "metadata": {},
     "output_type": "execute_result"
    }
   ],
   "source": [
    "four_number_game( 1, 17, 63, 6)"
   ]
  },
  {
   "cell_type": "code",
   "execution_count": 16,
   "metadata": {},
   "outputs": [
    {
     "name": "stdout",
     "output_type": "stream",
     "text": [
      "26 104 47 31\n",
      "78 57 16 5\n",
      "21 41 11 73\n",
      "20 30 62 52\n",
      "10 32 10 32\n",
      "22 22 22 22\n",
      "0 0 0 0\n",
      "0 0 0 0\n",
      "0 0 0 0\n",
      "0 0 0 0\n"
     ]
    },
    {
     "data": {
      "text/plain": [
       "(0, 0, 0, 0)"
      ]
     },
     "execution_count": 16,
     "metadata": {},
     "output_type": "execute_result"
    }
   ],
   "source": [
    "four_number_game(91, 117, 13, 60)"
   ]
  },
  {
   "cell_type": "code",
   "execution_count": 17,
   "metadata": {},
   "outputs": [
    {
     "name": "stdout",
     "output_type": "stream",
     "text": [
      "196 27 64 233\n",
      "169 37 169 37\n",
      "132 132 132 132\n",
      "0 0 0 0\n",
      "0 0 0 0\n",
      "0 0 0 0\n",
      "0 0 0 0\n",
      "0 0 0 0\n",
      "0 0 0 0\n",
      "0 0 0 0\n"
     ]
    },
    {
     "data": {
      "text/plain": [
       "(0, 0, 0, 0)"
      ]
     },
     "execution_count": 17,
     "metadata": {},
     "output_type": "execute_result"
    }
   ],
   "source": [
    "four_number_game( 236, 40, 67, 3)"
   ]
  },
  {
   "cell_type": "code",
   "execution_count": 19,
   "metadata": {},
   "outputs": [
    {
     "name": "stdout",
     "output_type": "stream",
     "text": [
      "44 99 98 153\n",
      "55 1 55 109\n",
      "54 54 54 54\n",
      "0 0 0 0\n",
      "0 0 0 0\n",
      "0 0 0 0\n",
      "0 0 0 0\n",
      "0 0 0 0\n",
      "0 0 0 0\n",
      "0 0 0 0\n"
     ]
    },
    {
     "data": {
      "text/plain": [
       "(0, 0, 0, 0)"
      ]
     },
     "execution_count": 19,
     "metadata": {},
     "output_type": "execute_result"
    }
   ],
   "source": [
    "four_number_game(47, 3, 102, 200)"
   ]
  },
  {
   "cell_type": "markdown",
   "metadata": {},
   "source": [
    "Looks like four numbers finally reduce to zero! but is it true for all numbers? lets try huge number of times for different inputs!"
   ]
  },
  {
   "cell_type": "code",
   "execution_count": 20,
   "metadata": {},
   "outputs": [
    {
     "name": "stdout",
     "output_type": "stream",
     "text": [
      "(580, 471, 842,  28)  4\n",
      "(904, 899, 734, 952)  5\n",
      "(148, 102, 509, 437)  5\n",
      "(117, 888, 162, 146)  5\n",
      "(329, 138, 119, 811)  6\n",
      "(836, 909,  69, 177)  5\n",
      "(160, 494, 798, 959)  6\n",
      "(485, 488, 621, 390)  5\n",
      "( 70, 821, 231, 829)  4\n",
      "( 97, 592, 241, 285)  4\n",
      "(975, 546, 501,  27)  7\n",
      "(885,  34, 737,  93)  4\n",
      "(585, 323, 924, 329)  4\n",
      "(155, 858, 176, 611)  4\n",
      "( 31, 822, 269, 310)  4\n",
      "(526, 593,  59, 420)  6\n",
      "(196,  48, 292, 820)  6\n",
      "(  3, 539, 344, 652)  4\n",
      "(525, 415,  96, 376)  6\n",
      "( 37, 974, 346, 460)  4\n",
      "(145, 260, 387, 757)  6\n",
      "(403, 897, 229, 126)  6\n",
      "(828, 568, 898,  35)  4\n",
      "(535, 547, 463, 256)  6\n",
      "(210, 978,  98, 988)  4\n",
      "(584, 274,  34, 669)  5\n",
      "(752, 787,  75, 492)  8\n",
      "(928, 757, 484, 734)  6\n",
      "(834, 159, 268, 915)  4\n",
      "(165, 385, 520, 232)  4\n",
      "(146, 199,  45, 819)  4\n",
      "(278, 844, 363, 367)  4\n",
      "(446, 898,  60, 112)  8\n",
      "(841, 823,  55, 617)  6\n",
      "( 84, 967, 274, 535)  4\n",
      "(  8, 731, 636, 352)  6\n",
      "(679, 215, 296, 683)  4\n",
      "(158, 687, 644,  43)  4\n",
      "(581, 375, 905, 169)  4\n",
      "(260, 222, 754, 224)  4\n",
      "(849, 738, 283,  47)  5\n",
      "(302, 131, 348, 380)  6\n",
      "(685, 932,  49, 456)  7\n",
      "(229, 495, 775, 988)  5\n",
      "(461, 930, 480, 117)  6\n",
      "(207, 635, 231, 702)  4\n",
      "(827,  31, 141, 626)  5\n",
      "(947, 946, 186, 331)  4\n",
      "(834, 551, 207, 589)  6\n",
      "(958, 473, 807, 684)  4\n"
     ]
    }
   ],
   "source": [
    "def four_number_game_(a, b, c, d):\n",
    "    count = 0\n",
    "    while (a, b, c, d)!= (0,0,0,0) and count<100:\n",
    "        a, b, c, d = abs(a-b), abs(b-c), abs(c-d), abs(d-a)\n",
    "        count += 1\n",
    "    return count\n",
    "\n",
    "import random\n",
    "for i in range(50):\n",
    "    nums = [random.randrange(1000) for i in range(4)]\n",
    "    print(\"({:3d}, {:3d}, {:3d}, {:3d}) {:2d}\".format(*nums, four_number_game_(*nums)))"
   ]
  },
  {
   "cell_type": "code",
   "execution_count": 21,
   "metadata": {},
   "outputs": [
    {
     "name": "stdout",
     "output_type": "stream",
     "text": [
      "173 402 174 55\n",
      "229 228 119 118\n",
      "1 109 1 111\n",
      "108 108 110 110\n",
      "0 2 0 2\n",
      "2 2 2 2\n",
      "0 0 0 0\n",
      "0 0 0 0\n",
      "0 0 0 0\n",
      "0 0 0 0\n"
     ]
    },
    {
     "data": {
      "text/plain": [
       "(0, 0, 0, 0)"
      ]
     },
     "execution_count": 21,
     "metadata": {},
     "output_type": "execute_result"
    }
   ],
   "source": [
    "four_number_game(243 ,70 ,472, 298)"
   ]
  },
  {
   "cell_type": "markdown",
   "metadata": {},
   "source": [
    "### Sum Of Squares ###\n",
    "If we define sum of squares of digits of an integer as SSQ, then what happens if we keep doing SSQ in iterative manner as given below\n",
    "\n",
    "a => SSQ(a)\n",
    "\n",
    "this will generate a sequence of numbers. for example if we start with a = 17 then we will get following sequence\n",
    "17,50,25,29,85,89,145,42,20,...\n",
    "We aim to examine this sequence"
   ]
  },
  {
   "cell_type": "code",
   "execution_count": 57,
   "metadata": {},
   "outputs": [],
   "source": [
    "def SSQ(n):\n",
    "    digits = [int(s) for s in str(n)]\n",
    "    return sum([d*d for d in digits])\n",
    "\n",
    "def repeat(func, n, arg, end=\"\\n\"):\n",
    "    for i in range(n):\n",
    "        arg = func(arg)\n",
    "        print(arg, end=end)\n",
    "    return arg\n",
    "\n",
    "SSQi = lambda a : repeat(SSQ, 50, 17, end=\",\")"
   ]
  },
  {
   "cell_type": "code",
   "execution_count": 55,
   "metadata": {},
   "outputs": [
    {
     "data": {
      "text/plain": [
       "30"
      ]
     },
     "execution_count": 55,
     "metadata": {},
     "output_type": "execute_result"
    }
   ],
   "source": [
    "SSQ(1234)"
   ]
  },
  {
   "cell_type": "code",
   "execution_count": 56,
   "metadata": {},
   "outputs": [
    {
     "name": "stdout",
     "output_type": "stream",
     "text": [
      "50,25,29,85,89,145,42,20,4,16,37,58,89,145,42,20,4,16,37,58,89,145,42,20,4,16,37,58,89,145,42,20,4,16,37,58,89,145,42,20,4,16,37,58,89,145,42,20,4,16,"
     ]
    },
    {
     "data": {
      "text/plain": [
       "16"
      ]
     },
     "execution_count": 56,
     "metadata": {},
     "output_type": "execute_result"
    }
   ],
   "source": [
    "SSQi(17)"
   ]
  },
  {
   "cell_type": "markdown",
   "metadata": {},
   "source": [
    "Can we see a pattern? look ar series carefully. it froms a repeating searies 42, 20, ** 4, 16, 37, 58, 89, 145, 42, 20 ** 4, 16, 37, 58, 89, 145, 42, 20, ** 4, 16,37, 58, 89, 145, 42, 20 **"
   ]
  },
  {
   "cell_type": "markdown",
   "metadata": {
    "collapsed": true
   },
   "source": [
    "looking at some graphs, might help us looking at periodic nature of series. To plot graph we need a sequence. How to generate a sequence? SSQi\\_ is special function called generator function. it yields next item in sequence when we say next! So now we generate infinite sequence of SSQ, then take only as much we need from the infinite sequence."
   ]
  },
  {
   "cell_type": "code",
   "execution_count": 58,
   "metadata": {
    "collapsed": true
   },
   "outputs": [],
   "source": [
    "def SSQi_(n):\n",
    "    while True:\n",
    "        n = SSQ(n)\n",
    "        yield n\n"
   ]
  },
  {
   "cell_type": "code",
   "execution_count": 27,
   "metadata": {
    "collapsed": true
   },
   "outputs": [],
   "source": [
    "ssq17 = SSQi_(17)"
   ]
  },
  {
   "cell_type": "code",
   "execution_count": 28,
   "metadata": {},
   "outputs": [
    {
     "data": {
      "text/plain": [
       "50"
      ]
     },
     "execution_count": 28,
     "metadata": {},
     "output_type": "execute_result"
    }
   ],
   "source": [
    "next(ssq17)"
   ]
  },
  {
   "cell_type": "code",
   "execution_count": 29,
   "metadata": {},
   "outputs": [
    {
     "data": {
      "text/plain": [
       "25"
      ]
     },
     "execution_count": 29,
     "metadata": {},
     "output_type": "execute_result"
    }
   ],
   "source": [
    "next(ssq17)"
   ]
  },
  {
   "cell_type": "code",
   "execution_count": 5,
   "metadata": {
    "collapsed": true
   },
   "outputs": [],
   "source": [
    "def take(seq, n):\n",
    "    \"\"\"\n",
    "    takes first n elements from a sequence\n",
    "    \"\"\"\n",
    "    return [next(seq) for i in range(n)]"
   ]
  },
  {
   "cell_type": "code",
   "execution_count": 31,
   "metadata": {
    "collapsed": true
   },
   "outputs": [],
   "source": [
    "ssq18 = SSQi_(18)"
   ]
  },
  {
   "cell_type": "code",
   "execution_count": 35,
   "metadata": {},
   "outputs": [
    {
     "data": {
      "text/plain": [
       "[42, 20, 4, 16, 37, 58, 89, 145, 42, 20, 4, 16, 37, 58, 89, 145, 42, 20, 4, 16]"
      ]
     },
     "execution_count": 35,
     "metadata": {},
     "output_type": "execute_result"
    }
   ],
   "source": [
    "take(ssq18,20)"
   ]
  },
  {
   "cell_type": "code",
   "execution_count": 36,
   "metadata": {
    "collapsed": true
   },
   "outputs": [],
   "source": [
    "#show images from matplotlib in the same HTML page\n",
    "%matplotlib inline"
   ]
  },
  {
   "cell_type": "code",
   "execution_count": 37,
   "metadata": {
    "collapsed": true
   },
   "outputs": [],
   "source": [
    "import matplotlib.pyplot as plt"
   ]
  },
  {
   "cell_type": "code",
   "execution_count": 39,
   "metadata": {},
   "outputs": [
    {
     "data": {
      "text/plain": [
       "[<matplotlib.lines.Line2D at 0x7fe302f2e1d0>]"
      ]
     },
     "execution_count": 39,
     "metadata": {},
     "output_type": "execute_result"
    },
    {
     "data": {
      "image/png": "[encoded data removed]",
      "text/plain": [
       "<matplotlib.figure.Figure at 0x7fe302ffc7b8>"
      ]
     },
     "metadata": {},
     "output_type": "display_data"
    }
   ],
   "source": [
    "ssq17 = SSQi_(17)\n",
    "plt.plot(take(ssq17,100))"
   ]
  },
  {
   "cell_type": "code",
   "execution_count": 40,
   "metadata": {},
   "outputs": [
    {
     "data": {
      "text/plain": [
       "[<matplotlib.lines.Line2D at 0x7fe302ed1c88>]"
      ]
     },
     "execution_count": 40,
     "metadata": {},
     "output_type": "execute_result"
    },
    {
     "data": {
      "image/png": "[encoded data removed]",
      "text/plain": [
       "<matplotlib.figure.Figure at 0x7fe302f4b240>"
      ]
     },
     "metadata": {},
     "output_type": "display_data"
    }
   ],
   "source": [
    "ssq78 = SSQi_(78)\n",
    "plt.plot(take(ssq78,100))"
   ]
  },
  {
   "cell_type": "code",
   "execution_count": 41,
   "metadata": {},
   "outputs": [
    {
     "data": {
      "text/plain": [
       "[<matplotlib.lines.Line2D at 0x7fe302df0748>]"
      ]
     },
     "execution_count": 41,
     "metadata": {},
     "output_type": "execute_result"
    },
    {
     "data": {
      "image/png": "[encoded data removed]",
      "text/plain": [
       "<matplotlib.figure.Figure at 0x7fe302e806a0>"
      ]
     },
     "metadata": {},
     "output_type": "display_data"
    }
   ],
   "source": [
    "ssq357 = SSQi_(357)\n",
    "plt.plot(take(ssq357, 100))"
   ]
  },
  {
   "cell_type": "code",
   "execution_count": 42,
   "metadata": {
    "collapsed": true
   },
   "outputs": [],
   "source": [
    "def riffle_shuffle_count():\n",
    "    n = 1\n",
    "    while True:\n",
    "        yield repeat_(riffle_shuffle, list(range(n)))\n",
    "        n += 1"
   ]
  },
  {
   "cell_type": "code",
   "execution_count": 43,
   "metadata": {},
   "outputs": [
    {
     "data": {
      "text/plain": [
       "[<matplotlib.lines.Line2D at 0x7fe302d166a0>]"
      ]
     },
     "execution_count": 43,
     "metadata": {},
     "output_type": "execute_result"
    },
    {
     "data": {
      "image/png": "[encoded data removed]",
      "text/plain": [
       "<matplotlib.figure.Figure at 0x7fe302e3b438>"
      ]
     },
     "metadata": {},
     "output_type": "display_data"
    }
   ],
   "source": [
    "plt.plot(take(riffle_shuffle_count(), 400))"
   ]
  },
  {
   "cell_type": "markdown",
   "metadata": {},
   "source": [
    "### SUM ###\n",
    "`SUM` is simplest tranformation you can do with digits of a number. yes just keep on finding sum of digits of a number! If we `repeat` the `SUM` operation, it just converges in few iterations to a single number"
   ]
  },
  {
   "cell_type": "code",
   "execution_count": 26,
   "metadata": {
    "collapsed": true
   },
   "outputs": [],
   "source": [
    "def SUM(n):\n",
    "    return sum([int(d) for d in str(n)])"
   ]
  },
  {
   "cell_type": "code",
   "execution_count": 28,
   "metadata": {},
   "outputs": [
    {
     "data": {
      "text/plain": [
       "4"
      ]
     },
     "execution_count": 28,
     "metadata": {},
     "output_type": "execute_result"
    }
   ],
   "source": [
    "SUM(1111)"
   ]
  },
  {
   "cell_type": "code",
   "execution_count": 29,
   "metadata": {},
   "outputs": [
    {
     "data": {
      "text/plain": [
       "10"
      ]
     },
     "execution_count": 29,
     "metadata": {},
     "output_type": "execute_result"
    }
   ],
   "source": [
    "SUM(1234)"
   ]
  },
  {
   "cell_type": "code",
   "execution_count": 42,
   "metadata": {},
   "outputs": [
    {
     "name": "stdout",
     "output_type": "stream",
     "text": [
      " 1 63\n",
      " 2 9\n",
      " 3 9\n",
      " 4 9\n",
      " 5 9\n",
      " 6 9\n",
      " 7 9\n",
      " 8 9\n",
      " 9 9\n",
      "10 9\n"
     ]
    },
    {
     "data": {
      "text/plain": [
       "9"
      ]
     },
     "execution_count": 42,
     "metadata": {},
     "output_type": "execute_result"
    }
   ],
   "source": [
    "repeat(SUM, 10, 1933465462677)"
   ]
  },
  {
   "cell_type": "markdown",
   "metadata": {},
   "source": [
    "### Kaprekar iteration ###\n",
    "Take a number and find it's digits, rearrange them and form two numbers smallest and largest. substract smallest from largest, get new number, perform same operation on this new number. This is called as kaprekar iteration.\n",
    "\n",
    "```\n",
    "a      max     min    new a\n",
    "3927   9732    2379   7353\n",
    "7353   7533    3357   6174\n",
    "6174   7641    1467   6174\n",
    "```\n",
    "It so happens that this kaprekar iteration converges to single number 6174. Lets write a kaperekar sequence generator and try it with 4 digit, five digit or three digit numbers and see what happens!"
   ]
  },
  {
   "cell_type": "code",
   "execution_count": 3,
   "metadata": {
    "collapsed": true
   },
   "outputs": [],
   "source": [
    "def rearrangemax(n, digits):\n",
    "    strn = str(n).zfill(digits)\n",
    "    return int(\"\".join(sorted(strn, reverse=True)))\n",
    "\n",
    "def rearrangemin(n, digits):\n",
    "    strn = str(n).zfill(digits)\n",
    "    return int(\"\".join(sorted(strn)))\n",
    "\n",
    "def kaprekar(n):\n",
    "    digits = len(str(n))\n",
    "    while True:\n",
    "        min_ = rearrangemin(n, digits)\n",
    "        max_ = rearrangemax(n, digits)\n",
    "        n  = max_ - min_\n",
    "        yield n"
   ]
  },
  {
   "cell_type": "code",
   "execution_count": 6,
   "metadata": {},
   "outputs": [
    {
     "data": {
      "text/plain": [
       "[7353, 4176, 6174, 6174, 6174]"
      ]
     },
     "execution_count": 6,
     "metadata": {},
     "output_type": "execute_result"
    }
   ],
   "source": [
    "take(kaprekar(3927), 5)"
   ]
  },
  {
   "cell_type": "code",
   "execution_count": 8,
   "metadata": {},
   "outputs": [
    {
     "data": {
      "text/plain": [
       "[693, 594, 495, 495, 495, 495, 495, 495, 495, 495]"
      ]
     },
     "execution_count": 8,
     "metadata": {},
     "output_type": "execute_result"
    }
   ],
   "source": [
    "take(kaprekar(392), 10)"
   ]
  },
  {
   "cell_type": "code",
   "execution_count": 13,
   "metadata": {},
   "outputs": [
    {
     "data": {
      "text/plain": [
       "[198, 792, 693, 594, 495, 495, 495, 495, 495, 495]"
      ]
     },
     "execution_count": 13,
     "metadata": {},
     "output_type": "execute_result"
    }
   ],
   "source": [
    "take(kaprekar(123),10)"
   ]
  },
  {
   "cell_type": "code",
   "execution_count": 20,
   "metadata": {},
   "outputs": [
    {
     "data": {
      "text/plain": [
       "[74943, 62964, 71973, 83952, 74943, 62964, 71973, 83952, 74943, 62964]"
      ]
     },
     "execution_count": 20,
     "metadata": {},
     "output_type": "execute_result"
    }
   ],
   "source": [
    "take(kaprekar(83927),10)"
   ]
  },
  {
   "cell_type": "code",
   "execution_count": 21,
   "metadata": {},
   "outputs": [
    {
     "data": {
      "text/plain": [
       "[41976, 82962, 75933, 63954, 61974, 82962, 75933, 63954, 61974, 82962]"
      ]
     },
     "execution_count": 21,
     "metadata": {},
     "output_type": "execute_result"
    }
   ],
   "source": [
    "take(kaprekar(34215),10)"
   ]
  },
  {
   "cell_type": "code",
   "execution_count": 47,
   "metadata": {},
   "outputs": [
    {
     "data": {
      "text/plain": [
       "[<matplotlib.lines.Line2D at 0x7fe302c649b0>]"
      ]
     },
     "execution_count": 47,
     "metadata": {},
     "output_type": "execute_result"
    },
    {
     "data": {
      "image/png": "[encoded data removed]",
      "text/plain": [
       "<matplotlib.figure.Figure at 0x7fe302dffac8>"
      ]
     },
     "metadata": {},
     "output_type": "display_data"
    }
   ],
   "source": [
    "kpr5638 = kaprekar(5638)\n",
    "plt.plot(take(kpr5638, 50))"
   ]
  },
  {
   "cell_type": "code",
   "execution_count": 48,
   "metadata": {},
   "outputs": [
    {
     "data": {
      "text/plain": [
       "[<matplotlib.lines.Line2D at 0x7fe302beff60>]"
      ]
     },
     "execution_count": 48,
     "metadata": {},
     "output_type": "execute_result"
    },
    {
     "data": {
      "image/png": "[encoded data removed]",
      "text/plain": [
       "<matplotlib.figure.Figure at 0x7fe302c1d0f0>"
      ]
     },
     "metadata": {},
     "output_type": "display_data"
    }
   ],
   "source": [
    "kpr74596 = kaprekar(74596)\n",
    "plt.plot(take(kpr74596, 50))"
   ]
  },
  {
   "cell_type": "code",
   "execution_count": 49,
   "metadata": {},
   "outputs": [
    {
     "data": {
      "text/plain": [
       "[<matplotlib.lines.Line2D at 0x7fe302b8a470>]"
      ]
     },
     "execution_count": 49,
     "metadata": {},
     "output_type": "execute_result"
    },
    {
     "data": {
      "image/png": "[encoded data removed]",
      "text/plain": [
       "<matplotlib.figure.Figure at 0x7fe302cdcba8>"
      ]
     },
     "metadata": {},
     "output_type": "display_data"
    }
   ],
   "source": [
    "kpr786 = kaprekar(786)\n",
    "plt.plot(take(kpr786, 50))"
   ]
  },
  {
   "cell_type": "code",
   "execution_count": 24,
   "metadata": {},
   "outputs": [
    {
     "name": "stdout",
     "output_type": "stream",
     "text": [
      "['arrow', 'blank', 'circle', 'classic', 'square', 'triangle', 'turtle']\n"
     ]
    },
    {
     "data": {
      "text/plain": [
       "'\\n\\ndef triangle(a, b, c):\\n    \\n    \\nwhile True:\\n    forward(200)\\n    left(170)\\n    if abs(pos()) < 1:\\n        break\\n\\ndone()\\n'"
      ]
     },
     "execution_count": 24,
     "metadata": {},
     "output_type": "execute_result"
    }
   ],
   "source": [
    "from turtle import *\n",
    "color('red', 'yellow')\n",
    "print(getshapes())\n",
    "\"\"\"\n",
    "\n",
    "def triangle(a, b, c):\n",
    "    \n",
    "    \n",
    "while True:\n",
    "    forward(200)\n",
    "    left(170)\n",
    "    if abs(pos()) < 1:\n",
    "        break\n",
    "\n",
    "done()\n",
    "\"\"\""
   ]
  },
  {
   "cell_type": "code",
   "execution_count": 25,
   "metadata": {},
   "outputs": [
    {
     "data": {
      "text/plain": [
       "(0.00,0.00)"
      ]
     },
     "execution_count": 25,
     "metadata": {},
     "output_type": "execute_result"
    }
   ],
   "source": [
    "position()"
   ]
  },
  {
   "cell_type": "code",
   "execution_count": 26,
   "metadata": {
    "collapsed": true
   },
   "outputs": [],
   "source": [
    "goto(50,50)"
   ]
  },
  {
   "cell_type": "code",
   "execution_count": 28,
   "metadata": {
    "collapsed": true
   },
   "outputs": [],
   "source": [
    "goto(50,100)"
   ]
  },
  {
   "cell_type": "code",
   "execution_count": 29,
   "metadata": {
    "collapsed": true
   },
   "outputs": [],
   "source": [
    "goto(0,0)"
   ]
  },
  {
   "cell_type": "code",
   "execution_count": null,
   "metadata": {
    "collapsed": true
   },
   "outputs": [],
   "source": []
  }
 ],
 "metadata": {
  "kernelspec": {
   "display_name": "Python 3",
   "language": "python",
   "name": "python3"
  },
  "language_info": {
   "codemirror_mode": {
    "name": "ipython",
    "version": 3
   },
   "file_extension": ".py",
   "mimetype": "text/x-python",
   "name": "python",
   "nbconvert_exporter": "python",
   "pygments_lexer": "ipython3",
   "version": "3.6.2"
  }
 },
 "nbformat": 4,
 "nbformat_minor": 2
}
