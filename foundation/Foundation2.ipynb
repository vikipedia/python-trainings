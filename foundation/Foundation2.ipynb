{
 "cells": [
  {
   "cell_type": "markdown",
   "metadata": {},
   "source": [
    "### Conditional Expressions ###"
   ]
  },
  {
   "cell_type": "code",
   "execution_count": 1,
   "metadata": {},
   "outputs": [
    {
     "data": {
      "text/plain": [
       "False"
      ]
     },
     "execution_count": 1,
     "metadata": {},
     "output_type": "execute_result"
    }
   ],
   "source": [
    "1 > 2"
   ]
  },
  {
   "cell_type": "code",
   "execution_count": 2,
   "metadata": {},
   "outputs": [
    {
     "data": {
      "text/plain": [
       "True"
      ]
     },
     "execution_count": 2,
     "metadata": {},
     "output_type": "execute_result"
    }
   ],
   "source": [
    "1.99 <= 2.0"
   ]
  },
  {
   "cell_type": "code",
   "execution_count": 3,
   "metadata": {},
   "outputs": [
    {
     "data": {
      "text/plain": [
       "True"
      ]
     },
     "execution_count": 3,
     "metadata": {},
     "output_type": "execute_result"
    }
   ],
   "source": [
    "2 != 3"
   ]
  },
  {
   "cell_type": "code",
   "execution_count": 4,
   "metadata": {},
   "outputs": [
    {
     "data": {
      "text/plain": [
       "True"
      ]
     },
     "execution_count": 4,
     "metadata": {},
     "output_type": "execute_result"
    }
   ],
   "source": [
    "2 == 2"
   ]
  },
  {
   "cell_type": "code",
   "execution_count": 5,
   "metadata": {},
   "outputs": [
    {
     "data": {
      "text/plain": [
       "True"
      ]
     },
     "execution_count": 5,
     "metadata": {},
     "output_type": "execute_result"
    }
   ],
   "source": [
    "2 <= 2"
   ]
  },
  {
   "cell_type": "code",
   "execution_count": 6,
   "metadata": {},
   "outputs": [
    {
     "data": {
      "text/plain": [
       "True"
      ]
     },
     "execution_count": 6,
     "metadata": {},
     "output_type": "execute_result"
    }
   ],
   "source": [
    "\"python\" > \"c++\""
   ]
  },
  {
   "cell_type": "code",
   "execution_count": 7,
   "metadata": {},
   "outputs": [
    {
     "data": {
      "text/plain": [
       "True"
      ]
     },
     "execution_count": 7,
     "metadata": {},
     "output_type": "execute_result"
    }
   ],
   "source": [
    "\"alice\" in \"alice in wonderland\""
   ]
  },
  {
   "cell_type": "code",
   "execution_count": 8,
   "metadata": {},
   "outputs": [
    {
     "data": {
      "text/plain": [
       "False"
      ]
     },
     "execution_count": 8,
     "metadata": {},
     "output_type": "execute_result"
    }
   ],
   "source": [
    "\"alice\" not in \"alice in wonderland\""
   ]
  },
  {
   "cell_type": "code",
   "execution_count": 9,
   "metadata": {
    "collapsed": true
   },
   "outputs": [],
   "source": [
    "book = \"alice in wonderland\""
   ]
  },
  {
   "cell_type": "code",
   "execution_count": 10,
   "metadata": {},
   "outputs": [
    {
     "data": {
      "text/plain": [
       "True"
      ]
     },
     "execution_count": 10,
     "metadata": {},
     "output_type": "execute_result"
    }
   ],
   "source": [
    "book.startswith(\"alice\")"
   ]
  },
  {
   "cell_type": "code",
   "execution_count": 11,
   "metadata": {},
   "outputs": [
    {
     "data": {
      "text/plain": [
       "True"
      ]
     },
     "execution_count": 11,
     "metadata": {},
     "output_type": "execute_result"
    }
   ],
   "source": [
    "book.endswith(\"wonderland\")"
   ]
  },
  {
   "cell_type": "markdown",
   "metadata": {},
   "source": [
    "Can we make use of this to identify file types by looking at extensions?"
   ]
  },
  {
   "cell_type": "code",
   "execution_count": 12,
   "metadata": {
    "collapsed": true
   },
   "outputs": [],
   "source": [
    "def is_python_script(filename):\n",
    "    return filename.endswith(\".py\")"
   ]
  },
  {
   "cell_type": "code",
   "execution_count": 13,
   "metadata": {},
   "outputs": [
    {
     "data": {
      "text/plain": [
       "True"
      ]
     },
     "execution_count": 13,
     "metadata": {},
     "output_type": "execute_result"
    }
   ],
   "source": [
    "is_python_script(\"square.py\")"
   ]
  },
  {
   "cell_type": "code",
   "execution_count": 14,
   "metadata": {},
   "outputs": [
    {
     "data": {
      "text/plain": [
       "False"
      ]
     },
     "execution_count": 14,
     "metadata": {},
     "output_type": "execute_result"
    }
   ],
   "source": [
    "is_python_script(\"square.java\")"
   ]
  },
  {
   "cell_type": "markdown",
   "metadata": {},
   "source": [
    "python has if statement as shown below"
   ]
  },
  {
   "cell_type": "code",
   "execution_count": 15,
   "metadata": {},
   "outputs": [
    {
     "name": "stdout",
     "output_type": "stream",
     "text": [
      "Obviously ... I can prgramme conditions\n"
     ]
    }
   ],
   "source": [
    "python = [3.4,'if']\n",
    "if 'if' in python:\n",
    "    print(\"Obviously ... I can prgramme conditions\")\n",
    "elif python[0] > 3:\n",
    "    print(\"Python can have long list of elif\")\n",
    "elif len(python) > 1:\n",
    "    print(\"Python can have ..still long list of elif\")\n",
    "else:\n",
    "    print(\"If none of the conditions satisfied then come here\")\n",
    "    print(\"And there is no need of switch or case statements in python\")"
   ]
  },
  {
   "cell_type": "code",
   "execution_count": 16,
   "metadata": {
    "collapsed": true
   },
   "outputs": [],
   "source": [
    "def even (n):\n",
    "    if n%2 == 0:\n",
    "        return True\n",
    "    else:\n",
    "        return False"
   ]
  },
  {
   "cell_type": "code",
   "execution_count": 17,
   "metadata": {},
   "outputs": [
    {
     "data": {
      "text/plain": [
       "True"
      ]
     },
     "execution_count": 17,
     "metadata": {},
     "output_type": "execute_result"
    }
   ],
   "source": [
    "even(2)"
   ]
  },
  {
   "cell_type": "markdown",
   "metadata": {},
   "source": [
    "The conditional after if will be `True` for\n",
    "- nonzero integer value\n",
    "- any object that is not None\n",
    "- nonempty sequences like list, string, tuple, dictionary\n",
    "\n",
    "*_The conditional will be `False` for None, empty sequences_*"
   ]
  },
  {
   "cell_type": "code",
   "execution_count": 18,
   "metadata": {
    "collapsed": true
   },
   "outputs": [],
   "source": [
    "def even(n):\n",
    "    return not n%2"
   ]
  },
  {
   "cell_type": "code",
   "execution_count": 19,
   "metadata": {},
   "outputs": [
    {
     "data": {
      "text/plain": [
       "False"
      ]
     },
     "execution_count": 19,
     "metadata": {},
     "output_type": "execute_result"
    }
   ],
   "source": [
    "even(3)"
   ]
  },
  {
   "cell_type": "code",
   "execution_count": 20,
   "metadata": {
    "collapsed": true
   },
   "outputs": [],
   "source": [
    "def odd(n):\n",
    "    return not even(n)"
   ]
  },
  {
   "cell_type": "code",
   "execution_count": 21,
   "metadata": {},
   "outputs": [
    {
     "data": {
      "text/plain": [
       "True"
      ]
     },
     "execution_count": 21,
     "metadata": {},
     "output_type": "execute_result"
    }
   ],
   "source": [
    "odd(3)"
   ]
  },
  {
   "cell_type": "markdown",
   "metadata": {},
   "source": [
    "### Do it yourself ###\n",
    "- Write a python function `filetype` which will take filename as input and return the file type. It should be able to recognise following file types. if file is none from below, then it should return `None`\n",
    "```\n",
    "type     extension\n",
    "python   .py\n",
    "c        .c\n",
    "java     .java\n",
    "text     .txt\n",
    "```\n",
    "```\n",
    ">>> filetype(\"square.py\")\n",
    "python\n",
    ">>> filetype(\"square.txt\")\n",
    "text\n",
    ">>> filetype(\"makefile.bat\")\n",
    ">>> filetype(\"hello.c\")\n",
    "c\n",
    "```\n",
    "- Write a function `minimum` (without using built in `min`) to find minimum from two numbers.\n",
    "```\n",
    ">>> minimum(4,5)\n",
    "4\n",
    ">>> minimum(4.5,4)\n",
    "4\n",
    "```\n",
    "- Write function minimum3 to find minimum of given three numbers.\n",
    "```\n",
    ">>> minimum3(1,2,3)\n",
    "1\n",
    "```"
   ]
  },
  {
   "cell_type": "code",
   "execution_count": 22,
   "metadata": {
    "collapsed": true
   },
   "outputs": [],
   "source": [
    "def minimum(x,y):\n",
    "    if x < y:\n",
    "        return x\n",
    "    else:\n",
    "        return y\n",
    "\n",
    "def minimum3(x,y,z):\n",
    "    return minimum(minimum(x,y),z)"
   ]
  },
  {
   "cell_type": "code",
   "execution_count": 23,
   "metadata": {
    "collapsed": true
   },
   "outputs": [],
   "source": [
    "def filetype(filename):\n",
    "    if filename.endswith(\".py\"):\n",
    "        return \"python\"\n",
    "    elif filename.endswith(\".c\"):\n",
    "        return \"c\"\n",
    "    elif filename.endswith(\".java\"):\n",
    "        return \"java\"\n",
    "    elif filename.endswith(\".txt\"):\n",
    "        return \"text\"\n",
    "    else:\n",
    "        return None"
   ]
  },
  {
   "cell_type": "code",
   "execution_count": 24,
   "metadata": {
    "collapsed": true
   },
   "outputs": [],
   "source": [
    "primes = [2,3,5,7,11,13,17]"
   ]
  },
  {
   "cell_type": "code",
   "execution_count": 25,
   "metadata": {},
   "outputs": [
    {
     "data": {
      "text/plain": [
       "True"
      ]
     },
     "execution_count": 25,
     "metadata": {},
     "output_type": "execute_result"
    }
   ],
   "source": [
    "5 in primes"
   ]
  },
  {
   "cell_type": "code",
   "execution_count": 26,
   "metadata": {
    "collapsed": true
   },
   "outputs": [],
   "source": [
    "primes2 = primes"
   ]
  },
  {
   "cell_type": "code",
   "execution_count": 27,
   "metadata": {},
   "outputs": [
    {
     "data": {
      "text/plain": [
       "True"
      ]
     },
     "execution_count": 27,
     "metadata": {},
     "output_type": "execute_result"
    }
   ],
   "source": [
    "primes is primes2"
   ]
  },
  {
   "cell_type": "code",
   "execution_count": 28,
   "metadata": {},
   "outputs": [
    {
     "data": {
      "text/plain": [
       "True"
      ]
     },
     "execution_count": 28,
     "metadata": {},
     "output_type": "execute_result"
    }
   ],
   "source": [
    "primes == primes2"
   ]
  },
  {
   "cell_type": "code",
   "execution_count": 29,
   "metadata": {
    "collapsed": true
   },
   "outputs": [],
   "source": [
    "primes3 = list(primes)"
   ]
  },
  {
   "cell_type": "code",
   "execution_count": 30,
   "metadata": {},
   "outputs": [
    {
     "data": {
      "text/plain": [
       "False"
      ]
     },
     "execution_count": 30,
     "metadata": {},
     "output_type": "execute_result"
    }
   ],
   "source": [
    "primes3 is primes # this checks reference"
   ]
  },
  {
   "cell_type": "code",
   "execution_count": 31,
   "metadata": {},
   "outputs": [
    {
     "data": {
      "text/plain": [
       "True"
      ]
     },
     "execution_count": 31,
     "metadata": {},
     "output_type": "execute_result"
    }
   ],
   "source": [
    "primes3 == primes # this checks values"
   ]
  },
  {
   "cell_type": "markdown",
   "metadata": {},
   "source": [
    "the keyword *_`is`_* checks if two objects on both side are same objects or not. but `==` operator checks if both objects have same value."
   ]
  },
  {
   "cell_type": "code",
   "execution_count": 32,
   "metadata": {
    "collapsed": true
   },
   "outputs": [],
   "source": [
    "person = {\"name\":\"robinson\",\n",
    "         \"books\":[\"Element\",\"Finding your element\"],\n",
    "         \"TED\":\"How schools kill creativity\"}"
   ]
  },
  {
   "cell_type": "code",
   "execution_count": 33,
   "metadata": {},
   "outputs": [
    {
     "data": {
      "text/plain": [
       "False"
      ]
     },
     "execution_count": 33,
     "metadata": {},
     "output_type": "execute_result"
    }
   ],
   "source": [
    "\"robinson\" in person"
   ]
  },
  {
   "cell_type": "code",
   "execution_count": 34,
   "metadata": {},
   "outputs": [
    {
     "data": {
      "text/plain": [
       "True"
      ]
     },
     "execution_count": 34,
     "metadata": {},
     "output_type": "execute_result"
    }
   ],
   "source": [
    "\"name\" in person"
   ]
  },
  {
   "cell_type": "code",
   "execution_count": 35,
   "metadata": {},
   "outputs": [
    {
     "data": {
      "text/plain": [
       "True"
      ]
     },
     "execution_count": 35,
     "metadata": {},
     "output_type": "execute_result"
    }
   ],
   "source": [
    "\"robinson\" in person.values()"
   ]
  },
  {
   "cell_type": "markdown",
   "metadata": {
    "collapsed": true
   },
   "source": [
    "### while loop ###\n",
    "With conditions explained, same cam be used for while loop"
   ]
  },
  {
   "cell_type": "code",
   "execution_count": 36,
   "metadata": {
    "collapsed": true
   },
   "outputs": [],
   "source": [
    "def print_fibonacci(n):\n",
    "    \"\"\"\n",
    "    print fibonacci numbers less than n\n",
    "    \"\"\"\n",
    "    prev, current = 1, 1\n",
    "    \n",
    "    while current < n:\n",
    "        prev, current = current, prev + current\n",
    "        print(prev, end=\",\")"
   ]
  },
  {
   "cell_type": "code",
   "execution_count": 37,
   "metadata": {},
   "outputs": [
    {
     "name": "stdout",
     "output_type": "stream",
     "text": [
      "1,2,3,5,8,13,21,34,55,89,144,233,377,610,987,"
     ]
    }
   ],
   "source": [
    "print_fibonacci(1000)"
   ]
  },
  {
   "cell_type": "markdown",
   "metadata": {},
   "source": [
    "### for loop ###\n",
    "`for` loops are different as compared to c or fortran like langauages. `for` loop in python always runs over items of any sequence like list, string, tuple, dictionary. "
   ]
  },
  {
   "cell_type": "code",
   "execution_count": 38,
   "metadata": {},
   "outputs": [
    {
     "name": "stdout",
     "output_type": "stream",
     "text": [
      "Elsa\n",
      "David\n",
      "Mahesh\n",
      "Hari\n"
     ]
    }
   ],
   "source": [
    "names = [\"Elsa\",\"David\",\"Mahesh\",\"Hari\"]\n",
    "for name in names:\n",
    "    print(name)"
   ]
  },
  {
   "cell_type": "code",
   "execution_count": 39,
   "metadata": {},
   "outputs": [
    {
     "name": "stdout",
     "output_type": "stream",
     "text": [
      "1,2,3,5,8,13,21,34,55,89,144,233,377,610,987,"
     ]
    }
   ],
   "source": [
    "for f in [1,2,3,5,8,13,21,34,55,89,144,233,377,610,987]:\n",
    "    print(f, end=\",\")"
   ]
  },
  {
   "cell_type": "code",
   "execution_count": 40,
   "metadata": {},
   "outputs": [
    {
     "name": "stdout",
     "output_type": "stream",
     "text": [
      "T,h,i,s, ,i,s, ,r,a,n,d,o,m, ,s,t,a,t,e,m,e,n,t, ,f,o,r, ,t,e,s,t,i,n,g, ,',f,o,r,', ,l,o,o,p,"
     ]
    }
   ],
   "source": [
    "for c in \"This is random statement for testing 'for' loop\":\n",
    "    print(c, end=\",\")"
   ]
  },
  {
   "cell_type": "markdown",
   "metadata": {},
   "source": [
    "There is a special function `range()` which can be used with `for` loop to mimick the usual iteration like c."
   ]
  },
  {
   "cell_type": "code",
   "execution_count": 41,
   "metadata": {},
   "outputs": [
    {
     "name": "stdout",
     "output_type": "stream",
     "text": [
      "0\n",
      "1\n",
      "2\n",
      "3\n",
      "4\n"
     ]
    }
   ],
   "source": [
    "for i in range(5):\n",
    "    print(i)"
   ]
  },
  {
   "cell_type": "code",
   "execution_count": 42,
   "metadata": {},
   "outputs": [
    {
     "name": "stdout",
     "output_type": "stream",
     "text": [
      "2\n",
      "4\n",
      "6\n",
      "8\n"
     ]
    }
   ],
   "source": [
    "for i in range(2,10,2):\n",
    "    print(i)"
   ]
  },
  {
   "cell_type": "markdown",
   "metadata": {},
   "source": [
    "### Do it yourself ###\n",
    "- write a python script `ls.py` to list files in current directory.\n",
    "```\n",
    "python ls.py\n",
    "Foundation1.html\t \n",
    "Foundation2.html\n",
    "arguments.py  \n",
    "Foundation1.ipynb  \n",
    "Foundation2.ipynb  \n",
    "mymodule.py\n",
    "```\n",
    "- Write a function `mysum` that sums up elements form a list\n",
    "```\n",
    ">>> mysum([1,1,1,1])\n",
    "4\n",
    "```\n",
    "- write a function `product` that computes product of all elements for a list\n",
    "```\n",
    ">>> product([1,2,3,4])\n",
    "24\n",
    "```\n",
    "- write a function to compute factorial of a number \n",
    "```\n",
    ">>> factorial(4):\n",
    "24\n",
    "```"
   ]
  },
  {
   "cell_type": "code",
   "execution_count": 43,
   "metadata": {
    "collapsed": true
   },
   "outputs": [],
   "source": [
    "def product(numbers):\n",
    "    p = 1\n",
    "    for n in numbers:\n",
    "        p = p * n\n",
    "    return p\n",
    "\n",
    "def factorial(n): #code repetion\n",
    "    f = 1\n",
    "    for i in range(1, n+1):\n",
    "        f = f * i\n",
    "    return f\n",
    "\n",
    "def factorial1(n): # reuse code\n",
    "    return product(range(1, n+1))\n",
    "\n",
    "factorial2 = lambda n: product(range(1, n+1)) #reuse of code and elegance of handy definition"
   ]
  },
  {
   "cell_type": "code",
   "execution_count": 44,
   "metadata": {},
   "outputs": [
    {
     "data": {
      "text/plain": [
       "24"
      ]
     },
     "execution_count": 44,
     "metadata": {},
     "output_type": "execute_result"
    }
   ],
   "source": [
    "factorial2(4)"
   ]
  },
  {
   "cell_type": "markdown",
   "metadata": {},
   "source": [
    "There are usual `break` statements available, which breaks out of the smallest enclosing for or while loop. There is also optional `else` clause assosiated with for loop. This `else` when used with for loop gets executed only when for loop is not break out by `break` statement."
   ]
  },
  {
   "cell_type": "code",
   "execution_count": 45,
   "metadata": {
    "collapsed": true
   },
   "outputs": [],
   "source": [
    "def print_primes(n):\n",
    "    \"\"\"\n",
    "    prints prime numbers less than n\n",
    "    \"\"\"\n",
    "    for i in range(2,n):\n",
    "        for j in range(2,i):#test primality\n",
    "            if i%j == 0 :\n",
    "                break\n",
    "        else:\n",
    "            print(i, end=\",\")\n",
    "        "
   ]
  },
  {
   "cell_type": "code",
   "execution_count": 46,
   "metadata": {},
   "outputs": [
    {
     "name": "stdout",
     "output_type": "stream",
     "text": [
      "2,3,5,7,11,13,17,19,23,29,31,37,41,43,47,"
     ]
    }
   ],
   "source": [
    "print_primes(50)"
   ]
  },
  {
   "cell_type": "markdown",
   "metadata": {},
   "source": [
    "### Do it youself ###\n",
    "Write a function `prime_fibonacci` to print fibonacci numbers less than n but are prime numbers also.\n",
    "```\n",
    ">>> prime_fibonacci(100)\n",
    "```"
   ]
  },
  {
   "cell_type": "code",
   "execution_count": 47,
   "metadata": {
    "collapsed": true
   },
   "outputs": [],
   "source": [
    "def prime_fibonacci(n):\n",
    "    \"\"\"\n",
    "    prints numbers less than n that are prime fibonacci numbers \n",
    "    \"\"\"\n",
    "    prev, current = 1, 2\n",
    "    while prev < n:\n",
    "        for i in range(2, prev):#test primality\n",
    "            if prev%i == 0:\n",
    "                break\n",
    "        else:\n",
    "            print(prev, end=\",\")\n",
    "    \n",
    "        prev, current = current, prev + current #fibinacci computation"
   ]
  },
  {
   "cell_type": "code",
   "execution_count": 48,
   "metadata": {},
   "outputs": [
    {
     "name": "stdout",
     "output_type": "stream",
     "text": [
      "1,2,3,5,13,89,"
     ]
    }
   ],
   "source": [
    "prime_fibonacci(100)"
   ]
  },
  {
   "cell_type": "markdown",
   "metadata": {},
   "source": [
    "The `else` clause above is useful, but it is makes the code difficult to read if you are not habituated to look at such pattern. We will make the above code more readable and simple as we learn to code python way."
   ]
  },
  {
   "cell_type": "markdown",
   "metadata": {},
   "source": [
    "### Recap List methods! ###"
   ]
  },
  {
   "cell_type": "code",
   "execution_count": 49,
   "metadata": {
    "collapsed": true
   },
   "outputs": [],
   "source": [
    "numbers = list(range(10))"
   ]
  },
  {
   "cell_type": "code",
   "execution_count": 50,
   "metadata": {},
   "outputs": [
    {
     "data": {
      "text/plain": [
       "[0, 1, 2, 3, 4, 5, 6, 7, 8, 9]"
      ]
     },
     "execution_count": 50,
     "metadata": {},
     "output_type": "execute_result"
    }
   ],
   "source": [
    "numbers"
   ]
  },
  {
   "cell_type": "code",
   "execution_count": 51,
   "metadata": {
    "collapsed": true
   },
   "outputs": [],
   "source": [
    "numbers.append(11)"
   ]
  },
  {
   "cell_type": "code",
   "execution_count": 52,
   "metadata": {},
   "outputs": [
    {
     "data": {
      "text/plain": [
       "[0, 1, 2, 3, 4, 5, 6, 7, 8, 9, 11]"
      ]
     },
     "execution_count": 52,
     "metadata": {},
     "output_type": "execute_result"
    }
   ],
   "source": [
    "numbers"
   ]
  },
  {
   "cell_type": "code",
   "execution_count": 53,
   "metadata": {
    "collapsed": true
   },
   "outputs": [],
   "source": [
    "numbers.insert(0, -1)"
   ]
  },
  {
   "cell_type": "code",
   "execution_count": 54,
   "metadata": {},
   "outputs": [
    {
     "data": {
      "text/plain": [
       "[-1, 0, 1, 2, 3, 4, 5, 6, 7, 8, 9, 11]"
      ]
     },
     "execution_count": 54,
     "metadata": {},
     "output_type": "execute_result"
    }
   ],
   "source": [
    "numbers"
   ]
  },
  {
   "cell_type": "code",
   "execution_count": 55,
   "metadata": {},
   "outputs": [
    {
     "data": {
      "text/plain": [
       "-1"
      ]
     },
     "execution_count": 55,
     "metadata": {},
     "output_type": "execute_result"
    }
   ],
   "source": [
    "numbers.pop(0)"
   ]
  },
  {
   "cell_type": "code",
   "execution_count": 56,
   "metadata": {},
   "outputs": [
    {
     "data": {
      "text/plain": [
       "[0, 1, 2, 3, 4, 5, 6, 7, 8, 9, 11]"
      ]
     },
     "execution_count": 56,
     "metadata": {},
     "output_type": "execute_result"
    }
   ],
   "source": [
    "numbers"
   ]
  },
  {
   "cell_type": "code",
   "execution_count": 57,
   "metadata": {},
   "outputs": [
    {
     "data": {
      "text/plain": [
       "4"
      ]
     },
     "execution_count": 57,
     "metadata": {},
     "output_type": "execute_result"
    }
   ],
   "source": [
    "numbers.index(4)"
   ]
  },
  {
   "cell_type": "code",
   "execution_count": 58,
   "metadata": {
    "collapsed": true
   },
   "outputs": [],
   "source": [
    "emptylist = []"
   ]
  },
  {
   "cell_type": "markdown",
   "metadata": {},
   "source": [
    "### Do it yourself ###\n",
    "\n",
    "- Modify above written function `prime_fibonacci` to return list of prime fibonacci numbers instead of printing.\n",
    "```\n",
    ">>> prime_fibonacci(100)\n",
    "[1,2,3,5,13,89]\n",
    "```\n",
    "- Write a function to square items in the list.\n",
    "```\n",
    ">>> square([1,2,3])\n",
    "[1,4,9]\n",
    "```\n",
    "- Write a function to find out even numbers from a list of numbers\n",
    "```\n",
    ">>> evens([1,2,3,4,5,6,7,8,9])\n",
    "[2,4,6,8]\n",
    "```"
   ]
  },
  {
   "cell_type": "markdown",
   "metadata": {},
   "source": [
    "### List slicing ###\n"
   ]
  },
  {
   "cell_type": "code",
   "execution_count": 59,
   "metadata": {
    "collapsed": true
   },
   "outputs": [],
   "source": [
    "digits = list(range(10))"
   ]
  },
  {
   "cell_type": "code",
   "execution_count": 60,
   "metadata": {},
   "outputs": [
    {
     "data": {
      "text/plain": [
       "[0, 1, 2, 3, 4, 5, 6, 7, 8, 9]"
      ]
     },
     "execution_count": 60,
     "metadata": {},
     "output_type": "execute_result"
    }
   ],
   "source": [
    "digits"
   ]
  },
  {
   "cell_type": "code",
   "execution_count": 61,
   "metadata": {},
   "outputs": [
    {
     "data": {
      "text/plain": [
       "[1, 2, 3, 4, 5]"
      ]
     },
     "execution_count": 61,
     "metadata": {},
     "output_type": "execute_result"
    }
   ],
   "source": [
    "digits[1:6] #new list containing items from index 1(included) to 6(excluded)"
   ]
  },
  {
   "cell_type": "code",
   "execution_count": 62,
   "metadata": {},
   "outputs": [
    {
     "data": {
      "text/plain": [
       "[1, 2, 3, 4, 5, 6, 7, 8, 9]"
      ]
     },
     "execution_count": 62,
     "metadata": {},
     "output_type": "execute_result"
    }
   ],
   "source": [
    "digits[1:] #list containing items from index 1 till end"
   ]
  },
  {
   "cell_type": "code",
   "execution_count": 63,
   "metadata": {},
   "outputs": [
    {
     "data": {
      "text/plain": [
       "[0, 1, 2, 3, 4]"
      ]
     },
     "execution_count": 63,
     "metadata": {},
     "output_type": "execute_result"
    }
   ],
   "source": [
    "digits[:5]# list containing items from start till index 5(excluding)"
   ]
  },
  {
   "cell_type": "code",
   "execution_count": 64,
   "metadata": {},
   "outputs": [
    {
     "data": {
      "text/plain": [
       "9"
      ]
     },
     "execution_count": 64,
     "metadata": {},
     "output_type": "execute_result"
    }
   ],
   "source": [
    "digits[-1]#last element"
   ]
  },
  {
   "cell_type": "code",
   "execution_count": 65,
   "metadata": {},
   "outputs": [
    {
     "data": {
      "text/plain": [
       "[0, 1, 2, 3, 4, 5, 6, 7, 8]"
      ]
     },
     "execution_count": 65,
     "metadata": {},
     "output_type": "execute_result"
    }
   ],
   "source": [
    "digits[:-1] # all items except last"
   ]
  },
  {
   "cell_type": "code",
   "execution_count": 66,
   "metadata": {},
   "outputs": [
    {
     "data": {
      "text/plain": [
       "[0, 1, 2, 3, 4, 5, 6, 7, 8, 9]"
      ]
     },
     "execution_count": 66,
     "metadata": {},
     "output_type": "execute_result"
    }
   ],
   "source": [
    "digits[:] # all elements..just a copy"
   ]
  },
  {
   "cell_type": "code",
   "execution_count": 67,
   "metadata": {},
   "outputs": [
    {
     "data": {
      "text/plain": [
       "[2, 4, 6]"
      ]
     },
     "execution_count": 67,
     "metadata": {},
     "output_type": "execute_result"
    }
   ],
   "source": [
    "digits[2:7:2]# elements from index 2 to 7 with space of 2"
   ]
  },
  {
   "cell_type": "code",
   "execution_count": 68,
   "metadata": {},
   "outputs": [
    {
     "data": {
      "text/plain": [
       "[9, 8, 7, 6, 5, 4, 3, 2, 1, 0]"
      ]
     },
     "execution_count": 68,
     "metadata": {},
     "output_type": "execute_result"
    }
   ],
   "source": [
    "digits[::-1]#reverse of list"
   ]
  },
  {
   "cell_type": "markdown",
   "metadata": {},
   "source": [
    "There are very interesting things you can do in a single statement with this slicing technique!\n",
    "- How Do you find if given word is palindrome? palindrome is a word wchich reads same from both sides."
   ]
  },
  {
   "cell_type": "code",
   "execution_count": 69,
   "metadata": {
    "collapsed": true
   },
   "outputs": [],
   "source": [
    "word = \"madam\""
   ]
  },
  {
   "cell_type": "code",
   "execution_count": 70,
   "metadata": {},
   "outputs": [
    {
     "data": {
      "text/plain": [
       "True"
      ]
     },
     "execution_count": 70,
     "metadata": {},
     "output_type": "execute_result"
    }
   ],
   "source": [
    "word == word[::-1]"
   ]
  },
  {
   "cell_type": "code",
   "execution_count": 71,
   "metadata": {
    "collapsed": true
   },
   "outputs": [],
   "source": [
    "is_palindrome = lambda word: word == word[::-1] #that simple and small solution!"
   ]
  },
  {
   "cell_type": "code",
   "execution_count": 72,
   "metadata": {},
   "outputs": [
    {
     "data": {
      "text/plain": [
       "True"
      ]
     },
     "execution_count": 72,
     "metadata": {},
     "output_type": "execute_result"
    }
   ],
   "source": [
    "is_palindrome(\"civic\")"
   ]
  },
  {
   "cell_type": "markdown",
   "metadata": {},
   "source": [
    "All list slice return new copy of list, original list remains as it is."
   ]
  },
  {
   "cell_type": "markdown",
   "metadata": {},
   "source": [
    "### Do it yourself ###\n",
    "- write a function `split_at`, which splits the list in two lists after given index and returns both the lists.\n",
    "```\n",
    ">>> split_at([0,1,2,3,4,5,6,7,8], 2)\n",
    "([0, 1], [2, 3, 4, 5, 6, 7, 8])\n",
    "```\n",
    "- write a function `find_extension` to find extension of a file, given file name.\n",
    "```\n",
    ">>> find_extension(\"python.exe\")\n",
    "exe\n",
    "```\n",
    "- What might be the output of this?:\n",
    "```\n",
    ">>> s = \"Do geese see God?\"\n",
    ">>> s[100]\n",
    ">>> s[3:100]\n",
    "```\n"
   ]
  },
  {
   "cell_type": "markdown",
   "metadata": {},
   "source": [
    "### List comprehensions ###\n",
    "List comprenhensions are one most powerfull constructs of python to make code very elegant."
   ]
  },
  {
   "cell_type": "code",
   "execution_count": 73,
   "metadata": {
    "collapsed": true
   },
   "outputs": [],
   "source": [
    "numbers = range(10)"
   ]
  },
  {
   "cell_type": "code",
   "execution_count": 74,
   "metadata": {
    "collapsed": true
   },
   "outputs": [],
   "source": [
    "nums = [n for n in numbers]"
   ]
  },
  {
   "cell_type": "code",
   "execution_count": 75,
   "metadata": {},
   "outputs": [
    {
     "data": {
      "text/plain": [
       "[0, 1, 2, 3, 4, 5, 6, 7, 8, 9]"
      ]
     },
     "execution_count": 75,
     "metadata": {},
     "output_type": "execute_result"
    }
   ],
   "source": [
    "nums"
   ]
  },
  {
   "cell_type": "code",
   "execution_count": 76,
   "metadata": {
    "collapsed": true
   },
   "outputs": [],
   "source": [
    "squares = [n*n for n in numbers]"
   ]
  },
  {
   "cell_type": "code",
   "execution_count": 77,
   "metadata": {},
   "outputs": [
    {
     "data": {
      "text/plain": [
       "[0, 1, 4, 9, 16, 25, 36, 49, 64, 81]"
      ]
     },
     "execution_count": 77,
     "metadata": {},
     "output_type": "execute_result"
    }
   ],
   "source": [
    "squares"
   ]
  },
  {
   "cell_type": "code",
   "execution_count": 78,
   "metadata": {
    "collapsed": true
   },
   "outputs": [],
   "source": [
    "cubes = [n**3 for n in numbers]"
   ]
  },
  {
   "cell_type": "code",
   "execution_count": 79,
   "metadata": {},
   "outputs": [
    {
     "data": {
      "text/plain": [
       "[0, 1, 8, 27, 64, 125, 216, 343, 512, 729]"
      ]
     },
     "execution_count": 79,
     "metadata": {},
     "output_type": "execute_result"
    }
   ],
   "source": [
    "cubes"
   ]
  },
  {
   "cell_type": "code",
   "execution_count": 83,
   "metadata": {},
   "outputs": [
    {
     "data": {
      "text/plain": [
       "[1, 1, 2, 6, 24, 120, 720, 5040, 40320, 362880]"
      ]
     },
     "execution_count": 83,
     "metadata": {},
     "output_type": "execute_result"
    }
   ],
   "source": [
    "[factorial(n) for n in numbers]"
   ]
  },
  {
   "cell_type": "markdown",
   "metadata": {},
   "source": [
    "Convert all words to upper case"
   ]
  },
  {
   "cell_type": "code",
   "execution_count": 84,
   "metadata": {},
   "outputs": [
    {
     "data": {
      "text/plain": [
       "['SOME', 'SENTENCE', 'WITH', 'SOME', 'WORDS', 'IN', 'IT']"
      ]
     },
     "execution_count": 84,
     "metadata": {},
     "output_type": "execute_result"
    }
   ],
   "source": [
    "[word.upper() for word in \"Some sentence with some words in it\".split()]"
   ]
  },
  {
   "cell_type": "code",
   "execution_count": 85,
   "metadata": {},
   "outputs": [
    {
     "data": {
      "text/plain": [
       "['Some', 'sentence', 'some', 's']"
      ]
     },
     "execution_count": 85,
     "metadata": {},
     "output_type": "execute_result"
    }
   ],
   "source": [
    "[word for word in \"Some sentence that contains some s\".split() if word.lower().startswith(\"s\")]"
   ]
  },
  {
   "cell_type": "code",
   "execution_count": 1,
   "metadata": {},
   "outputs": [
    {
     "data": {
      "text/plain": [
       "[0, 2, 4, 6, 8, 10, 12, 14, 16, 18]"
      ]
     },
     "execution_count": 1,
     "metadata": {},
     "output_type": "execute_result"
    }
   ],
   "source": [
    "[i for i in range(20) if i%2 ==0 ]#even numbers"
   ]
  },
  {
   "cell_type": "markdown",
   "metadata": {},
   "source": [
    "### Do it yourself ###\n",
    "- Write a function listpy which will return list of all \".py\" files from given directory\n",
    "```\n",
    ">>> listpy(os.getcwd())\n",
    "['add.py', 'arguments.py', 'mymodule.py', 'mymodulenew.py']\n",
    "```\n",
    "- Write a function `factors` which will return list of factors of given integer including 1 and self.\n",
    "```\n",
    ">>> factors(10)\n",
    "[1, 2, 5, 10]\n",
    ">>> factors(7)\n",
    "[1, 7]\n",
    "```\n",
    "- Given that prime number has only two factor, 1 and self, wirte a function `is_prime` which detemines if given number is prime or not.\n",
    "```\n",
    ">>> is_prime(7)\n",
    "True\n",
    "```\n",
    "- Now write a function `primes` to generate prime numbers less than or equal to n\n",
    "```\n",
    ">>> primes(23)\n",
    "[2, 3, 5, 7, 11, 13, 17, 19, 23]\n",
    "```"
   ]
  },
  {
   "cell_type": "code",
   "execution_count": 86,
   "metadata": {
    "collapsed": true
   },
   "outputs": [],
   "source": [
    "import os\n",
    "def listpy(dirpath):\n",
    "    return [file for file in os.listdir(dirpath) if file.endswith(\".py\")]\n",
    "\n",
    "def factors(n):\n",
    "    return [i for i in range(1,n+1) if n%i==0]\n",
    "\n",
    "is_prime = lambda n : len(factors(n))==2\n",
    "\n",
    "def primes(n):\n",
    "    return [i for i in range(1,n+1) if is_prime(i)]"
   ]
  },
  {
   "cell_type": "code",
   "execution_count": 87,
   "metadata": {},
   "outputs": [
    {
     "data": {
      "text/plain": [
       "['add.py', 'arguments.py', 'mymodule.py', 'mymodulenew.py']"
      ]
     },
     "execution_count": 87,
     "metadata": {},
     "output_type": "execute_result"
    }
   ],
   "source": [
    "listpy(os.getcwd())"
   ]
  },
  {
   "cell_type": "code",
   "execution_count": 88,
   "metadata": {},
   "outputs": [
    {
     "data": {
      "text/plain": [
       "[1, 7]"
      ]
     },
     "execution_count": 88,
     "metadata": {},
     "output_type": "execute_result"
    }
   ],
   "source": [
    "factors(7)"
   ]
  },
  {
   "cell_type": "code",
   "execution_count": 89,
   "metadata": {},
   "outputs": [
    {
     "data": {
      "text/plain": [
       "[2, 3, 5, 7, 11, 13, 17, 19, 23]"
      ]
     },
     "execution_count": 89,
     "metadata": {},
     "output_type": "execute_result"
    }
   ],
   "source": [
    "primes(23)"
   ]
  },
  {
   "cell_type": "markdown",
   "metadata": {},
   "source": [
    "Just compare this prime number generation code with previously written code! can you see how python makes coding simple yet elegant."
   ]
  },
  {
   "cell_type": "markdown",
   "metadata": {},
   "source": [
    "### iteration patterns ###\n",
    "** iterating over a list/sequence/string **"
   ]
  },
  {
   "cell_type": "code",
   "execution_count": 90,
   "metadata": {},
   "outputs": [
    {
     "name": "stdout",
     "output_type": "stream",
     "text": [
      "2\n",
      "3\n",
      "5\n",
      "7\n",
      "11\n",
      "13\n",
      "17\n",
      "19\n",
      "23\n"
     ]
    }
   ],
   "source": [
    "for prime in primes(23):\n",
    "    print(prime)"
   ]
  },
  {
   "cell_type": "code",
   "execution_count": 4,
   "metadata": {},
   "outputs": [
    {
     "name": "stdout",
     "output_type": "stream",
     "text": [
      "9\n",
      "8\n",
      "7\n",
      "6\n",
      "5\n",
      "4\n",
      "3\n",
      "2\n",
      "1\n",
      "0\n"
     ]
    }
   ],
   "source": [
    "for i in reversed(range(10)):\n",
    "    print(i)"
   ]
  },
  {
   "cell_type": "code",
   "execution_count": 9,
   "metadata": {
    "collapsed": true
   },
   "outputs": [],
   "source": [
    "countdown = reversed([1,2,3,4,5,6,7,8])# this does not return reversed list \n",
    "                                       # but some sequence object called iterator "
   ]
  },
  {
   "cell_type": "code",
   "execution_count": 10,
   "metadata": {},
   "outputs": [
    {
     "data": {
      "text/plain": [
       "<list_reverseiterator at 0x7fa60c52a710>"
      ]
     },
     "execution_count": 10,
     "metadata": {},
     "output_type": "execute_result"
    }
   ],
   "source": [
    "countdown "
   ]
  },
  {
   "cell_type": "markdown",
   "metadata": {},
   "source": [
    "** iterating with index **"
   ]
  },
  {
   "cell_type": "code",
   "execution_count": 91,
   "metadata": {},
   "outputs": [
    {
     "name": "stdout",
     "output_type": "stream",
     "text": [
      "0 2\n",
      "1 3\n",
      "2 5\n",
      "3 7\n",
      "4 11\n",
      "5 13\n",
      "6 17\n",
      "7 19\n",
      "8 23\n"
     ]
    }
   ],
   "source": [
    "for i, item in enumerate(primes(23)):\n",
    "    print(i, item)"
   ]
  },
  {
   "cell_type": "markdown",
   "metadata": {},
   "source": [
    "** iterating two sequences at a time **"
   ]
  },
  {
   "cell_type": "code",
   "execution_count": 92,
   "metadata": {
    "collapsed": true
   },
   "outputs": [],
   "source": [
    "names = [\"Elsa\",\"Alisa\",\"Exotica\",\"Beauty\"]\n",
    "surnames = [\"Frozen\",\"Hacker\",\"Logica\",\"Nurd\"]"
   ]
  },
  {
   "cell_type": "code",
   "execution_count": 93,
   "metadata": {},
   "outputs": [
    {
     "name": "stdout",
     "output_type": "stream",
     "text": [
      "Elsa Frozen\n",
      "Alisa Hacker\n",
      "Exotica Logica\n",
      "Beauty Nurd\n"
     ]
    }
   ],
   "source": [
    "for name, surname in zip(names, surnames):\n",
    "    print(name, surname)"
   ]
  },
  {
   "cell_type": "markdown",
   "metadata": {},
   "source": [
    "### Do it yourself ###\n",
    "- Write a function zip3 which zips 3 lists and returns tuples of three as a list\n",
    "```\n",
    ">>> zip3([1, 2, 3],[\"one\", \"two\", \"three\"], ['x','y','z'])\n",
    "[(1, 'one', 'x'), (2, 'two', 'y'), (3, 'three', 'z')]\n",
    "```\n",
    "- Write a function to do vector addition of vectors given as two lists\n",
    "```\n",
    ">>> vector_add([1,2,3],[3,2,1])\n",
    "[4, 4, 4]\n",
    "```\n",
    "- Write a function to multiply two lists element by element\n",
    "```\n",
    ">>> multiply_lists([1, 2, 3], [1, 2, 3])\n",
    "[1, 4, 9]\n",
    "```"
   ]
  },
  {
   "cell_type": "code",
   "execution_count": 1,
   "metadata": {
    "collapsed": true
   },
   "outputs": [],
   "source": [
    "def zip3(first, second, third):\n",
    "    return [(first[i], second[i], third[i]) for i, item in enumerate(first)]\n",
    "\n",
    "def vector_add(vectorA, vectorB):\n",
    "    return [a+b for a, b in zip(vectorA, vectorB)]\n",
    "\n",
    "def multiply_list(vectorA, vectorB):\n",
    "    return [a*b for a, b in zip(vectorA, vectorB)]"
   ]
  },
  {
   "cell_type": "code",
   "execution_count": 3,
   "metadata": {},
   "outputs": [
    {
     "data": {
      "text/plain": [
       "[(1, 'one', 'x'), (2, 'two', 'y'), (3, 'three', 'z')]"
      ]
     },
     "execution_count": 3,
     "metadata": {},
     "output_type": "execute_result"
    }
   ],
   "source": [
    "zip3([1, 2, 3],[\"one\", \"two\", \"three\"], ['x','y','z'])"
   ]
  },
  {
   "cell_type": "code",
   "execution_count": 2,
   "metadata": {},
   "outputs": [
    {
     "data": {
      "text/plain": [
       "[3, 5, 7, 9]"
      ]
     },
     "execution_count": 2,
     "metadata": {},
     "output_type": "execute_result"
    }
   ],
   "source": [
    "vector_add([2,3,4,5], [1,2,3,4])"
   ]
  },
  {
   "cell_type": "code",
   "execution_count": 3,
   "metadata": {},
   "outputs": [
    {
     "data": {
      "text/plain": [
       "[1, 4, 9, 16]"
      ]
     },
     "execution_count": 3,
     "metadata": {},
     "output_type": "execute_result"
    }
   ],
   "source": [
    "multiply_list([1,2,3,4],[1,2,3,4])"
   ]
  },
  {
   "cell_type": "markdown",
   "metadata": {},
   "source": [
    "### Functions Revisited ###\n",
    "As we saw earlier functions can be used just like other data\n",
    "- functions can be aliased\n",
    "- funtions can be passed as argument to another function\n",
    "- functions can be returned as return value from another function\n",
    "\n",
    "These capabilities make functions very powerful tools in python\n",
    "Lets say we have to make a function to generate polynomial given coefficients"
   ]
  },
  {
   "cell_type": "code",
   "execution_count": 12,
   "metadata": {
    "collapsed": true
   },
   "outputs": [],
   "source": [
    "def usual_way_polynomial(coeffs, x):\n",
    "    s = 0\n",
    "    for i, c in enumerate(reversed(coeffs)):\n",
    "        s += c*x**i\n",
    "    return s"
   ]
  },
  {
   "cell_type": "code",
   "execution_count": 13,
   "metadata": {},
   "outputs": [
    {
     "data": {
      "text/plain": [
       "7"
      ]
     },
     "execution_count": 13,
     "metadata": {},
     "output_type": "execute_result"
    }
   ],
   "source": [
    "usual_way_polynomial([1,1,1], 2) # compute x^2 + x + 1 for x = 2"
   ]
  },
  {
   "cell_type": "code",
   "execution_count": 14,
   "metadata": {
    "collapsed": true
   },
   "outputs": [],
   "source": [
    "def make_polynomial(coeffs):\n",
    "    return lambda x: sum([c*x**i for i, c in enumerate(reversed(coeffs))])"
   ]
  },
  {
   "cell_type": "code",
   "execution_count": 15,
   "metadata": {
    "collapsed": true
   },
   "outputs": [],
   "source": [
    "P2 = make_polynomial([1,1,1]) # P(x) = x^2 + x + 1"
   ]
  },
  {
   "cell_type": "code",
   "execution_count": 16,
   "metadata": {
    "collapsed": true
   },
   "outputs": [],
   "source": [
    "P3 = make_polynomial([1,1,1,1]) # P(x) = x^3 + x^2 + x + 1"
   ]
  },
  {
   "cell_type": "code",
   "execution_count": 19,
   "metadata": {},
   "outputs": [
    {
     "data": {
      "text/plain": [
       "7"
      ]
     },
     "execution_count": 19,
     "metadata": {},
     "output_type": "execute_result"
    }
   ],
   "source": [
    "P2(2)"
   ]
  },
  {
   "cell_type": "code",
   "execution_count": 20,
   "metadata": {},
   "outputs": [
    {
     "data": {
      "text/plain": [
       "15"
      ]
     },
     "execution_count": 20,
     "metadata": {},
     "output_type": "execute_result"
    }
   ],
   "source": [
    "P3(2)"
   ]
  },
  {
   "cell_type": "markdown",
   "metadata": {},
   "source": [
    "### Do it yourself ###\n",
    "- Write a function `compose` which will take two functions f, g as input and return a function which will compute f(g(x)\n",
    "```\n",
    ">>> f = lambda x: x**2\n",
    ">>> g = lambda x: x-1\n",
    ">>> fg = compose(f, g)\n",
    ">>> fg(3)\n",
    "4\n",
    ">>> gf = compose(g, f)\n",
    ">>> gf(3) \n",
    "8\n",
    "```\n",
    "- Write a function `zip_with` which will take function `f` as argument and return a function which zips two lists into single list by combining element by element with `f`\n"
   ]
  },
  {
   "cell_type": "code",
   "execution_count": 29,
   "metadata": {
    "collapsed": true
   },
   "outputs": [],
   "source": [
    "def compose(f, g):\n",
    "    return lambda x: f(g(x))\n",
    "\n",
    "def zip_with(f):\n",
    "    return lambda first, second: [f(x,y) for x,y in zip(first, second)]"
   ]
  },
  {
   "cell_type": "code",
   "execution_count": 23,
   "metadata": {
    "collapsed": true
   },
   "outputs": [],
   "source": [
    "new_vector_add = zip_with(lambda x, y: x+y)"
   ]
  },
  {
   "cell_type": "code",
   "execution_count": 24,
   "metadata": {},
   "outputs": [
    {
     "data": {
      "text/plain": [
       "[3, 5, 7, 9]"
      ]
     },
     "execution_count": 24,
     "metadata": {},
     "output_type": "execute_result"
    }
   ],
   "source": [
    "new_vector_add([2,3,4,5], [1,2,3,4])"
   ]
  },
  {
   "cell_type": "code",
   "execution_count": 25,
   "metadata": {
    "collapsed": true
   },
   "outputs": [],
   "source": [
    "new_multiply_list = zip_with(lambda x,y : x*y)"
   ]
  },
  {
   "cell_type": "code",
   "execution_count": 26,
   "metadata": {},
   "outputs": [
    {
     "data": {
      "text/plain": [
       "[1, 4, 9]"
      ]
     },
     "execution_count": 26,
     "metadata": {},
     "output_type": "execute_result"
    }
   ],
   "source": [
    "new_multiply_list([1,2,3],[1,2,3])"
   ]
  },
  {
   "cell_type": "code",
   "execution_count": 30,
   "metadata": {},
   "outputs": [
    {
     "data": {
      "text/plain": [
       "21"
      ]
     },
     "execution_count": 30,
     "metadata": {},
     "output_type": "execute_result"
    }
   ],
   "source": [
    "compose(P2, P3)(1)"
   ]
  },
  {
   "cell_type": "markdown",
   "metadata": {},
   "source": [
    "### Docstrings ###\n",
    "multiline strings at start of module, functions, classes are overall documentations for that entity. This documentation can be used cleverly by python we we will see shortly."
   ]
  },
  {
   "cell_type": "code",
   "execution_count": 31,
   "metadata": {},
   "outputs": [
    {
     "name": "stdout",
     "output_type": "stream",
     "text": [
      "Writing functions.py\n"
     ]
    }
   ],
   "source": [
    "%%file functions.py\n",
    "\"\"\"\n",
    "module functions\n",
    "this servers as long description for module functions.\n",
    "it implements basic polynomial functions\n",
    "\"\"\"\n",
    "\n",
    "def usual_way_polynomial(coeffs, x):\n",
    "    \"\"\"\n",
    "    computes value of polynomial given coeeficients and x\n",
    "    >>> usual_way_polynomial([1,1,1],2)\n",
    "    7\n",
    "    \"\"\"\n",
    "    s = 0\n",
    "    for i, c in enumerate(reversed(coeffs)):\n",
    "        s += c*x**i\n",
    "    return s\n",
    "\n",
    "def make_polynomial(coeffs):\n",
    "    \"\"\"\n",
    "    makes polynimial as function given coefficients\n",
    "    >>> make_polynomial([1,1,1])(2)\n",
    "    7\n",
    "    \"\"\"\n",
    "    return lambda x: sum([c*x**i for i, c in enumerate(reversed(coeffs))])\n",
    "\n"
   ]
  },
  {
   "cell_type": "code",
   "execution_count": 32,
   "metadata": {},
   "outputs": [
    {
     "name": "stdout",
     "output_type": "stream",
     "text": [
      "Help on module functions:\r\n",
      "\r\n",
      "N\bNA\bAM\bME\bE\r\n",
      "    functions\r\n",
      "\r\n",
      "F\bFI\bIL\bLE\bE\r\n",
      "    /home/vikrant/programming/work/github/python-trainings/foundation/functions.py\r\n",
      "\r\n",
      "D\bDE\bES\bSC\bCR\bRI\bIP\bPT\bTI\bIO\bON\bN\r\n",
      "    module functions\r\n",
      "    this servers as long description for module functions.\r\n",
      "    it implements basic polynomial functions\r\n",
      "\r\n",
      "F\bFU\bUN\bNC\bCT\bTI\bIO\bON\bNS\bS\r\n",
      "    m\bma\bak\bke\be_\b_p\bpo\bol\bly\byn\bno\bom\bmi\bia\bal\bl(coeffs)\r\n",
      "        makes polynimial as function given coefficients\r\n",
      "        >>> make_polynomial([1,1,1])(2)\r\n",
      "        7\r\n",
      "    \r\n",
      "    u\bus\bsu\bua\bal\bl_\b_w\bwa\bay\by_\b_p\bpo\bol\bly\byn\bno\bom\bmi\bia\bal\bl(coeffs, x)\r\n",
      "        computes value of polynomial given coeeficients and x\r\n",
      "        >>> usual_way_polynomial([1,1,1],2)\r\n",
      "        7\r\n",
      "\r\n",
      "\r\n"
     ]
    }
   ],
   "source": [
    "!pydoc functions"
   ]
  },
  {
   "cell_type": "code",
   "execution_count": 34,
   "metadata": {
    "collapsed": true
   },
   "outputs": [],
   "source": [
    "import functions"
   ]
  },
  {
   "cell_type": "code",
   "execution_count": 36,
   "metadata": {},
   "outputs": [
    {
     "name": "stdout",
     "output_type": "stream",
     "text": [
      "Help on module functions:\n",
      "\n",
      "NAME\n",
      "    functions\n",
      "\n",
      "DESCRIPTION\n",
      "    module functions\n",
      "    this servers as long description for module functions.\n",
      "    it implements basic polynomial functions\n",
      "\n",
      "FUNCTIONS\n",
      "    make_polynomial(coeffs)\n",
      "        makes polynimial as function given coefficients\n",
      "        >>> make_polynomial([1,1,1])(2)\n",
      "        7\n",
      "    \n",
      "    usual_way_polynomial(coeffs, x)\n",
      "        computes value of polynomial given coeeficients and x\n",
      "        >>> usual_way_polynomial([1,1,1],2)\n",
      "        7\n",
      "\n",
      "FILE\n",
      "    /home/vikrant/programming/work/github/python-trainings/foundation/functions.py\n",
      "\n",
      "\n"
     ]
    }
   ],
   "source": [
    "help(functions)"
   ]
  },
  {
   "cell_type": "markdown",
   "metadata": {},
   "source": [
    "### Testing ###\n",
    "simplest testing mechanism is docstring itself. lets make use of our functions modules to find out about using docstring for testing"
   ]
  },
  {
   "cell_type": "code",
   "execution_count": 37,
   "metadata": {},
   "outputs": [
    {
     "name": "stdout",
     "output_type": "stream",
     "text": [
      "Trying:\r\n",
      "    make_polynomial([1,1,1])(2)\r\n",
      "Expecting:\r\n",
      "    7\r\n",
      "ok\r\n",
      "Trying:\r\n",
      "    usual_way_polynomial([1,1,1],2)\r\n",
      "Expecting:\r\n",
      "    7\r\n",
      "ok\r\n",
      "1 items had no tests:\r\n",
      "    functions\r\n",
      "2 items passed all tests:\r\n",
      "   1 tests in functions.make_polynomial\r\n",
      "   1 tests in functions.usual_way_polynomial\r\n",
      "2 tests in 3 items.\r\n",
      "2 passed and 0 failed.\r\n",
      "Test passed.\r\n"
     ]
    }
   ],
   "source": [
    "!python -m doctest -v functions.py"
   ]
  },
  {
   "cell_type": "markdown",
   "metadata": {},
   "source": [
    "** py.test ** is third party tool which makes testing very easy.\n",
    "to install it use\n",
    "```\n",
    "pip3 install pytest\n",
    "```"
   ]
  },
  {
   "cell_type": "code",
   "execution_count": 45,
   "metadata": {
    "collapsed": true
   },
   "outputs": [],
   "source": [
    "from functions import usual_way_polynomial, make_polynomial"
   ]
  },
  {
   "cell_type": "code",
   "execution_count": 46,
   "metadata": {},
   "outputs": [
    {
     "data": {
      "text/plain": [
       "True"
      ]
     },
     "execution_count": 46,
     "metadata": {},
     "output_type": "execute_result"
    }
   ],
   "source": [
    "usual_way_polynomial([1,1,1],2) == 7"
   ]
  },
  {
   "cell_type": "code",
   "execution_count": 47,
   "metadata": {},
   "outputs": [
    {
     "name": "stdout",
     "output_type": "stream",
     "text": [
      "usual_way_polynomial [1, 1, 1] 3 => 13 passed test\n"
     ]
    }
   ],
   "source": [
    "if usual_way_polynomial([1,1,1],3) == 13:\n",
    "    print (\"usual_way_polynomial\", [1,1,1],3,\"=> 13\", \"passed test\")"
   ]
  },
  {
   "cell_type": "code",
   "execution_count": 48,
   "metadata": {
    "collapsed": true
   },
   "outputs": [],
   "source": [
    "assert usual_way_polynomial([1,1,1], 0) == 1"
   ]
  },
  {
   "cell_type": "code",
   "execution_count": 49,
   "metadata": {},
   "outputs": [
    {
     "ename": "AssertionError",
     "evalue": "",
     "output_type": "error",
     "traceback": [
      "\u001b[0;31m---------------------------------------------------------------------------\u001b[0m",
      "\u001b[0;31mAssertionError\u001b[0m                            Traceback (most recent call last)",
      "\u001b[0;32m<ipython-input-49-b4bfb0da9769>\u001b[0m in \u001b[0;36m<module>\u001b[0;34m()\u001b[0m\n\u001b[0;32m----> 1\u001b[0;31m \u001b[0;32massert\u001b[0m \u001b[0musual_way_polynomial\u001b[0m\u001b[0;34m(\u001b[0m\u001b[0;34m[\u001b[0m\u001b[0;36m1\u001b[0m\u001b[0;34m,\u001b[0m\u001b[0;36m1\u001b[0m\u001b[0;34m,\u001b[0m\u001b[0;36m1\u001b[0m\u001b[0;34m]\u001b[0m\u001b[0;34m,\u001b[0m \u001b[0;36m0\u001b[0m\u001b[0;34m)\u001b[0m \u001b[0;34m==\u001b[0m \u001b[0;36m2\u001b[0m\u001b[0;34m\u001b[0m\u001b[0m\n\u001b[0m",
      "\u001b[0;31mAssertionError\u001b[0m: "
     ]
    }
   ],
   "source": [
    "assert usual_way_polynomial([1,1,1], 0) == 2"
   ]
  },
  {
   "cell_type": "markdown",
   "metadata": {},
   "source": [
    "Using these primitives we can write automated test cases for our programs. "
   ]
  },
  {
   "cell_type": "code",
   "execution_count": 52,
   "metadata": {
    "collapsed": true
   },
   "outputs": [],
   "source": [
    "def test_polynomial():\n",
    "    assert usual_way_polynomial([1,1,1], 0) == 1\n",
    "    assert usual_way_polynomial([1,1,1], 1) == 3\n",
    "    assert usual_way_polynomial([1,1,1], 2) == 7\n",
    "    assert usual_way_polynomial([],2) == 1"
   ]
  },
  {
   "cell_type": "code",
   "execution_count": 53,
   "metadata": {},
   "outputs": [
    {
     "ename": "AssertionError",
     "evalue": "",
     "output_type": "error",
     "traceback": [
      "\u001b[0;31m---------------------------------------------------------------------------\u001b[0m",
      "\u001b[0;31mAssertionError\u001b[0m                            Traceback (most recent call last)",
      "\u001b[0;32m<ipython-input-53-338083012242>\u001b[0m in \u001b[0;36m<module>\u001b[0;34m()\u001b[0m\n\u001b[0;32m----> 1\u001b[0;31m \u001b[0mtest_polynomial\u001b[0m\u001b[0;34m(\u001b[0m\u001b[0;34m)\u001b[0m\u001b[0;34m\u001b[0m\u001b[0m\n\u001b[0m",
      "\u001b[0;32m<ipython-input-52-444f7c4a42c8>\u001b[0m in \u001b[0;36mtest_polynomial\u001b[0;34m()\u001b[0m\n\u001b[1;32m      3\u001b[0m     \u001b[0;32massert\u001b[0m \u001b[0musual_way_polynomial\u001b[0m\u001b[0;34m(\u001b[0m\u001b[0;34m[\u001b[0m\u001b[0;36m1\u001b[0m\u001b[0;34m,\u001b[0m\u001b[0;36m1\u001b[0m\u001b[0;34m,\u001b[0m\u001b[0;36m1\u001b[0m\u001b[0;34m]\u001b[0m\u001b[0;34m,\u001b[0m \u001b[0;36m1\u001b[0m\u001b[0;34m)\u001b[0m \u001b[0;34m==\u001b[0m \u001b[0;36m3\u001b[0m\u001b[0;34m\u001b[0m\u001b[0m\n\u001b[1;32m      4\u001b[0m     \u001b[0;32massert\u001b[0m \u001b[0musual_way_polynomial\u001b[0m\u001b[0;34m(\u001b[0m\u001b[0;34m[\u001b[0m\u001b[0;36m1\u001b[0m\u001b[0;34m,\u001b[0m\u001b[0;36m1\u001b[0m\u001b[0;34m,\u001b[0m\u001b[0;36m1\u001b[0m\u001b[0;34m]\u001b[0m\u001b[0;34m,\u001b[0m \u001b[0;36m2\u001b[0m\u001b[0;34m)\u001b[0m \u001b[0;34m==\u001b[0m \u001b[0;36m7\u001b[0m\u001b[0;34m\u001b[0m\u001b[0m\n\u001b[0;32m----> 5\u001b[0;31m     \u001b[0;32massert\u001b[0m \u001b[0musual_way_polynomial\u001b[0m\u001b[0;34m(\u001b[0m\u001b[0;34m[\u001b[0m\u001b[0;34m]\u001b[0m\u001b[0;34m,\u001b[0m\u001b[0;36m2\u001b[0m\u001b[0;34m)\u001b[0m \u001b[0;34m==\u001b[0m \u001b[0;36m1\u001b[0m\u001b[0;34m\u001b[0m\u001b[0m\n\u001b[0m",
      "\u001b[0;31mAssertionError\u001b[0m: "
     ]
    }
   ],
   "source": [
    "test_polynomial()"
   ]
  },
  {
   "cell_type": "code",
   "execution_count": 58,
   "metadata": {},
   "outputs": [
    {
     "name": "stdout",
     "output_type": "stream",
     "text": [
      "Overwriting functions1.py\n"
     ]
    }
   ],
   "source": [
    "%%file functions1.py\n",
    "\"\"\"\n",
    "module functions\n",
    "this servers as long description for module functions.\n",
    "it implements basic polynomial functions\n",
    "\"\"\"\n",
    "\n",
    "def usual_way_polynomial(coeffs, x):\n",
    "    \"\"\"\n",
    "    computes value of polynomial given coeeficients and x\n",
    "    >>> usual_way_polynomial([1,1,1],2)\n",
    "    7\n",
    "    \"\"\"\n",
    "    s = 0\n",
    "    for i, c in enumerate(reversed(coeffs)):\n",
    "        s += c*x**i\n",
    "    return s\n",
    "\n",
    "def make_polynomial(coeffs):\n",
    "    \"\"\"\n",
    "    makes polynimial as function given coefficients\n",
    "    >>> make_polynomial([1,1,1])(2)\n",
    "    7\n",
    "    \"\"\"\n",
    "    return lambda x: sum([c*x**i for i, c in enumerate(reversed(coeffs))])\n",
    "\n",
    "def test_usual():\n",
    "    assert usual_way_polynomial([1,1,1], 0) == 1\n",
    "    assert usual_way_polynomial([1,1,1], 1) == 3\n",
    "    assert usual_way_polynomial([1,1,1], 2) == 7\n",
    "    assert usual_way_polynomial([], 1) == 1\n",
    "    \n",
    "def test_make_poly():\n",
    "    coeff0 = []\n",
    "    poly0 = make_polynomial(coeff0)\n",
    "    assert poly0(1) == usual_way_polynomial(coeff0, 1)\n",
    "    coeff2 = [1,2,1]\n",
    "    poly2 = make_polynomial(coeff2)\n",
    "    assert poly2(2) == usual_way_polynomial(coeff2, 2)\n",
    "    assert poly2(3) == usual_way_polynomial(coeff2, 3)"
   ]
  },
  {
   "cell_type": "code",
   "execution_count": 59,
   "metadata": {},
   "outputs": [
    {
     "name": "stdout",
     "output_type": "stream",
     "text": [
      "\u001b[1m============================= test session starts ==============================\u001b[0m\n",
      "platform linux -- Python 3.4.2, pytest-3.2.1, py-1.4.34, pluggy-0.4.0\n",
      "rootdir: /home/vikrant/programming/work/github/python-trainings/foundation, inifile:\n",
      "collected 2 items                                                               \u001b[0m\u001b[1m\n",
      "\n",
      "functions1.py F.\n",
      "\n",
      "=================================== FAILURES ===================================\n",
      "\u001b[31m\u001b[1m__________________________________ test_usual __________________________________\u001b[0m\n",
      "\n",
      "\u001b[1m    def test_usual():\u001b[0m\n",
      "\u001b[1m        assert usual_way_polynomial([1,1,1], 0) == 1\u001b[0m\n",
      "\u001b[1m        assert usual_way_polynomial([1,1,1], 1) == 3\u001b[0m\n",
      "\u001b[1m        assert usual_way_polynomial([1,1,1], 2) == 7\u001b[0m\n",
      "\u001b[1m>       assert usual_way_polynomial([], 1) == 1\u001b[0m\n",
      "\u001b[31m\u001b[1mE       assert 0 == 1\u001b[0m\n",
      "\u001b[31m\u001b[1mE        +  where 0 = usual_way_polynomial([], 1)\u001b[0m\n",
      "\n",
      "\u001b[31m\u001b[1mfunctions1.py\u001b[0m:30: AssertionError\n",
      "\u001b[31m\u001b[1m====================== 1 failed, 1 passed in 0.11 seconds ======================\u001b[0m\n"
     ]
    }
   ],
   "source": [
    "!py.test functions1.py"
   ]
  },
  {
   "cell_type": "markdown",
   "metadata": {},
   "source": [
    "It is also possible to run selective tests"
   ]
  },
  {
   "cell_type": "code",
   "execution_count": 60,
   "metadata": {},
   "outputs": [
    {
     "name": "stdout",
     "output_type": "stream",
     "text": [
      "\u001b[1m============================= test session starts ==============================\u001b[0m\n",
      "platform linux -- Python 3.4.2, pytest-3.2.1, py-1.4.34, pluggy-0.4.0 -- /home/vikrant/usr/local/jupyter/bin/python3\n",
      "cachedir: .cache\n",
      "rootdir: /home/vikrant/programming/work/github/python-trainings/foundation, inifile:\n",
      "collected 2 items                                                               \u001b[0m\u001b[1m\n",
      "\n",
      "functions1.py::test_usual \u001b[31mFAILED\u001b[0m\n",
      "\n",
      "=================================== FAILURES ===================================\n",
      "\u001b[31m\u001b[1m__________________________________ test_usual __________________________________\u001b[0m\n",
      "\n",
      "\u001b[1m    def test_usual():\u001b[0m\n",
      "\u001b[1m        assert usual_way_polynomial([1,1,1], 0) == 1\u001b[0m\n",
      "\u001b[1m        assert usual_way_polynomial([1,1,1], 1) == 3\u001b[0m\n",
      "\u001b[1m        assert usual_way_polynomial([1,1,1], 2) == 7\u001b[0m\n",
      "\u001b[1m>       assert usual_way_polynomial([], 1) == 1\u001b[0m\n",
      "\u001b[1m\u001b[31mE       assert 0 == 1\u001b[0m\n",
      "\u001b[1m\u001b[31mE        +  where 0 = usual_way_polynomial([], 1)\u001b[0m\n",
      "\n",
      "\u001b[1m\u001b[31mfunctions1.py\u001b[0m:30: AssertionError\n",
      "\u001b[1m============================== 1 tests deselected ==============================\u001b[0m\n",
      "\u001b[31m\u001b[1m==================== 1 failed, 1 deselected in 0.07 seconds ====================\u001b[0m\n"
     ]
    }
   ],
   "source": [
    "!py.test -k test_usual -v functions1.py"
   ]
  },
  {
   "cell_type": "markdown",
   "metadata": {},
   "source": [
    "### Formatting strings ###"
   ]
  },
  {
   "cell_type": "markdown",
   "metadata": {
    "collapsed": true
   },
   "source": [
    "It is possible to format strings either by handling all the whitespaces by managing using splicing, string functions or using string formating."
   ]
  },
  {
   "cell_type": "code",
   "execution_count": 1,
   "metadata": {
    "collapsed": true
   },
   "outputs": [],
   "source": [
    "def squares_and_cubes_table():\n",
    "    for i in range(1,11):\n",
    "        print (i, i*i,i*i*i)"
   ]
  },
  {
   "cell_type": "code",
   "execution_count": 2,
   "metadata": {},
   "outputs": [
    {
     "name": "stdout",
     "output_type": "stream",
     "text": [
      "1 1 1\n",
      "2 4 8\n",
      "3 9 27\n",
      "4 16 64\n",
      "5 25 125\n",
      "6 36 216\n",
      "7 49 343\n",
      "8 64 512\n",
      "9 81 729\n",
      "10 100 1000\n"
     ]
    }
   ],
   "source": [
    "squares_and_cubes_table()"
   ]
  },
  {
   "cell_type": "code",
   "execution_count": 3,
   "metadata": {
    "collapsed": true
   },
   "outputs": [],
   "source": [
    "def squares_and_cubes_table():\n",
    "    for i in range(1,11):\n",
    "        print (repr(i).rjust(2), repr(i*i).rjust(3),repr(i*i*i).rjust(4))"
   ]
  },
  {
   "cell_type": "code",
   "execution_count": 4,
   "metadata": {},
   "outputs": [
    {
     "name": "stdout",
     "output_type": "stream",
     "text": [
      " 1   1    1\n",
      " 2   4    8\n",
      " 3   9   27\n",
      " 4  16   64\n",
      " 5  25  125\n",
      " 6  36  216\n",
      " 7  49  343\n",
      " 8  64  512\n",
      " 9  81  729\n",
      "10 100 1000\n"
     ]
    }
   ],
   "source": [
    "squares_and_cubes_table()"
   ]
  },
  {
   "cell_type": "code",
   "execution_count": 11,
   "metadata": {},
   "outputs": [
    {
     "data": {
      "text/plain": [
       "'Hello python'"
      ]
     },
     "execution_count": 11,
     "metadata": {},
     "output_type": "execute_result"
    }
   ],
   "source": [
    "\"Wizard of oz is {}\".format(\"python\")"
   ]
  },
  {
   "cell_type": "code",
   "execution_count": 13,
   "metadata": {},
   "outputs": [
    {
     "data": {
      "text/plain": [
       "'wizard of python is in oz'"
      ]
     },
     "execution_count": 13,
     "metadata": {},
     "output_type": "execute_result"
    }
   ],
   "source": [
    "\"wizard of {} is in {}\".format(\"python\", \"oz\")"
   ]
  },
  {
   "cell_type": "code",
   "execution_count": 14,
   "metadata": {},
   "outputs": [
    {
     "data": {
      "text/plain": [
       "'purpose of life is 42, my computaion in  python says so!'"
      ]
     },
     "execution_count": 14,
     "metadata": {},
     "output_type": "execute_result"
    }
   ],
   "source": [
    "\"purpose of life is {0}, my computaion in  {1} says so!\".format(42,\"python\" )"
   ]
  },
  {
   "cell_type": "code",
   "execution_count": 9,
   "metadata": {},
   "outputs": [
    {
     "name": "stdout",
     "output_type": "stream",
     "text": [
      " 1   1    1\n",
      " 2   4    8\n",
      " 3   9   27\n",
      " 4  16   64\n",
      " 5  25  125\n",
      " 6  36  216\n",
      " 7  49  343\n",
      " 8  64  512\n",
      " 9  81  729\n",
      "10 100 1000\n"
     ]
    }
   ],
   "source": [
    "for i in range(1,11):\n",
    "    line = \"{0:2d} {1:3d} {2:4d}\".format(i, i*i, i*i*i)\n",
    "    print(line)"
   ]
  },
  {
   "cell_type": "code",
   "execution_count": null,
   "metadata": {
    "collapsed": true
   },
   "outputs": [],
   "source": []
  }
 ],
 "metadata": {
  "kernelspec": {
   "display_name": "Python 3",
   "language": "python",
   "name": "python3"
  },
  "language_info": {
   "codemirror_mode": {
    "name": "ipython",
    "version": 3
   },
   "file_extension": ".py",
   "mimetype": "text/x-python",
   "name": "python",
   "nbconvert_exporter": "python",
   "pygments_lexer": "ipython3",
   "version": "3.4.2"
  }
 },
 "nbformat": 4,
 "nbformat_minor": 2
}
