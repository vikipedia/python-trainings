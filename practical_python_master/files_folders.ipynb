{
 "cells": [
  {
   "cell_type": "markdown",
   "metadata": {},
   "source": [
    "## Working with files and folders ##\n",
    "\n",
    "built in `os` module gives handy ways of wroking with files and folders."
   ]
  },
  {
   "cell_type": "code",
   "execution_count": 1,
   "metadata": {
    "collapsed": true
   },
   "outputs": [],
   "source": [
    "import os"
   ]
  },
  {
   "cell_type": "code",
   "execution_count": null,
   "metadata": {
    "collapsed": true
   },
   "outputs": [],
   "source": [
    "os.mkdir(\"test\") #create directory"
   ]
  },
  {
   "cell_type": "code",
   "execution_count": null,
   "metadata": {
    "collapsed": true
   },
   "outputs": [],
   "source": [
    "os.makedirs(\"test/nested/hello/x\") # create full path if it does not exist"
   ]
  },
  {
   "cell_type": "code",
   "execution_count": null,
   "metadata": {
    "collapsed": true
   },
   "outputs": [],
   "source": [
    "os.rmdir(\"test/nested/hello/x\") #removes directory "
   ]
  },
  {
   "cell_type": "code",
   "execution_count": null,
   "metadata": {
    "collapsed": true
   },
   "outputs": [],
   "source": [
    "os.listdir(\".ipynb_checkpoints/\") #lists contents of directory"
   ]
  },
  {
   "cell_type": "code",
   "execution_count": null,
   "metadata": {
    "collapsed": true
   },
   "outputs": [],
   "source": [
    "os.removedirs(\"test/nested/hello/\") #removes complete path if all subdirectories are empty"
   ]
  },
  {
   "cell_type": "code",
   "execution_count": null,
   "metadata": {
    "collapsed": true
   },
   "outputs": [],
   "source": [
    "os.getcwd()"
   ]
  },
  {
   "cell_type": "code",
   "execution_count": null,
   "metadata": {
    "collapsed": true
   },
   "outputs": [],
   "source": [
    "os.mkdir(\"test\")"
   ]
  },
  {
   "cell_type": "code",
   "execution_count": null,
   "metadata": {
    "collapsed": true
   },
   "outputs": [],
   "source": [
    "os.chdir(\"test/\")"
   ]
  },
  {
   "cell_type": "code",
   "execution_count": null,
   "metadata": {
    "collapsed": true
   },
   "outputs": [],
   "source": [
    "os.getcwd()"
   ]
  },
  {
   "cell_type": "code",
   "execution_count": null,
   "metadata": {
    "collapsed": true
   },
   "outputs": [],
   "source": [
    "with open(\"hello.py\",\"w\")as f:\n",
    "    f.write(\"print('hello world!')\")"
   ]
  },
  {
   "cell_type": "code",
   "execution_count": null,
   "metadata": {
    "collapsed": true
   },
   "outputs": [],
   "source": [
    "os.chdir(\"../\")"
   ]
  },
  {
   "cell_type": "code",
   "execution_count": null,
   "metadata": {
    "collapsed": true
   },
   "outputs": [],
   "source": [
    "for path, dirs, files in os.walk(\".\"):\n",
    "    for f in files:\n",
    "        print(os.path.join(path,f))"
   ]
  },
  {
   "cell_type": "code",
   "execution_count": null,
   "metadata": {
    "collapsed": true
   },
   "outputs": [],
   "source": [
    "os.path.exists(\"hello.py\")"
   ]
  },
  {
   "cell_type": "code",
   "execution_count": null,
   "metadata": {
    "collapsed": true
   },
   "outputs": [],
   "source": [
    "os.path.basename(\"../advanced/testing.ipynb\")"
   ]
  },
  {
   "cell_type": "code",
   "execution_count": null,
   "metadata": {
    "collapsed": true
   },
   "outputs": [],
   "source": [
    "os.path.basename(\"/home/vikrant/programming\")"
   ]
  },
  {
   "cell_type": "code",
   "execution_count": null,
   "metadata": {
    "collapsed": true
   },
   "outputs": [],
   "source": [
    "os.path.dirname(\"/home/vikrant/programming\")"
   ]
  },
  {
   "cell_type": "code",
   "execution_count": null,
   "metadata": {
    "collapsed": true
   },
   "outputs": [],
   "source": [
    "os.path.isfile(\"hello.py\")"
   ]
  },
  {
   "cell_type": "code",
   "execution_count": null,
   "metadata": {
    "collapsed": true
   },
   "outputs": [],
   "source": [
    "os.path.isfile(\"test/\")"
   ]
  },
  {
   "cell_type": "code",
   "execution_count": null,
   "metadata": {
    "collapsed": true
   },
   "outputs": [],
   "source": [
    "os.path.isdir(\"test/\")"
   ]
  },
  {
   "cell_type": "markdown",
   "metadata": {},
   "source": [
    "### working with permissions ###"
   ]
  },
  {
   "cell_type": "code",
   "execution_count": null,
   "metadata": {
    "collapsed": true
   },
   "outputs": [],
   "source": [
    "os.access(\"test/\", os.R_OK)"
   ]
  },
  {
   "cell_type": "code",
   "execution_count": null,
   "metadata": {
    "collapsed": true
   },
   "outputs": [],
   "source": [
    "import stat\n",
    "os.chmod(\"test/\",stat.S_IRUSR | stat.S_IWUSR )"
   ]
  },
  {
   "cell_type": "code",
   "execution_count": null,
   "metadata": {
    "collapsed": true
   },
   "outputs": [],
   "source": [
    "os.access(\"test/\", os.R_OK)"
   ]
  },
  {
   "cell_type": "code",
   "execution_count": null,
   "metadata": {
    "collapsed": true
   },
   "outputs": [],
   "source": [
    "os.access(\"test/\", os.W_OK)"
   ]
  },
  {
   "cell_type": "code",
   "execution_count": null,
   "metadata": {
    "collapsed": true
   },
   "outputs": [],
   "source": [
    "os.access(\"test/\", os.X_OK)"
   ]
  },
  {
   "cell_type": "code",
   "execution_count": 7,
   "metadata": {
    "collapsed": true
   },
   "outputs": [],
   "source": [
    "os.chmod(\"test/\",stat.S_IREAD|stat.S_IEXEC)"
   ]
  },
  {
   "cell_type": "code",
   "execution_count": null,
   "metadata": {
    "collapsed": true
   },
   "outputs": [],
   "source": [
    "!ls -ld test"
   ]
  },
  {
   "cell_type": "code",
   "execution_count": null,
   "metadata": {
    "collapsed": true
   },
   "outputs": [],
   "source": [
    "os.lstat(\"test/\")"
   ]
  },
  {
   "cell_type": "code",
   "execution_count": null,
   "metadata": {
    "collapsed": true
   },
   "outputs": [],
   "source": [
    "stat.S_IMODE(os.lstat(\"test/\").st_mode)"
   ]
  },
  {
   "cell_type": "markdown",
   "metadata": {},
   "source": [
    "### print directory tree ###"
   ]
  },
  {
   "cell_type": "code",
   "execution_count": 45,
   "metadata": {
    "collapsed": true
   },
   "outputs": [],
   "source": [
    "import os\n",
    "def dirtree(dirname, level=0):\n",
    "    print(\"| \"*level +  \"|--\" + dirname)\n",
    "    for item in os.listdir(dirname):\n",
    "        p = os.path.join(dirname, item)\n",
    "        if os.path.isdir(p):\n",
    "            dirtree(p, level+1)\n",
    "        else:\n",
    "            print(\"| \"*(level+1)+ \"|--\" +item)\n",
    "        "
   ]
  },
  {
   "cell_type": "code",
   "execution_count": 46,
   "metadata": {},
   "outputs": [
    {
     "name": "stdout",
     "output_type": "stream",
     "text": [
      "|--.\n",
      "| |--./.ipynb_checkpoints\n",
      "| | |--files_folders-checkpoint.ipynb\n",
      "| | |--external_applications-checkpoint.ipynb\n",
      "| | |--warmup-checkpoint.ipynb\n",
      "| |--warmup.ipynb\n",
      "| |--tasks.py\n",
      "| |--outline.org\n",
      "| |--tasks.py~\n",
      "| |--c.conf\n",
      "| |--person.yaml\n",
      "| |--echo.py\n",
      "| |--training.py~\n",
      "| |--hello.py\n",
      "| |--files_folders.ipynb\n",
      "| |--fabfile.py\n",
      "| |--external_applications.ipynb\n",
      "| |--debug.py~\n",
      "| |--fabfile.py~\n",
      "| |--debug.py\n",
      "| |--training.py\n",
      "| |--x.conf\n",
      "| |--fab.py~\n"
     ]
    }
   ],
   "source": [
    "dirtree(\".\")"
   ]
  },
  {
   "cell_type": "code",
   "execution_count": null,
   "metadata": {
    "collapsed": true
   },
   "outputs": [],
   "source": [
    "os.path.getsize(\"./test/hello.py\")"
   ]
  },
  {
   "cell_type": "code",
   "execution_count": null,
   "metadata": {
    "collapsed": true
   },
   "outputs": [],
   "source": [
    "os.path.getsize(\".\")"
   ]
  },
  {
   "cell_type": "code",
   "execution_count": null,
   "metadata": {
    "collapsed": true
   },
   "outputs": [],
   "source": [
    "for p,dirs,files in os.walk(\".\"):\n",
    "    for d in dirs:\n",
    "        print(os.path.join(p,d))"
   ]
  },
  {
   "cell_type": "markdown",
   "metadata": {},
   "source": [
    "** problem **\n",
    "- Write a function to compute size of a directory. This should consider recursively size of all the files inside that directory.\n",
    "- Write a function to find all \".log\" files from given directory"
   ]
  },
  {
   "cell_type": "code",
   "execution_count": null,
   "metadata": {
    "collapsed": true
   },
   "outputs": [],
   "source": [
    "def dirsize(dirname):\n",
    "    s = 0#os.path.getsize(dirname)\n",
    "    for p, dirs, files in os.walk(dirname):\n",
    "        #s += sum(dirsize(os.path.join(p, d)) for d in dirs)\n",
    "        s += sum(os.path.getsize(os.path.join(p, f)) for f in files)\n",
    "    return s"
   ]
  },
  {
   "cell_type": "code",
   "execution_count": null,
   "metadata": {
    "collapsed": true
   },
   "outputs": [],
   "source": [
    "dirsize(\"../\")/1024/1024"
   ]
  },
  {
   "cell_type": "code",
   "execution_count": 22,
   "metadata": {},
   "outputs": [
    {
     "data": {
      "text/plain": [
       "['/var/log/auth.log',\n",
       " '/var/log/gpu-manager.log',\n",
       " '/var/log/Xorg.1.log',\n",
       " '/var/log/kern.log',\n",
       " '/var/log/boot.log',\n",
       " '/var/log/alternatives.log',\n",
       " '/var/log/Xorg.2.log',\n",
       " '/var/log/dpkg.log',\n",
       " '/var/log/Xorg.0.log',\n",
       " '/var/log/fontconfig.log',\n",
       " '/var/log/bootstrap.log',\n",
       " '/var/log/mintsystem.log',\n",
       " '/var/log/apt/term.log',\n",
       " '/var/log/apt/history.log',\n",
       " '/var/log/lightdm/x-0.log',\n",
       " '/var/log/lightdm/x-2.log',\n",
       " '/var/log/lightdm/seat0-greeter.log',\n",
       " '/var/log/lightdm/x-1.log',\n",
       " '/var/log/lightdm/lightdm.log',\n",
       " '/var/log/installer/casper.log']"
      ]
     },
     "execution_count": 22,
     "metadata": {},
     "output_type": "execute_result"
    }
   ],
   "source": [
    "def find(dirpath, ext=\"log\"):\n",
    "    for path, dirs, files in os.walk(dirpath):\n",
    "        for f in files:\n",
    "            if f.endswith(\".\"+ext):\n",
    "                yield os.path.join(path, f)\n",
    "list(find(\"/var/log\"))"
   ]
  },
  {
   "cell_type": "markdown",
   "metadata": {},
   "source": [
    "### Watching files for modifications ###"
   ]
  },
  {
   "cell_type": "code",
   "execution_count": 4,
   "metadata": {},
   "outputs": [
    {
     "data": {
      "text/plain": [
       "1537799455.9950037"
      ]
     },
     "execution_count": 4,
     "metadata": {},
     "output_type": "execute_result"
    }
   ],
   "source": [
    "os.path.getmtime(\"files_folders.ipynb\")"
   ]
  },
  {
   "cell_type": "code",
   "execution_count": 5,
   "metadata": {
    "collapsed": true
   },
   "outputs": [],
   "source": [
    "import time"
   ]
  },
  {
   "cell_type": "code",
   "execution_count": 6,
   "metadata": {},
   "outputs": [
    {
     "data": {
      "text/plain": [
       "'Mon Sep 24 20:00:55 2018'"
      ]
     },
     "execution_count": 6,
     "metadata": {},
     "output_type": "execute_result"
    }
   ],
   "source": [
    "time.ctime(os.path.getmtime(\"files_folders.ipynb\"))"
   ]
  },
  {
   "cell_type": "markdown",
   "metadata": {},
   "source": [
    "** problem **\n",
    "- Write a function to find files modified within given timeframe in seconds _*hint: use time.time() to get current time.*_\n"
   ]
  },
  {
   "cell_type": "code",
   "execution_count": 20,
   "metadata": {
    "collapsed": true
   },
   "outputs": [],
   "source": [
    "import time\n",
    "def modifiedwithin(dirpath, seconds):\n",
    "    now = time.time()\n",
    "    for path, dirs, files in os.walk(dirpath):\n",
    "        for f in files:\n",
    "            filepath = os.path.join(path, f)\n",
    "            t = os.path.getmtime(filepath)\n",
    "            if (now - t) <= seconds:\n",
    "                yield filepath"
   ]
  },
  {
   "cell_type": "code",
   "execution_count": 18,
   "metadata": {},
   "outputs": [
    {
     "data": {
      "text/plain": [
       "['./outline.org', './files_folders.ipynb']"
      ]
     },
     "execution_count": 18,
     "metadata": {},
     "output_type": "execute_result"
    }
   ],
   "source": [
    "list(modifiedwithin(\".\", 100))"
   ]
  },
  {
   "cell_type": "code",
   "execution_count": 24,
   "metadata": {
    "collapsed": true
   },
   "outputs": [],
   "source": [
    "import time\n",
    "def modifiedwithin_(files, seconds):\n",
    "    now = time.time()\n",
    "    for f in files:\n",
    "        t = os.path.getmtime(f)\n",
    "        if (now - t) <= seconds:\n",
    "            yield f"
   ]
  },
  {
   "cell_type": "markdown",
   "metadata": {},
   "source": [
    "find all log files in /var/log, modified in last 1000 seconds"
   ]
  },
  {
   "cell_type": "code",
   "execution_count": 25,
   "metadata": {},
   "outputs": [
    {
     "data": {
      "text/plain": [
       "['/var/log/auth.log', '/var/log/kern.log']"
      ]
     },
     "execution_count": 25,
     "metadata": {},
     "output_type": "execute_result"
    }
   ],
   "source": [
    "logfiles = find(\"/var/log/\",\"log\")\n",
    "list(modifiedwithin_(logfiles, 1000))"
   ]
  },
  {
   "cell_type": "markdown",
   "metadata": {
    "collapsed": true
   },
   "source": [
    "### copying and moving files ###"
   ]
  },
  {
   "cell_type": "code",
   "execution_count": 3,
   "metadata": {
    "collapsed": true
   },
   "outputs": [],
   "source": [
    "import shutil"
   ]
  },
  {
   "cell_type": "code",
   "execution_count": null,
   "metadata": {
    "collapsed": true
   },
   "outputs": [],
   "source": [
    "shutil.copy(\"./test/hello.py\",\"/tmp/\")"
   ]
  },
  {
   "cell_type": "code",
   "execution_count": null,
   "metadata": {
    "collapsed": true
   },
   "outputs": [],
   "source": [
    "os.path.exists(\"/tmp/hello.py\")"
   ]
  },
  {
   "cell_type": "code",
   "execution_count": null,
   "metadata": {
    "collapsed": true
   },
   "outputs": [],
   "source": [
    "time.ctime(os.path.getmtime(\"/tmp/hello.py\"))"
   ]
  },
  {
   "cell_type": "code",
   "execution_count": null,
   "metadata": {
    "collapsed": true
   },
   "outputs": [],
   "source": [
    "shutil.copy2(\"./test/hello.py\",\"/tmp/\")"
   ]
  },
  {
   "cell_type": "code",
   "execution_count": null,
   "metadata": {
    "collapsed": true
   },
   "outputs": [],
   "source": [
    "time.ctime(os.path.getmtime(\"/tmp/hello.py\"))"
   ]
  },
  {
   "cell_type": "code",
   "execution_count": 13,
   "metadata": {},
   "outputs": [
    {
     "data": {
      "text/plain": [
       "'/tmp/tree2'"
      ]
     },
     "execution_count": 13,
     "metadata": {},
     "output_type": "execute_result"
    }
   ],
   "source": [
    "shutil.copytree(\".\",\"/tmp/tree2\")"
   ]
  },
  {
   "cell_type": "code",
   "execution_count": 12,
   "metadata": {
    "collapsed": true
   },
   "outputs": [],
   "source": [
    "import stat\n",
    "os.chmod(\"./test/hello.py\",stat.S_IREAD)"
   ]
  },
  {
   "cell_type": "code",
   "execution_count": 16,
   "metadata": {},
   "outputs": [
    {
     "name": "stdout",
     "output_type": "stream",
     "text": [
      "|--/tmp/tree2/\n",
      "| |--/tmp/tree2/test\n",
      "| | |--hello.py\n",
      "| |--outline.org\n",
      "| |--external_applications.ipynb\n",
      "| |--hello.py\n",
      "| |--/tmp/tree2/.ipynb_checkpoints\n",
      "| | |--warmup-checkpoint.ipynb\n",
      "| | |--files_folders-checkpoint.ipynb\n",
      "| |--files_folders.ipynb\n",
      "| |--warmup.ipynb\n"
     ]
    }
   ],
   "source": [
    "dirtree(\"/tmp/tree2/\")"
   ]
  },
  {
   "cell_type": "markdown",
   "metadata": {},
   "source": [
    "### Comparing files ###"
   ]
  },
  {
   "cell_type": "code",
   "execution_count": 17,
   "metadata": {},
   "outputs": [
    {
     "data": {
      "text/plain": [
       "True"
      ]
     },
     "execution_count": 17,
     "metadata": {},
     "output_type": "execute_result"
    }
   ],
   "source": [
    "import filecmp\n",
    "filecmp.cmp(\"./test/hello.py\" ,\"/tmp/tree2/hello.py\")"
   ]
  },
  {
   "cell_type": "code",
   "execution_count": 20,
   "metadata": {},
   "outputs": [
    {
     "data": {
      "text/plain": [
       "(['hello.py'], [], [])"
      ]
     },
     "execution_count": 20,
     "metadata": {},
     "output_type": "execute_result"
    }
   ],
   "source": [
    "filecmp.cmpfiles(\".\",\"/tmp/tree1\", common=[\"hello.py\"])"
   ]
  },
  {
   "cell_type": "markdown",
   "metadata": {},
   "source": [
    "** problem **\n",
    "- Write a function to backup given folder. Assume that folder has huge data, so make sure to backup only new or modified files. don't touch already backed up files but not modified. backup function will be used to take system backup at periodic interval."
   ]
  },
  {
   "cell_type": "code",
   "execution_count": 21,
   "metadata": {
    "collapsed": true
   },
   "outputs": [],
   "source": [
    "def backup(source, dest):\n",
    "    pass"
   ]
  },
  {
   "cell_type": "code",
   "execution_count": 25,
   "metadata": {},
   "outputs": [
    {
     "data": {
      "text/plain": [
       "['test.py', 'hello.py']"
      ]
     },
     "execution_count": 25,
     "metadata": {},
     "output_type": "execute_result"
    }
   ],
   "source": [
    "import fnmatch\n",
    "fnmatch.filter([\"test.py\",\"hello.py\",\"abc.txt\"],\"*.py\")"
   ]
  },
  {
   "cell_type": "code",
   "execution_count": 26,
   "metadata": {},
   "outputs": [
    {
     "data": {
      "text/plain": [
       "True"
      ]
     },
     "execution_count": 26,
     "metadata": {},
     "output_type": "execute_result"
    }
   ],
   "source": [
    "fnmatch.fnmatch(\"heelo.py\",\"h*.py\")"
   ]
  },
  {
   "cell_type": "markdown",
   "metadata": {},
   "source": [
    "### Working with archives ###"
   ]
  },
  {
   "cell_type": "code",
   "execution_count": 27,
   "metadata": {},
   "outputs": [
    {
     "data": {
      "text/plain": [
       "[('bztar', \"bzip2'ed tar-file\"),\n",
       " ('gztar', \"gzip'ed tar-file\"),\n",
       " ('tar', 'uncompressed tar file'),\n",
       " ('xztar', \"xz'ed tar-file\"),\n",
       " ('zip', 'ZIP file')]"
      ]
     },
     "execution_count": 27,
     "metadata": {},
     "output_type": "execute_result"
    }
   ],
   "source": [
    "shutil.get_archive_formats()"
   ]
  },
  {
   "cell_type": "code",
   "execution_count": 33,
   "metadata": {},
   "outputs": [
    {
     "data": {
      "text/plain": [
       "'/home/vikrant/programming/work/github/python-trainings/practical_python_master/X.zip'"
      ]
     },
     "execution_count": 33,
     "metadata": {},
     "output_type": "execute_result"
    }
   ],
   "source": [
    "shutil.make_archive(\"X\",\"zip\",root_dir=\"/tmp\")"
   ]
  },
  {
   "cell_type": "markdown",
   "metadata": {
    "collapsed": true
   },
   "source": [
    "###  Working various file formats ###"
   ]
  },
  {
   "cell_type": "code",
   "execution_count": 1,
   "metadata": {
    "collapsed": true
   },
   "outputs": [],
   "source": [
    "import yaml"
   ]
  },
  {
   "cell_type": "code",
   "execution_count": 11,
   "metadata": {
    "collapsed": true
   },
   "outputs": [],
   "source": [
    "person = {\"name\":\"vmware\",\"email\":\"person@vmware.com\", \"teams\":[\"infra\",\"cloud\",\"HR\"],\"d\":(1,2,3)}"
   ]
  },
  {
   "cell_type": "code",
   "execution_count": 22,
   "metadata": {},
   "outputs": [],
   "source": [
    "with open(\"person.yaml\",\"w\") as f:\n",
    "    f.write(yaml.dump(person))"
   ]
  },
  {
   "cell_type": "code",
   "execution_count": 13,
   "metadata": {},
   "outputs": [
    {
     "name": "stdout",
     "output_type": "stream",
     "text": [
      "d: !!python/tuple [1, 2, 3]\r\n",
      "email: person@vmware.com\r\n",
      "name: vmware\r\n",
      "teams: [infra, cloud, HR]\r\n"
     ]
    }
   ],
   "source": [
    "!cat person.yaml"
   ]
  },
  {
   "cell_type": "code",
   "execution_count": 21,
   "metadata": {},
   "outputs": [
    {
     "name": "stdout",
     "output_type": "stream",
     "text": [
      "{'d': (1, 2, 3), 'email': 'person@vmware.com', 'name': 'vmware', 'teams': ['infra', 'cloud', 'HR']}\n"
     ]
    }
   ],
   "source": [
    "with open(\"person.yaml\") as f:\n",
    "    p = yaml.load(f)\n",
    "    print(p)"
   ]
  },
  {
   "cell_type": "code",
   "execution_count": 15,
   "metadata": {
    "collapsed": true
   },
   "outputs": [],
   "source": [
    "import json"
   ]
  },
  {
   "cell_type": "code",
   "execution_count": 17,
   "metadata": {},
   "outputs": [],
   "source": [
    "sp = json.dumps(person)"
   ]
  },
  {
   "cell_type": "code",
   "execution_count": 18,
   "metadata": {},
   "outputs": [
    {
     "data": {
      "text/plain": [
       "'{\"name\": \"vmware\", \"email\": \"person@vmware.com\", \"teams\": [\"infra\", \"cloud\", \"HR\"], \"d\": [1, 2, 3]}'"
      ]
     },
     "execution_count": 18,
     "metadata": {},
     "output_type": "execute_result"
    }
   ],
   "source": [
    "sp"
   ]
  },
  {
   "cell_type": "code",
   "execution_count": 19,
   "metadata": {},
   "outputs": [
    {
     "data": {
      "text/plain": [
       "{'d': [1, 2, 3],\n",
       " 'email': 'person@vmware.com',\n",
       " 'name': 'vmware',\n",
       " 'teams': ['infra', 'cloud', 'HR']}"
      ]
     },
     "execution_count": 19,
     "metadata": {},
     "output_type": "execute_result"
    }
   ],
   "source": [
    "json.loads(sp)"
   ]
  },
  {
   "cell_type": "code",
   "execution_count": 24,
   "metadata": {},
   "outputs": [],
   "source": [
    "import configparser"
   ]
  },
  {
   "cell_type": "code",
   "execution_count": 27,
   "metadata": {},
   "outputs": [
    {
     "name": "stdout",
     "output_type": "stream",
     "text": [
      "Overwriting x.conf\n"
     ]
    }
   ],
   "source": [
    "%%file x.conf\n",
    "[section1]\n",
    "a = 2\n",
    "b = hello\n",
    "c = 1.2"
   ]
  },
  {
   "cell_type": "code",
   "execution_count": 29,
   "metadata": {},
   "outputs": [],
   "source": [
    "conf = configparser.ConfigParser()"
   ]
  },
  {
   "cell_type": "code",
   "execution_count": 30,
   "metadata": {},
   "outputs": [
    {
     "data": {
      "text/plain": [
       "['x.conf']"
      ]
     },
     "execution_count": 30,
     "metadata": {},
     "output_type": "execute_result"
    }
   ],
   "source": [
    "conf.read(\"x.conf\")"
   ]
  },
  {
   "cell_type": "code",
   "execution_count": 32,
   "metadata": {},
   "outputs": [
    {
     "data": {
      "text/plain": [
       "['section1']"
      ]
     },
     "execution_count": 32,
     "metadata": {},
     "output_type": "execute_result"
    }
   ],
   "source": [
    "conf.sections()"
   ]
  },
  {
   "cell_type": "code",
   "execution_count": 36,
   "metadata": {},
   "outputs": [],
   "source": [
    "section = conf['section1']"
   ]
  },
  {
   "cell_type": "code",
   "execution_count": 39,
   "metadata": {},
   "outputs": [
    {
     "name": "stdout",
     "output_type": "stream",
     "text": [
      "('a', '2')\n",
      "('b', 'hello')\n",
      "('c', '1.2')\n"
     ]
    }
   ],
   "source": [
    "for i in section.items():\n",
    "    print(i)"
   ]
  },
  {
   "cell_type": "code",
   "execution_count": 40,
   "metadata": {
    "collapsed": true
   },
   "outputs": [],
   "source": [
    "c= configparser.ConfigParser()"
   ]
  },
  {
   "cell_type": "code",
   "execution_count": 41,
   "metadata": {
    "collapsed": true
   },
   "outputs": [],
   "source": [
    "c['header1'] = {\"x\":1,\"y\":2}"
   ]
  },
  {
   "cell_type": "code",
   "execution_count": 43,
   "metadata": {},
   "outputs": [],
   "source": [
    "c.write(open(\"c.conf\", \"w\"))"
   ]
  },
  {
   "cell_type": "code",
   "execution_count": 44,
   "metadata": {},
   "outputs": [
    {
     "name": "stdout",
     "output_type": "stream",
     "text": [
      "[header1]\r\n",
      "x = 1\r\n",
      "y = 2\r\n",
      "\r\n"
     ]
    }
   ],
   "source": [
    "!cat c.conf"
   ]
  },
  {
   "cell_type": "code",
   "execution_count": null,
   "metadata": {
    "collapsed": true
   },
   "outputs": [],
   "source": []
  }
 ],
 "metadata": {
  "kernelspec": {
   "display_name": "Python 3",
   "language": "python",
   "name": "python3"
  },
  "language_info": {
   "codemirror_mode": {
    "name": "ipython",
    "version": 3
   },
   "file_extension": ".py",
   "mimetype": "text/x-python",
   "name": "python",
   "nbconvert_exporter": "python",
   "pygments_lexer": "ipython3",
   "version": "3.6.2"
  }
 },
 "nbformat": 4,
 "nbformat_minor": 2
}
