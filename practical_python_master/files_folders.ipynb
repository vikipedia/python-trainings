{
 "cells": [
  {
   "cell_type": "markdown",
   "metadata": {},
   "source": [
    "## Working with files and folders ##\n",
    "\n",
    "built in `os` module gives handy ways of wroking with files and folders."
   ]
  },
  {
   "cell_type": "code",
   "execution_count": 1,
   "metadata": {
    "collapsed": true
   },
   "outputs": [],
   "source": [
    "import os"
   ]
  },
  {
   "cell_type": "code",
   "execution_count": 4,
   "metadata": {
    "collapsed": true
   },
   "outputs": [],
   "source": [
    "os.mkdir(\"test\") #create directory"
   ]
  },
  {
   "cell_type": "code",
   "execution_count": 24,
   "metadata": {
    "collapsed": true
   },
   "outputs": [],
   "source": [
    "os.makedirs(\"test/nested/hello/x\") # create full path if it does not exist"
   ]
  },
  {
   "cell_type": "code",
   "execution_count": 25,
   "metadata": {
    "collapsed": true
   },
   "outputs": [],
   "source": [
    "os.rmdir(\"test/nested/hello/x\") #removes directory "
   ]
  },
  {
   "cell_type": "code",
   "execution_count": 12,
   "metadata": {},
   "outputs": [
    {
     "data": {
      "text/plain": [
       "['warmup-checkpoint.ipynb', 'files_folders-checkpoint.ipynb']"
      ]
     },
     "execution_count": 12,
     "metadata": {},
     "output_type": "execute_result"
    }
   ],
   "source": [
    "os.listdir(\".ipynb_checkpoints/\") #lists contents of directory"
   ]
  },
  {
   "cell_type": "code",
   "execution_count": 27,
   "metadata": {
    "collapsed": true
   },
   "outputs": [],
   "source": [
    "os.removedirs(\"test/nested/hello/\") #removes complete path if all subdirectories are empty"
   ]
  },
  {
   "cell_type": "code",
   "execution_count": 29,
   "metadata": {},
   "outputs": [
    {
     "data": {
      "text/plain": [
       "'/home/vikrant/programming/work/github/python-trainings/practical_python_master'"
      ]
     },
     "execution_count": 29,
     "metadata": {},
     "output_type": "execute_result"
    }
   ],
   "source": [
    "os.getcwd()"
   ]
  },
  {
   "cell_type": "code",
   "execution_count": 30,
   "metadata": {
    "collapsed": true
   },
   "outputs": [],
   "source": [
    "os.mkdir(\"test\")"
   ]
  },
  {
   "cell_type": "code",
   "execution_count": 40,
   "metadata": {
    "collapsed": true
   },
   "outputs": [],
   "source": [
    "os.chdir(\"test/\")"
   ]
  },
  {
   "cell_type": "code",
   "execution_count": 41,
   "metadata": {},
   "outputs": [
    {
     "data": {
      "text/plain": [
       "'/home/vikrant/programming/work/github/python-trainings/practical_python_master/test'"
      ]
     },
     "execution_count": 41,
     "metadata": {},
     "output_type": "execute_result"
    }
   ],
   "source": [
    "os.getcwd()"
   ]
  },
  {
   "cell_type": "code",
   "execution_count": 42,
   "metadata": {
    "collapsed": true
   },
   "outputs": [],
   "source": [
    "with open(\"hello.py\",\"w\")as f:\n",
    "    f.write(\"print('hello world!')\")"
   ]
  },
  {
   "cell_type": "code",
   "execution_count": 43,
   "metadata": {
    "collapsed": true
   },
   "outputs": [],
   "source": [
    "os.chdir(\"../\")"
   ]
  },
  {
   "cell_type": "code",
   "execution_count": 48,
   "metadata": {},
   "outputs": [
    {
     "name": "stdout",
     "output_type": "stream",
     "text": [
      "../README.md\n",
      "../.gitignore\n",
      "../practical_python_master/hello.py\n",
      "../practical_python_master/files_folders.ipynb\n",
      "../practical_python_master/warmup.ipynb\n",
      "../practical_python_master/.ipynb_checkpoints/warmup-checkpoint.ipynb\n",
      "../practical_python_master/.ipynb_checkpoints/files_folders-checkpoint.ipynb\n",
      "../practical_python_master/test/hello.py\n",
      "../.git/FETCH_HEAD\n",
      "../.git/config\n",
      "../.git/COMMIT_EDITMSG\n",
      "../.git/index\n",
      "../.git/description\n",
      "../.git/HEAD\n",
      "../.git/ORIG_HEAD\n",
      "../.git/packed-refs\n",
      "../.git/logs/HEAD\n",
      "../.git/logs/refs/remotes/origin/master\n",
      "../.git/logs/refs/remotes/origin/HEAD\n",
      "../.git/logs/refs/heads/master\n",
      "../.git/refs/remotes/origin/master\n",
      "../.git/refs/remotes/origin/HEAD\n",
      "../.git/refs/heads/master\n",
      "../.git/info/exclude\n",
      "../.git/objects/cc/c34049b88909a6e60f3b9abab9931c6d070227\n",
      "../.git/objects/2f/4692a3b5aa1c6f2a3db7c11a0bde3af0e03c87\n",
      "../.git/objects/pack/pack-c2be5906fb3b0a9f2f90deaec931cd3789825778.pack\n",
      "../.git/objects/pack/pack-c2be5906fb3b0a9f2f90deaec931cd3789825778.idx\n",
      "../.git/objects/31/d2f668ffb7c118145e0461bf4cadd2215a5b1e\n",
      "../.git/objects/54/23635e84dfde8703624b4374e10b5ad2526cef\n",
      "../.git/objects/a7/01abf9f2568cfa93d207f8598f421bb484cdc8\n",
      "../.git/objects/86/f52812d7c43df6b5300dc6ccd0392884e93432\n",
      "../.git/objects/c1/a584a29665d9df60bb3f37ceceb0d7919f3872\n",
      "../.git/objects/c1/c6b151bd4182d42446b0553834a63442b10604\n",
      "../.git/objects/42/cd5e4161524a8595bdc9c3740cc919ca6bc668\n",
      "../.git/objects/b6/d69ee00c5e0ed02458593bce0d69967ea2664c\n",
      "../.git/objects/f3/642cc07099eeee5b077e3e6ab153b96bab30c4\n",
      "../.git/objects/ef/2969a89937ffd37572bacb2c0aaa2e6ae479e0\n",
      "../.git/objects/2c/266dc134cda7ea07428c3a472d86669c54ee0a\n",
      "../.git/objects/5f/290a69ea6de04b98374459021a3fe8473d4606\n",
      "../.git/objects/7c/1c6c6a07a3df422a1844cfc2cfc662775c1cb5\n",
      "../.git/objects/d3/f723396593b40a88a438fb09d9c0e3b904bf30\n",
      "../.git/objects/4c/fae1d93fa0886e0d75b2d811b99d8cfe968db9\n",
      "../.git/hooks/post-update.sample\n",
      "../.git/hooks/update.sample\n",
      "../.git/hooks/pre-commit.sample\n",
      "../.git/hooks/pre-rebase.sample\n",
      "../.git/hooks/commit-msg.sample\n",
      "../.git/hooks/pre-applypatch.sample\n",
      "../.git/hooks/pre-push.sample\n",
      "../.git/hooks/applypatch-msg.sample\n",
      "../.git/hooks/prepare-commit-msg.sample\n",
      "../foundation/Foundation3.html\n",
      "../foundation/Foundation1.html\n",
      "../foundation/Foundation2.html\n",
      "../foundation/quiz.ipynb\n",
      "../foundation/Foundation1.ipynb\n",
      "../foundation/Foundation3.ipynb\n",
      "../foundation/Adventures In Iterations.ipynb\n",
      "../foundation/Foundation2.ipynb\n",
      "../foundation/.ipynb_checkpoints/Adventures In Iterations-checkpoint.ipynb\n",
      "../advanced/scopetest.py\n",
      "../advanced/numpympl.ipynb\n",
      "../advanced/multithreading.ipynb\n",
      "../advanced/cython.ipynb\n",
      "../advanced/regex.ipynb\n",
      "../advanced/intro.ipynb\n",
      "../advanced/web.ipynb\n",
      "../advanced/generators.ipynb\n",
      "../advanced/module.py\n",
      "../advanced/databases.ipynb\n",
      "../advanced/moretopics-outline.ipynb\n",
      "../advanced/xmljson.ipynb\n",
      "../advanced/Classes.ipynb\n",
      "../advanced/pandas.ipynb\n",
      "../advanced/Functions.ipynb\n",
      "../advanced/outline.ipynb\n",
      "../advanced/anothermodule.py\n",
      "../advanced/testing.ipynb\n"
     ]
    }
   ],
   "source": [
    "for path, dirs, files in os.walk(\"..\"):\n",
    "    for f in files:\n",
    "        print(os.path.join(path,f))"
   ]
  },
  {
   "cell_type": "code",
   "execution_count": 49,
   "metadata": {},
   "outputs": [
    {
     "data": {
      "text/plain": [
       "True"
      ]
     },
     "execution_count": 49,
     "metadata": {},
     "output_type": "execute_result"
    }
   ],
   "source": [
    "os.path.exists(\"hello.py\")"
   ]
  },
  {
   "cell_type": "code",
   "execution_count": 50,
   "metadata": {},
   "outputs": [
    {
     "data": {
      "text/plain": [
       "'testing.ipynb'"
      ]
     },
     "execution_count": 50,
     "metadata": {},
     "output_type": "execute_result"
    }
   ],
   "source": [
    "os.path.basename(\"../advanced/testing.ipynb\")"
   ]
  },
  {
   "cell_type": "code",
   "execution_count": 52,
   "metadata": {},
   "outputs": [
    {
     "data": {
      "text/plain": [
       "'programming'"
      ]
     },
     "execution_count": 52,
     "metadata": {},
     "output_type": "execute_result"
    }
   ],
   "source": [
    "os.path.basename(\"/home/vikrant/programming\")"
   ]
  },
  {
   "cell_type": "code",
   "execution_count": 54,
   "metadata": {},
   "outputs": [
    {
     "data": {
      "text/plain": [
       "'/home/vikrant'"
      ]
     },
     "execution_count": 54,
     "metadata": {},
     "output_type": "execute_result"
    }
   ],
   "source": [
    "os.path.dirname(\"/home/vikrant/programming\")"
   ]
  },
  {
   "cell_type": "code",
   "execution_count": 55,
   "metadata": {},
   "outputs": [
    {
     "data": {
      "text/plain": [
       "True"
      ]
     },
     "execution_count": 55,
     "metadata": {},
     "output_type": "execute_result"
    }
   ],
   "source": [
    "os.path.isfile(\"hello.py\")"
   ]
  },
  {
   "cell_type": "code",
   "execution_count": 56,
   "metadata": {},
   "outputs": [
    {
     "data": {
      "text/plain": [
       "False"
      ]
     },
     "execution_count": 56,
     "metadata": {},
     "output_type": "execute_result"
    }
   ],
   "source": [
    "os.path.isfile(\"test/\")"
   ]
  },
  {
   "cell_type": "code",
   "execution_count": 57,
   "metadata": {},
   "outputs": [
    {
     "data": {
      "text/plain": [
       "True"
      ]
     },
     "execution_count": 57,
     "metadata": {},
     "output_type": "execute_result"
    }
   ],
   "source": [
    "os.path.isdir(\"test/\")"
   ]
  },
  {
   "cell_type": "markdown",
   "metadata": {},
   "source": [
    "### print directory tree ###"
   ]
  },
  {
   "cell_type": "code",
   "execution_count": 16,
   "metadata": {
    "collapsed": true
   },
   "outputs": [],
   "source": [
    "import os\n",
    "def dirtree(dirname, level=0):\n",
    "    print(\"| \"*level +  \"|--\" + dirname)\n",
    "    for item in os.listdir(dirname):\n",
    "        p = os.path.join(dirname, item)\n",
    "        if os.path.isdir(p):\n",
    "            dirtree(p, level+1)\n",
    "        else:\n",
    "            print(\"| \"*(level+1)+ \"|--\" +item)\n",
    "        "
   ]
  },
  {
   "cell_type": "code",
   "execution_count": 19,
   "metadata": {},
   "outputs": [
    {
     "name": "stdout",
     "output_type": "stream",
     "text": [
      "|--.\n",
      "| |--./.ipynb_checkpoints\n",
      "| | |--warmup-checkpoint.ipynb\n",
      "| | |--files_folders-checkpoint.ipynb\n",
      "| |--hello.py\n",
      "| |--./test\n",
      "| | |--hello.py\n",
      "| |--files_folders.ipynb\n",
      "| |--warmup.ipynb\n"
     ]
    }
   ],
   "source": [
    "dirtree(\".\")"
   ]
  },
  {
   "cell_type": "code",
   "execution_count": 20,
   "metadata": {},
   "outputs": [
    {
     "data": {
      "text/plain": [
       "21"
      ]
     },
     "execution_count": 20,
     "metadata": {},
     "output_type": "execute_result"
    }
   ],
   "source": [
    "os.path.getsize(\"./test/hello.py\")"
   ]
  },
  {
   "cell_type": "code",
   "execution_count": 22,
   "metadata": {},
   "outputs": [
    {
     "data": {
      "text/plain": [
       "4096"
      ]
     },
     "execution_count": 22,
     "metadata": {},
     "output_type": "execute_result"
    }
   ],
   "source": [
    "os.path.getsize(\".\")"
   ]
  },
  {
   "cell_type": "code",
   "execution_count": 32,
   "metadata": {},
   "outputs": [
    {
     "name": "stdout",
     "output_type": "stream",
     "text": [
      "./.ipynb_checkpoints\n",
      "./test\n"
     ]
    }
   ],
   "source": [
    "for p,dirs,files in os.walk(\".\"):\n",
    "    for d in dirs:\n",
    "        print(os.path.join(p,d))"
   ]
  },
  {
   "cell_type": "code",
   "execution_count": 61,
   "metadata": {},
   "outputs": [],
   "source": [
    "def dirsize(dirname):\n",
    "    s = 0#os.path.getsize(dirname)\n",
    "    for p, dirs, files in os.walk(dirname):\n",
    "        #s += sum(dirsize(os.path.join(p, d)) for d in dirs)\n",
    "        s += sum(os.path.getsize(os.path.join(p, f)) for f in files)\n",
    "    return s"
   ]
  },
  {
   "cell_type": "code",
   "execution_count": 62,
   "metadata": {},
   "outputs": [
    {
     "data": {
      "text/plain": [
       "7.049604415893555"
      ]
     },
     "execution_count": 62,
     "metadata": {},
     "output_type": "execute_result"
    }
   ],
   "source": [
    "dirsize(\"../\")/1024/1024"
   ]
  },
  {
   "cell_type": "code",
   "execution_count": 65,
   "metadata": {},
   "outputs": [
    {
     "data": {
      "text/plain": [
       "1537186547.1024365"
      ]
     },
     "execution_count": 65,
     "metadata": {},
     "output_type": "execute_result"
    }
   ],
   "source": [
    "os.path.getmtime(\"files_folders.ipynb\")"
   ]
  },
  {
   "cell_type": "code",
   "execution_count": 66,
   "metadata": {
    "collapsed": true
   },
   "outputs": [],
   "source": [
    "import time"
   ]
  },
  {
   "cell_type": "code",
   "execution_count": 67,
   "metadata": {},
   "outputs": [
    {
     "data": {
      "text/plain": [
       "'Mon Sep 17 17:45:47 2018'"
      ]
     },
     "execution_count": 67,
     "metadata": {},
     "output_type": "execute_result"
    }
   ],
   "source": [
    "time.ctime(os.path.getmtime(\"files_folders.ipynb\"))"
   ]
  },
  {
   "cell_type": "code",
   "execution_count": null,
   "metadata": {
    "collapsed": true
   },
   "outputs": [],
   "source": []
  }
 ],
 "metadata": {
  "kernelspec": {
   "display_name": "Python 3",
   "language": "python",
   "name": "python3"
  },
  "language_info": {
   "codemirror_mode": {
    "name": "ipython",
    "version": 3
   },
   "file_extension": ".py",
   "mimetype": "text/x-python",
   "name": "python",
   "nbconvert_exporter": "python",
   "pygments_lexer": "ipython3",
   "version": "3.6.1"
  }
 },
 "nbformat": 4,
 "nbformat_minor": 2
}
