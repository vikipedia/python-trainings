{
 "cells": [
  {
   "cell_type": "markdown",
   "metadata": {},
   "source": [
    "### subprocess module ###\n",
    "Python's subprocess module gives and easy abstraction for calling external commands. **run** function fromn subprocess module calls the command, which can be given in the form of list. wherein first item in list is command name and rest items in the list are arguments to command. run function returns completeted porcess. stdout and stderr attributes from comleted process can be accessed to see output and errors."
   ]
  },
  {
   "cell_type": "code",
   "execution_count": 3,
   "metadata": {
    "collapsed": true
   },
   "outputs": [],
   "source": [
    "import subprocess"
   ]
  },
  {
   "cell_type": "code",
   "execution_count": 10,
   "metadata": {},
   "outputs": [
    {
     "data": {
      "text/plain": [
       "CompletedProcess(args=['ls', '-l.'], returncode=2)"
      ]
     },
     "execution_count": 10,
     "metadata": {},
     "output_type": "execute_result"
    }
   ],
   "source": [
    "subprocess.run([\"ls\", \"-l\" \".\"])"
   ]
  },
  {
   "cell_type": "code",
   "execution_count": 11,
   "metadata": {},
   "outputs": [
    {
     "data": {
      "text/plain": [
       "CompletedProcess(args=['ls', '-l'], returncode=0, stdout=b'total 24\\n-rw-rw-r-- 1 vikrant vikrant  1530 Sep 20 16:03 external_applications.ipynb\\n-rw-rw-r-- 1 vikrant vikrant 11117 Sep 20 15:49 files_folders.ipynb\\ndr-------- 2 vikrant vikrant  4096 Sep 20 14:54 test\\n-rw-rw-r-- 1 vikrant vikrant   955 Sep 19 17:42 warmup.ipynb\\n')"
      ]
     },
     "execution_count": 11,
     "metadata": {},
     "output_type": "execute_result"
    }
   ],
   "source": [
    "subprocess.run([\"ls\",\"-l\"],stdout=subprocess.PIPE)"
   ]
  },
  {
   "cell_type": "code",
   "execution_count": 12,
   "metadata": {
    "collapsed": true
   },
   "outputs": [],
   "source": [
    "p = subprocess.run([\"ls\",\"-l\"],stdout=subprocess.PIPE)"
   ]
  },
  {
   "cell_type": "code",
   "execution_count": 13,
   "metadata": {},
   "outputs": [
    {
     "data": {
      "text/plain": [
       "b'total 24\\n-rw-rw-r-- 1 vikrant vikrant  1530 Sep 20 16:03 external_applications.ipynb\\n-rw-rw-r-- 1 vikrant vikrant 11117 Sep 20 15:49 files_folders.ipynb\\ndr-------- 2 vikrant vikrant  4096 Sep 20 14:54 test\\n-rw-rw-r-- 1 vikrant vikrant   955 Sep 19 17:42 warmup.ipynb\\n'"
      ]
     },
     "execution_count": 13,
     "metadata": {},
     "output_type": "execute_result"
    }
   ],
   "source": [
    "p.stdout"
   ]
  },
  {
   "cell_type": "markdown",
   "metadata": {},
   "source": [
    "Note that stdout and stderr are byte arrays and not ascii strings."
   ]
  },
  {
   "cell_type": "code",
   "execution_count": 14,
   "metadata": {
    "collapsed": true
   },
   "outputs": [],
   "source": [
    "p = subprocess.run([\"ls\",\"wewrer\"],stdout=subprocess.PIPE,stderr=subprocess.PIPE)"
   ]
  },
  {
   "cell_type": "code",
   "execution_count": 15,
   "metadata": {},
   "outputs": [
    {
     "data": {
      "text/plain": [
       "CompletedProcess(args=['ls', 'wewrer'], returncode=2, stdout=b'', stderr=b\"ls: cannot access 'wewrer': No such file or directory\\n\")"
      ]
     },
     "execution_count": 15,
     "metadata": {},
     "output_type": "execute_result"
    }
   ],
   "source": [
    "p"
   ]
  },
  {
   "cell_type": "code",
   "execution_count": 16,
   "metadata": {},
   "outputs": [
    {
     "data": {
      "text/plain": [
       "b\"ls: cannot access 'wewrer': No such file or directory\\n\""
      ]
     },
     "execution_count": 16,
     "metadata": {},
     "output_type": "execute_result"
    }
   ],
   "source": [
    "p.stderr"
   ]
  },
  {
   "cell_type": "code",
   "execution_count": 17,
   "metadata": {},
   "outputs": [
    {
     "data": {
      "text/plain": [
       "b''"
      ]
     },
     "execution_count": 17,
     "metadata": {},
     "output_type": "execute_result"
    }
   ],
   "source": [
    "p.stdout"
   ]
  },
  {
   "cell_type": "markdown",
   "metadata": {},
   "source": [
    "If you just want to see output of a command, check_output function is the easiest way to do that"
   ]
  },
  {
   "cell_type": "code",
   "execution_count": 20,
   "metadata": {},
   "outputs": [
    {
     "data": {
      "text/plain": [
       "b'total 28\\n-rw-rw-r-- 1 vikrant vikrant  4606 Sep 20 16:07 external_applications.ipynb\\n-rw-rw-r-- 1 vikrant vikrant 11117 Sep 20 15:49 files_folders.ipynb\\ndr-------- 2 vikrant vikrant  4096 Sep 20 14:54 test\\n-rw-rw-r-- 1 vikrant vikrant   955 Sep 19 17:42 warmup.ipynb\\n'"
      ]
     },
     "execution_count": 20,
     "metadata": {},
     "output_type": "execute_result"
    }
   ],
   "source": [
    "subprocess.check_output([\"ls\", \"-l\"])"
   ]
  },
  {
   "cell_type": "code",
   "execution_count": 22,
   "metadata": {},
   "outputs": [
    {
     "name": "stdout",
     "output_type": "stream",
     "text": [
      "total 28\n",
      "-rw-rw-r-- 1 vikrant vikrant  4606 Sep 20 16:07 external_applications.ipynb\n",
      "-rw-rw-r-- 1 vikrant vikrant 11117 Sep 20 15:49 files_folders.ipynb\n",
      "dr-------- 2 vikrant vikrant  4096 Sep 20 14:54 test\n",
      "-rw-rw-r-- 1 vikrant vikrant   955 Sep 19 17:42 warmup.ipynb\n",
      "\n"
     ]
    }
   ],
   "source": [
    "print(subprocess.check_output([\"ls\", \"-l\"]).decode(\"utf-8\"))"
   ]
  },
  {
   "cell_type": "markdown",
   "metadata": {},
   "source": [
    "### Writing to stderr and stdout ###"
   ]
  },
  {
   "cell_type": "code",
   "execution_count": 23,
   "metadata": {
    "collapsed": true
   },
   "outputs": [],
   "source": [
    "import sys"
   ]
  },
  {
   "cell_type": "code",
   "execution_count": 26,
   "metadata": {},
   "outputs": [
    {
     "name": "stdout",
     "output_type": "stream",
     "text": [
      "Hello to stdout!"
     ]
    }
   ],
   "source": [
    "sys.stdout.write(\"Hello to stdout!\")"
   ]
  },
  {
   "cell_type": "code",
   "execution_count": 27,
   "metadata": {},
   "outputs": [
    {
     "name": "stderr",
     "output_type": "stream",
     "text": [
      "There is error!"
     ]
    }
   ],
   "source": [
    "sys.stderr.write(\"There is error!\")"
   ]
  },
  {
   "cell_type": "markdown",
   "metadata": {},
   "source": [
    "### Communicating to process ###"
   ]
  },
  {
   "cell_type": "code",
   "execution_count": 74,
   "metadata": {},
   "outputs": [
    {
     "name": "stdout",
     "output_type": "stream",
     "text": [
      "Overwriting echo.py\n"
     ]
    }
   ],
   "source": [
    "%%file echo.py\n",
    "import sys\n",
    "\n",
    "if __name__ == \"__main__\":\n",
    "    for i,line in enumerate(sys.stdin):\n",
    "        sys.stderr.write(\"DEBUG: got line: \" + line)\n",
    "        sys.stdout.write(str(i+1) + \" \" + line)"
   ]
  },
  {
   "cell_type": "code",
   "execution_count": 75,
   "metadata": {},
   "outputs": [],
   "source": [
    "p = subprocess.Popen([\"python\",\"echo.py\"],\n",
    "                     stdin=subprocess.PIPE,\n",
    "                     stdout=subprocess.PIPE,\n",
    "                     stderr=subprocess.PIPE)"
   ]
  },
  {
   "cell_type": "code",
   "execution_count": 76,
   "metadata": {},
   "outputs": [],
   "source": [
    "lines = b\"\"\"one\n",
    "two\n",
    "three\n",
    "four\n",
    "\"\"\"\n",
    "stdout, stderr = p.communicate(lines)"
   ]
  },
  {
   "cell_type": "code",
   "execution_count": 77,
   "metadata": {},
   "outputs": [
    {
     "name": "stdout",
     "output_type": "stream",
     "text": [
      "1 one\n",
      "2 two\n",
      "3 three\n",
      "4 four\n",
      "\n"
     ]
    }
   ],
   "source": [
    "print(stdout.decode(\"utf-8\"))"
   ]
  },
  {
   "cell_type": "code",
   "execution_count": 79,
   "metadata": {},
   "outputs": [
    {
     "name": "stdout",
     "output_type": "stream",
     "text": [
      "DEBUG: got line: one\n",
      "DEBUG: got line: two\n",
      "DEBUG: got line: three\n",
      "DEBUG: got line: four\n",
      "\n"
     ]
    }
   ],
   "source": [
    "print(stderr.decode(\"utf-8\"))"
   ]
  },
  {
   "cell_type": "code",
   "execution_count": null,
   "metadata": {
    "collapsed": true
   },
   "outputs": [],
   "source": []
  }
 ],
 "metadata": {
  "kernelspec": {
   "display_name": "Python 3",
   "language": "python",
   "name": "python3"
  },
  "language_info": {
   "codemirror_mode": {
    "name": "ipython",
    "version": 3
   },
   "file_extension": ".py",
   "mimetype": "text/x-python",
   "name": "python",
   "nbconvert_exporter": "python",
   "pygments_lexer": "ipython3",
   "version": "3.6.2"
  }
 },
 "nbformat": 4,
 "nbformat_minor": 2
}
