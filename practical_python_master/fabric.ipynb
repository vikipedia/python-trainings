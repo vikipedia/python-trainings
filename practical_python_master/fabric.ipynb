{
 "cells": [
  {
   "cell_type": "code",
   "execution_count": 2,
   "metadata": {},
   "outputs": [],
   "source": [
    "from fabric2 import Connection, SerialGroup"
   ]
  },
  {
   "cell_type": "code",
   "execution_count": 3,
   "metadata": {
    "collapsed": true
   },
   "outputs": [],
   "source": [
    "c = Connection(\"vikrant@localhost\")"
   ]
  },
  {
   "cell_type": "code",
   "execution_count": 5,
   "metadata": {},
   "outputs": [
    {
     "name": "stdout",
     "output_type": "stream",
     "text": [
      "AnacondaProjects\n",
      "bin\n",
      "Desktop\n",
      "Documents\n",
      "Downloads\n",
      "Music\n",
      "Pictures\n",
      "programming\n",
      "Public\n",
      "savings.org\n",
      "Templates\n",
      "trainings\n",
      "usr\n",
      "Videos\n",
      "VirtualBox VMs\n",
      "website.odg\n"
     ]
    },
    {
     "data": {
      "text/plain": [
       "<Result cmd='ls' exited=0>"
      ]
     },
     "execution_count": 5,
     "metadata": {},
     "output_type": "execute_result"
    }
   ],
   "source": [
    "c.run(\"ls\")"
   ]
  },
  {
   "cell_type": "code",
   "execution_count": 6,
   "metadata": {
    "collapsed": true
   },
   "outputs": [],
   "source": [
    "from  invoke import Responder"
   ]
  },
  {
   "cell_type": "code",
   "execution_count": 24,
   "metadata": {},
   "outputs": [],
   "source": [
    "c = Connection(\"localhost\")"
   ]
  },
  {
   "cell_type": "code",
   "execution_count": 35,
   "metadata": {
    "collapsed": true
   },
   "outputs": [],
   "source": [
    "r = Responder(pattern=r\"\\[sudo\\] password for vikrant:\", response='vikrant123\\n')"
   ]
  },
  {
   "cell_type": "code",
   "execution_count": 36,
   "metadata": {},
   "outputs": [
    {
     "name": "stdout",
     "output_type": "stream",
     "text": [
      "[sudo] password for vikrant: \n",
      "AnacondaProjects  Downloads    Public\t    usr\n",
      "bin\t\t  Music        savings.org  Videos\n",
      "Desktop\t\t  Pictures     Templates    VirtualBox VMs\n",
      "Documents\t  programming  trainings    website.odg\n"
     ]
    },
    {
     "data": {
      "text/plain": [
       "<Result cmd='sudo ls' exited=0>"
      ]
     },
     "execution_count": 36,
     "metadata": {},
     "output_type": "execute_result"
    }
   ],
   "source": [
    "c.run(\"sudo ls\", pty=True, watchers=[r])"
   ]
  },
  {
   "cell_type": "code",
   "execution_count": 42,
   "metadata": {
    "collapsed": true
   },
   "outputs": [],
   "source": [
    "import getpass\n",
    "from fabric2 import Config"
   ]
  },
  {
   "cell_type": "code",
   "execution_count": 40,
   "metadata": {},
   "outputs": [
    {
     "name": "stdout",
     "output_type": "stream",
     "text": [
      "Enter your sudu password········\n"
     ]
    }
   ],
   "source": [
    "sudopass  = getpass.getpass(\"Enter your sudu password\")"
   ]
  },
  {
   "cell_type": "code",
   "execution_count": 44,
   "metadata": {},
   "outputs": [],
   "source": [
    "config = Config(overrides={'sudo': {'password': sudopass}})"
   ]
  },
  {
   "cell_type": "code",
   "execution_count": 45,
   "metadata": {
    "collapsed": true
   },
   "outputs": [],
   "source": [
    "c = Connection(\"localhost\", config=config)"
   ]
  },
  {
   "cell_type": "code",
   "execution_count": 46,
   "metadata": {},
   "outputs": [
    {
     "name": "stderr",
     "output_type": "stream",
     "text": [
      "[sudo] password: "
     ]
    },
    {
     "name": "stdout",
     "output_type": "stream",
     "text": [
      "AnacondaProjects\n",
      "bin\n",
      "Desktop\n",
      "Documents\n",
      "Downloads\n",
      "Music\n",
      "Pictures\n",
      "programming\n",
      "Public\n",
      "savings.org\n",
      "Templates\n",
      "trainings\n",
      "usr\n",
      "Videos\n",
      "VirtualBox VMs\n",
      "website.odg\n"
     ]
    },
    {
     "data": {
      "text/plain": [
       "<Result cmd=\"sudo -S -p '[sudo] password: ' ls\" exited=0>"
      ]
     },
     "execution_count": 46,
     "metadata": {},
     "output_type": "execute_result"
    }
   ],
   "source": [
    "c.sudo(\"ls\")"
   ]
  },
  {
   "cell_type": "code",
   "execution_count": 47,
   "metadata": {},
   "outputs": [
    {
     "data": {
      "text/plain": [
       "<fabric2.transfer.Result at 0x7f9be594ac88>"
      ]
     },
     "execution_count": 47,
     "metadata": {},
     "output_type": "execute_result"
    }
   ],
   "source": [
    "c.put(\"./debug.py\", remote=\"/tmp/debug.py\")"
   ]
  },
  {
   "cell_type": "code",
   "execution_count": 48,
   "metadata": {},
   "outputs": [
    {
     "name": "stdout",
     "output_type": "stream",
     "text": [
      "/tmp/debug.py\r\n"
     ]
    }
   ],
   "source": [
    "!ls /tmp/debug.py"
   ]
  },
  {
   "cell_type": "code",
   "execution_count": 49,
   "metadata": {
    "collapsed": true
   },
   "outputs": [],
   "source": [
    "s = SerialGroup(\"localhost\", \"localhost\")"
   ]
  },
  {
   "cell_type": "code",
   "execution_count": 50,
   "metadata": {},
   "outputs": [
    {
     "name": "stdout",
     "output_type": "stream",
     "text": [
      "AnacondaProjects\n",
      "bin\n",
      "Desktop\n",
      "Documents\n",
      "Downloads\n",
      "Music\n",
      "Pictures\n",
      "programming\n",
      "Public\n",
      "savings.org\n",
      "Templates\n",
      "trainings\n",
      "usr\n",
      "Videos\n",
      "VirtualBox VMs\n",
      "website.odg\n",
      "AnacondaProjects\n",
      "bin\n",
      "Desktop\n",
      "Documents\n",
      "Downloads\n",
      "Music\n",
      "Pictures\n",
      "programming\n",
      "Public\n",
      "savings.org\n",
      "Templates\n",
      "trainings\n",
      "usr\n",
      "Videos\n",
      "VirtualBox VMs\n",
      "website.odg\n"
     ]
    }
   ],
   "source": [
    "for c in s:\n",
    "    c.run(\"ls\")"
   ]
  },
  {
   "cell_type": "code",
   "execution_count": 51,
   "metadata": {},
   "outputs": [
    {
     "name": "stdout",
     "output_type": "stream",
     "text": [
      "AnacondaProjects\n",
      "bin\n",
      "Desktop\n",
      "Documents\n",
      "Downloads\n",
      "Music\n",
      "Pictures\n",
      "programming\n",
      "Public\n",
      "savings.org\n",
      "Templates\n",
      "trainings\n",
      "usr\n",
      "Videos\n",
      "VirtualBox VMs\n",
      "website.odg\n",
      "AnacondaProjects\n",
      "bin\n",
      "Desktop\n",
      "Documents\n",
      "Downloads\n",
      "Music\n",
      "Pictures\n",
      "programming\n",
      "Public\n",
      "savings.org\n",
      "Templates\n",
      "trainings\n",
      "usr\n",
      "Videos\n",
      "VirtualBox VMs\n",
      "website.odg\n"
     ]
    },
    {
     "data": {
      "text/plain": [
       "{<Connection host=localhost>: <Result cmd='ls' exited=0>}"
      ]
     },
     "execution_count": 51,
     "metadata": {},
     "output_type": "execute_result"
    }
   ],
   "source": [
    "s.run(\"ls\")"
   ]
  },
  {
   "cell_type": "code",
   "execution_count": 59,
   "metadata": {},
   "outputs": [
    {
     "name": "stdout",
     "output_type": "stream",
     "text": [
      "Overwriting fabfile.py\n"
     ]
    }
   ],
   "source": [
    "%%file fabfile.py\n",
    "from fabric2 import task\n",
    "\n",
    "@task\n",
    "def upload_unpack(c):\n",
    "    if c.run('test -f /tmp/foo-1.0', warn=True).failed:\n",
    "        c.put('/home/vikrant/programming/explorations/python/packagin/dist/foo-1.0.tar.gz', '/tmp/')\n",
    "        c.run('tar -xzvf /tmp/foo-1.0.tar.gz')\n",
    "        c.run(\"rm /tmp/foo-1.0.tar.gz\")"
   ]
  },
  {
   "cell_type": "code",
   "execution_count": 60,
   "metadata": {},
   "outputs": [
    {
     "name": "stdout",
     "output_type": "stream",
     "text": [
      "Available tasks:\r\n",
      "\r\n",
      "  upload-unpack\r\n",
      "\r\n"
     ]
    }
   ],
   "source": [
    "!fab2 --list"
   ]
  },
  {
   "cell_type": "code",
   "execution_count": 61,
   "metadata": {},
   "outputs": [
    {
     "name": "stdout",
     "output_type": "stream",
     "text": [
      "foo-1.0/\r\n",
      "foo-1.0/setup.py\r\n",
      "foo-1.0/PKG-INFO\r\n",
      "foo-1.0/foo/\r\n",
      "foo-1.0/foo/hello.py\r\n",
      "foo-1.0/foo/__init__.py\r\n"
     ]
    }
   ],
   "source": [
    "!fab2 -H localhost upload-unpack"
   ]
  },
  {
   "cell_type": "code",
   "execution_count": null,
   "metadata": {
    "collapsed": true
   },
   "outputs": [],
   "source": []
  }
 ],
 "metadata": {
  "kernelspec": {
   "display_name": "Python 3",
   "language": "python",
   "name": "python3"
  },
  "language_info": {
   "codemirror_mode": {
    "name": "ipython",
    "version": 3
   },
   "file_extension": ".py",
   "mimetype": "text/x-python",
   "name": "python",
   "nbconvert_exporter": "python",
   "pygments_lexer": "ipython3",
   "version": "3.6.2"
  }
 },
 "nbformat": 4,
 "nbformat_minor": 2
}
